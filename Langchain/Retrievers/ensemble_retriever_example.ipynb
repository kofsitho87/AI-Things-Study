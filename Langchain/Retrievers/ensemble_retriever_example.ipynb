{
 "cells": [
  {
   "cell_type": "code",
   "execution_count": 34,
   "metadata": {},
   "outputs": [
    {
     "name": "stdout",
     "output_type": "stream",
     "text": [
      "\u001b[31mERROR: Could not find a version that satisfies the requirement faiss-gpu (from versions: none)\u001b[0m\u001b[31m\n",
      "\u001b[0m\u001b[31mERROR: No matching distribution found for faiss-gpu\u001b[0m\u001b[31m\n",
      "\u001b[0mNote: you may need to restart the kernel to use updated packages.\n"
     ]
    }
   ],
   "source": [
    "%pip install -q pypdf sentence-transformers langchain-openai faiss-gpu rank_bm25"
   ]
  },
  {
   "cell_type": "code",
   "execution_count": 2,
   "metadata": {},
   "outputs": [],
   "source": [
    "from langchain.document_loaders.pdf import PyPDFLoader"
   ]
  },
  {
   "cell_type": "code",
   "execution_count": 3,
   "metadata": {},
   "outputs": [],
   "source": [
    "loader = PyPDFLoader(\"./assets/비자 내비게이터(Visa Navigator) 전자책(국문).pdf\")"
   ]
  },
  {
   "cell_type": "code",
   "execution_count": 4,
   "metadata": {},
   "outputs": [
    {
     "name": "stdout",
     "output_type": "stream",
     "text": [
      "58\n"
     ]
    }
   ],
   "source": [
    "docs = loader.load_and_split()\n",
    "\n",
    "print(len(docs))\n",
    "# page = pages[4]\n",
    "# print(page.page_content)"
   ]
  },
  {
   "cell_type": "code",
   "execution_count": 5,
   "metadata": {},
   "outputs": [],
   "source": [
    "from langchain.text_splitter import RecursiveCharacterTextSplitter\n",
    "text_splitter = RecursiveCharacterTextSplitter(\n",
    "    chunk_size = 500, \n",
    "    chunk_overlap  = 50,\n",
    ")\n",
    "texts = text_splitter.split_documents(docs)"
   ]
  },
  {
   "cell_type": "code",
   "execution_count": 6,
   "metadata": {},
   "outputs": [
    {
     "name": "stderr",
     "output_type": "stream",
     "text": [
      "/Users/heewungsong/anaconda3/envs/pyautogen/lib/python3.10/site-packages/tqdm/auto.py:21: TqdmWarning: IProgress not found. Please update jupyter and ipywidgets. See https://ipywidgets.readthedocs.io/en/stable/user_install.html\n",
      "  from .autonotebook import tqdm as notebook_tqdm\n"
     ]
    }
   ],
   "source": [
    "from langchain.embeddings import HuggingFaceEmbeddings\n",
    "\n",
    "model_name = \"jhgan/ko-sbert-nli\"\n",
    "encode_kwargs = {'normalize_embeddings': True}\n",
    "ko_embedding = HuggingFaceEmbeddings(\n",
    "    model_name=model_name,\n",
    "    encode_kwargs=encode_kwargs\n",
    ")"
   ]
  },
  {
   "cell_type": "code",
   "execution_count": 7,
   "metadata": {},
   "outputs": [],
   "source": [
    "from langchain.retrievers import BM25Retriever, EnsembleRetriever\n",
    "bm25_retriever = BM25Retriever.from_documents(texts)\n",
    "bm25_retriever.k = 2"
   ]
  },
  {
   "cell_type": "code",
   "execution_count": 8,
   "metadata": {},
   "outputs": [],
   "source": [
    "from langchain_community.vectorstores import FAISS\n",
    "\n",
    "embedding = ko_embedding\n",
    "faiss_vectorstore = FAISS.from_documents(texts, ko_embedding)\n",
    "faiss_retriever = faiss_vectorstore.as_retriever(search_kwargs={\"k\": 2})\n",
    "\n",
    "# initialize the ensemble retriever\n",
    "ensemble_retriever = EnsembleRetriever(\n",
    "    retrievers=[bm25_retriever, faiss_retriever], weights=[0.5, 0.5]\n",
    ")"
   ]
  },
  {
   "cell_type": "code",
   "execution_count": 41,
   "metadata": {},
   "outputs": [
    {
     "name": "stdout",
     "output_type": "stream",
     "text": [
      "{'source': './assets/비자 내비게이터(Visa Navigator) 전자책(국문).pdf', 'page': 36}\n",
      ":\n",
      "37\n",
      "PART 02. 국내 체류 외국인을 위한 맞춤형 체류 길잡이 ●특정 체류자격에서 F-2(거주) 자격으로 변경한 경우\n",
      "- \u0007취재(D-5), 주재(D-7), 기업투자(D-8), 무역경영(D-9), 교수(E-1)~특정활동(E-7) 자격자가 해당 자격의 \n",
      "활동범위를 유지하며 거주 체류자격(F-2)으로 변경한 경우에 한해 연간소득이 전년도 GNI 2배 이상인 \n",
      "경우 부모(배우자의 부모 포함)를 F-1 자격으로 초청 가능 (단, 국내 대학에서 학사학위 이상을 취득한 후, \n",
      "상기 체류자격으로 변경한 자는 GNI 이상으로 완화)\n",
      "※ 해당 자격의 경우, 원칙적으로 국내 체류자격 변경 불가하며 사증발급인정서 신청 대상\n",
      " ●그 외 F-2 비자\n",
      "- 배우자 및 미성년 자녀를 방문동거(F-1) 자격으로 초청 가능\n",
      "----------------------------------------------------------------------------------------------------\n",
      "{'source': './assets/비자 내비게이터(Visa Navigator) 전자책(국문).pdf', 'page': 57}\n",
      ":\n",
      "58\n",
      "비자 내비게이터 ●근무처변경·추가 허가, 신고\n",
      "핵심내용외국인이 체류자격의 범위에서 근무처를 변경하거나 추가하려면 미리 허가를 받아야 함 \n",
      "(단, 신고 대상인 경우 근무처를 변경하거나 추가한 날부터 15일 이내 신고)\n",
      "위반사례회화지도 강사가 계약기간 끝나지 않은 채로 근무하는 학원을 변경하였으나 신고하지 \n",
      "않은 경우\n",
      "결과▪ 위반법조  출입국관리법 제21조제1항 위반\n",
      "▪ 처분내용  \t허가 대상의 경우 범칙금 최대 1000만원, 신고 대상의 경우 과태료 최대 \n",
      "200만원\n",
      " ●외국 국적 취득 후 한국 여권 사용 제한\n",
      "핵심내용 외국 국적을 취득한 경우 한국 여권을 사용하지 않아야 함\n",
      "위반사례 미국 시민권을 취득한 사람이 한국 입국 심사 시 한국 여권을 사용한 경우\n",
      "결과▪ 위반법조  출입국관리법 제7조제1항, 제28조제1항, 제94조제2호\n",
      "▪ 처분내용  \t범칙금 최대 3,000만원\n",
      "----------------------------------------------------------------------------------------------------\n",
      "{'source': './assets/비자 내비게이터(Visa Navigator) 전자책(국문).pdf', 'page': 13}\n",
      ":\n",
      "유형1 주재, 투자, 경영 자격에서 영주 자격 취득\n",
      "주재·투자·경영\n",
      "D-7, D-8, D-9거주\n",
      "F-2영주\n",
      "F-5\n",
      "----------------------------------------------------------------------------------------------------\n",
      "{'source': './assets/비자 내비게이터(Visa Navigator) 전자책(국문).pdf', 'page': 19}\n",
      ":\n",
      "해외 우수 대학  \n",
      "첨단기술분야 학사과정 \n",
      "이상 재학생 또는 졸업생구직(첨단기술인턴)\n",
      "D-10전문인력\n",
      "E-7기술창업\n",
      "D-8\n",
      "----------------------------------------------------------------------------------------------------\n"
     ]
    }
   ],
   "source": [
    "docs = ensemble_retriever.invoke(\"D-2비자와 D-4비자의 차이\")\n",
    "for i in docs:\n",
    "\n",
    "  print(i.metadata)\n",
    "  print(\":\")\n",
    "  print(i.page_content)\n",
    "  print(\"-\"*100)"
   ]
  },
  {
   "cell_type": "code",
   "execution_count": 42,
   "metadata": {},
   "outputs": [
    {
     "name": "stdout",
     "output_type": "stream",
     "text": [
      "{'source': './assets/비자 내비게이터(Visa Navigator) 전자책(국문).pdf', 'page': 36}\n",
      ":\n",
      "37\n",
      "PART 02. 국내 체류 외국인을 위한 맞춤형 체류 길잡이 ●특정 체류자격에서 F-2(거주) 자격으로 변경한 경우\n",
      "- \u0007취재(D-5), 주재(D-7), 기업투자(D-8), 무역경영(D-9), 교수(E-1)~특정활동(E-7) 자격자가 해당 자격의 \n",
      "활동범위를 유지하며 거주 체류자격(F-2)으로 변경한 경우에 한해 연간소득이 전년도 GNI 2배 이상인 \n",
      "경우 부모(배우자의 부모 포함)를 F-1 자격으로 초청 가능 (단, 국내 대학에서 학사학위 이상을 취득한 후, \n",
      "상기 체류자격으로 변경한 자는 GNI 이상으로 완화)\n",
      "※ 해당 자격의 경우, 원칙적으로 국내 체류자격 변경 불가하며 사증발급인정서 신청 대상\n",
      " ●그 외 F-2 비자\n",
      "- 배우자 및 미성년 자녀를 방문동거(F-1) 자격으로 초청 가능\n",
      "----------------------------------------------------------------------------------------------------\n",
      "{'source': './assets/비자 내비게이터(Visa Navigator) 전자책(국문).pdf', 'page': 13}\n",
      ":\n",
      "유형1 주재, 투자, 경영 자격에서 영주 자격 취득\n",
      "주재·투자·경영\n",
      "D-7, D-8, D-9거주\n",
      "F-2영주\n",
      "F-5\n",
      "----------------------------------------------------------------------------------------------------\n",
      "{'source': './assets/비자 내비게이터(Visa Navigator) 전자책(국문).pdf', 'page': 31}\n",
      ":\n",
      "32\n",
      "비자 내비게이터8. 거주(F-2)\n",
      "❶ 거주 비자의 종류\n",
      "체류자격 세부 대상\n",
      "F-2\n",
      "(거주)• 국민의 미성년 자녀, 국민과 혼인관계에서 출생한 사람\n",
      "• 영주자격 소지자의 배우자 및 미성년 자녀\n",
      "• 난민 인정을 받은 자\n",
      "• 고액투자 장기체류 외국인\n",
      "• 점수제 우수인재 및 동반 가족\n",
      "• 부동산 투자이민자 및 동반 가족\n",
      "• 공무원으로 임용된 자\n",
      "• 공익사업 투자이민자 및 동반 가족\n",
      "• 은퇴이민 투자자 및 동반 가족\n",
      "• 특별기여자\n",
      "• 기타 장기체류자\n",
      "❷ 맞춤형 체류 흐름도\n",
      "※ \t아래의 내용은 신청 가능 대상을 간략히 설명한 것으로, 체류자격별 세부요건은 하이코리아의 체류자격별 \n",
      "안내매뉴얼을 참고하시거나 외국인종합안내센터(1345)를 이용하시기 바랍니다.\n",
      "유형1 거주 자격자의 영주 자격 취득\n",
      "거주\n",
      "F-2영주\n",
      "F-5\n",
      "----------------------------------------------------------------------------------------------------\n",
      "{'source': './assets/비자 내비게이터(Visa Navigator) 전자책(국문).pdf', 'page': 29}\n",
      ":\n",
      "- (F-5, 점수제 영주자)  점수제 거주(F-2) 자격으로 3년 이상 국내 체류\n",
      "* \u0007일반영주, 점수제 영주자 의 경우 사회통합프로그램 5단계 이상 이수할 경우 기본소양 요건 \n",
      "충족유형2    취재, 종교 자격자의 영주 자격 취득\n",
      "❸ 동반 가족 초청\n",
      "- \u0007(F-3, 동반)  D-1(문화예술), D-5(취재), D-6(종교) 자격 소지자는 배우자 및 미성년 자녀를 F-3(동반) \n",
      "자격으로 초청 가능\n",
      "----------------------------------------------------------------------------------------------------\n"
     ]
    }
   ],
   "source": [
    "faiss_vectorstore = FAISS.from_documents(texts, ko_embedding)\n",
    "faiss_retriever = faiss_vectorstore.as_retriever(search_kwargs={\"k\": 4})\n",
    "\n",
    "docs = faiss_retriever.invoke(\"D-2비자와 D-4비자의 차이\")\n",
    "for i in docs:\n",
    "\n",
    "  print(i.metadata)\n",
    "  print(\":\")\n",
    "  print(i.page_content)\n",
    "  print(\"-\"*100)"
   ]
  },
  {
   "cell_type": "code",
   "execution_count": 9,
   "metadata": {},
   "outputs": [],
   "source": [
    "from langchain.chains import RetrievalQA\n",
    "from langchain_openai import ChatOpenAI\n",
    "\n",
    "\n",
    "def gpt_call(model_name: str, query: str):\n",
    "    llm = ChatOpenAI(model_name=model_name, temperature = 0)\n",
    "    qa = RetrievalQA.from_chain_type(\n",
    "        llm = llm, \n",
    "        chain_type = \"stuff\", \n",
    "        retriever = ensemble_retriever,\n",
    "        return_source_documents = True\n",
    "    )\n",
    "    # \"난 베트남에서 한국으로 공부하러 온 유학생인데 아직은 학생이지만 여기에서 영주권을 얻어서 살고 싶어. 그러기 위해선 어떤 준비가 필요해?\"\n",
    "    result = qa(query)\n",
    "    return result"
   ]
  },
  {
   "cell_type": "code",
   "execution_count": 56,
   "metadata": {},
   "outputs": [
    {
     "name": "stdout",
     "output_type": "stream",
     "text": [
      "Result: 유학생이 한국에서 영주권을 획득하려면 일정한 절차와 요건을 충족해야 합니다. 예를 들어, 사회통합프로그램을 이수하거나 토픽 4급 이상의 한국어 능력을 증명하는 등의 요건이 있을 수 있습니다. 따라서, 영주권 획득을 위한 자세한 정보는 사회통합정보망(socinet) 홈페이지나 외국인종합안내센터(☎1345)를 통해 확인하시는 것이 좋습니다.\n",
      "\n",
      "{'source': './assets/비자 내비게이터(Visa Navigator) 전자책(국문).pdf', 'page': 49}\n",
      "----------------------------------------------------------------------------------------------------\n",
      "50\n",
      "비자 내비게이터\u0007해외 출국 중인데 체류기간연장, 체류자격변경 등이 가능한가요?\n",
      "\u0007 \u0007각종 체류허가 신청을 하고자 하는 외국인은 반드시 국내에 체류 중에 있어야 하며, 출국 \n",
      "중에는 출입국민원 대행기관의 대행 신청도 할 수 없습니다.\n",
      "\u0007사회통합프로그램이란 무엇이며, 이수할 경우 어떤 혜택이 있나요?\n",
      "\u0007 \u0007사회통합프로그램이란 대한민국에 체류하는 이민자가 우리 사회 구성원으로 적응, \n",
      "자립하는데 필요한 기본소양을 함양할 수 있도록 마련한 교육이며, 이수할 경우 영주 자격 \n",
      "신청 시 기본소양 요건 충족, 그 외 체류자격 신청 시 점수제의 경우 가점 부여 등 혜택이 \n",
      "있습니다. 자세한 내용은 사회통합정보망(socinet) 홈페이지를 참고하시기 바랍니다.\n",
      "\u0007조기적응 프로그램이란 무엇이며, 이수할 경우 어떤 혜택이 있나요?\n",
      "\u0007 \u0007조기적응 프로그램은 입국 초기 단계의 외국인에게 한국 생활에 필수적인 기초법, 질서를\n",
      "----------------------------------------------------------------------------------------------------\n",
      "\n",
      "\n",
      "\n",
      "{'source': './assets/비자 내비게이터(Visa Navigator) 전자책(국문).pdf', 'page': 1}\n",
      "----------------------------------------------------------------------------------------------------\n",
      "안녕하십니까? 법무부 출입국‧외국인정책본부입니다.\n",
      "법무부는 국내에 체류하고 있는 외국인이 보다 쉽고 편리하게  \n",
      "출입국 행정서비스를 받을 수 있도록 지속적으로 노력하고 있습니다.\n",
      "《비자 내비게이터》 는 국내에 체류하고 있거나 국내에 체류하고자 하는 \n",
      "외국인을 위한 체류 길잡이이며, 체류자격별 종류, 취업 가능 범위, \u0007현 체류자격에서 어떤 자격으로 갈 수 있는지 등을 대략적으로 조망할 수 있습니다. 아울러, 민원 신청 방법, 주요 상담 사례, 각종 신고 의무사항 등 \n",
      "민원 편의를 위한 정보도 담고 있습니다.\n",
      "다만 필요서류 등 구체적인 내용은 하이코리아의 체류자격별 안내매뉴얼을 \n",
      "참고하시거나 외국인종합안내센터(☎1345)를 이용하시기 바랍니다.\n",
      "※ 외국국적 동포의 경우, ‘동포 맞춤형 길라잡이’를 참고하시기 바랍니다.Ver 2022. 12국내 체류 \n",
      "외국인을 위한 \n",
      "맞춤형 체류 길잡이 비자 \n",
      "내비게이터 Visa \n",
      "Navigator\n",
      "----------------------------------------------------------------------------------------------------\n",
      "\n",
      "\n",
      "\n",
      "{'source': './assets/비자 내비게이터(Visa Navigator) 전자책(국문).pdf', 'page': 10}\n",
      "----------------------------------------------------------------------------------------------------\n",
      "11\n",
      "PART 02. 국내 체류 외국인을 위한 맞춤형 체류 길잡이유형2 유학생이 졸업  후 구직 자격 취득\n",
      "유학·연수\n",
      "D-2, D-4구직\n",
      "D-10\n",
      " 1단계 (유학·연수 → 구직)\n",
      "- \u0007(D-10, 일반구직)  ① 교수(E-1)부터 특정활동(E-7) 자격에 해당하는 분야에 취업하기 위해 \n",
      "연수나 구직활동을 하려는 자로서 학사 학위(국내 전문학사 포함) 이상의 학위를 소지하고 \n",
      "점수 요건을 충족  또는 ② 국내 대학 출신 한국어 우수자의 경우 점수제 면제\n",
      "* \u0007국내 정규 대학에서 전문학사 이상 학위 취득 후 3년이 경과되지 아니한 자로, 토픽 4급 이상 \n",
      "유효 성적표를 소지하거나 사회통합 프로그램 4단계 중간평가 합격자 또는 사전평가 5단계 \n",
      "배정자는 점수제 면제\n",
      "- \u0007(D-10, 기술창업준비)  기술창업(D-8) 자격에 해당하는 기술 창업 준비 하려는 자로 \n",
      "학사(국내 전문학사 포함) 이상의 학위를 소지하고 요건을 충족\n",
      "----------------------------------------------------------------------------------------------------\n",
      "\n",
      "\n",
      "\n"
     ]
    }
   ],
   "source": [
    "result = gpt_call(model_name=\"gpt-3.5-turbo\")\n",
    "\n",
    "print(f\"Result: {result['result']}\\n\")\n",
    "for i in result['source_documents']:\n",
    "    print(i.metadata)\n",
    "    print(\"-\"*100)\n",
    "    print(i.page_content)\n",
    "    print(\"-\"*100)\n",
    "    print(\"\\n\\n\")"
   ]
  },
  {
   "cell_type": "code",
   "execution_count": 57,
   "metadata": {},
   "outputs": [
    {
     "name": "stdout",
     "output_type": "stream",
     "text": [
      "Result2: 한국에서 영주권을 얻기 위해서는 여러 가지 요건을 충족해야 합니다. 먼저, 한국에서 학사 학위 이상을 취득해야 합니다. 그리고 사회통합프로그램을 이수하면 영주 자격 신청 시 기본소양 요건 충족과 체류자격 신청 시 점수제의 경우 가점 부여 등의 혜택을 받을 수 있습니다. \n",
      "\n",
      "또한, 국내 정규 대학에서 전문학사 이상 학위를 취득한 후 3년이 경과되지 않은 경우, 토픽 4급 이상 유효 성적표를 소지하거나 사회통합 프로그램 4단계 중간평가 합격자 또는 사전평가 5단계 배정자는 점수제 면제를 받을 수 있습니다.\n",
      "\n",
      "이 외에도, 한국에서 취업을 하거나, 기술창업을 준비하는 등 다양한 방법으로 체류자격을 변경하거나 연장하는 것이 가능합니다. 하지만 이 모든 과정은 한국에 체류 중일 때 가능하며, 출국 중에는 신청이 불가능합니다.\n",
      "\n",
      "더 자세한 정보는 사회통합정보망(socinet) 홈페이지나 하이코리아의 체류자격별 안내매뉴얼을 참고하시거나 외국인종합안내센터(☎1345)를 이용하시기 바랍니다.\n",
      "\n"
     ]
    }
   ],
   "source": [
    "result2= gpt_call(model_name=\"gpt-4\")\n",
    "print(f\"Result2: {result2['result']}\\n\")"
   ]
  },
  {
   "cell_type": "code",
   "execution_count": 12,
   "metadata": {},
   "outputs": [
    {
     "name": "stdout",
     "output_type": "stream",
     "text": [
      "Result: 영주권(F-5)을 신청하기 위한 한국어 능력 시험 점수에 대한 구체적인 정보는 제공된 문맥에서 찾을 수 없습니다. 그러나 일반적으로 사회통합프로그램 5단계 이상을 이수해야 기본소양 요건을 충족할 수 있다고 언급되어 있습니다. 이는 한국어 능력을 포함할 수 있으나, 구체적인 시험 점수나 레벨에 대한 정보는 제공되지 않았습니다.\n",
      "\n",
      "{'source': './assets/비자 내비게이터(Visa Navigator) 전자책(국문).pdf', 'page': 14}\n",
      "----------------------------------------------------------------------------------------------------\n",
      "- \u0007(F-5, 점수제 영주자)  점수제 거주(F-2) 자격으로 3년 이상 국내 체류\n",
      "* \u0007일반영주, 점수제  영주자의 경우 사회통합프로그램 5단계 이상 이수할 경우 기본소양 요건 \n",
      "충족유형1    주재, 투자, 경영 자격에서 영주 자격 취득\n",
      "유형2 고액투자자의 영주 자격 취득\n",
      "투자\n",
      "D-8거주\n",
      "F-2영주\n",
      "F-5\n",
      "----------------------------------------------------------------------------------------------------\n",
      "\n",
      "\n",
      "\n",
      "{'source': './assets/비자 내비게이터(Visa Navigator) 전자책(국문).pdf', 'page': 10}\n",
      "----------------------------------------------------------------------------------------------------\n",
      "11\n",
      "PART 02. 국내 체류 외국인을 위한 맞춤형 체류 길잡이유형2 유학생이 졸업  후 구직 자격 취득\n",
      "유학·연수\n",
      "D-2, D-4구직\n",
      "D-10\n",
      " 1단계 (유학·연수 → 구직)\n",
      "- \u0007(D-10, 일반구직)  ① 교수(E-1)부터 특정활동(E-7) 자격에 해당하는 분야에 취업하기 위해 \n",
      "연수나 구직활동을 하려는 자로서 학사 학위(국내 전문학사 포함) 이상의 학위를 소지하고 \n",
      "점수 요건을 충족  또는 ② 국내 대학 출신 한국어 우수자의 경우 점수제 면제\n",
      "* \u0007국내 정규 대학에서 전문학사 이상 학위 취득 후 3년이 경과되지 아니한 자로, 토픽 4급 이상 \n",
      "유효 성적표를 소지하거나 사회통합 프로그램 4단계 중간평가 합격자 또는 사전평가 5단계 \n",
      "배정자는 점수제 면제\n",
      "- \u0007(D-10, 기술창업준비)  기술창업(D-8) 자격에 해당하는 기술 창업 준비 하려는 자로 \n",
      "학사(국내 전문학사 포함) 이상의 학위를 소지하고 요건을 충족\n",
      "----------------------------------------------------------------------------------------------------\n",
      "\n",
      "\n",
      "\n",
      "{'source': './assets/비자 내비게이터(Visa Navigator) 전자책(국문).pdf', 'page': 51}\n",
      "----------------------------------------------------------------------------------------------------\n",
      "52\n",
      "비자 내비게이터❷ \u0007기존 여권의 유효기간이 만료되어 새 여권을 받았습니다. 여권 변경 신고는 어떻게 \n",
      "하나요?\n",
      "여권 변경 시 방문/민원대행/전자민원/팩스 중 신고방식을 선택하여 신고 \n",
      "가능합니다. 다만, 신고기한이 도과된 경우 방문 신고(사범심사 필요)를 \n",
      "하여야 합니다.\n",
      "* \u0007신고기한: \u0007신여권 발급일로부터 45일 이내 원칙 (단, 신고기한인 45일을 \n",
      "도과하였으나 공적인 증빙자료를 통해 여권 수령일이 확인되는 \n",
      "경우 그 수령일로부터 신고의무기간(15일) 계산)\n",
      "* 구비서류: 통합신청서, 신여권, 구여권, 외국인등록증, 수령증 등 증빙자료(해당자에 한함)❶ 체류지변경 신고는 어떻게 하나요?\n",
      "1. \u0007등록외국인은 체류지를 이전한 날로부터 15일 이내, 거소신고자(F-4)는 \n",
      "거소지를 이전한 날로부터 14일 이내 체류지의 지자체(시ㆍ군ㆍ구 또는 \n",
      "읍ㆍ면ㆍ동) 행정복지센터 또는 그 체류지를 관할하는 출입국‧외국인\n",
      "----------------------------------------------------------------------------------------------------\n",
      "\n",
      "\n",
      "\n",
      "{'source': './assets/비자 내비게이터(Visa Navigator) 전자책(국문).pdf', 'page': 29}\n",
      "----------------------------------------------------------------------------------------------------\n",
      "30\n",
      "비자 내비게이터\n",
      " 1단계 (취재, 종교 → 거주)\n",
      "- \u0007(F-2, 점수제 우수인재)  상장법인 종사자, 유망산업분야 종사자, 전문직 종사자, 유학인재, \n",
      "잠재적 우수인재 중 하나에 해당하고 점수제 요건 충족\n",
      "* \u0007사회통합프로그램 이수 단계에 따라 점수 차등 부여, 5단계 이상 이수자의 경우 점수제 가점 \n",
      "부여\n",
      "- \u0007(F-2, 장기체류자)  D-5, D-6 체류자격으로 5년 이상 국내 체류한 자로 품행 요건, 생계유지 \n",
      "능력 요건 등 모든 요건을 충족\n",
      "* \u0007기본소양 요건 충족을 위해서는 사회통합프로그램 4단계 이상 이수하거나 사전평가 81점 \n",
      "이상 취득\n",
      " 2단계 (거주 → 영주)\n",
      "- \u0007 아래의 대상에 해당하고, 영주 공통요건(품행 단정, 생계유지능력, 기본소양 요건)  및 \n",
      "세부자격별 요건 을 충족하여야 함\n",
      "- (F-5, 일반영주)  F-2 체류자격으로 5년 이상 국내 체류\n",
      "- (F-5, 점수제 영주자)  점수제 거주(F-2) 자격으로 3년 이상 국내 체류\n",
      "----------------------------------------------------------------------------------------------------\n",
      "\n",
      "\n",
      "\n"
     ]
    }
   ],
   "source": [
    "result= gpt_call(model_name=\"gpt-4\", query=\"영주권(F-5)을 신청하기 위해 필요한 한국어 능력 시험 점수는 어떻게 되나요?\")\n",
    "print(f\"Result: {result['result']}\\n\")\n",
    "\n",
    "for i in result['source_documents']:\n",
    "    print(i.metadata)\n",
    "    print(\"-\"*100)\n",
    "    print(i.page_content)\n",
    "    print(\"-\"*100)\n",
    "    print(\"\\n\\n\")"
   ]
  }
 ],
 "metadata": {
  "kernelspec": {
   "display_name": "pyautogen",
   "language": "python",
   "name": "python3"
  },
  "language_info": {
   "codemirror_mode": {
    "name": "ipython",
    "version": 3
   },
   "file_extension": ".py",
   "mimetype": "text/x-python",
   "name": "python",
   "nbconvert_exporter": "python",
   "pygments_lexer": "ipython3",
   "version": "3.10.13"
  }
 },
 "nbformat": 4,
 "nbformat_minor": 2
}
