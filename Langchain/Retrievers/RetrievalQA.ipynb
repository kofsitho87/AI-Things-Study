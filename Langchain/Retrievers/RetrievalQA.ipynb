{
 "cells": [
  {
   "cell_type": "markdown",
   "metadata": {},
   "source": [
    "# RetrieverQA 검색기"
   ]
  },
  {
   "cell_type": "markdown",
   "metadata": {},
   "source": [
    "## 1. Stuff\n",
    "분할된 텍스트 청크를 Context에 그대로 주입합니다. 토큰 이슈가 발생할 수 있어, 주의를 요합니다.\n",
    "\n",
    "![랭체인](./test1.png)"
   ]
  },
  {
   "cell_type": "markdown",
   "metadata": {},
   "source": [
    "## 2. Map Reduce\n",
    "분할된 텍스트 청크마다 요약을 생성하고, 이를 합친 최종 요약을 생성하기 위해 다수 호출이 필요하여 속도가 느립니다.\n",
    "Stuff에서 발생하는 토큰이슈를 우회할 수 있다.\n",
    "\n",
    "Stuff에서는 한번에 많은 토큰을 소비할 가능성은 높지만, LLM호출은 단 1회만 한다.\n",
    "하지만 *Map Reduce*는 \n",
    "1. 각 청크된 문서에서 요약을 수행하는 LLM호출\n",
    "2. 압축하는 과정에서 LLM호출\n",
    "3. 마지막으로 압축된 context와 사용자의 질문이 합쳐져서 LLM 호출"
   ]
  },
  {
   "cell_type": "markdown",
   "metadata": {},
   "source": [
    "### "
   ]
  },
  {
   "cell_type": "markdown",
   "metadata": {},
   "source": [
    "## 3. Refine\n",
    "분할된 텍스트 청크를 순회하면서 누적 답변을 생성합니다. 품질이 뛰어나지만 시간이 오래 걸립니다."
   ]
  },
  {
   "cell_type": "markdown",
   "metadata": {},
   "source": [
    "## 4. Map Rerank\n",
    "분할된 텍스트 청크를 순회하면서 누적 답변을 생성합니다. 품질이 뛰어나지만 시간이 오래 걸립니다.\n",
    "\n",
    "사용자의 질문에 기반하여 연관성 점수를 뽑아내서 가장 높은 유사성의 문서를 추려낸다."
   ]
  },
  {
   "cell_type": "markdown",
   "metadata": {},
   "source": []
  }
 ],
 "metadata": {
  "language_info": {
   "name": "python"
  }
 },
 "nbformat": 4,
 "nbformat_minor": 2
}
