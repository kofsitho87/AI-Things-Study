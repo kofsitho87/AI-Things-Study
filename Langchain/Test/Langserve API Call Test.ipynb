{
 "cells": [
  {
   "cell_type": "code",
   "execution_count": 48,
   "metadata": {},
   "outputs": [],
   "source": [
    "import requests\n",
    "import json\n",
    "import pandas as pd"
   ]
  },
  {
   "cell_type": "code",
   "execution_count": 5,
   "metadata": {},
   "outputs": [],
   "source": [
    "test = \"\"\"생산직사원 주5일근무 4대보험 퇴직금지급 주부및 외국인가능 브라인더업체,노아브라인드,전재현,,010-9291-0545,생산·공장,\"제단,검수\",협의,,신입/경력,,연령무관,,,\"생산직 모집주부 및 외국인가능모집분야-직원모집(브라인드 생산)근무시간-08:30 ~ 17:30근무요일-주 5일 근무급여-경력에 따라 협의지원조건-경력자우대,초보자,주부,외국인가능우대조건-유경험자,인근거주자기타사항-4대보험,퇴직금\"\n",
    "\"\"\"\n",
    "\n",
    "response = requests.post(\n",
    "    \"http://localhost:8000/prompt/job/invoke\",\n",
    "    json={\"input\": {\"JOB\": test}},\n",
    ")\n"
   ]
  },
  {
   "cell_type": "code",
   "execution_count": 7,
   "metadata": {},
   "outputs": [
    {
     "data": {
      "text/plain": [
       "'노아브라인드에서 생산직 사원을 모집합니다. 당사는 생산·공장 업계에서 활동하는 브라인더 제조업체로, 제단 및 검수와 같은 주요 업무를 담당할 새로운 팀원을 찾고 있습니다. 이 직위는 협의에 의한 급여 조건으로 운영되며, 경력에 따라 경쟁력 있는 급여를 제공합니다. 신입 및 경력자 모두 지원 가능하며, 성별 및 연령에 관계없이 모든 지원자를 고려합니다.\\n\\n근무 시간은 08:30부터 17:30까지이며, 주 5일 근무합니다. 당사는 직원들을 소중히 여기며, 4대 보험 및 퇴직금 지급과 같은 포괄적인 복리후생 패키지를 제공합니다.\\n\\n지원에 관심이 있으시거나 더 많은 정보가 필요하시면, 전재현 채용 담당자에게 010-9291-0545로 연락하시거나 추가 연락처가 제공되면 해당 이메일로 문의해 주시기 바랍니다. 여러분의 재능을 노아브라인드에 기여할 수 있는 기회를 기대합니다.'"
      ]
     },
     "execution_count": 7,
     "metadata": {},
     "output_type": "execute_result"
    }
   ],
   "source": [
    "response.json()[\"output\"]"
   ]
  },
  {
   "cell_type": "code",
   "execution_count": 42,
   "metadata": {},
   "outputs": [],
   "source": [
    "query = \"월급이 삼백만원이상이고 축산업에 관련된 직종이고 경력자를 우대해주는 직업\"\n",
    "\n",
    "response = requests.post(\n",
    "    \"http://localhost:8000/get_job_list/invoke\",\n",
    "    json={\"input\": {\"question\": query}},\n",
    ")"
   ]
  },
  {
   "cell_type": "code",
   "execution_count": 51,
   "metadata": {},
   "outputs": [],
   "source": [
    "pd.set_option('display.max_colwidth', None)"
   ]
  },
  {
   "cell_type": "code",
   "execution_count": 53,
   "metadata": {},
   "outputs": [
    {
     "data": {
      "text/html": [
       "<div>\n",
       "<style scoped>\n",
       "    .dataframe tbody tr th:only-of-type {\n",
       "        vertical-align: middle;\n",
       "    }\n",
       "\n",
       "    .dataframe tbody tr th {\n",
       "        vertical-align: top;\n",
       "    }\n",
       "\n",
       "    .dataframe thead th {\n",
       "        text-align: right;\n",
       "    }\n",
       "</style>\n",
       "<table border=\"1\" class=\"dataframe\">\n",
       "  <thead>\n",
       "    <tr style=\"text-align: right;\">\n",
       "      <th></th>\n",
       "      <th>job_id</th>\n",
       "      <th>job_name</th>\n",
       "      <th>job_content</th>\n",
       "      <th>company</th>\n",
       "      <th>score</th>\n",
       "    </tr>\n",
       "  </thead>\n",
       "  <tbody>\n",
       "    <tr>\n",
       "      <th>0</th>\n",
       "      <td>294</td>\n",
       "      <td>축산물생산직 정규직채용/ 연봉 2,640만원부터 /계근, 포장</td>\n",
       "      <td>농업회사법인 (주)나눔금천축산유통에서는 생산직을 채용합니다성실히 오래근무 해 주실분은많은 지원바랍니다.생산직 -업무내용 계근, 포장-근무시간 면담후 결정-근무요일 주5일근무-급여조건 여2,640만원부터(경력자협의)-자격조건 초보가능, 경력자무관(경력자우대)-복리후생 4대보험,퇴직금,연차,중식제공            법정공휴일 모두 휴무</td>\n",
       "      <td>(주)나눔금천축산유통</td>\n",
       "      <td>0.890147</td>\n",
       "    </tr>\n",
       "    <tr>\n",
       "      <th>1</th>\n",
       "      <td>534</td>\n",
       "      <td>생산직 모집 기술배우실분 초보가능 수습3개월후 급여인상</td>\n",
       "      <td>(주)구리특장생산직 모집 기술배우실분근무조건급     여\\t월급 2,500,000원            수습3개월후 급여인상근무요일\\t주6일           (첫째,셋째 토요일근무 )근무시간\\t08:30 ~ 17:30 복리후생\\t4대보험, 퇴직금</td>\n",
       "      <td>(주)구리특장</td>\n",
       "      <td>0.875521</td>\n",
       "    </tr>\n",
       "    <tr>\n",
       "      <th>2</th>\n",
       "      <td>563</td>\n",
       "      <td>생산직사원모집 경험자환영 초보자가능</td>\n",
       "      <td>생산직 구함생산직-07:00 ~ 18:00-경험자우대, 초보자가능-월 280만원(협의가능)-중식제공, 4대보험, 퇴직금</td>\n",
       "      <td>백암전통식품</td>\n",
       "      <td>0.874280</td>\n",
       "    </tr>\n",
       "    <tr>\n",
       "      <th>3</th>\n",
       "      <td>530</td>\n",
       "      <td>조명, 전기용품 포장, 생산직원 모집</td>\n",
       "      <td>당사는 포장 및 생산 분야에서 근무할 직원을 모집합니다. 이 역할의 주요 책임은 포장 및 생산 관련 작업을 수행하는 것입니다. 이 포지션은 정규직으로, 월급은 250만원입니다. 학력과 경력은 무관하며, 모든 지원자를 고려할 것입니다.\\n\\n근무 시간은 주 5일, 오전 9시부터 오후 6시까지이며, 낮 12시부터 1시까지 중식이 제공됩니다. 당사는 직원들을 소중히 여기며, 퇴직금, 퇴직연금, 건강검진, 4대 보험, 중식 제공 등의 포괄적인 복리후생 패키지를 제공합니다.\\n\\n인근 거주자, 유관 업무 경험자(인턴, 아르바이트 포함), 즉시 출근 가능자, 장기 근무 가능자를 우대합니다.</td>\n",
       "      <td>(주)건식</td>\n",
       "      <td>0.872171</td>\n",
       "    </tr>\n",
       "    <tr>\n",
       "      <th>4</th>\n",
       "      <td>23</td>\n",
       "      <td>육계직원(남녀, 가공/포장)/배송직원 모집</td>\n",
       "      <td>생산직원업무육계가공 및 포장작업(남녀)초보자환영 ,경력자우대함근무조건주5일, 09시 ~17:30토요일협의, 주휴수당있음월240만원 (면접시 협의가능) 배송직원업무식품배송경력자환영지입도 가능함근무조건주6일(월~토)06시 ~ 17시월급 280만원(면접시 협의)주6일(월~토)06시 ~ 01시월급 240만원(면접시 협의)</td>\n",
       "      <td>에스디푸드</td>\n",
       "      <td>0.868352</td>\n",
       "    </tr>\n",
       "    <tr>\n",
       "      <th>5</th>\n",
       "      <td>569</td>\n",
       "      <td>경질크롬금형도금 경력자 ★급 구함★</td>\n",
       "      <td>경질크롬금형도금 경력자 급 구함 08:30~18:30 휴게시간 포함주5일근무 월280~400만원 협의후결정</td>\n",
       "      <td>진일사</td>\n",
       "      <td>0.868017</td>\n",
       "    </tr>\n",
       "    <tr>\n",
       "      <th>6</th>\n",
       "      <td>24</td>\n",
       "      <td>근무조건좋음/돈까스,떡갈비제조,생산경력직원모집</td>\n",
       "      <td>채용정보업무내용\\t돈까스, 떡갈비 제조 및 생산 / 직급 - 팀장급지원자격\\t- 동종업계 경력 있으신 분 (초보 불가)- 연령, 성별 무관우대사항\\t동종업계 경력자, 장기근무 가능자, 인근 거주자근무조건근무요일\\t월 ~ 금 (주말, 공휴일 휴무)근무시간\\t07 : 00 ~ 17 : 00 (점심시간 있음)복리후생\\t4대 보험, 식사 제공 급     여\\t연봉 :  4000만원</td>\n",
       "      <td>(주)이푸드씨스템</td>\n",
       "      <td>0.867405</td>\n",
       "    </tr>\n",
       "    <tr>\n",
       "      <th>7</th>\n",
       "      <td>313</td>\n",
       "      <td>단순 도시락 소분 포장 업무 사원 모집</td>\n",
       "      <td>단순 도시락 소분 포장 업무 08:30~17:30(잔업 특근 매우 많음) 휴게시간 포함경력여부 무관학력여부 무관시급9,860원 월300만이상 인천 남동공단「(주)혜원산업」</td>\n",
       "      <td>(주)혜원산업</td>\n",
       "      <td>0.866539</td>\n",
       "    </tr>\n",
       "    <tr>\n",
       "      <th>8</th>\n",
       "      <td>311</td>\n",
       "      <td>노점판매 사원모집 간장게장판매 양념게장 밑반찬류:젓갈류 판매</td>\n",
       "      <td>노점판매 사원모집 간장게장판매 양념게장 밑반찬류:젓갈류 판매 일일10만원 이상 근무시간 협의가능근무유형 프리랜서엄마손반찬「삼대명가」</td>\n",
       "      <td>삼대명가</td>\n",
       "      <td>0.866467</td>\n",
       "    </tr>\n",
       "    <tr>\n",
       "      <th>9</th>\n",
       "      <td>554</td>\n",
       "      <td>가불가능/주휴수당/단순생산,포장,검수사원모집/주방용품/좌식,입식병행</td>\n",
       "      <td>채용정보업무내용\\t단순생산/검사/포장지원자격\\t건강하신분(수습기간 종료후 정규직채용)우대사항\\t장기근무 가능자,인근거주자근무조건근무요일\\t주5일근무시간\\t08:30 ~ 17:30근무기간\\t1개월~3개월급     여\\t월급 2,060,740원</td>\n",
       "      <td>(주)아임넷</td>\n",
       "      <td>0.864575</td>\n",
       "    </tr>\n",
       "  </tbody>\n",
       "</table>\n",
       "</div>"
      ],
      "text/plain": [
       "   job_id                               job_name  \\\n",
       "0     294     축산물생산직 정규직채용/ 연봉 2,640만원부터 /계근, 포장   \n",
       "1     534         생산직 모집 기술배우실분 초보가능 수습3개월후 급여인상   \n",
       "2     563                    생산직사원모집 경험자환영 초보자가능   \n",
       "3     530                   조명, 전기용품 포장, 생산직원 모집   \n",
       "4      23                육계직원(남녀, 가공/포장)/배송직원 모집   \n",
       "5     569                    경질크롬금형도금 경력자 ★급 구함★   \n",
       "6      24              근무조건좋음/돈까스,떡갈비제조,생산경력직원모집   \n",
       "7     313                  단순 도시락 소분 포장 업무 사원 모집   \n",
       "8     311      노점판매 사원모집 간장게장판매 양념게장 밑반찬류:젓갈류 판매   \n",
       "9     554  가불가능/주휴수당/단순생산,포장,검수사원모집/주방용품/좌식,입식병행   \n",
       "\n",
       "                                                                                                                                                                                                                                                                                                                               job_content  \\\n",
       "0                                                                                                                                             농업회사법인 (주)나눔금천축산유통에서는 생산직을 채용합니다성실히 오래근무 해 주실분은많은 지원바랍니다.생산직 -업무내용 계근, 포장-근무시간 면담후 결정-근무요일 주5일근무-급여조건 여2,640만원부터(경력자협의)-자격조건 초보가능, 경력자무관(경력자우대)-복리후생 4대보험,퇴직금,연차,중식제공            법정공휴일 모두 휴무   \n",
       "1                                                                                                                                                                                               (주)구리특장생산직 모집 기술배우실분근무조건급     여\\t월급 2,500,000원            수습3개월후 급여인상근무요일\\t주6일           (첫째,셋째 토요일근무 )근무시간\\t08:30 ~ 17:30 복리후생\\t4대보험, 퇴직금   \n",
       "2                                                                                                                                                                                                                                                                       생산직 구함생산직-07:00 ~ 18:00-경험자우대, 초보자가능-월 280만원(협의가능)-중식제공, 4대보험, 퇴직금   \n",
       "3  당사는 포장 및 생산 분야에서 근무할 직원을 모집합니다. 이 역할의 주요 책임은 포장 및 생산 관련 작업을 수행하는 것입니다. 이 포지션은 정규직으로, 월급은 250만원입니다. 학력과 경력은 무관하며, 모든 지원자를 고려할 것입니다.\\n\\n근무 시간은 주 5일, 오전 9시부터 오후 6시까지이며, 낮 12시부터 1시까지 중식이 제공됩니다. 당사는 직원들을 소중히 여기며, 퇴직금, 퇴직연금, 건강검진, 4대 보험, 중식 제공 등의 포괄적인 복리후생 패키지를 제공합니다.\\n\\n인근 거주자, 유관 업무 경험자(인턴, 아르바이트 포함), 즉시 출근 가능자, 장기 근무 가능자를 우대합니다.   \n",
       "4                                                                                                                                                         생산직원업무육계가공 및 포장작업(남녀)초보자환영 ,경력자우대함근무조건주5일, 09시 ~17:30토요일협의, 주휴수당있음월240만원 (면접시 협의가능) 배송직원업무식품배송경력자환영지입도 가능함근무조건주6일(월~토)06시 ~ 17시월급 280만원(면접시 협의)주6일(월~토)06시 ~ 01시월급 240만원(면접시 협의)   \n",
       "5                                                                                                                                                                                                                                                                              경질크롬금형도금 경력자 급 구함 08:30~18:30 휴게시간 포함주5일근무 월280~400만원 협의후결정   \n",
       "6                                                                                                                       채용정보업무내용\\t돈까스, 떡갈비 제조 및 생산 / 직급 - 팀장급지원자격\\t- 동종업계 경력 있으신 분 (초보 불가)- 연령, 성별 무관우대사항\\t동종업계 경력자, 장기근무 가능자, 인근 거주자근무조건근무요일\\t월 ~ 금 (주말, 공휴일 휴무)근무시간\\t07 : 00 ~ 17 : 00 (점심시간 있음)복리후생\\t4대 보험, 식사 제공 급     여\\t연봉 :  4000만원   \n",
       "7                                                                                                                                                                                                                                          단순 도시락 소분 포장 업무 08:30~17:30(잔업 특근 매우 많음) 휴게시간 포함경력여부 무관학력여부 무관시급9,860원 월300만이상 인천 남동공단「(주)혜원산업」   \n",
       "8                                                                                                                                                                                                                                                                노점판매 사원모집 간장게장판매 양념게장 밑반찬류:젓갈류 판매 일일10만원 이상 근무시간 협의가능근무유형 프리랜서엄마손반찬「삼대명가」   \n",
       "9                                                                                                                                                                                                   채용정보업무내용\\t단순생산/검사/포장지원자격\\t건강하신분(수습기간 종료후 정규직채용)우대사항\\t장기근무 가능자,인근거주자근무조건근무요일\\t주5일근무시간\\t08:30 ~ 17:30근무기간\\t1개월~3개월급     여\\t월급 2,060,740원   \n",
       "\n",
       "       company     score  \n",
       "0  (주)나눔금천축산유통  0.890147  \n",
       "1      (주)구리특장  0.875521  \n",
       "2       백암전통식품  0.874280  \n",
       "3        (주)건식  0.872171  \n",
       "4        에스디푸드  0.868352  \n",
       "5          진일사  0.868017  \n",
       "6    (주)이푸드씨스템  0.867405  \n",
       "7      (주)혜원산업  0.866539  \n",
       "8         삼대명가  0.866467  \n",
       "9       (주)아임넷  0.864575  "
      ]
     },
     "execution_count": 53,
     "metadata": {},
     "output_type": "execute_result"
    }
   ],
   "source": [
    "json_result = response.json()\n",
    "job_list_json = json_result[\"output\"]\n",
    "\n",
    "df = pd.DataFrame(job_list_json)\n",
    "df"
   ]
  },
  {
   "cell_type": "code",
   "execution_count": 10,
   "metadata": {},
   "outputs": [
    {
     "data": {
      "text/plain": [
       "\"Query: {'name': 'Dan'}, Result: Hello! Dan\""
      ]
     },
     "execution_count": 10,
     "metadata": {},
     "output_type": "execute_result"
    }
   ],
   "source": [
    "from langchain_core.runnables import RunnableParallel, RunnableLambda\n",
    "from langchain.schema.output_parser import StrOutputParser\n",
    "\n",
    "def hello_user(query):\n",
    "    user_name = query['name']\n",
    "    return f\"Query: {query}, Result: Hello! {user_name}\"\n",
    "\n",
    "\n",
    "chain = RunnableLambda(hello_user) | StrOutputParser()\n",
    "\n",
    "chain.invoke({\"name\": \"Dan\"})"
   ]
  },
  {
   "cell_type": "code",
   "execution_count": 25,
   "metadata": {},
   "outputs": [
    {
     "data": {
      "text/plain": [
       "[{'title': 'title', 'content': 'content'}]"
      ]
     },
     "execution_count": 25,
     "metadata": {},
     "output_type": "execute_result"
    }
   ],
   "source": [
    "from langchain.output_parsers import ResponseSchema, StructuredOutputParser\n",
    "from langchain_core.output_parsers import JsonOutputParser\n",
    "\n",
    "\n",
    "# 사용자의 질문에 대한 답변\n",
    "response_schemas = [\n",
    "    ResponseSchema(name=\"title\", description=\"제목\"),\n",
    "    ResponseSchema(name=\"content\", description=\"content\"),\n",
    "]\n",
    "# 응답 스키마를 기반으로 한 구조화된 출력 파서 초기화\n",
    "output_parser = StructuredOutputParser.from_response_schemas(response_schemas)\n",
    "\n",
    "\n",
    "def get_item(query):\n",
    "    data = [{\n",
    "        \"title\": \"title\",\n",
    "        \"content\": \"content\",\n",
    "    }]\n",
    "    return json.dumps(data)\n",
    "\n",
    "# chain = RunnableLambda(get_item) | output_parser\n",
    "chain = RunnableLambda(get_item) | JsonOutputParser()\n",
    "chain.invoke(\"get book\")"
   ]
  },
  {
   "cell_type": "code",
   "execution_count": null,
   "metadata": {},
   "outputs": [],
   "source": []
  }
 ],
 "metadata": {
  "kernelspec": {
   "display_name": "visa_chatbot1",
   "language": "python",
   "name": "python3"
  },
  "language_info": {
   "codemirror_mode": {
    "name": "ipython",
    "version": 3
   },
   "file_extension": ".py",
   "mimetype": "text/x-python",
   "name": "python",
   "nbconvert_exporter": "python",
   "pygments_lexer": "ipython3",
   "version": "3.11.8"
  }
 },
 "nbformat": 4,
 "nbformat_minor": 2
}
