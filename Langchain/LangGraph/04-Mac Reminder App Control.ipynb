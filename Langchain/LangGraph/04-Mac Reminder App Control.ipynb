{
 "cells": [
  {
   "cell_type": "code",
   "execution_count": 2,
   "metadata": {},
   "outputs": [],
   "source": [
    "import subprocess"
   ]
  },
  {
   "cell_type": "code",
   "execution_count": 6,
   "metadata": {},
   "outputs": [
    {
     "ename": "TypeError",
     "evalue": "search_task_in_reminders() missing 1 required positional argument: 'task_name'",
     "output_type": "error",
     "traceback": [
      "\u001b[0;31m---------------------------------------------------------------------------\u001b[0m",
      "\u001b[0;31mTypeError\u001b[0m                                 Traceback (most recent call last)",
      "Cell \u001b[0;32mIn[6], line 19\u001b[0m\n\u001b[1;32m     16\u001b[0m     \u001b[38;5;28;01mreturn\u001b[39;00m result\u001b[38;5;241m.\u001b[39mstdout\u001b[38;5;241m.\u001b[39mstrip()\n\u001b[1;32m     18\u001b[0m \u001b[38;5;66;03m# Search for a task \"groceries\" in the \"Default\" list\u001b[39;00m\n\u001b[0;32m---> 19\u001b[0m tasks \u001b[38;5;241m=\u001b[39m \u001b[43msearch_task_in_reminders\u001b[49m\u001b[43m(\u001b[49m\u001b[38;5;124;43m\"\u001b[39;49m\u001b[38;5;124;43mDefault\u001b[39;49m\u001b[38;5;124;43m\"\u001b[39;49m\u001b[43m)\u001b[49m\n\u001b[1;32m     20\u001b[0m \u001b[38;5;28mprint\u001b[39m(tasks)\n",
      "\u001b[0;31mTypeError\u001b[0m: search_task_in_reminders() missing 1 required positional argument: 'task_name'"
     ]
    }
   ],
   "source": [
    "def search_task_in_reminders(list_name, task_name):\n",
    "    script = f'''\n",
    "    tell application \"Reminders\"\n",
    "        set theList to list \"{list_name}\"\n",
    "        set theReminders to reminders of theList\n",
    "        set foundTasks to \"\"\n",
    "        repeat with aReminder in theReminders\n",
    "            if name of aReminder contains \"{task_name}\" then\n",
    "                set foundTasks to foundTasks & name of aReminder & \"\\\\n\"\n",
    "            end if\n",
    "        end repeat\n",
    "        return foundTasks\n",
    "    end tell\n",
    "    '''\n",
    "    result = subprocess.run([\"osascript\", \"-e\", script], text=True, capture_output=True)\n",
    "    return result.stdout.strip()\n",
    "\n",
    "# Search for a task \"groceries\" in the \"Default\" list\n",
    "tasks = search_task_in_reminders(\"Default\")\n",
    "print(tasks)"
   ]
  },
  {
   "cell_type": "code",
   "execution_count": 4,
   "metadata": {},
   "outputs": [
    {
     "ename": "CommandError",
     "evalue": "Command failed:\n\t\tOSERROR: -1728\n\t\tMESSAGE: Can't get reference.\n\t\tOFFENDING OBJECT: app('/System/Applications/Reminders.app').lists['Default']\n\t\tCOMMAND: app('/System/Applications/Reminders.app').lists['Default'].reminders.get()",
     "output_type": "error",
     "traceback": [
      "\u001b[0;31m---------------------------------------------------------------------------\u001b[0m",
      "\u001b[0;31mEventError\u001b[0m                                Traceback (most recent call last)",
      "File \u001b[0;32m~/SideProjects/AI-Things-Study/.venv/lib/python3.11/site-packages/aeosa/appscript/reference.py:479\u001b[0m, in \u001b[0;36mCommand.__call__\u001b[0;34m(self, *args, **kargs)\u001b[0m\n\u001b[1;32m    478\u001b[0m \u001b[38;5;28;01mtry\u001b[39;00m:\n\u001b[0;32m--> 479\u001b[0m \t\u001b[38;5;28;01mreturn\u001b[39;00m \u001b[38;5;28;43mself\u001b[39;49m\u001b[38;5;241;43m.\u001b[39;49m\u001b[43mAS_appdata\u001b[49m\u001b[38;5;241;43m.\u001b[39;49m\u001b[43mtarget\u001b[49m\u001b[43m(\u001b[49m\u001b[43m)\u001b[49m\u001b[38;5;241;43m.\u001b[39;49m\u001b[43mevent\u001b[49m\u001b[43m(\u001b[49m\u001b[38;5;28;43mself\u001b[39;49m\u001b[38;5;241;43m.\u001b[39;49m\u001b[43m_code\u001b[49m\u001b[43m,\u001b[49m\u001b[43m \u001b[49m\u001b[43mparams\u001b[49m\u001b[43m,\u001b[49m\u001b[43m \u001b[49m\u001b[43matts\u001b[49m\u001b[43m,\u001b[49m\u001b[43m \u001b[49m\u001b[43mcodecs\u001b[49m\u001b[38;5;241;43m=\u001b[39;49m\u001b[38;5;28;43mself\u001b[39;49m\u001b[38;5;241;43m.\u001b[39;49m\u001b[43mAS_appdata\u001b[49m\u001b[43m)\u001b[49m\u001b[38;5;241;43m.\u001b[39;49m\u001b[43msend\u001b[49m\u001b[43m(\u001b[49m\u001b[43mtimeout\u001b[49m\u001b[43m,\u001b[49m\u001b[43m \u001b[49m\u001b[43msendflags\u001b[49m\u001b[43m)\u001b[49m\n\u001b[1;32m    480\u001b[0m \u001b[38;5;28;01mexcept\u001b[39;00m aem\u001b[38;5;241m.\u001b[39mEventError \u001b[38;5;28;01mas\u001b[39;00m e:\n",
      "File \u001b[0;32m~/SideProjects/AI-Things-Study/.venv/lib/python3.11/site-packages/aeosa/aem/aemsend.py:92\u001b[0m, in \u001b[0;36mEvent.send\u001b[0;34m(self, timeout, flags)\u001b[0m\n\u001b[1;32m     91\u001b[0m \t\t\terrormsg \u001b[38;5;241m=\u001b[39m _defaultcodecs\u001b[38;5;241m.\u001b[39munpack(errormsg)\n\u001b[0;32m---> 92\u001b[0m \t\t\u001b[38;5;28;01mraise\u001b[39;00m EventError(errornum, errormsg, eventresult)\n\u001b[1;32m     93\u001b[0m \u001b[38;5;28;01mif\u001b[39;00m kae\u001b[38;5;241m.\u001b[39mkeyAEResult \u001b[38;5;129;01min\u001b[39;00m eventresult: \u001b[38;5;66;03m# application has returned a value\u001b[39;00m\n\u001b[1;32m     94\u001b[0m \t\u001b[38;5;66;03m# note: unpack result with [optionally] user-specified codecs, allowing clients to customise unpacking (e.g. appscript)\u001b[39;00m\n",
      "\u001b[0;31mEventError\u001b[0m: Command failed: Can't get reference. (-1728)",
      "\nThe above exception was the direct cause of the following exception:\n",
      "\u001b[0;31mCommandError\u001b[0m                              Traceback (most recent call last)",
      "Cell \u001b[0;32mIn[4], line 10\u001b[0m\n\u001b[1;32m      4\u001b[0m default_list \u001b[38;5;241m=\u001b[39m reminders\u001b[38;5;241m.\u001b[39mlists[\u001b[38;5;124m'\u001b[39m\u001b[38;5;124mDefault\u001b[39m\u001b[38;5;124m'\u001b[39m]\n\u001b[1;32m      6\u001b[0m \u001b[38;5;66;03m# Add a task\u001b[39;00m\n\u001b[1;32m      7\u001b[0m \u001b[38;5;66;03m# default_list.make(new=k.reminder, with_properties={k.name: 'Buy milk'})\u001b[39;00m\n\u001b[1;32m      8\u001b[0m \n\u001b[1;32m      9\u001b[0m \u001b[38;5;66;03m# Get all tasks\u001b[39;00m\n\u001b[0;32m---> 10\u001b[0m tasks \u001b[38;5;241m=\u001b[39m \u001b[43mdefault_list\u001b[49m\u001b[38;5;241;43m.\u001b[39;49m\u001b[43mreminders\u001b[49m\u001b[43m(\u001b[49m\u001b[43m)\u001b[49m\n\u001b[1;32m     11\u001b[0m \u001b[38;5;28;01mfor\u001b[39;00m task \u001b[38;5;129;01min\u001b[39;00m tasks:\n\u001b[1;32m     12\u001b[0m     \u001b[38;5;28mprint\u001b[39m(task\u001b[38;5;241m.\u001b[39mname\u001b[38;5;241m.\u001b[39mget())\n",
      "File \u001b[0;32m~/SideProjects/AI-Things-Study/.venv/lib/python3.11/site-packages/aeosa/appscript/reference.py:661\u001b[0m, in \u001b[0;36mReference.__call__\u001b[0;34m(self, *args, **kargs)\u001b[0m\n\u001b[1;32m    660\u001b[0m \u001b[38;5;28;01mdef\u001b[39;00m\u001b[38;5;250m \u001b[39m\u001b[38;5;21m__call__\u001b[39m(\u001b[38;5;28mself\u001b[39m, \u001b[38;5;241m*\u001b[39margs, \u001b[38;5;241m*\u001b[39m\u001b[38;5;241m*\u001b[39mkargs):\n\u001b[0;32m--> 661\u001b[0m \t\u001b[38;5;28;01mreturn\u001b[39;00m \u001b[38;5;28;43mself\u001b[39;49m\u001b[38;5;241;43m.\u001b[39;49m\u001b[43mget\u001b[49m\u001b[43m(\u001b[49m\u001b[38;5;241;43m*\u001b[39;49m\u001b[43margs\u001b[49m\u001b[43m,\u001b[49m\u001b[43m \u001b[49m\u001b[38;5;241;43m*\u001b[39;49m\u001b[38;5;241;43m*\u001b[39;49m\u001b[43mkargs\u001b[49m\u001b[43m)\u001b[49m\n",
      "File \u001b[0;32m~/SideProjects/AI-Things-Study/.venv/lib/python3.11/site-packages/aeosa/appscript/reference.py:515\u001b[0m, in \u001b[0;36mCommand.__call__\u001b[0;34m(self, *args, **kargs)\u001b[0m\n\u001b[1;32m    513\u001b[0m \t\t\t\u001b[38;5;28;01mreturn\u001b[39;00m\n\u001b[1;32m    514\u001b[0m \t\t\u001b[38;5;28;01mraise\u001b[39;00m CommandError(\u001b[38;5;28mself\u001b[39m, (args, kargs), e, \u001b[38;5;28mself\u001b[39m\u001b[38;5;241m.\u001b[39mAS_appdata) \u001b[38;5;28;01mfrom\u001b[39;00m\u001b[38;5;250m \u001b[39m\u001b[38;5;21;01me\u001b[39;00m\n\u001b[0;32m--> 515\u001b[0m \u001b[38;5;28;01mraise\u001b[39;00m CommandError(\u001b[38;5;28mself\u001b[39m, (args, kargs), e, \u001b[38;5;28mself\u001b[39m\u001b[38;5;241m.\u001b[39mAS_appdata) \u001b[38;5;28;01mfrom\u001b[39;00m\u001b[38;5;250m \u001b[39m\u001b[38;5;21;01me\u001b[39;00m\n",
      "\u001b[0;31mCommandError\u001b[0m: Command failed:\n\t\tOSERROR: -1728\n\t\tMESSAGE: Can't get reference.\n\t\tOFFENDING OBJECT: app('/System/Applications/Reminders.app').lists['Default']\n\t\tCOMMAND: app('/System/Applications/Reminders.app').lists['Default'].reminders.get()"
     ]
    }
   ],
   "source": [
    "from appscript import app, k\n",
    "\n",
    "reminders = app('Reminders')\n",
    "default_list = reminders.lists['Default']\n",
    "\n",
    "# Add a task\n",
    "# default_list.make(new=k.reminder, with_properties={k.name: 'Buy milk'})\n",
    "\n",
    "# Get all tasks\n",
    "tasks = default_list.reminders()\n",
    "for task in tasks:\n",
    "    print(task.name.get())"
   ]
  },
  {
   "cell_type": "code",
   "execution_count": 6,
   "metadata": {},
   "outputs": [
    {
     "ename": "CommandError",
     "evalue": "Command failed:\n\t\tOSERROR: -1743\n\t\tMESSAGE: The user has declined permission.\n\t\tCOMMAND: app('/System/Applications/Reminders.app').lists.get()",
     "output_type": "error",
     "traceback": [
      "\u001b[0;31m---------------------------------------------------------------------------\u001b[0m",
      "\u001b[0;31mEventError\u001b[0m                                Traceback (most recent call last)",
      "File \u001b[0;32m~/SideProjects/AI-Things-Study/.venv/lib/python3.11/site-packages/aeosa/appscript/reference.py:479\u001b[0m, in \u001b[0;36mCommand.__call__\u001b[0;34m(self, *args, **kargs)\u001b[0m\n\u001b[1;32m    478\u001b[0m \u001b[38;5;28;01mtry\u001b[39;00m:\n\u001b[0;32m--> 479\u001b[0m \t\u001b[38;5;28;01mreturn\u001b[39;00m \u001b[38;5;28;43mself\u001b[39;49m\u001b[38;5;241;43m.\u001b[39;49m\u001b[43mAS_appdata\u001b[49m\u001b[38;5;241;43m.\u001b[39;49m\u001b[43mtarget\u001b[49m\u001b[43m(\u001b[49m\u001b[43m)\u001b[49m\u001b[38;5;241;43m.\u001b[39;49m\u001b[43mevent\u001b[49m\u001b[43m(\u001b[49m\u001b[38;5;28;43mself\u001b[39;49m\u001b[38;5;241;43m.\u001b[39;49m\u001b[43m_code\u001b[49m\u001b[43m,\u001b[49m\u001b[43m \u001b[49m\u001b[43mparams\u001b[49m\u001b[43m,\u001b[49m\u001b[43m \u001b[49m\u001b[43matts\u001b[49m\u001b[43m,\u001b[49m\u001b[43m \u001b[49m\u001b[43mcodecs\u001b[49m\u001b[38;5;241;43m=\u001b[39;49m\u001b[38;5;28;43mself\u001b[39;49m\u001b[38;5;241;43m.\u001b[39;49m\u001b[43mAS_appdata\u001b[49m\u001b[43m)\u001b[49m\u001b[38;5;241;43m.\u001b[39;49m\u001b[43msend\u001b[49m\u001b[43m(\u001b[49m\u001b[43mtimeout\u001b[49m\u001b[43m,\u001b[49m\u001b[43m \u001b[49m\u001b[43msendflags\u001b[49m\u001b[43m)\u001b[49m\n\u001b[1;32m    480\u001b[0m \u001b[38;5;28;01mexcept\u001b[39;00m aem\u001b[38;5;241m.\u001b[39mEventError \u001b[38;5;28;01mas\u001b[39;00m e:\n",
      "File \u001b[0;32m~/SideProjects/AI-Things-Study/.venv/lib/python3.11/site-packages/aeosa/aem/aemsend.py:92\u001b[0m, in \u001b[0;36mEvent.send\u001b[0;34m(self, timeout, flags)\u001b[0m\n\u001b[1;32m     91\u001b[0m \t\t\terrormsg \u001b[38;5;241m=\u001b[39m _defaultcodecs\u001b[38;5;241m.\u001b[39munpack(errormsg)\n\u001b[0;32m---> 92\u001b[0m \t\t\u001b[38;5;28;01mraise\u001b[39;00m EventError(errornum, errormsg, eventresult)\n\u001b[1;32m     93\u001b[0m \u001b[38;5;28;01mif\u001b[39;00m kae\u001b[38;5;241m.\u001b[39mkeyAEResult \u001b[38;5;129;01min\u001b[39;00m eventresult: \u001b[38;5;66;03m# application has returned a value\u001b[39;00m\n\u001b[1;32m     94\u001b[0m \t\u001b[38;5;66;03m# note: unpack result with [optionally] user-specified codecs, allowing clients to customise unpacking (e.g. appscript)\u001b[39;00m\n",
      "\u001b[0;31mEventError\u001b[0m: Command failed: The user has declined permission. (-1743)",
      "\nThe above exception was the direct cause of the following exception:\n",
      "\u001b[0;31mCommandError\u001b[0m                              Traceback (most recent call last)",
      "Cell \u001b[0;32mIn[6], line 4\u001b[0m\n\u001b[1;32m      1\u001b[0m \u001b[38;5;28;01mfrom\u001b[39;00m\u001b[38;5;250m \u001b[39m\u001b[38;5;21;01mappscript\u001b[39;00m\u001b[38;5;250m \u001b[39m\u001b[38;5;28;01mimport\u001b[39;00m app\n\u001b[1;32m      3\u001b[0m reminders \u001b[38;5;241m=\u001b[39m app(\u001b[38;5;124m'\u001b[39m\u001b[38;5;124mReminders\u001b[39m\u001b[38;5;124m'\u001b[39m)\n\u001b[0;32m----> 4\u001b[0m all_lists \u001b[38;5;241m=\u001b[39m \u001b[43mreminders\u001b[49m\u001b[38;5;241;43m.\u001b[39;49m\u001b[43mlists\u001b[49m\u001b[43m(\u001b[49m\u001b[43m)\u001b[49m  \u001b[38;5;66;03m# Reminders 앱의 모든 리스트 가져오기\u001b[39;00m\n\u001b[1;32m      5\u001b[0m \u001b[38;5;28;01mfor\u001b[39;00m reminder_list \u001b[38;5;129;01min\u001b[39;00m all_lists:\n\u001b[1;32m      6\u001b[0m     \u001b[38;5;28mprint\u001b[39m(reminder_list\u001b[38;5;241m.\u001b[39mname\u001b[38;5;241m.\u001b[39mget())\n",
      "File \u001b[0;32m~/SideProjects/AI-Things-Study/.venv/lib/python3.11/site-packages/aeosa/appscript/reference.py:661\u001b[0m, in \u001b[0;36mReference.__call__\u001b[0;34m(self, *args, **kargs)\u001b[0m\n\u001b[1;32m    660\u001b[0m \u001b[38;5;28;01mdef\u001b[39;00m\u001b[38;5;250m \u001b[39m\u001b[38;5;21m__call__\u001b[39m(\u001b[38;5;28mself\u001b[39m, \u001b[38;5;241m*\u001b[39margs, \u001b[38;5;241m*\u001b[39m\u001b[38;5;241m*\u001b[39mkargs):\n\u001b[0;32m--> 661\u001b[0m \t\u001b[38;5;28;01mreturn\u001b[39;00m \u001b[38;5;28;43mself\u001b[39;49m\u001b[38;5;241;43m.\u001b[39;49m\u001b[43mget\u001b[49m\u001b[43m(\u001b[49m\u001b[38;5;241;43m*\u001b[39;49m\u001b[43margs\u001b[49m\u001b[43m,\u001b[49m\u001b[43m \u001b[49m\u001b[38;5;241;43m*\u001b[39;49m\u001b[38;5;241;43m*\u001b[39;49m\u001b[43mkargs\u001b[49m\u001b[43m)\u001b[49m\n",
      "File \u001b[0;32m~/SideProjects/AI-Things-Study/.venv/lib/python3.11/site-packages/aeosa/appscript/reference.py:515\u001b[0m, in \u001b[0;36mCommand.__call__\u001b[0;34m(self, *args, **kargs)\u001b[0m\n\u001b[1;32m    513\u001b[0m \t\t\t\u001b[38;5;28;01mreturn\u001b[39;00m\n\u001b[1;32m    514\u001b[0m \t\t\u001b[38;5;28;01mraise\u001b[39;00m CommandError(\u001b[38;5;28mself\u001b[39m, (args, kargs), e, \u001b[38;5;28mself\u001b[39m\u001b[38;5;241m.\u001b[39mAS_appdata) \u001b[38;5;28;01mfrom\u001b[39;00m\u001b[38;5;250m \u001b[39m\u001b[38;5;21;01me\u001b[39;00m\n\u001b[0;32m--> 515\u001b[0m \u001b[38;5;28;01mraise\u001b[39;00m CommandError(\u001b[38;5;28mself\u001b[39m, (args, kargs), e, \u001b[38;5;28mself\u001b[39m\u001b[38;5;241m.\u001b[39mAS_appdata) \u001b[38;5;28;01mfrom\u001b[39;00m\u001b[38;5;250m \u001b[39m\u001b[38;5;21;01me\u001b[39;00m\n",
      "\u001b[0;31mCommandError\u001b[0m: Command failed:\n\t\tOSERROR: -1743\n\t\tMESSAGE: The user has declined permission.\n\t\tCOMMAND: app('/System/Applications/Reminders.app').lists.get()"
     ]
    }
   ],
   "source": [
    "from appscript import app\n",
    "\n",
    "reminders = app('Reminders')\n",
    "all_lists = reminders.lists()  # Reminders 앱의 모든 리스트 가져오기\n",
    "for reminder_list in all_lists:\n",
    "    print(reminder_list.name.get())"
   ]
  }
 ],
 "metadata": {
  "kernelspec": {
   "display_name": ".venv",
   "language": "python",
   "name": "python3"
  },
  "language_info": {
   "codemirror_mode": {
    "name": "ipython",
    "version": 3
   },
   "file_extension": ".py",
   "mimetype": "text/x-python",
   "name": "python",
   "nbconvert_exporter": "python",
   "pygments_lexer": "ipython3",
   "version": "3.11.6"
  }
 },
 "nbformat": 4,
 "nbformat_minor": 2
}
