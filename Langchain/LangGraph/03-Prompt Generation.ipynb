{
 "cells": [
  {
   "cell_type": "code",
   "execution_count": 13,
   "metadata": {},
   "outputs": [
    {
     "data": {
      "text/plain": [
       "True"
      ]
     },
     "execution_count": 13,
     "metadata": {},
     "output_type": "execute_result"
    }
   ],
   "source": [
    "from dotenv import load_dotenv\n",
    "\n",
    "load_dotenv(override=True)"
   ]
  },
  {
   "cell_type": "markdown",
   "metadata": {},
   "source": [
    "## Gather information\n",
    "\n",
    "먼저 사용자 요구사항을 수집할 그래프의 부분을 정의해보겠습니다.\n",
    "\n",
    "이는 특정 시스템 메시지가 포함된 LLM 호출이 될 것입니다. 프롬프트를 생성할 준비가 되었을 때 호출할 수 있는 도구에 접근할 수 있습니다.\n",
    "\n",
    "1. 사용자로부터 `요구사항` 을 수집하고\n",
    "\n",
    "2. 특별한 시스템 메시지를 포함한 `LLM` 을 호출하며\n",
    "\n",
    "3. 프롬프트 생성이 필요할 때 사용할 수 있는 `도구`를 제공합니다"
   ]
  },
  {
   "cell_type": "code",
   "execution_count": 2,
   "metadata": {},
   "outputs": [],
   "source": [
    "from typing import List\n",
    "\n",
    "from langchain_core.messages import SystemMessage\n",
    "from langchain_openai import ChatOpenAI\n",
    "\n",
    "from pydantic import BaseModel"
   ]
  },
  {
   "cell_type": "code",
   "execution_count": 16,
   "metadata": {},
   "outputs": [],
   "source": [
    "template = \"\"\"Your job is to get information from a user about what type of prompt template they want to create.\n",
    "\n",
    "You should get the following information from them:\n",
    "\n",
    "- What the objective of the prompt is\n",
    "- What variables will be passed into the prompt template\n",
    "- Any constraints for what the output should NOT do\n",
    "- Any requirements that the output MUST adhere to\n",
    "\n",
    "If you are not able to discern this info, ask them to clarify! Do not attempt to wildly guess.\n",
    "\n",
    "After you are able to discern all the information, call the relevant tool.\"\"\"\n",
    "\n",
    "\n",
    "def get_messages_info(messages):\n",
    "    return [SystemMessage(content=template)] + messages\n",
    "\n",
    "\n",
    "class PromptInstructions(BaseModel):\n",
    "    \"\"\"Instructions on how to prompt the LLM.\"\"\"\n",
    "\n",
    "    objective: str\n",
    "    variables: List[str]\n",
    "    constraints: List[str]\n",
    "    requirements: List[str]\n",
    "\n",
    "\n",
    "llm = ChatOpenAI(temperature=0, model=\"gpt-4o\")\n",
    "llm_with_tool = llm.bind_tools([PromptInstructions])\n",
    "\n",
    "\n",
    "def info_chain(state):\n",
    "    messages = get_messages_info(state[\"messages\"])\n",
    "    response = llm_with_tool.invoke(messages)\n",
    "    return {\"messages\": [response]}"
   ]
  },
  {
   "cell_type": "markdown",
   "metadata": {},
   "source": [
    "## Generate Prompt\n",
    "\n",
    "이제 프롬프트를 생성할 상태를 설정하겠습니다. 이를 위해서는 별도의 시스템 메시지가 필요하며, 도구 호출 이전의 모든 메시지를 필터링하는 함수도 필요합니다 (이전 상태에서 프롬프트를 생성할 시점이라고 결정했을 때의 시점입니다).\n",
    "\n",
    "1. 프롬프트 생성을 위한 상태(state) 설정\n",
    "\n",
    "2. 별도의 시스템 메시지 필요성\n",
    "\n",
    "3. 이전 메시지 필터링 함수의 필요성을 설명하고 있습니다.\n"
   ]
  },
  {
   "cell_type": "code",
   "execution_count": 4,
   "metadata": {},
   "outputs": [],
   "source": [
    "from langchain_core.messages import AIMessage, HumanMessage, ToolMessage\n",
    "\n",
    "# New system prompt\n",
    "prompt_system = \"\"\"Based on the following requirements, write a good prompt template:\n",
    "\n",
    "{reqs}\"\"\"\n",
    "\n",
    "\n",
    "# Function to get the messages for the prompt\n",
    "# Will only get messages AFTER the tool call\n",
    "def get_prompt_messages(messages: list):\n",
    "    tool_call = None\n",
    "    other_msgs = []\n",
    "    for m in messages:\n",
    "        if isinstance(m, AIMessage) and m.tool_calls:\n",
    "            tool_call = m.tool_calls[0][\"args\"]\n",
    "        elif isinstance(m, ToolMessage):\n",
    "            continue\n",
    "        elif tool_call is not None:\n",
    "            other_msgs.append(m)\n",
    "    return [SystemMessage(content=prompt_system.format(reqs=tool_call))] + other_msgs\n",
    "\n",
    "\n",
    "def prompt_gen_chain(state):\n",
    "    messages = get_prompt_messages(state[\"messages\"])\n",
    "    response = llm.invoke(messages)\n",
    "    return {\"messages\": [response]}"
   ]
  },
  {
   "cell_type": "markdown",
   "metadata": {},
   "source": [
    "## Define the state logic\n",
    "\n",
    "이것은 챗봇이 어떤 상태에 있는지를 결정하는 로직입니다.\n",
    "\n",
    "마지막 메시지가 도구 호출인 경우, \"프롬프트 생성기\"(prompt)가 응답해야 하는 상태입니다. \n",
    "\n",
    "그렇지 않고 마지막 메시지가 HumanMessage가 아닌 경우, 다음은 사용자가 응답해야 하므로 END 상태입니다. \n",
    "\n",
    "마지막 메시지가 HumanMessage인 경우, 이전에 도구 호출이 있었다면 prompt 상태이고, 그렇지 않다면 \"정보 수집\"(info) 상태입니다."
   ]
  },
  {
   "cell_type": "code",
   "execution_count": 5,
   "metadata": {},
   "outputs": [],
   "source": [
    "from typing import Literal\n",
    "\n",
    "from langgraph.graph import END\n",
    "\n",
    "\n",
    "def get_state(state):\n",
    "    messages = state[\"messages\"]\n",
    "    if isinstance(messages[-1], AIMessage) and messages[-1].tool_calls:\n",
    "        return \"add_tool_message\"\n",
    "    elif not isinstance(messages[-1], HumanMessage):\n",
    "        return END\n",
    "    return \"info\""
   ]
  },
  {
   "cell_type": "markdown",
   "metadata": {},
   "source": [
    "## Create the graph\n",
    "\n",
    "이제 그래프를 생성할 수 있습니다. \n",
    "\n",
    "SqliteSaver를 사용하여 대화 기록을 지속적으로 저장합니다."
   ]
  },
  {
   "cell_type": "code",
   "execution_count": 6,
   "metadata": {},
   "outputs": [],
   "source": [
    "from langgraph.checkpoint.memory import MemorySaver\n",
    "from langgraph.graph import StateGraph, START\n",
    "from langgraph.graph.message import add_messages\n",
    "from typing import Annotated\n",
    "from typing_extensions import TypedDict\n",
    "\n",
    "\n",
    "class State(TypedDict):\n",
    "    messages: Annotated[list, add_messages]\n",
    "\n",
    "\n",
    "memory = MemorySaver()\n",
    "workflow = StateGraph(State)\n",
    "workflow.add_node(\"info\", info_chain)\n",
    "workflow.add_node(\"prompt\", prompt_gen_chain)\n",
    "\n",
    "\n",
    "@workflow.add_node\n",
    "def add_tool_message(state: State):\n",
    "    return {\n",
    "        \"messages\": [\n",
    "            ToolMessage(\n",
    "                content=\"Prompt generated!\",\n",
    "                tool_call_id=state[\"messages\"][-1].tool_calls[0][\"id\"],\n",
    "            )\n",
    "        ]\n",
    "    }\n",
    "\n",
    "\n",
    "workflow.add_conditional_edges(\"info\", get_state, [\"add_tool_message\", \"info\", END])\n",
    "workflow.add_edge(\"add_tool_message\", \"prompt\")\n",
    "workflow.add_edge(\"prompt\", END)\n",
    "workflow.add_edge(START, \"info\")\n",
    "graph = workflow.compile(checkpointer=memory)"
   ]
  },
  {
   "cell_type": "code",
   "execution_count": 7,
   "metadata": {},
   "outputs": [
    {
     "data": {
      "image/png": "[encoded data removed]",
      "text/plain": [
       "<IPython.core.display.Image object>"
      ]
     },
     "metadata": {},
     "output_type": "display_data"
    }
   ],
   "source": [
    "from IPython.display import Image, display\n",
    "\n",
    "display(Image(graph.get_graph().draw_mermaid_png()))"
   ]
  },
  {
   "cell_type": "code",
   "execution_count": 18,
   "metadata": {},
   "outputs": [
    {
     "name": "stdout",
     "output_type": "stream",
     "text": [
      "User (q/Q to quit): 나는 유튜브 스크립트 내용을 가지고 핵심내용 요약 및 인사이트 도출하는 프롬프트를 만들고 싶어\n",
      "==================================\u001b[1m Ai Message \u001b[0m==================================\n",
      "\n",
      "좋습니다! 유튜브 스크립트 내용을 요약하고 인사이트를 도출하는 프롬프트를 만들기 위해 다음 정보를 확인하고 싶습니다:\n",
      "\n",
      "1. **프롬프트의 목표**: 유튜브 스크립트의 핵심 내용을 요약하고 인사이트를 도출하는 것인가요?\n",
      "\n",
      "2. **프롬프트 템플릿에 전달될 변수**: 유튜브 스크립트의 텍스트가 될까요? 다른 변수도 필요한가요?\n",
      "\n",
      "3. **출력에 대한 제약 조건**: 출력이 특정 형식을 따르지 않아야 한다거나, 특정 내용을 포함하지 않아야 하는 등의 제약 조건이 있나요?\n",
      "\n",
      "4. **출력이 반드시 따라야 할 요구 사항**: 요약의 길이, 인사이트의 수, 특정 형식 등 반드시 포함되어야 할 요구 사항이 있나요?\n",
      "\n",
      "이 정보를 바탕으로 프롬프트 템플릿을 설계할 수 있습니다. 추가 정보가 필요하면 말씀해 주세요!\n",
      "User (q/Q to quit): 1. 맞아 2. 유튜브 스크립트의 텍스트 3. 제약 조건 없음 4. 핵심내용이 요약된 overview와 주요 키워드 그리고 핵심 인사이트내용이 불릿포인트로 작성되었으면 좋겠어\n",
      "==================================\u001b[1m Ai Message \u001b[0m==================================\n",
      "Tool Calls:\n",
      "  PromptInstructions (call_YBtOaUx2IT207qUjyJtWHXi0)\n",
      " Call ID: call_YBtOaUx2IT207qUjyJtWHXi0\n",
      "  Args:\n",
      "    objective: 유튜브 스크립트의 핵심 내용을 요약하고 인사이트를 도출\n",
      "    variables: ['유튜브 스크립트의 텍스트']\n",
      "    constraints: []\n",
      "    requirements: ['핵심내용이 요약된 overview 제공', '주요 키워드 제공', '핵심 인사이트 내용이 불릿포인트로 작성']\n",
      "=================================\u001b[1m Tool Message \u001b[0m=================================\n",
      "\n",
      "Prompt generated!\n",
      "==================================\u001b[1m Ai Message \u001b[0m==================================\n",
      "\n",
      "\"다음 유튜브 스크립트의 텍스트를 입력하세요: {유튜브 스크립트의 텍스트}\n",
      "\n",
      "위 텍스트를 기반으로 다음을 수행하세요:\n",
      "1. 스크립트의 핵심 내용을 요약하여 개요를 제공하세요.\n",
      "2. 스크립트에서 도출할 수 있는 주요 키워드를 나열하세요.\n",
      "3. 스크립트의 핵심 인사이트를 불릿포인트 형식으로 작성하세요.\"\n",
      "Done!\n",
      "User (q/Q to quit): q\n",
      "AI: Byebye\n"
     ]
    }
   ],
   "source": [
    "import uuid\n",
    "\n",
    "cached_human_responses = [\"hi!\", \"rag prompt\", \"1 rag, 2 none, 3 no, 4 no\", \"red\", \"q\"]\n",
    "cached_response_index = 0\n",
    "config = {\"configurable\": {\"thread_id\": str(uuid.uuid4())}}\n",
    "while True:\n",
    "    try:\n",
    "        user = input(\"User (q/Q to quit): \")\n",
    "    except:\n",
    "        user = cached_human_responses[cached_response_index]\n",
    "        cached_response_index += 1\n",
    "    print(f\"User (q/Q to quit): {user}\")\n",
    "    if user in {\"q\", \"Q\"}:\n",
    "        print(\"AI: Byebye\")\n",
    "        break\n",
    "    output = None\n",
    "    for output in graph.stream(\n",
    "        {\"messages\": [HumanMessage(content=user)]}, config=config, stream_mode=\"updates\"\n",
    "    ):\n",
    "        last_message = next(iter(output.values()))[\"messages\"][-1]\n",
    "        last_message.pretty_print()\n",
    "\n",
    "    if output and \"prompt\" in output:\n",
    "        print(\"Done!\")"
   ]
  }
 ],
 "metadata": {
  "kernelspec": {
   "display_name": ".venv",
   "language": "python",
   "name": "python3"
  },
  "language_info": {
   "codemirror_mode": {
    "name": "ipython",
    "version": 3
   },
   "file_extension": ".py",
   "mimetype": "text/x-python",
   "name": "python",
   "nbconvert_exporter": "python",
   "pygments_lexer": "ipython3",
   "version": "3.11.6"
  }
 },
 "nbformat": 4,
 "nbformat_minor": 2
}
