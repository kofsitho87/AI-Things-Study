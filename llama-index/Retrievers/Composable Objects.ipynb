{
 "cells": [
  {
   "cell_type": "markdown",
   "metadata": {},
   "source": [
    "# Composable Objects\n",
    "\n",
    "이 노트북에서는 여러 개체를 단일 최상위 인덱스로 결합하는 방법을 보여줍니다. \n",
    "\n",
    "이 접근 방식은 다음을 가리키는 obj 필드를 사용하여 IndexNode 객체를 설정함으로써 작동합니다.\n",
    "\n",
    "\n",
    "- query engine\n",
    "- retriever\n",
    "- query pipeline\n",
    "- another node!\n",
    "\n",
    "\n",
    "```python\n",
    "object = IndexNode(index_id=\"my_object\", obj=query_engine, text=\"some text about this object\")\n",
    "```"
   ]
  },
  {
   "cell_type": "markdown",
   "metadata": {},
   "source": [
    "## Setup Langfuse"
   ]
  },
  {
   "cell_type": "code",
   "execution_count": 1,
   "metadata": {},
   "outputs": [],
   "source": [
    "from llama_index.core import Settings\n",
    "from llama_index.core.callbacks import CallbackManager\n",
    "from langfuse.llama_index import LlamaIndexCallbackHandler\n",
    "\n",
    "langfuse_callback_handler = LlamaIndexCallbackHandler(\n",
    "    public_key=\"pk-lf-29339a8f-8a05-4d10-9a0a-a4718f79a53d\",\n",
    "    secret_key=\"sk-lf-d1f94511-893b-456e-973e-f57b44d50a30\",\n",
    "    host=\"https://cloud.langfuse.com\"\n",
    ")\n",
    "Settings.callback_manager = CallbackManager([langfuse_callback_handler])"
   ]
  },
  {
   "cell_type": "markdown",
   "metadata": {},
   "source": [
    "## Data Setup"
   ]
  },
  {
   "cell_type": "code",
   "execution_count": 19,
   "metadata": {},
   "outputs": [],
   "source": [
    "\"\"\"Load from python file\"\"\"\n",
    "\n",
    "import sys\n",
    "\n",
    "# 절대 경로를 sys.path에 추가\n",
    "sys.path.append('/Users/heewungsong/Experiment/Visa_Rag/study/llama-index/assets/visa_docs/')\n",
    "\n",
    "# 모듈 임포트\n",
    "from LlamaIndexVisaDocument import LlamaIndexE9VisaDocuments\n",
    "\n",
    "docs = LlamaIndexE9VisaDocuments"
   ]
  },
  {
   "cell_type": "code",
   "execution_count": 14,
   "metadata": {},
   "outputs": [],
   "source": [
    "\"\"\"Load from pdf file\"\"\"\n",
    "\n",
    "from llama_index.core import SimpleDirectoryReader\n",
    "from llama_index.readers.file import PyMuPDFReader\n",
    "\n",
    "visa_pdf_file_path = \"../assets/visa_docs/E-9 Visa Guide_한국어.pdf\"\n",
    "visa_docs = PyMuPDFReader().load_data(file_path=visa_pdf_file_path, metadata=True)\n",
    "\n",
    "faq_pdf_file_path = \"../assets/visa_docs/E-9 FAQ_한국어.pdf\"\n",
    "faq_docs = PyMuPDFReader().load_data(file_path=faq_pdf_file_path, metadata=True)"
   ]
  },
  {
   "cell_type": "code",
   "execution_count": 4,
   "metadata": {},
   "outputs": [
    {
     "name": "stdout",
     "output_type": "stream",
     "text": [
      "Count of sentence_nodes: 26\n",
      "Count of base_nodes: 24\n"
     ]
    }
   ],
   "source": [
    "# from llama_index.core.node_parser import TokenTextSplitter, SentenceSplitter, SentenceWindowNodeParser\n",
    "\n",
    "# text_splitter = SentenceSplitter()\n",
    "\n",
    "# node_parser = SentenceWindowNodeParser.from_defaults(\n",
    "#     window_size=3,\n",
    "#     window_metadata_key=\"window\",\n",
    "#     original_text_metadata_key=\"original_text\",\n",
    "# )\n",
    "\n",
    "# visa_guide_sentence_nodes = node_parser.get_nodes_from_documents(docs)\n",
    "# visa_guide_nodes = text_splitter.get_nodes_from_documents(docs)\n",
    "\n",
    "# print(f\"Count of sentence_nodes: {len(visa_guide_sentence_nodes)}\")\n",
    "# print(f\"Count of base_nodes: {len(visa_guide_nodes)}\")"
   ]
  },
  {
   "cell_type": "code",
   "execution_count": 5,
   "metadata": {},
   "outputs": [],
   "source": [
    "# from llama_index.core import VectorStoreIndex\n",
    "# from llama_index.core.postprocessor import MetadataReplacementPostProcessor\n",
    "\n",
    "# sentence_index = VectorStoreIndex(visa_guide_sentence_nodes)\n",
    "\n",
    "# query_engine = sentence_index.as_query_engine(\n",
    "#     similarity_top_k=2,\n",
    "#     # the target key defaults to `window` to match the node_parser's default\n",
    "#     node_postprocessors=[\n",
    "#         MetadataReplacementPostProcessor(target_metadata_key=\"window\")\n",
    "#     ],\n",
    "# )\n"
   ]
  },
  {
   "cell_type": "code",
   "execution_count": null,
   "metadata": {},
   "outputs": [],
   "source": [
    "# window_response = query_engine.query(\n",
    "#     \"비전문취업 비자의 일반적인 허용 업종 범위는 어디까지인가요?\"\n",
    "# )\n",
    "# print(window_response)"
   ]
  },
  {
   "cell_type": "markdown",
   "metadata": {},
   "source": [
    "## Retriever Setup"
   ]
  },
  {
   "cell_type": "code",
   "execution_count": 25,
   "metadata": {},
   "outputs": [],
   "source": [
    "\n",
    "from llama_index.core.node_parser import TokenTextSplitter\n",
    "\n",
    "nodes = TokenTextSplitter(\n",
    "    chunk_size=1024, chunk_overlap=128\n",
    ").get_nodes_from_documents(visa_docs + faq_docs)"
   ]
  },
  {
   "cell_type": "code",
   "execution_count": 26,
   "metadata": {},
   "outputs": [
    {
     "data": {
      "text/plain": [
       "72"
      ]
     },
     "execution_count": 26,
     "metadata": {},
     "output_type": "execute_result"
    }
   ],
   "source": [
    "len(nodes)"
   ]
  },
  {
   "cell_type": "code",
   "execution_count": 27,
   "metadata": {},
   "outputs": [],
   "source": [
    "from llama_index.core.storage.docstore import SimpleDocumentStore\n",
    "\n",
    "docstore = SimpleDocumentStore()\n",
    "docstore.add_documents(nodes)"
   ]
  },
  {
   "cell_type": "code",
   "execution_count": 28,
   "metadata": {},
   "outputs": [],
   "source": [
    "from llama_index.core import VectorStoreIndex\n",
    "from llama_index.retrievers.bm25 import BM25Retriever\n",
    "\n",
    "index = VectorStoreIndex(nodes=nodes)\n",
    "vector_retriever = index.as_retriever(similarity_top_k=2)\n",
    "bm25_retriever = BM25Retriever.from_defaults(\n",
    "    docstore=docstore, similarity_top_k=2\n",
    ")"
   ]
  },
  {
   "cell_type": "code",
   "execution_count": 29,
   "metadata": {},
   "outputs": [],
   "source": [
    "from llama_index.core.schema import IndexNode\n",
    "\n",
    "vector_obj = IndexNode(\n",
    "    index_id=\"vector\", obj=vector_retriever, text=\"Vector Retriever\"\n",
    ")\n",
    "bm25_obj = IndexNode(\n",
    "    index_id=\"bm25\", obj=bm25_retriever, text=\"BM25 Retriever\"\n",
    ")"
   ]
  },
  {
   "cell_type": "code",
   "execution_count": 30,
   "metadata": {},
   "outputs": [],
   "source": [
    "from llama_index.core import SummaryIndex\n",
    "\n",
    "summary_index = SummaryIndex(objects=[vector_obj, bm25_obj])"
   ]
  },
  {
   "cell_type": "code",
   "execution_count": 31,
   "metadata": {},
   "outputs": [],
   "source": [
    "query_engine = summary_index.as_query_engine(\n",
    "    response_mode=\"tree_summarize\", verbose=True\n",
    ")"
   ]
  },
  {
   "cell_type": "code",
   "execution_count": 32,
   "metadata": {},
   "outputs": [
    {
     "name": "stdout",
     "output_type": "stream",
     "text": [
      "\u001b[1;3;38;2;11;159;203mRetrieval entering vector: VectorIndexRetriever\n",
      "\u001b[0m"
     ]
    },
    {
     "name": "stderr",
     "output_type": "stream",
     "text": [
      "WARNING:llama_index.retrievers.bm25.base:BM25Retriever does not support embeddings, skipping...\n"
     ]
    },
    {
     "name": "stdout",
     "output_type": "stream",
     "text": [
      "\u001b[1;3;38;2;11;159;203mRetrieval entering bm25: BM25Retriever\n",
      "\u001b[0m"
     ]
    }
   ],
   "source": [
    "response = await query_engine.aquery(\n",
    "    \"비전문취업 비자(E-9)로 취업 가능한 업종과 해당 업종코드는 무엇인가요?\"\n",
    ")\n",
    "print(str(response))"
   ]
  },
  {
   "cell_type": "code",
   "execution_count": 34,
   "metadata": {},
   "outputs": [
    {
     "name": "stdout",
     "output_type": "stream",
     "text": [
      "\u001b[1;3;38;2;11;159;203mRetrieval entering vector: VectorIndexRetriever\n",
      "\u001b[0m"
     ]
    },
    {
     "name": "stderr",
     "output_type": "stream",
     "text": [
      "WARNING:llama_index.retrievers.bm25.base:BM25Retriever does not support embeddings, skipping...\n"
     ]
    },
    {
     "name": "stdout",
     "output_type": "stream",
     "text": [
      "\u001b[1;3;38;2;11;159;203mRetrieval entering bm25: BM25Retriever\n",
      "\u001b[0mE9 비자를 받아 한국에서 취업하려면 제조업, 건설업, 농축산업, 어업 등 허용된 업종에서 일할 수 있습니다. 구체적인 취업 속도에 대한 정보는 제공되지 않았습니다.\n"
     ]
    }
   ],
   "source": [
    "response = await query_engine.aquery(\"E9은 농업이나 건설업 중에 어느쪽이 취업이 더 빨라요?\")\n",
    "print(str(response))"
   ]
  },
  {
   "cell_type": "code",
   "execution_count": 35,
   "metadata": {},
   "outputs": [
    {
     "name": "stdout",
     "output_type": "stream",
     "text": [
      "\u001b[1;3;38;2;11;159;203mRetrieval entering vector: VectorIndexRetriever\n",
      "\u001b[0m"
     ]
    },
    {
     "name": "stderr",
     "output_type": "stream",
     "text": [
      "WARNING:llama_index.retrievers.bm25.base:BM25Retriever does not support embeddings, skipping...\n"
     ]
    },
    {
     "name": "stdout",
     "output_type": "stream",
     "text": [
      "\u001b[1;3;38;2;11;159;203mRetrieval entering bm25: BM25Retriever\n",
      "\u001b[0mYes, it is possible to work in Korea with just a middle school graduation certificate. The E-9 visa for non-professional employment does not specifically require a certain level of education. Foreign workers who meet the employment requirements under the law can be eligible for this visa. However, to obtain the E-9 visa, one must receive a work permit and submit documents such as a criminal record certificate and a health check certificate. Additionally, finding a suitable employer in accordance with the employment permit system and ensuring that the employer meets the conditions for hiring foreign workers are necessary steps.\n"
     ]
    }
   ],
   "source": [
    "response = await query_engine.aquery(\"중학교 졸업증만 있는데 한국에서 일할 수 있어요?\")\n",
    "print(str(response))"
   ]
  },
  {
   "cell_type": "code",
   "execution_count": 38,
   "metadata": {},
   "outputs": [
    {
     "name": "stdout",
     "output_type": "stream",
     "text": [
      "\u001b[1;3;38;2;11;159;203mRetrieval entering vector: VectorIndexRetriever\n",
      "\u001b[0m"
     ]
    },
    {
     "name": "stderr",
     "output_type": "stream",
     "text": [
      "WARNING:llama_index.retrievers.bm25.base:BM25Retriever does not support embeddings, skipping...\n"
     ]
    },
    {
     "name": "stdout",
     "output_type": "stream",
     "text": [
      "\u001b[1;3;38;2;11;159;203mRetrieval entering bm25: BM25Retriever\n",
      "\u001b[0m성별이 여성이라는 이유만으로 한국에서 E-9 비자 발급이 어렵다고 할 수는 없습니다. E-9 비자의 발급은 주로 해당 업종에 대한 수요, 고용주의 요건 충족, 그리고 외국인 근로자의 법적 요건 충족 등에 초점을 맞추고 있습니다. 특정 업종이나 직무에 따라 신체적 조건이나 성별에 대한 요구사항이 있을 수 있으며, 이는 고용주가 결정하는 사항입니다. 따라서, 여성이 한국에서 E-9 비자를 받는 것이 어려운지는 해당 업종이나 직무의 요구사항에 따라 다를 수 있습니다.\n"
     ]
    }
   ],
   "source": [
    "response = await query_engine.aquery(\"한국비자에 대해 알아보고 있는데 여자이면 가기 어려운가요?\")\n",
    "print(str(response))"
   ]
  },
  {
   "cell_type": "code",
   "execution_count": 39,
   "metadata": {},
   "outputs": [
    {
     "name": "stdout",
     "output_type": "stream",
     "text": [
      "---------------- Source: 19 ----------------\n",
      "Node ID: 9ba2f5fe-2422-4741-8494-0a2efeff8039\n",
      "Text: 06년생여자예요. 공부마치고한국에서일하려고해요. 그런데 몸이작고153cm, 37킬로라서한국에서E9비자로근무\n",
      "가능할까요? 여자이면어렵다고해서걱정돼요 E-9 비자는한국에서비전문취업을위한체류자격을부여하는비자입니다. 비자발급과\n",
      "관련하여신체적조건(키와몸무게)이직접적인제한요소로명시되어있지는않습니다. E-9 비자의발급요건은주로해당업종에대한수요,\n",
      "고용주의요건충족, 그리고외국인 근로자의법적요건충족등에초점을맞추고있습니다. 성별이여성이라는이유만으로E-9\n",
      "비자발급이어렵다고할수는없습니다. 다만, 특정 업종이나직무에따라신체적조건이나성별에대한요구사항이있을수있으며, 이는\n",
      "고용주가결정하는사항입니다. 예를들어, 무거운물건을자주들어야하는직무나 특정...\n",
      "Score:  0.838\n",
      "\n",
      "--------------------------------\n",
      "\n",
      "\n",
      "---------------- Source: 37 ----------------\n",
      "Node ID: 439ad00d-9e27-43b1-9ca6-12de5eb68325\n",
      "Text: 여자친구가필리핀사람인데E9 비자로4년10개월한국에있다가 코로나로1년연장할수있다고해서했거든요. 총5년10개월...\n",
      "이제 슬슬비자가만기가되서필리핀가서시험쳐서또올수있다고 하더라구요. 4년10개월인가 비자 더 받을수있다고 하던데..\n",
      "한국비자최대10년으로알고있어요. 근데이렇게코로나로 연장했는경우도5년받을수있나요? 아니면1년빼고4년만 비자대나요?\n",
      "시험칠때자격같은건이상없을까요? ● 비전문취업(E-9) 비자를가진외국인근로자의경우, 기본적으로체류기간은\n",
      "입국일로부터최대3년입니다. 그후, 고용주가재고용을신청하면최대1년 10개월의체류기간연장이가능합니다. 따라서,\n",
      "일반적인상황에서는최대4년 10개월까지한국에서근무할수있습니다. ● 코로나19...\n",
      "Score:  0.830\n",
      "\n",
      "--------------------------------\n",
      "\n",
      "\n",
      "---------------- Source: 1 ----------------\n",
      "Node ID: ffece08f-cb72-44c4-be94-b9a1df2e7d36\n",
      "Text: E-9 Visa Guide - 한국어 고용허가제 고용허가제해당자와활동범위 고용허가제해당자의사증발급후1회체류기간의상한\n",
      "고용허가제해당자의사증발급허용업종및체류자격약호(기호): E-9 근로자를채용할수있는 업종과범위\n",
      "고용허가제해당자는사증발급인정서를받아야만E-9 사증을발급받을수있음\n",
      "고용허가제해당자는2012.8.1부터범죄경력증명서및건강상태확인서제출 고용허가제비전문취업(E-9) 자격사증발급인정서발급절차\n",
      "고용허가제해당자의재입국특례제도(구성실근로자제도) 재입국특례자에대한사증신청및발급방법 고용허가제해당자의재입국특례자에대한우대내용\n",
      "고용허가제해당자의근무처(직장)의변경 고용허가제해당자가근무처(직장)를변경할수있는조건 고용허가제해당자가근무처(...\n",
      "Score:  0.000\n",
      "\n",
      "--------------------------------\n",
      "\n",
      "\n"
     ]
    }
   ],
   "source": [
    "for idx, node in enumerate(response.source_nodes):\n",
    "    print(f\"---------------- Source: {node.metadata['source']} ----------------\")\n",
    "    print(node)\n",
    "    print(\"--------------------------------\\n\\n\")\n",
    "    # print(node.score)"
   ]
  },
  {
   "cell_type": "markdown",
   "metadata": {},
   "source": [
    "## Save Store"
   ]
  },
  {
   "cell_type": "code",
   "execution_count": 37,
   "metadata": {},
   "outputs": [],
   "source": [
    "# save our docstore nodes for bm25\n",
    "\n",
    "save_json_path = \"./stores/composabel_visa_docs+faq_docs.json\"\n",
    "docstore.persist(save_json_path)"
   ]
  },
  {
   "cell_type": "markdown",
   "metadata": {},
   "source": [
    "## Load"
   ]
  },
  {
   "cell_type": "code",
   "execution_count": null,
   "metadata": {},
   "outputs": [],
   "source": [
    "\n",
    "from llama_index.core.storage.docstore import SimpleDocumentStore\n",
    "\n",
    "docstore = SimpleDocumentStore.from_persist_path(save_json_path)\n",
    "\n",
    "\n",
    "index = VectorStoreIndex.from_vector_store(vector_store)\n",
    "vector_retriever = index.as_retriever(similarity_top_k=2)\n",
    "\n",
    "bm25_retriever = BM25Retriever.from_defaults(\n",
    "    docstore=docstore, similarity_top_k=2\n",
    ")"
   ]
  }
 ],
 "metadata": {
  "kernelspec": {
   "display_name": "visa_chatbot1",
   "language": "python",
   "name": "python3"
  },
  "language_info": {
   "codemirror_mode": {
    "name": "ipython",
    "version": 3
   },
   "file_extension": ".py",
   "mimetype": "text/x-python",
   "name": "python",
   "nbconvert_exporter": "python",
   "pygments_lexer": "ipython3",
   "version": "3.11.8"
  }
 },
 "nbformat": 4,
 "nbformat_minor": 2
}
