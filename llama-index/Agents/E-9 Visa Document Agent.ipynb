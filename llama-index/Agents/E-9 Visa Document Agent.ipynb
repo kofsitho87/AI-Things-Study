{
 "cells": [
  {
   "cell_type": "code",
   "execution_count": 1,
   "metadata": {},
   "outputs": [],
   "source": [
    "!export TOKENIZERS_PARALLELISM=false"
   ]
  },
  {
   "cell_type": "code",
   "execution_count": 2,
   "metadata": {},
   "outputs": [
    {
     "data": {
      "text/plain": [
       "True"
      ]
     },
     "execution_count": 2,
     "metadata": {},
     "output_type": "execute_result"
    }
   ],
   "source": [
    "from dotenv import load_dotenv\n",
    "load_dotenv()"
   ]
  },
  {
   "cell_type": "code",
   "execution_count": 3,
   "metadata": {},
   "outputs": [],
   "source": [
    "from llama_index.llms.openai import OpenAI\n",
    "from llama_index.core import Settings\n",
    "\n",
    "from llama_index.embeddings.huggingface import HuggingFaceEmbedding\n",
    "\n",
    "embed_model = HuggingFaceEmbedding(\n",
    "    model_name=\"jhgan/ko-sbert-nli\",\n",
    "    normalize=True,\n",
    ")\n",
    "\n",
    "Settings.llm = OpenAI(temperature=0, model=\"gpt-4\")\n",
    "Settings.embed_model = embed_model"
   ]
  },
  {
   "cell_type": "code",
   "execution_count": 5,
   "metadata": {},
   "outputs": [],
   "source": [
    "from llama_index.readers.file import PyMuPDFReader\n",
    "\n",
    "visa_pdf_file_path = \"../../../Documents/E-9 Visa Guide_한국어.pdf\"\n",
    "visa_docs = PyMuPDFReader().load_data(file_path=visa_pdf_file_path, metadata=True)"
   ]
  },
  {
   "cell_type": "code",
   "execution_count": 9,
   "metadata": {},
   "outputs": [
    {
     "name": "stdout",
     "output_type": "stream",
     "text": [
      "{'page_label': '1', 'file_name': 'E-9 Visa Guide_한국어2.pdf', 'file_path': 'data/visa_docs/E-9 Visa Guide_한국어2.pdf', 'file_type': 'application/pdf', 'file_size': 123849, 'creation_date': '2024-03-22', 'last_modified_date': '2024-03-22', 'document_title': 'E-9 Visa Guide: 목차', 'questions_this_excerpt_can_answer': '1. E-9 비자 가이드에 따르면, 고용허가제 해당자가 사증을 발급받기 위해 필요한 절차는 무엇인가요?\\n2. 고용허가제 해당자가 근무처를 변경할 수 있는 조건과 그 절차는 어떻게 되나요?', 'section_summary': '이 문서는 E-9 비자 가이드에 대한 내용을 담고 있습니다. 고용허가제 해당자의 사증 발급 절차, 허용 업종 및 체류 자격, 사증 발급 인정서 발급 절차 등에 대해 설명하고 있습니다. 또한, 고용허가제 해당자가 근무처를 변경할 수 있는 조건과 그 절차, 필요한 제출 서류 등에 대한 정보도 포함하고 있습니다. 이 외에도 고용허가제 해당자의 체류자격 변경 허가, 체류 기간 연장 허가, 재입국 허가, 외국인 등록, 고용 변동 신고 등에 대한 내용도 다루고 있습니다.', 'excerpt_keywords': 'E-9 비자, 고용허가제, 사증 발급, 근무처 변경, 체류자격 변경'}\n"
     ]
    }
   ],
   "source": [
    "import json\n",
    "\n",
    "metadata_json_path = \"../../../Documents/E-9_Visa_Guide_한국어_metadata.json\"\n",
    "with open(metadata_json_path, \"r\") as fp:\n",
    "    metadata_json = json.load(fp)\n",
    "\n",
    "print(metadata_json[0])"
   ]
  },
  {
   "cell_type": "code",
   "execution_count": 12,
   "metadata": {},
   "outputs": [
    {
     "data": {
      "text/plain": [
       "{'a': 'a', 'c': 'cb', 'b': 'b'}"
      ]
     },
     "execution_count": 12,
     "metadata": {},
     "output_type": "execute_result"
    }
   ],
   "source": [
    "dict1 = {\"a\": \"a\", \"c\": 'ca'}\n",
    "dict2 = {\"b\": \"b\", \"c\": 'cb'}\n",
    "dict3 = {**dict1, **dict2}\n",
    "\n",
    "dict3"
   ]
  },
  {
   "cell_type": "code",
   "execution_count": 14,
   "metadata": {},
   "outputs": [],
   "source": [
    "from llama_index.core.schema import TextNode\n",
    "\n",
    "nodes = [TextNode(text=doc.text, metadata={**metadata_json[idx], **doc.metadata}) for idx, doc in enumerate(visa_docs)]"
   ]
  },
  {
   "cell_type": "code",
   "execution_count": 19,
   "metadata": {},
   "outputs": [
    {
     "data": {
      "text/plain": [
       "{'page_label': '1',\n",
       " 'file_name': 'E-9 Visa Guide_한국어2.pdf',\n",
       " 'file_path': '../../../Documents/E-9 Visa Guide_한국어.pdf',\n",
       " 'file_type': 'application/pdf',\n",
       " 'file_size': 123849,\n",
       " 'creation_date': '2024-03-22',\n",
       " 'last_modified_date': '2024-03-22',\n",
       " 'document_title': 'E-9 Visa Guide: 목차',\n",
       " 'questions_this_excerpt_can_answer': '1. E-9 비자 가이드에 따르면, 고용허가제 해당자가 사증을 발급받기 위해 필요한 절차는 무엇인가요?\\n2. 고용허가제 해당자가 근무처를 변경할 수 있는 조건과 그 절차는 어떻게 되나요?',\n",
       " 'section_summary': '이 문서는 E-9 비자 가이드에 대한 내용을 담고 있습니다. 고용허가제 해당자의 사증 발급 절차, 허용 업종 및 체류 자격, 사증 발급 인정서 발급 절차 등에 대해 설명하고 있습니다. 또한, 고용허가제 해당자가 근무처를 변경할 수 있는 조건과 그 절차, 필요한 제출 서류 등에 대한 정보도 포함하고 있습니다. 이 외에도 고용허가제 해당자의 체류자격 변경 허가, 체류 기간 연장 허가, 재입국 허가, 외국인 등록, 고용 변동 신고 등에 대한 내용도 다루고 있습니다.',\n",
       " 'excerpt_keywords': 'E-9 비자, 고용허가제, 사증 발급, 근무처 변경, 체류자격 변경',\n",
       " 'total_pages': 21,\n",
       " 'source': '1'}"
      ]
     },
     "execution_count": 19,
     "metadata": {},
     "output_type": "execute_result"
    }
   ],
   "source": [
    "nodes[0].metadata"
   ]
  },
  {
   "cell_type": "code",
   "execution_count": 20,
   "metadata": {},
   "outputs": [
    {
     "name": "stdout",
     "output_type": "stream",
     "text": [
      "21\n"
     ]
    }
   ],
   "source": [
    "# nodes[5]\n",
    "\n",
    "print(len(nodes))"
   ]
  },
  {
   "cell_type": "code",
   "execution_count": null,
   "metadata": {},
   "outputs": [],
   "source": [
    "for node in nodes:\n",
    "    page = node.metadata['source']\n",
    "    print(f\"Page: {page}\\nContent:\\n{node.get_content()}\\n\\n----------------------------------------------------------------\\n\\n\")"
   ]
  },
  {
   "cell_type": "code",
   "execution_count": 7,
   "metadata": {},
   "outputs": [],
   "source": [
    "from llama_index.agent.openai import OpenAIAgent\n",
    "from llama_index.core import (\n",
    "    load_index_from_storage,\n",
    "    StorageContext,\n",
    "    VectorStoreIndex,\n",
    ")\n",
    "from llama_index.core import SummaryIndex\n",
    "from llama_index.core.tools import QueryEngineTool, ToolMetadata\n",
    "from llama_index.core.node_parser import SentenceSplitter\n",
    "import os\n",
    "from tqdm.notebook import tqdm\n",
    "import pickle\n",
    "from pathlib import Path\n",
    "\n",
    "llm = OpenAI(model=\"gpt-4\")\n",
    "\n",
    "async def build_agent_per_page(nodes, file_base):\n",
    "    print(file_base)\n",
    "\n",
    "    vi_out_path = f\"./data/E9_VISA/{file_base}\"\n",
    "    summary_out_path = f\"./data/E9_VISA/{file_base}_summary.pkl\"\n",
    "    if not os.path.exists(vi_out_path):\n",
    "        Path(\"./data/E9_VISA/\").mkdir(parents=True, exist_ok=True)\n",
    "        # build vector index\n",
    "        vector_index = VectorStoreIndex(nodes)\n",
    "        vector_index.storage_context.persist(persist_dir=vi_out_path)\n",
    "    else:\n",
    "        vector_index = load_index_from_storage(\n",
    "            StorageContext.from_defaults(persist_dir=vi_out_path),\n",
    "        )\n",
    "\n",
    "    # build summary index\n",
    "    summary_index = SummaryIndex(nodes)\n",
    "\n",
    "    # define query engines\n",
    "    vector_query_engine = vector_index.as_query_engine(llm=llm)\n",
    "    summary_query_engine = summary_index.as_query_engine(\n",
    "        response_mode=\"tree_summarize\", llm=llm\n",
    "    )\n",
    "\n",
    "    # extract a summary\n",
    "    if not os.path.exists(summary_out_path):\n",
    "        Path(summary_out_path).parent.mkdir(parents=True, exist_ok=True)\n",
    "        summary = str(\n",
    "            await summary_query_engine.aquery(\n",
    "                \"Extract a concise 1-2 line summary of this document\"\n",
    "            )\n",
    "        )\n",
    "        pickle.dump(summary, open(summary_out_path, \"wb\"))\n",
    "    else:\n",
    "        summary = pickle.load(open(summary_out_path, \"rb\"))\n",
    "\n",
    "    # define tools\n",
    "    query_engine_tools = [\n",
    "        QueryEngineTool(\n",
    "            query_engine=vector_query_engine,\n",
    "            metadata=ToolMetadata(\n",
    "                name=f\"vector_tool_{file_base}\",\n",
    "                description=f\"Useful for questions related to specific facts\",\n",
    "            ),\n",
    "        ),\n",
    "        QueryEngineTool(\n",
    "            query_engine=summary_query_engine,\n",
    "            metadata=ToolMetadata(\n",
    "                name=f\"summary_tool_{file_base}\",\n",
    "                description=f\"Useful for summarization questions\",\n",
    "            ),\n",
    "        ),\n",
    "    ]\n",
    "\n",
    "    # build agent\n",
    "    function_llm = OpenAI(model=\"gpt-4\")\n",
    "    agent = OpenAIAgent.from_tools(\n",
    "        query_engine_tools,\n",
    "        llm=function_llm,\n",
    "        verbose=True,\n",
    "        system_prompt=f\"\"\"\\\n",
    "You are a specialized agent designed to answer queries about the `{page_title}` part of E-9 Visa Guide_한국어 Document.\n",
    "You must ALWAYS use at least one of the tools provided when answering a question; do NOT rely on prior knowledge.\\\n",
    "\"\"\",\n",
    "    )\n",
    "\n",
    "    return agent"
   ]
  },
  {
   "cell_type": "code",
   "execution_count": null,
   "metadata": {},
   "outputs": [],
   "source": [
    "\"\"\"\n",
    "agents_dict:\n",
    "{\n",
    "    [page_title]: Agent\n",
    "}\n",
    "\n",
    "extra_info_dict: \n",
    "{\n",
    "    [page_title]: {\"summary\": summary, \"nodes\": nodes}\n",
    "}\n",
    "\"\"\"\n",
    "\n",
    "\n",
    "agents_dict = {}\n",
    "extra_info_dict = {}\n",
    "\n",
    "\n",
    "for idx, node in enumerate(nodes):\n",
    "    metadata = metadata_json[idx]\n",
    "\n",
    "    page_label = metadata[\"page_label\"]\n",
    "    page_title = metadata[\"document_title\"]\n",
    "    section_summary = metadata[\"section_summary\"]\n",
    "\n",
    "    key = f\"E9_Visa_Guide_{page_label}\"\n",
    "\n",
    "    extra_info_dict[key] = {\"title\": page_title, \"summary\": section_summary, \"nodes\": [node]}\n",
    "\n",
    "    agent = await build_agent_per_page(nodes=[node], file_base=key, page_title=page_title)\n",
    "    agents_dict[key] = agent"
   ]
  },
  {
   "cell_type": "code",
   "execution_count": 24,
   "metadata": {},
   "outputs": [],
   "source": [
    "from llama_index.core.tools import QueryEngineTool, ToolMetadata\n",
    "\n",
    "# define tool for each document agent\n",
    "all_tools = []\n",
    "for key, agent in agents_dict.items():\n",
    "    summary = extra_info_dict[key][\"summary\"]\n",
    "    doc_tool = QueryEngineTool(\n",
    "        query_engine=agent,\n",
    "        metadata=ToolMetadata(\n",
    "            name=f\"tool_{key}\",\n",
    "            description=summary,\n",
    "        ),\n",
    "    )\n",
    "    all_tools.append(doc_tool)"
   ]
  },
  {
   "cell_type": "code",
   "execution_count": null,
   "metadata": {},
   "outputs": [],
   "source": [
    "print(all_tools[10].metadata)\n",
    "print(extra_info_dict[\"E9_Visa_Guide:11\"])"
   ]
  },
  {
   "cell_type": "code",
   "execution_count": 25,
   "metadata": {},
   "outputs": [],
   "source": [
    "# define an \"object\" index and retriever over these tools\n",
    "from llama_index.core import VectorStoreIndex\n",
    "from llama_index.core.objects import (\n",
    "    ObjectIndex,\n",
    "    SimpleToolNodeMapping,\n",
    "    ObjectRetriever,\n",
    ")\n",
    "from llama_index.core.retrievers import BaseRetriever\n",
    "from llama_index.postprocessor.cohere_rerank import CohereRerank\n",
    "from llama_index.core.query_engine import SubQuestionQueryEngine\n",
    "from llama_index.llms.openai import OpenAI\n",
    "\n",
    "llm = OpenAI(model=\"gpt-4-0613\")\n",
    "\n",
    "tool_mapping = SimpleToolNodeMapping.from_objects(all_tools)\n",
    "obj_index = ObjectIndex.from_objects(\n",
    "    all_tools,\n",
    "    tool_mapping,\n",
    "    VectorStoreIndex,\n",
    ")\n",
    "vector_node_retriever = obj_index.as_node_retriever(similarity_top_k=10)\n",
    "\n",
    "\n",
    "# define a custom retriever with reranking\n",
    "class CustomRetriever(BaseRetriever):\n",
    "    def __init__(self, vector_retriever, postprocessor=None):\n",
    "        self._vector_retriever = vector_retriever\n",
    "        self._postprocessor = postprocessor or CohereRerank(top_n=5)\n",
    "        # self._postprocessor = postprocessor\n",
    "        super().__init__()\n",
    "\n",
    "    def _retrieve(self, query_bundle):\n",
    "        retrieved_nodes = self._vector_retriever.retrieve(query_bundle)\n",
    "        filtered_nodes = self._postprocessor.postprocess_nodes(\n",
    "            retrieved_nodes, query_bundle=query_bundle\n",
    "        )\n",
    "\n",
    "        return filtered_nodes\n",
    "\n",
    "\n",
    "# define a custom object retriever that adds in a query planning tool\n",
    "class CustomObjectRetriever(ObjectRetriever):\n",
    "    def __init__(self, retriever, object_node_mapping, all_tools, llm=None):\n",
    "        self._retriever = retriever\n",
    "        self._object_node_mapping = object_node_mapping\n",
    "        self._llm = llm or OpenAI(\"gpt-4-0613\")\n",
    "\n",
    "    def retrieve(self, query_bundle):\n",
    "        nodes = self._retriever.retrieve(query_bundle)\n",
    "        tools = [self._object_node_mapping.from_node(n.node) for n in nodes]\n",
    "\n",
    "        sub_question_engine = SubQuestionQueryEngine.from_defaults(\n",
    "            query_engine_tools=tools, llm=self._llm\n",
    "        )\n",
    "        sub_question_description = f\"\"\"\\\n",
    "Useful for any queries that involve comparing multiple documents. ALWAYS use this tool for comparison queries - make sure to call this \\\n",
    "tool with the original query. Do NOT use the other tools for any queries involving multiple documents.\n",
    "\"\"\"\n",
    "        sub_question_tool = QueryEngineTool(\n",
    "            query_engine=sub_question_engine,\n",
    "            metadata=ToolMetadata(\n",
    "                name=\"compare_tool\", description=sub_question_description\n",
    "            ),\n",
    "        )\n",
    "\n",
    "        return tools + [sub_question_tool]"
   ]
  },
  {
   "cell_type": "code",
   "execution_count": 26,
   "metadata": {},
   "outputs": [],
   "source": [
    "from llama_index.core.postprocessor import SimilarityPostprocessor\n",
    "\n",
    "# CohereRerank를 대신해서...\n",
    "# postprocessor = SimilarityPostprocessor(similarity_cutoff=0.4)\n",
    "\n",
    "custom_node_retriever = CustomRetriever(vector_node_retriever)\n",
    "\n",
    "# wrap it with ObjectRetriever to return objects\n",
    "custom_obj_retriever = CustomObjectRetriever(\n",
    "    custom_node_retriever, tool_mapping, all_tools, llm=llm\n",
    ")"
   ]
  },
  {
   "cell_type": "code",
   "execution_count": 27,
   "metadata": {},
   "outputs": [
    {
     "name": "stdout",
     "output_type": "stream",
     "text": [
      "6\n"
     ]
    }
   ],
   "source": [
    "tmps = custom_obj_retriever.retrieve(\"비전문취업 비자의 일반적인 허용 업종 범위는 어디까지인가요?\")\n",
    "print(len(tmps))"
   ]
  },
  {
   "cell_type": "code",
   "execution_count": 28,
   "metadata": {},
   "outputs": [],
   "source": [
    "from llama_index.agent.openai_legacy import FnRetrieverOpenAIAgent\n",
    "from llama_index.core.agent import ReActAgent\n",
    "\n",
    "top_agent = FnRetrieverOpenAIAgent.from_retriever(\n",
    "    custom_obj_retriever,\n",
    "    system_prompt=\"\"\" \\\n",
    "You are an agent designed to answer queries about the documentation.\n",
    "Please always use the tools provided to answer a question. Do not rely on prior knowledge.\\\n",
    "\n",
    "\"\"\",\n",
    "    llm=llm,\n",
    "    verbose=True,\n",
    ")\n",
    "\n",
    "# top_agent = ReActAgent.from_tools(\n",
    "#     tool_retriever=custom_obj_retriever,\n",
    "#     system_prompt=\"\"\" \\\n",
    "# You are an agent designed to answer queries about the documentation.\n",
    "# Please always use the tools provided to answer a question. Do not rely on prior knowledge.\\\n",
    "\n",
    "# \"\"\",\n",
    "#     llm=llm,\n",
    "#     verbose=True,\n",
    "# )"
   ]
  },
  {
   "cell_type": "code",
   "execution_count": 17,
   "metadata": {},
   "outputs": [],
   "source": [
    "def pretty_source_nodes(response):\n",
    "    for node in response.source_nodes:\n",
    "        print(node)"
   ]
  },
  {
   "cell_type": "code",
   "execution_count": 18,
   "metadata": {},
   "outputs": [],
   "source": [
    "def save_llm_result(question, base_txt, agent_txt):\n",
    "    # 파일을 추가 모드('a')로 열기\n",
    "    with open('평가:E-9 Visa.md', 'a') as file:\n",
    "        # 파일에 텍스트 추가\n",
    "        file.write((\n",
    "            f\"\\n\\n------------------------------------------------------------------------------------------------------------------------------------------\"\n",
    "            f\"\\n\\n### Q. {question}\"\n",
    "            f\"\\n##### Base:\"\n",
    "            f\"\\n{base_txt}\"\n",
    "            f\"\\n\\n##### Agent:\"\n",
    "            f\"\\n{agent_txt}\"\n",
    "        ))"
   ]
  },
  {
   "cell_type": "code",
   "execution_count": 29,
   "metadata": {},
   "outputs": [],
   "source": [
    "# all_nodes = [\n",
    "#     extra_info[\"node\"] for extra_info in extra_info_dict.values()\n",
    "# ]\n",
    "\n",
    "all_nodes = [\n",
    "    n for extra_info in extra_info_dict.values() for n in extra_info[\"nodes\"]\n",
    "]\n",
    "\n",
    "base_index = VectorStoreIndex(all_nodes)\n",
    "base_query_engine = base_index.as_query_engine(similarity_top_k=4)"
   ]
  },
  {
   "cell_type": "code",
   "execution_count": 32,
   "metadata": {},
   "outputs": [],
   "source": [
    "questions = [\n",
    "    # \"E-9 비자 신청 시 필요한 서류는 무엇인가요?\",\n",
    "    # \"고용허가서 신청 절차는 어떻게 되나요?\",\n",
    "    # \"재입국 특례 제도 신청을 위한 조건은 무엇인가요?\",\n",
    "    \"비전문취업 비자의 일반적인 허용 업종 범위는 어디까지인가요?\",\n",
    "]"
   ]
  },
  {
   "cell_type": "code",
   "execution_count": 33,
   "metadata": {},
   "outputs": [
    {
     "name": "stdout",
     "output_type": "stream",
     "text": [
      "STARTING TURN 1\n",
      "---------------\n",
      "\n",
      "=== Calling Function ===\n",
      "Calling function: tool_E9_Visa_Guide_5 with args: {\n",
      "  \"input\": \"비전문취업 비자의 일반적인 허용 업종 범위\"\n",
      "}\n",
      "Added user message to memory: 비전문취업 비자의 일반적인 허용 업종 범위\n",
      "=== Calling Function ===\n",
      "Calling function: vector_tool_E9_Visa_Guide_5 with args: {\n",
      "  \"input\": \"비전문취업 비자의 일반적인 허용 업종 범위\"\n",
      "}\n",
      "Got output: 비전문취업 비자(E-9)의 허용 업종 범위는 다음과 같습니다:\n",
      "\n",
      "1. 제조업: 상시 근로자 300인 미만 또는 자본금 80억원 이하의 제조업체에서 근로자를 고용할 수 있습니다.\n",
      "2. 건설업: 모든 건설공사에서 근로자를 고용할 수 있습니다. 단, 발전소, 제철소, 석유화학 건설 현장의 건설업체 중 건설면허가 산업환경설비인 경우는 적용이 제외됩니다.\n",
      "3. 농축산업: 작물재배업, 축산업, 농축산서비스업에서 근로자를 고용할 수 있습니다.\n",
      "4. 어업: 연안어업, 근해어업, 양식어업, 소금채취업에서 근로자를 고용할 수 있습니다.\n",
      "5. 임업: 임업종묘생산업, 육림업, 벌목업, 임업관련서비스업에서 근로자를 고용할 수 있습니다.\n",
      "6. 광업: 금속광업, 비금속광물광업에서 근로자를 고용할 수 있습니다.\n",
      "7. 서비스업: 건설폐기업, 냉장냉동업, 호텔숙박업, 음식점업, 재료수집업, 출판업 등에서 근로자를 고용할 수 있습니다. \n",
      "\n",
      "각 업종에는 특정 조건이 적용되며, 이는 해당 업종에서 근로자를 고용할 수 있는 조건을 나타냅니다.\n",
      "========================\n",
      "\n",
      "Got output: 비전문취업 비자(E-9)의 허용 업종 범위는 다음과 같습니다:\n",
      "\n",
      "1. 제조업: 상시 근로자 300인 미만 또는 자본금 80억원 이하의 제조업체에서 근로자를 고용할 수 있습니다.\n",
      "2. 건설업: 모든 건설공사에서 근로자를 고용할 수 있습니다. 단, 발전소, 제철소, 석유화학 건설 현장의 건설업체 중 건설면허가 산업환경설비인 경우는 적용이 제외됩니다.\n",
      "3. 농축산업: 작물재배업, 축산업, 농축산서비스업에서 근로자를 고용할 수 있습니다.\n",
      "4. 어업: 연안어업, 근해어업, 양식어업, 소금채취업에서 근로자를 고용할 수 있습니다.\n",
      "5. 임업: 임업종묘생산업, 육림업, 벌목업, 임업관련서비스업에서 근로자를 고용할 수 있습니다.\n",
      "6. 광업: 금속광업, 비금속광업에서 근로자를 고용할 수 있습니다.\n",
      "7. 서비스업: 건설폐기업, 냉장냉동업, 호텔숙박업, 음식점업, 재료수집업, 출판업 등에서 근로자를 고용할 수 있습니다. \n",
      "\n",
      "각 업종에는 특정 조건이 적용되며, 이는 해당 업종에서 근로자를 고용할 수 있는 조건을 나타냅니다.\n",
      "========================\n",
      "\n",
      "STARTING TURN 2\n",
      "---------------\n",
      "\n",
      "Node ID: 3bb6c2b8-a5d5-46fd-8b4b-5cbe9f92c64a\n",
      "Text: 고용허가제해당자의사증발급허용업종및체류자격약호(기호): E-9 근로자를채용할수있는 업종과범위 ● 제조업: 제조업,\n",
      "뿌리산업 ○ 체류자격: E-9-1 ○ 적용범위(E-9 근로자를고용할수있는조건) ■\n",
      "상시근로자300인미만또는자본금80억원이하제조업 ■ 단, 상기기준에충족하지않더라도아래증빙서류제출시인정:\n",
      "중소기업(지방중소기업청에서발급한‘중소기업확인서’) / 비수도권 소재뿌리산업중견기업(한국생산기술연구원에서발급한‘뿌리기업확인서’\n",
      "및한국중견기업연합회에서발급한‘중견기업확인서’) ● 건설업 ○ 체류자격: E-9-2 ○ 적용범위(E-9 근로자를고용할수있는조건)\n",
      "■ 모든건설공사 ■ ※ 발전소·제철소·석유화학건설현장의건설업체중건설면허가...\n",
      "Score:  0.574\n",
      "\n",
      "\n",
      "\n",
      "\n",
      "\n"
     ]
    }
   ],
   "source": [
    "for question in questions:\n",
    "    base_response = base_query_engine.query(question)\n",
    "    agent_response = top_agent.query(question)\n",
    "    save_llm_result(question, str(base_response), str(agent_response))\n",
    "    pretty_source_nodes(agent_response)\n",
    "    print(f\"\\n\\n\\n\")"
   ]
  }
 ],
 "metadata": {
  "kernelspec": {
   "display_name": "visa_chatbot1",
   "language": "python",
   "name": "python3"
  },
  "language_info": {
   "codemirror_mode": {
    "name": "ipython",
    "version": 3
   },
   "file_extension": ".py",
   "mimetype": "text/x-python",
   "name": "python",
   "nbconvert_exporter": "python",
   "pygments_lexer": "ipython3",
   "version": "3.11.8"
  }
 },
 "nbformat": 4,
 "nbformat_minor": 2
}
