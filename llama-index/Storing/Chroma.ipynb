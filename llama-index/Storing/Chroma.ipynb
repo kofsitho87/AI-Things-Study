{
 "cells": [
  {
   "cell_type": "code",
   "execution_count": 1,
   "metadata": {},
   "outputs": [
    {
     "data": {
      "text/plain": [
       "True"
      ]
     },
     "execution_count": 1,
     "metadata": {},
     "output_type": "execute_result"
    }
   ],
   "source": [
    "import logging\n",
    "import sys\n",
    "import os\n",
    "\n",
    "logging.basicConfig(stream=sys.stdout, level=logging.INFO)\n",
    "logging.getLogger().addHandler(logging.StreamHandler(stream=sys.stdout))\n",
    "\n",
    "from dotenv import load_dotenv\n",
    "load_dotenv()"
   ]
  },
  {
   "cell_type": "code",
   "execution_count": 2,
   "metadata": {},
   "outputs": [],
   "source": [
    "import json\n",
    "\n",
    "json_file_path = \"../../../Documents/E-9_Visa_Docs.json\"\n",
    "\n",
    "with open(json_file_path, 'r') as f:\n",
    "    visa_docs_json = json.load(f)\n",
    "\n",
    "\n",
    "\"\"\" Load TextNodes from JSON file \"\"\"\n",
    "from llama_index.core.schema import TextNode\n",
    "\n",
    "visa_nodes = [\n",
    "    TextNode(\n",
    "        text=doc[\"text\"],\n",
    "        metadata=doc[\"metadata\"],\n",
    "        excluded_llm_metadata_keys=doc[\"excluded_llm_metadata_keys\"],\n",
    "        excluded_embed_metadata_keys=doc[\"excluded_embed_metadata_keys\"],\n",
    "    )\n",
    "    for doc in visa_docs_json\n",
    "]"
   ]
  },
  {
   "cell_type": "code",
   "execution_count": 3,
   "metadata": {},
   "outputs": [],
   "source": [
    "from llama_index.core.node_parser import MarkdownNodeParser\n",
    "\n",
    "parser = MarkdownNodeParser()\n",
    "\n",
    "visa_nodes_markdown = parser.get_nodes_from_documents(visa_nodes)"
   ]
  },
  {
   "cell_type": "code",
   "execution_count": null,
   "metadata": {},
   "outputs": [],
   "source": [
    "print(visa_nodes[2].get_content())\n",
    "print(visa_nodes_markdown[2].get_content())"
   ]
  },
  {
   "cell_type": "markdown",
   "metadata": {},
   "source": [
    "#### Save E9 Visa Guide Doc"
   ]
  },
  {
   "cell_type": "code",
   "execution_count": 4,
   "metadata": {},
   "outputs": [
    {
     "name": "stdout",
     "output_type": "stream",
     "text": [
      "INFO:chromadb.telemetry.product.posthog:Anonymized telemetry enabled. See                     https://docs.trychroma.com/telemetry for more information.\n",
      "Anonymized telemetry enabled. See                     https://docs.trychroma.com/telemetry for more information.\n"
     ]
    },
    {
     "data": {
      "application/vnd.jupyter.widget-view+json": {
       "model_id": "8d32fb45c2024ab79ed5d68ca08bf61d",
       "version_major": 2,
       "version_minor": 0
      },
      "text/plain": [
       "Generating embeddings:   0%|          | 0/21 [00:00<?, ?it/s]"
      ]
     },
     "metadata": {},
     "output_type": "display_data"
    },
    {
     "name": "stdout",
     "output_type": "stream",
     "text": [
      "INFO:httpx:HTTP Request: POST https://api.openai.com/v1/embeddings \"HTTP/1.1 200 OK\"\n",
      "HTTP Request: POST https://api.openai.com/v1/embeddings \"HTTP/1.1 200 OK\"\n"
     ]
    }
   ],
   "source": [
    "import chromadb\n",
    "from llama_index.core import VectorStoreIndex\n",
    "from llama_index.vector_stores.chroma import ChromaVectorStore\n",
    "from llama_index.core import StorageContext\n",
    "\n",
    "\"\"\" SAVE TO LOCAL\"\"\"\n",
    "db = chromadb.PersistentClient(path=\"./chroma\")\n",
    "chroma_collection = db.get_or_create_collection(\"E9_VISA_GUIDE\")\n",
    "\n",
    "vector_store = ChromaVectorStore(chroma_collection=chroma_collection)\n",
    "storage_context = StorageContext.from_defaults(vector_store=vector_store)\n",
    "\n",
    "index = VectorStoreIndex(\n",
    "    visa_nodes_markdown,\n",
    "    storage_context=storage_context,\n",
    "    show_progress=True\n",
    ")"
   ]
  },
  {
   "cell_type": "markdown",
   "metadata": {},
   "source": [
    "#### Save E9 Visa FAQ Document"
   ]
  },
  {
   "cell_type": "markdown",
   "metadata": {},
   "source": [
    "##### Load JSON file"
   ]
  },
  {
   "cell_type": "code",
   "execution_count": 5,
   "metadata": {},
   "outputs": [],
   "source": [
    "import json\n",
    "\n",
    "json_file_path = \"../../../Documents/E9_Faq.json\"\n",
    "with open(json_file_path, 'r') as f:\n",
    "    faq_json = json.load(f)\n",
    "\n",
    "\n",
    "from llama_index.core.schema import TextNode\n",
    "\n",
    "faq_nodes = [\n",
    "    TextNode(\n",
    "        text=f\"Question: {doc['question']}\\nAnswer: {doc['answer']}\",\n",
    "    )\n",
    "    for doc in faq_json\n",
    "]"
   ]
  },
  {
   "cell_type": "code",
   "execution_count": null,
   "metadata": {},
   "outputs": [],
   "source": [
    "faq_nodes[1]"
   ]
  },
  {
   "cell_type": "code",
   "execution_count": 6,
   "metadata": {},
   "outputs": [
    {
     "data": {
      "application/vnd.jupyter.widget-view+json": {
       "model_id": "b58be6b915894253a6c2256c75371f8a",
       "version_major": 2,
       "version_minor": 0
      },
      "text/plain": [
       "Generating embeddings:   0%|          | 0/38 [00:00<?, ?it/s]"
      ]
     },
     "metadata": {},
     "output_type": "display_data"
    },
    {
     "name": "stdout",
     "output_type": "stream",
     "text": [
      "INFO:httpx:HTTP Request: POST https://api.openai.com/v1/embeddings \"HTTP/1.1 200 OK\"\n",
      "HTTP Request: POST https://api.openai.com/v1/embeddings \"HTTP/1.1 200 OK\"\n"
     ]
    }
   ],
   "source": [
    "\"\"\" SAVE TO LOCAL\"\"\"\n",
    "db = chromadb.PersistentClient(path=\"./chroma\")\n",
    "chroma_collection = db.get_or_create_collection(\"E9_VISA_FAQ\")\n",
    "\n",
    "vector_store = ChromaVectorStore(chroma_collection=chroma_collection)\n",
    "storage_context = StorageContext.from_defaults(vector_store=vector_store)\n",
    "\n",
    "faq_index = VectorStoreIndex(\n",
    "    faq_nodes,\n",
    "    storage_context=storage_context,\n",
    "    show_progress=True\n",
    ")"
   ]
  },
  {
   "cell_type": "markdown",
   "metadata": {},
   "source": [
    "#### Merge E9 Visa Guide and FAQ into Chroma"
   ]
  },
  {
   "cell_type": "code",
   "execution_count": 7,
   "metadata": {},
   "outputs": [
    {
     "data": {
      "application/vnd.jupyter.widget-view+json": {
       "model_id": "79ec89ace82c407d8c7391073d14a89f",
       "version_major": 2,
       "version_minor": 0
      },
      "text/plain": [
       "Generating embeddings:   0%|          | 0/59 [00:00<?, ?it/s]"
      ]
     },
     "metadata": {},
     "output_type": "display_data"
    },
    {
     "name": "stdout",
     "output_type": "stream",
     "text": [
      "INFO:httpx:HTTP Request: POST https://api.openai.com/v1/embeddings \"HTTP/1.1 200 OK\"\n",
      "HTTP Request: POST https://api.openai.com/v1/embeddings \"HTTP/1.1 200 OK\"\n"
     ]
    }
   ],
   "source": [
    "\"\"\" SAVE TO LOCAL\"\"\"\n",
    "db = chromadb.PersistentClient(path=\"./chroma\")\n",
    "chroma_collection = db.get_or_create_collection(\"E9_VISA_GUIDE_AND_FAQ\")\n",
    "\n",
    "vector_store = ChromaVectorStore(chroma_collection=chroma_collection)\n",
    "storage_context = StorageContext.from_defaults(vector_store=vector_store)\n",
    "\n",
    "merge_index = VectorStoreIndex(\n",
    "    visa_nodes_markdown + faq_nodes,\n",
    "    storage_context=storage_context,\n",
    "    show_progress=True\n",
    ")"
   ]
  },
  {
   "cell_type": "markdown",
   "metadata": {},
   "source": [
    "#### Load"
   ]
  },
  {
   "cell_type": "code",
   "execution_count": null,
   "metadata": {},
   "outputs": [],
   "source": [
    "db = chromadb.PersistentClient(path=\"./chroma_data\")\n",
    "chroma_collection = db.get_or_create_collection(\"E9_VISA_GUIDE_AND_FAQ\")\n",
    "chroma_vector_store = ChromaVectorStore(chroma_collection=chroma_collection)\n",
    "\n",
    "merge_index = VectorStoreIndex.from_vector_store(vector_store=chroma_vector_store)"
   ]
  },
  {
   "cell_type": "code",
   "execution_count": null,
   "metadata": {},
   "outputs": [],
   "source": []
  },
  {
   "cell_type": "markdown",
   "metadata": {},
   "source": [
    "#### Test"
   ]
  },
  {
   "cell_type": "code",
   "execution_count": 16,
   "metadata": {},
   "outputs": [],
   "source": [
    "from llama_index.postprocessor.cohere_rerank import CohereRerank\n",
    "\n",
    "reranker = CohereRerank(\n",
    "    top_n=3, model=\"rerank-multilingual-v2.0\"\n",
    ")"
   ]
  },
  {
   "cell_type": "code",
   "execution_count": null,
   "metadata": {},
   "outputs": [],
   "source": [
    "faq_retriever =  faq_index.as_retriever(similarity_top_k=5)\n",
    "faq_retriever_with_reranker =  faq_index.as_retriever(similarity_top_k=5, node_postprocessors=[reranker])"
   ]
  },
  {
   "cell_type": "code",
   "execution_count": 20,
   "metadata": {},
   "outputs": [],
   "source": [
    "merge_retriever = merge_index.as_retriever(similarity_top_k=5)\n",
    "merge_retriever_with_reranker =  merge_index.as_retriever(similarity_top_k=5, node_postprocessors=[reranker])"
   ]
  },
  {
   "cell_type": "code",
   "execution_count": 10,
   "metadata": {},
   "outputs": [],
   "source": [
    "def pretty(retrievals):\n",
    "    for r in retrievals:\n",
    "        print(r)"
   ]
  },
  {
   "cell_type": "code",
   "execution_count": 21,
   "metadata": {},
   "outputs": [
    {
     "name": "stdout",
     "output_type": "stream",
     "text": [
      "INFO:httpx:HTTP Request: POST https://api.openai.com/v1/embeddings \"HTTP/1.1 200 OK\"\n",
      "HTTP Request: POST https://api.openai.com/v1/embeddings \"HTTP/1.1 200 OK\"\n",
      "INFO:httpx:HTTP Request: POST https://api.openai.com/v1/embeddings \"HTTP/1.1 200 OK\"\n",
      "HTTP Request: POST https://api.openai.com/v1/embeddings \"HTTP/1.1 200 OK\"\n",
      "Node ID: 05c2a148-a0cf-49ab-8b19-80b961a58ea0\n",
      "Text: 고용허가제 해당자가 근무처(직장)를 변경하는 절차 및 제출 서류         ● 근무처(직장) 변경 절차\n",
      "○ 사용자와 근로계약 종료 후 1월 이내에 사업장 변경을 신청(고용노동부 고용센터)하여야 하며, 사업장 변경을 신청한 날로부터\n",
      "3개월 이내에 근무처 변경허가(관할 출입국·외국인청(사무소ᆞ출장소))를 받아야 함             ○ 다만, 업무상\n",
      "재해, 질병, 임신, 출산 등의 사유로 근무처변경 허가를 받을 수 없거나 신청할 수 없는 경우에는 사유해소일로부터 기간 계산\n",
      "○ 사유 해당자는 체류기간 만료 전에 직업안정기관의 장이 발급한 사업장변경신청기간 연장접수확인서에...\n",
      "Score:  0.737\n",
      "\n",
      "Node ID: 32208183-4b29-46d6-a6b8-95e44474aa99\n",
      "Text: Question: EPS 서류 만료된 경우 고용센터에서 자동으로 갱신해주시나요? 아니면 직접 신청해야 하나요?\n",
      "그리고 그렇다면 갱신하는 데 얼마나 걸리나요? Answer: EPS(Employment Permit System, 고용허가제)\n",
      "서류의 갱신은 자동으로 이루어지지 않습니다. 근로자나 고용주는 서류 만료 전에 직접 갱신을 신청해야 합니다. 갱신 절차는\n",
      "고용센터를 통해 진행되며, 필요한 서류를 준비하여 제출해야 합니다. 갱신에 걸리는 시간은 사례에 따라 다를 수 있으며,\n",
      "고용센터의 업무 처리 속도, 제출 서류의 완성도 및 정확성, 그리고 현재 처리해야 하는 신청서의 양 등에 따라 달라질 수\n",
      "있습니다. 일반적으로...\n",
      "Score:  0.736\n",
      "\n",
      "Node ID: 3ba73619-ca63-43e5-9c5d-53fc8f65bea4\n",
      "Text: Question: 고용허가제로 한국에 갈건데, 한국 가서 교육 받을 수 있는지, 아니면 미리 자격증 있어야 신청할\n",
      "수 있는지 알고 싶어요. 예를 들어서 농업 쪽에 일하려고 하는데 농업에 대한 지식이 필요하나요? Answer: 자격증은\n",
      "필요없어요. 한국 가면 다들 알려주실 거고 다 할 수 있을 겁니다..  농업은 교육 받을 필요 없고,  하는 방법을 가르쳐\n",
      "주고 바로 할 수 있을 겁니다. 근로자는 건강하고 한국어 좀 할 줄 알면 되요. 한국에서 사장님이 가르쳐 줄 거예요. 이미\n",
      "관련 경험이 있으면 인상 더 좋습니다.\n",
      "Score:  0.733\n",
      "\n",
      "Node ID: 9a0be2be-12c0-41f2-b80e-f77476cb59d6\n",
      "Text: Question: 한국에 가서 일을 하고 싶은데 방법을 모르겠어요  Answer: E-9 비자(비전문취업 비자)를\n",
      "받아 한국에서 일하시려면 다음과 같은 절차를 거쳐야 합니다. 고용허가제를 통해 한국 사업체로부터 고용허가를 받아야 합니다.\n",
      "제조업, 건설업, 농축산업, 어업 등 허용된 업종에 한해서만 고용이 가능합니다. 사업체가 출입국외국인청에 사증발급인정서를\n",
      "신청하면, 인정서를 발급받게 됩니다. 사증발급인정서를 가지고 본국 대한민국 재외공관에서 E-9 비자를 신청하면 비자를 발급받을\n",
      "수 있습니다. 2012년 8월 1일부터는 범죄경력증명서와 건강상태확인서를 추가로 제출해야 합니다. E-9 비자를 받아 입국한\n",
      "후에는 해...\n",
      "Score:  0.730\n",
      "\n",
      "Node ID: 9b66be5e-d8c5-4d0e-bf10-2a8d9dd39282\n",
      "Text: Question: 지금 저랑 같이 일하는 몽골인입니다. 한국 온지는 2년 되었고 중공업에 일하다가 퇴직한지 2달이\n",
      "되었습니다. 근데 재 취업을 3개월 이내하지않을시 늘어났던 비자가 소멸된다고 하더라고요.. 그래서 개인 간이과세 인테리어쪽으로\n",
      "사업자를 냈는데도 전 고용주가 될수가 없다고 하더라고요.. 혹시 이 친구를 다른 방법으로 한국에서 4년10개월은 된다고 하던데\n",
      "같이 일하면서 머물수 있는 방법이 있을까요? Answer: GPT 4: 고용허가제에 따라 한국에서 일하는\n",
      "비전문취업자(E-9)의 경우, 근무처 변경이나 체류기간 연장에는 일정한 제한이 있습니다. 비전문취업자는 원칙적으로 최초\n",
      "고용허가를 받은 사업장에서 ...\n",
      "Score:  0.721\n",
      "\n",
      "---------------------------------------------------------------\n",
      "Node ID: 05c2a148-a0cf-49ab-8b19-80b961a58ea0\n",
      "Text: 고용허가제 해당자가 근무처(직장)를 변경하는 절차 및 제출 서류         ● 근무처(직장) 변경 절차\n",
      "○ 사용자와 근로계약 종료 후 1월 이내에 사업장 변경을 신청(고용노동부 고용센터)하여야 하며, 사업장 변경을 신청한 날로부터\n",
      "3개월 이내에 근무처 변경허가(관할 출입국·외국인청(사무소ᆞ출장소))를 받아야 함             ○ 다만, 업무상\n",
      "재해, 질병, 임신, 출산 등의 사유로 근무처변경 허가를 받을 수 없거나 신청할 수 없는 경우에는 사유해소일로부터 기간 계산\n",
      "○ 사유 해당자는 체류기간 만료 전에 직업안정기관의 장이 발급한 사업장변경신청기간 연장접수확인서에...\n",
      "Score:  0.737\n",
      "\n",
      "Node ID: 32208183-4b29-46d6-a6b8-95e44474aa99\n",
      "Text: Question: EPS 서류 만료된 경우 고용센터에서 자동으로 갱신해주시나요? 아니면 직접 신청해야 하나요?\n",
      "그리고 그렇다면 갱신하는 데 얼마나 걸리나요? Answer: EPS(Employment Permit System, 고용허가제)\n",
      "서류의 갱신은 자동으로 이루어지지 않습니다. 근로자나 고용주는 서류 만료 전에 직접 갱신을 신청해야 합니다. 갱신 절차는\n",
      "고용센터를 통해 진행되며, 필요한 서류를 준비하여 제출해야 합니다. 갱신에 걸리는 시간은 사례에 따라 다를 수 있으며,\n",
      "고용센터의 업무 처리 속도, 제출 서류의 완성도 및 정확성, 그리고 현재 처리해야 하는 신청서의 양 등에 따라 달라질 수\n",
      "있습니다. 일반적으로...\n",
      "Score:  0.736\n",
      "\n",
      "Node ID: 3ba73619-ca63-43e5-9c5d-53fc8f65bea4\n",
      "Text: Question: 고용허가제로 한국에 갈건데, 한국 가서 교육 받을 수 있는지, 아니면 미리 자격증 있어야 신청할\n",
      "수 있는지 알고 싶어요. 예를 들어서 농업 쪽에 일하려고 하는데 농업에 대한 지식이 필요하나요? Answer: 자격증은\n",
      "필요없어요. 한국 가면 다들 알려주실 거고 다 할 수 있을 겁니다..  농업은 교육 받을 필요 없고,  하는 방법을 가르쳐\n",
      "주고 바로 할 수 있을 겁니다. 근로자는 건강하고 한국어 좀 할 줄 알면 되요. 한국에서 사장님이 가르쳐 줄 거예요. 이미\n",
      "관련 경험이 있으면 인상 더 좋습니다.\n",
      "Score:  0.733\n",
      "\n",
      "Node ID: 9a0be2be-12c0-41f2-b80e-f77476cb59d6\n",
      "Text: Question: 한국에 가서 일을 하고 싶은데 방법을 모르겠어요  Answer: E-9 비자(비전문취업 비자)를\n",
      "받아 한국에서 일하시려면 다음과 같은 절차를 거쳐야 합니다. 고용허가제를 통해 한국 사업체로부터 고용허가를 받아야 합니다.\n",
      "제조업, 건설업, 농축산업, 어업 등 허용된 업종에 한해서만 고용이 가능합니다. 사업체가 출입국외국인청에 사증발급인정서를\n",
      "신청하면, 인정서를 발급받게 됩니다. 사증발급인정서를 가지고 본국 대한민국 재외공관에서 E-9 비자를 신청하면 비자를 발급받을\n",
      "수 있습니다. 2012년 8월 1일부터는 범죄경력증명서와 건강상태확인서를 추가로 제출해야 합니다. E-9 비자를 받아 입국한\n",
      "후에는 해...\n",
      "Score:  0.730\n",
      "\n",
      "Node ID: 9b66be5e-d8c5-4d0e-bf10-2a8d9dd39282\n",
      "Text: Question: 지금 저랑 같이 일하는 몽골인입니다. 한국 온지는 2년 되었고 중공업에 일하다가 퇴직한지 2달이\n",
      "되었습니다. 근데 재 취업을 3개월 이내하지않을시 늘어났던 비자가 소멸된다고 하더라고요.. 그래서 개인 간이과세 인테리어쪽으로\n",
      "사업자를 냈는데도 전 고용주가 될수가 없다고 하더라고요.. 혹시 이 친구를 다른 방법으로 한국에서 4년10개월은 된다고 하던데\n",
      "같이 일하면서 머물수 있는 방법이 있을까요? Answer: GPT 4: 고용허가제에 따라 한국에서 일하는\n",
      "비전문취업자(E-9)의 경우, 근무처 변경이나 체류기간 연장에는 일정한 제한이 있습니다. 비전문취업자는 원칙적으로 최초\n",
      "고용허가를 받은 사업장에서 ...\n",
      "Score:  0.721\n",
      "\n"
     ]
    }
   ],
   "source": [
    "retrievals= merge_retriever.retrieve(\"고용허가서 신청 절차는 어떻게 되나요?\")\n",
    "retrievals2= merge_retriever_with_reranker.retrieve(\"고용허가서 신청 절차는 어떻게 되나요?\")\n",
    "\n",
    "pretty(retrievals)\n",
    "print(\"---------------------------------------------------------------\")\n",
    "pretty(retrievals2)"
   ]
  }
 ],
 "metadata": {
  "kernelspec": {
   "display_name": "visa_chatbot1",
   "language": "python",
   "name": "python3"
  },
  "language_info": {
   "codemirror_mode": {
    "name": "ipython",
    "version": 3
   },
   "file_extension": ".py",
   "mimetype": "text/x-python",
   "name": "python",
   "nbconvert_exporter": "python",
   "pygments_lexer": "ipython3",
   "version": "3.11.8"
  }
 },
 "nbformat": 4,
 "nbformat_minor": 2
}
