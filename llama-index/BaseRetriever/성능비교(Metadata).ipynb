{
 "cells": [
  {
   "cell_type": "code",
   "execution_count": 2,
   "metadata": {},
   "outputs": [],
   "source": [
    "from llama_index.core import VectorStoreIndex, SimpleDirectoryReader\n",
    "from llama_index.vector_stores.chroma import ChromaVectorStore\n",
    "from llama_index.core import StorageContext\n",
    "from llama_index.embeddings.huggingface import HuggingFaceEmbedding\n",
    "from IPython.display import Markdown, display\n",
    "import chromadb"
   ]
  },
  {
   "cell_type": "code",
   "execution_count": 3,
   "metadata": {},
   "outputs": [],
   "source": [
    "from llama_index.core.response.notebook_utils import display_source_node\n",
    "\n",
    "def print_source_node(retrievals):\n",
    "    for n in retrievals:\n",
    "        display_source_node(n, source_length=1500)"
   ]
  },
  {
   "cell_type": "code",
   "execution_count": 5,
   "metadata": {},
   "outputs": [],
   "source": [
    "\"\"\" Load DB From Local Storage1 \"\"\"\n",
    "\n",
    "db1 = chromadb.PersistentClient(path=\"./storage1\")\n",
    "chroma_collection1 = db1.get_collection(\"E9_VISA\")\n",
    "vector_store1 = ChromaVectorStore(chroma_collection=chroma_collection1)\n",
    "index1 = VectorStoreIndex.from_vector_store(vector_store=vector_store1)"
   ]
  },
  {
   "cell_type": "code",
   "execution_count": 6,
   "metadata": {},
   "outputs": [],
   "source": [
    "\"\"\" Load DB From Local Storage3 \"\"\"\n",
    "\n",
    "db2 = chromadb.PersistentClient(path=\"./storage3\")\n",
    "chroma_collection2 = db2.get_collection(\"E9_VISA\")\n",
    "vector_store2 = ChromaVectorStore(chroma_collection=chroma_collection2)\n",
    "index2 = VectorStoreIndex.from_vector_store(vector_store=vector_store2)"
   ]
  },
  {
   "cell_type": "code",
   "execution_count": 7,
   "metadata": {},
   "outputs": [],
   "source": [
    "base_retriever1 = index1.as_retriever(similarity_top_k=3)\n",
    "base_retriever2 = index2.as_retriever(similarity_top_k=3)"
   ]
  },
  {
   "cell_type": "code",
   "execution_count": 27,
   "metadata": {},
   "outputs": [],
   "source": [
    "from llama_index.llms.openai import OpenAI\n",
    "\n",
    "llm = OpenAI(model=\"gpt-4-0613\")\n",
    "\n",
    "query_engine1 = index1.as_query_engine(streaming=True, similarity_top_k=2, llm=llm)\n",
    "query_engine2 = index2.as_query_engine(streaming=True, similarity_top_k=2, llm=llm)"
   ]
  },
  {
   "cell_type": "code",
   "execution_count": 23,
   "metadata": {},
   "outputs": [],
   "source": [
    "def pretty_print(retrievals1, retrievals2):\n",
    "    print(\"RETRIEVALS1:\\n\")\n",
    "    for result in retrievals1:\n",
    "        print(result)\n",
    "\n",
    "    print(\"\\n\\nRETRIEVALS2:\\n\")\n",
    "    for result in retrievals1:\n",
    "        print(result)"
   ]
  },
  {
   "cell_type": "code",
   "execution_count": 24,
   "metadata": {},
   "outputs": [
    {
     "name": "stdout",
     "output_type": "stream",
     "text": [
      "RETRIEVALS1:\n",
      "\n",
      "Node ID: 310706fb-d2b9-4335-924a-364a65e6d0bd\n",
      "Text: 고용허가제 해당자는 사증발급인정서를 받아야만 E-9 사증을 발급받을 수 있음 ● 비전문취업 ( E-9) 사증은\n",
      "출입국ㆍ외국인청 ( 사무소ㆍ출장소 ) 장이 발급한 사증발급인정서에 의해서만 사증을 발급할 수 있음\n",
      "Score:  0.770\n",
      "\n",
      "Node ID: 1b62fa53-2875-45a7-b497-7b5d2386362d\n",
      "Text: E-9 Visa Guide - 한국어 고용허가제 고용허가제 해당자와 활동범위 고용허가제 해당자의 사증발급 후 1 회\n",
      "체류기간의 상한 고용허가제 해당자의 사증발급 허용업종 및 체류자격 약호 ( 기호 ): E-9 근로자를 채용할 수 있는  업종과\n",
      "범위 고용허가제 해당자는 사증발급인정서를 받아야만 E-9 사증을 발급받을 수 있음 고용허가제 해당자는 2012.8.1 부터\n",
      "범죄경력증명서 및 건강상태확인서 제출 고용허가제 비전문취업 ( E-9) 자격 사증발급인정서 발급 절차 고용허가제 해당자의\n",
      "재입국특례 제도 ( 구 성실근로자 제도 ) 재입국특례자에 대한 사증 신청 및 발급 방법 고용허가제 해당자의 재입국특례자에 대한\n",
      "우대 ...\n",
      "Score:  0.765\n",
      "\n",
      "Node ID: 39ec9375-7e03-4454-b10e-f5451f4a7b98\n",
      "Text: 고용허가제 비전문취업 ( E-9) 자격 사증발급인정서 발급 절차 ● 접수 / 신청 방법 ○ 비전문취업자를 초청하고자\n",
      "하는 사업장의 장이 사업장 주소지를 관할하는 출입국ㆍ외국인청 ( 사무소ㆍ출장소 ) 장에게 직접 방문 또는 대한민국비자포털 (\n",
      "www.visa.go.kr) 에 접속하여 사증발급인정서 발급신청 ■ 건설업의 경우 공사현장 소재지 관할 청 ( 사무소 ·\n",
      "출장소에 접수 ○ 다만 , 초청업무 대행을 위임한 경우 사증발급업무 대행기관 또는 그 지사 등에서 사증발급인정서 발급을 신청할\n",
      "수 있음 ■ 비전문취업자 사증발급인정서 발급을 대행할 수 있는 자의 범위에 대행기관의 직원 포함 ○ 업종별 사증발급업무\n",
      "대행기관 현...\n",
      "Score:  0.759\n",
      "\n",
      "\n",
      "\n",
      "RETRIEVALS2:\n",
      "\n",
      "Node ID: 310706fb-d2b9-4335-924a-364a65e6d0bd\n",
      "Text: 고용허가제 해당자는 사증발급인정서를 받아야만 E-9 사증을 발급받을 수 있음 ● 비전문취업 ( E-9) 사증은\n",
      "출입국ㆍ외국인청 ( 사무소ㆍ출장소 ) 장이 발급한 사증발급인정서에 의해서만 사증을 발급할 수 있음\n",
      "Score:  0.770\n",
      "\n",
      "Node ID: 1b62fa53-2875-45a7-b497-7b5d2386362d\n",
      "Text: E-9 Visa Guide - 한국어 고용허가제 고용허가제 해당자와 활동범위 고용허가제 해당자의 사증발급 후 1 회\n",
      "체류기간의 상한 고용허가제 해당자의 사증발급 허용업종 및 체류자격 약호 ( 기호 ): E-9 근로자를 채용할 수 있는  업종과\n",
      "범위 고용허가제 해당자는 사증발급인정서를 받아야만 E-9 사증을 발급받을 수 있음 고용허가제 해당자는 2012.8.1 부터\n",
      "범죄경력증명서 및 건강상태확인서 제출 고용허가제 비전문취업 ( E-9) 자격 사증발급인정서 발급 절차 고용허가제 해당자의\n",
      "재입국특례 제도 ( 구 성실근로자 제도 ) 재입국특례자에 대한 사증 신청 및 발급 방법 고용허가제 해당자의 재입국특례자에 대한\n",
      "우대 ...\n",
      "Score:  0.765\n",
      "\n",
      "Node ID: 39ec9375-7e03-4454-b10e-f5451f4a7b98\n",
      "Text: 고용허가제 비전문취업 ( E-9) 자격 사증발급인정서 발급 절차 ● 접수 / 신청 방법 ○ 비전문취업자를 초청하고자\n",
      "하는 사업장의 장이 사업장 주소지를 관할하는 출입국ㆍ외국인청 ( 사무소ㆍ출장소 ) 장에게 직접 방문 또는 대한민국비자포털 (\n",
      "www.visa.go.kr) 에 접속하여 사증발급인정서 발급신청 ■ 건설업의 경우 공사현장 소재지 관할 청 ( 사무소 ·\n",
      "출장소에 접수 ○ 다만 , 초청업무 대행을 위임한 경우 사증발급업무 대행기관 또는 그 지사 등에서 사증발급인정서 발급을 신청할\n",
      "수 있음 ■ 비전문취업자 사증발급인정서 발급을 대행할 수 있는 자의 범위에 대행기관의 직원 포함 ○ 업종별 사증발급업무\n",
      "대행기관 현...\n",
      "Score:  0.759\n",
      "\n"
     ]
    }
   ],
   "source": [
    "query = \"E-9 비자 신청 시 필요한 서류는 무엇인가요?\"\n",
    "\n",
    "retrievals1 = base_retriever1.retrieve(query)\n",
    "retrievals2 = base_retriever2.retrieve(query)\n",
    "\n",
    "pretty_print(retrievals1, retrievals2)"
   ]
  },
  {
   "cell_type": "code",
   "execution_count": 28,
   "metadata": {},
   "outputs": [
    {
     "name": "stdout",
     "output_type": "stream",
     "text": [
      "E-9 비자를 신청하려면 사증발급인정서가 필요합니다. 또한, 2012년 8월 1일부터는 범죄경력증명서와 건강상태확인서 제출이 필요합니다."
     ]
    }
   ],
   "source": [
    "response = query_engine1.query(query)\n",
    "response.print_response_stream()"
   ]
  },
  {
   "cell_type": "code",
   "execution_count": 29,
   "metadata": {},
   "outputs": [
    {
     "name": "stdout",
     "output_type": "stream",
     "text": [
      "E-9 비자를 신청하기 위해서는 사증발급인정서가 필요합니다. 이 사증발급인정서는 출입국ㆍ외국인청(사무소ㆍ출장소)장이 발급해야 합니다."
     ]
    }
   ],
   "source": [
    "response = query_engine2.query(query)\n",
    "response.print_response_stream()"
   ]
  },
  {
   "cell_type": "code",
   "execution_count": 40,
   "metadata": {},
   "outputs": [
    {
     "name": "stdout",
     "output_type": "stream",
     "text": [
      "RETRIEVALS1:\n",
      "\n",
      "Node ID: 4a02faa5-15f2-4fa5-8058-359488cb6ce9\n",
      "Text: 고용허가제 해당자의 고용변동 신고 ● 신고의무자 ○ 비전문취업 ( E-9) 외국인근로자를 고용한 자 ● 신고기한 ○\n",
      "법 제 19 조 ( 외국인을 고용한 자등의 신고의무 ) 제 1 항 , 법시행령 제 24 조 ( 외국인을 고용한 자등의 신고 )\n",
      "제 2 항 등의 사유가 발생한 사실을 안 날부터 15 일 이내 주소지 관할 출입국 · 외국인관서에 신고 ● 신고방법 ○\n",
      "방문신고 ■ 체류지 관할 청 ( 사무소 · 출장소 ) 직접방문 신고 ○ 팩스신고 (1577-1346) 및 하이코리아 전자민원\n",
      "( www.hikorea.go.kr) ■ 체류지 관할 청 ( 사무소 · 출장소 ) 구분 없이 신고 가능 ( 시스템 상에서 자동\n",
      "구분 ...\n",
      "Score:  0.781\n",
      "\n",
      "Node ID: 14f7c5b8-e568-4efd-9487-fd457f60c2d3\n",
      "Text: 고용허가제 ● ｢ 외국인근로자의 고용 등에 관한 법률 ｣ 에 의거 , 사업주에게 외국인근로자의 고용을 허가하고 ,\n",
      "외국인 근로자에게는 당해 사업주에게 고용되는 조건으로 최장 4 년 10 개월간 취업을 허용하는 인력제도로 , ‘04. 8 월\n",
      "제도 시행 이후 현재까지 16 개국과 MOU 를 체결하여 운영 ● 상시근로자 ( 고용보험 기준 ) 300 인 미만 또는 자본금\n",
      "80 억원 이하 중소기업에 외국인 고용허가 ● 고용허가제 선정국가 (16 개국 ) ○ 태국 , 필리핀 , 스리랑카 , 베트남\n",
      ", 인도네시아 , 몽골 , 파키스탄 , 우즈베키스탄 , 캄보디아 , 중국 , 방글라데시 , 네팔 , 미얀마 , 키르기스스탄 ,\n",
      "동...\n",
      "Score:  0.758\n",
      "\n",
      "Node ID: 83080f5c-da85-49c5-9491-2a493fbb51f0\n",
      "Text: 고용허가제 해당자가 근무처 ( 직장 ) 를 변경할 수 있는 조건 ● 외국인근로자는 외국인고용법 제 25 조 및\n",
      "동법시행령 제 30 조상에 규정된 사업장 변경 사유에 해당할 경우에 한하여 사업장 변경 가능 ● 사용자가 정당한 사유 * 로\n",
      "근로계약기간 중 근로계약을 해지하고자 하거나 근로계약이 만료된 후 갱신을 거절하고자 하는 경우 ○ 정당한 사유란 근로자의 귀책\n",
      "등으로 인한 해고 , 근로계약의 기간만료 , 근로계약 해지 등이 포함 ● 휴업 ․ 폐업 그 밖의 외국인근로자의 책임이 아닌\n",
      "사유로 그 사업장에서 근로를 계속할 수 없게 되었다고 인정되는 경우 ● 외국인근로자 고용허가의 취소 또는 고용의 제한 조치가\n",
      "행하여진 ...\n",
      "Score:  0.753\n",
      "\n",
      "\n",
      "\n",
      "RETRIEVALS2:\n",
      "\n",
      "Node ID: 4a02faa5-15f2-4fa5-8058-359488cb6ce9\n",
      "Text: 고용허가제 해당자의 고용변동 신고 ● 신고의무자 ○ 비전문취업 ( E-9) 외국인근로자를 고용한 자 ● 신고기한 ○\n",
      "법 제 19 조 ( 외국인을 고용한 자등의 신고의무 ) 제 1 항 , 법시행령 제 24 조 ( 외국인을 고용한 자등의 신고 )\n",
      "제 2 항 등의 사유가 발생한 사실을 안 날부터 15 일 이내 주소지 관할 출입국 · 외국인관서에 신고 ● 신고방법 ○\n",
      "방문신고 ■ 체류지 관할 청 ( 사무소 · 출장소 ) 직접방문 신고 ○ 팩스신고 (1577-1346) 및 하이코리아 전자민원\n",
      "( www.hikorea.go.kr) ■ 체류지 관할 청 ( 사무소 · 출장소 ) 구분 없이 신고 가능 ( 시스템 상에서 자동\n",
      "구분 ...\n",
      "Score:  0.781\n",
      "\n",
      "Node ID: 14f7c5b8-e568-4efd-9487-fd457f60c2d3\n",
      "Text: 고용허가제 ● ｢ 외국인근로자의 고용 등에 관한 법률 ｣ 에 의거 , 사업주에게 외국인근로자의 고용을 허가하고 ,\n",
      "외국인 근로자에게는 당해 사업주에게 고용되는 조건으로 최장 4 년 10 개월간 취업을 허용하는 인력제도로 , ‘04. 8 월\n",
      "제도 시행 이후 현재까지 16 개국과 MOU 를 체결하여 운영 ● 상시근로자 ( 고용보험 기준 ) 300 인 미만 또는 자본금\n",
      "80 억원 이하 중소기업에 외국인 고용허가 ● 고용허가제 선정국가 (16 개국 ) ○ 태국 , 필리핀 , 스리랑카 , 베트남\n",
      ", 인도네시아 , 몽골 , 파키스탄 , 우즈베키스탄 , 캄보디아 , 중국 , 방글라데시 , 네팔 , 미얀마 , 키르기스스탄 ,\n",
      "동...\n",
      "Score:  0.758\n",
      "\n",
      "Node ID: 83080f5c-da85-49c5-9491-2a493fbb51f0\n",
      "Text: 고용허가제 해당자가 근무처 ( 직장 ) 를 변경할 수 있는 조건 ● 외국인근로자는 외국인고용법 제 25 조 및\n",
      "동법시행령 제 30 조상에 규정된 사업장 변경 사유에 해당할 경우에 한하여 사업장 변경 가능 ● 사용자가 정당한 사유 * 로\n",
      "근로계약기간 중 근로계약을 해지하고자 하거나 근로계약이 만료된 후 갱신을 거절하고자 하는 경우 ○ 정당한 사유란 근로자의 귀책\n",
      "등으로 인한 해고 , 근로계약의 기간만료 , 근로계약 해지 등이 포함 ● 휴업 ․ 폐업 그 밖의 외국인근로자의 책임이 아닌\n",
      "사유로 그 사업장에서 근로를 계속할 수 없게 되었다고 인정되는 경우 ● 외국인근로자 고용허가의 취소 또는 고용의 제한 조치가\n",
      "행하여진 ...\n",
      "Score:  0.753\n",
      "\n"
     ]
    }
   ],
   "source": [
    "query = \"외국인노동자를 회사에서 고용변동을 신고해야 하는 기한은?\"\n",
    "\n",
    "retrievals1 = base_retriever1.retrieve(query)\n",
    "retrievals2 = base_retriever2.retrieve(query)\n",
    "\n",
    "pretty_print(retrievals1, retrievals2)"
   ]
  },
  {
   "cell_type": "code",
   "execution_count": 41,
   "metadata": {},
   "outputs": [
    {
     "name": "stdout",
     "output_type": "stream",
     "text": [
      "외국인 노동자를 고용한 회사에서 고용 변동을 신고해야 하는 기한은 사유가 발생한 날로부터 15일 이내입니다."
     ]
    }
   ],
   "source": [
    "response = query_engine1.query(query)\n",
    "response.print_response_stream()"
   ]
  },
  {
   "cell_type": "code",
   "execution_count": 42,
   "metadata": {},
   "outputs": [
    {
     "name": "stdout",
     "output_type": "stream",
     "text": [
      "외국인 노동자를 고용한 자가 고용변동을 신고해야 하는 기한은 사유 발생일로부터 15일 이내입니다."
     ]
    }
   ],
   "source": [
    "response = query_engine2.query(query)\n",
    "response.print_response_stream()"
   ]
  },
  {
   "cell_type": "code",
   "execution_count": null,
   "metadata": {},
   "outputs": [],
   "source": [
    "query = \"외국인노동자를 회사에서 고용변동을 신고해야 하는 기한은?\"\n",
    "\n",
    "retrievals1 = base_retriever1.retrieve(query)\n",
    "retrievals2 = base_retriever2.retrieve(query)\n",
    "\n",
    "pretty_print(retrievals1, retrievals2)"
   ]
  }
 ],
 "metadata": {
  "kernelspec": {
   "display_name": "pyautogen",
   "language": "python",
   "name": "python3"
  },
  "language_info": {
   "codemirror_mode": {
    "name": "ipython",
    "version": 3
   },
   "file_extension": ".py",
   "mimetype": "text/x-python",
   "name": "python",
   "nbconvert_exporter": "python",
   "pygments_lexer": "ipython3",
   "version": "3.10.14"
  }
 },
 "nbformat": 4,
 "nbformat_minor": 2
}
