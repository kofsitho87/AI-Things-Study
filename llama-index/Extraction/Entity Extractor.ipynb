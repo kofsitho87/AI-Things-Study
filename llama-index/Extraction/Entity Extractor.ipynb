{
 "cells": [
  {
   "cell_type": "markdown",
   "metadata": {},
   "source": [
    "# Entity Metadata Extraction\n",
    "\n",
    "이 데모에서는 새로운 EntityExtractor를 사용하여 메타데이터에 저장된 각 노드에서 엔터티를 추출합니다. \n",
    "\n",
    "기본 모델은 tomaarsen입니다."
   ]
  },
  {
   "cell_type": "code",
   "execution_count": 1,
   "metadata": {},
   "outputs": [
    {
     "data": {
      "text/plain": [
       "True"
      ]
     },
     "execution_count": 1,
     "metadata": {},
     "output_type": "execute_result"
    }
   ],
   "source": [
    "import logging\n",
    "import sys\n",
    "import os\n",
    "\n",
    "logging.basicConfig(stream=sys.stdout, level=logging.INFO)\n",
    "logging.getLogger().addHandler(logging.StreamHandler(stream=sys.stdout))\n",
    "\n",
    "from dotenv import load_dotenv\n",
    "load_dotenv()"
   ]
  },
  {
   "cell_type": "markdown",
   "metadata": {},
   "source": [
    "#### Load the data"
   ]
  },
  {
   "cell_type": "code",
   "execution_count": 2,
   "metadata": {},
   "outputs": [],
   "source": [
    "import json\n",
    "\n",
    "with open('E-9_Visa_Docs.json', 'r') as f:\n",
    "    visa_docs_json = json.load(f)\n",
    "\n",
    "\n",
    "\"\"\" Load Documents from JSON file \"\"\"\n",
    "\n",
    "from llama_index.core.schema import Document\n",
    "visa_docs = [\n",
    "    Document(\n",
    "        text=doc[\"text\"], \n",
    "        metadata=doc[\"metadata\"], \n",
    "        excluded_llm_metadata_keys=doc[\"excluded_llm_metadata_keys\"], \n",
    "        excluded_embed_metadata_keys=doc[\"excluded_embed_metadata_keys\"],\n",
    "    ) \n",
    "    for doc in visa_docs_json\n",
    "]"
   ]
  },
  {
   "cell_type": "markdown",
   "metadata": {},
   "source": [
    "#### Setup the Extractor and Parser"
   ]
  },
  {
   "cell_type": "code",
   "execution_count": 3,
   "metadata": {},
   "outputs": [
    {
     "name": "stdout",
     "output_type": "stream",
     "text": [
      "INFO:datasets:PyTorch version 2.2.1 available.\n",
      "PyTorch version 2.2.1 available.\n"
     ]
    },
    {
     "data": {
      "application/vnd.jupyter.widget-view+json": {
       "model_id": "d1da99361a384b21af7be6e2113f5bbe",
       "version_major": 2,
       "version_minor": 0
      },
      "text/plain": [
       "config.json:   0%|          | 0.00/5.08k [00:00<?, ?B/s]"
      ]
     },
     "metadata": {},
     "output_type": "display_data"
    },
    {
     "data": {
      "application/vnd.jupyter.widget-view+json": {
       "model_id": "ad73d91cf0b94d52a51bf9249ae1c285",
       "version_major": 2,
       "version_minor": 0
      },
      "text/plain": [
       "model.safetensors:   0%|          | 0.00/712M [00:00<?, ?B/s]"
      ]
     },
     "metadata": {},
     "output_type": "display_data"
    },
    {
     "data": {
      "application/vnd.jupyter.widget-view+json": {
       "model_id": "b04f7b9ea1004971b0601b2784e8c4d5",
       "version_major": 2,
       "version_minor": 0
      },
      "text/plain": [
       "config.json:   0%|          | 0.00/625 [00:00<?, ?B/s]"
      ]
     },
     "metadata": {},
     "output_type": "display_data"
    },
    {
     "data": {
      "application/vnd.jupyter.widget-view+json": {
       "model_id": "60bcc1ec02fa4f5798e3f84d68293756",
       "version_major": 2,
       "version_minor": 0
      },
      "text/plain": [
       "tokenizer_config.json:   0%|          | 0.00/49.0 [00:00<?, ?B/s]"
      ]
     },
     "metadata": {},
     "output_type": "display_data"
    },
    {
     "data": {
      "application/vnd.jupyter.widget-view+json": {
       "model_id": "f7b028b4434d47c884c1c865321a4da2",
       "version_major": 2,
       "version_minor": 0
      },
      "text/plain": [
       "vocab.txt:   0%|          | 0.00/996k [00:00<?, ?B/s]"
      ]
     },
     "metadata": {},
     "output_type": "display_data"
    },
    {
     "data": {
      "application/vnd.jupyter.widget-view+json": {
       "model_id": "9a1cbacb1c6343428c39c6905ae1e5e8",
       "version_major": 2,
       "version_minor": 0
      },
      "text/plain": [
       "tokenizer.json:   0%|          | 0.00/1.96M [00:00<?, ?B/s]"
      ]
     },
     "metadata": {},
     "output_type": "display_data"
    }
   ],
   "source": [
    "from llama_index.extractors.entity import EntityExtractor\n",
    "from llama_index.core.node_parser import SentenceSplitter\n",
    "\n",
    "entity_extractor = EntityExtractor(\n",
    "    prediction_threshold=0.5,\n",
    "    label_entities=False,  # include the entity label in the metadata (can be erroneous)\n",
    "    device=\"cpu\",  # set to \"cuda\" if you have a GPU\n",
    ")\n",
    "\n",
    "node_parser = SentenceSplitter()\n",
    "\n",
    "transformations = [node_parser, entity_extractor]"
   ]
  },
  {
   "cell_type": "markdown",
   "metadata": {},
   "source": [
    "#### Extracting Metadata\n",
    "\n",
    "CPU에서 실행되지 않으므로 지금은 문서의 하위 집합에서만 실행하겠습니다. 그래도 모든 문서에 대해 자유롭게 실행해 보세요!"
   ]
  },
  {
   "cell_type": "code",
   "execution_count": 10,
   "metadata": {},
   "outputs": [],
   "source": [
    "import nest_asyncio\n",
    "nest_asyncio.apply()"
   ]
  },
  {
   "cell_type": "code",
   "execution_count": 11,
   "metadata": {},
   "outputs": [
    {
     "data": {
      "application/vnd.jupyter.widget-view+json": {
       "model_id": "44741999a755458b809cabb55fd41ffb",
       "version_major": 2,
       "version_minor": 0
      },
      "text/plain": [
       "Extracting entities:   0%|          | 0/2 [00:00<?, ?it/s]"
      ]
     },
     "metadata": {},
     "output_type": "display_data"
    }
   ],
   "source": [
    "from llama_index.core.ingestion import IngestionPipeline\n",
    "\n",
    "\n",
    "pipeline = IngestionPipeline(transformations=transformations)\n",
    "nodes = pipeline.run(documents=visa_docs[1:3])"
   ]
  },
  {
   "cell_type": "code",
   "execution_count": 6,
   "metadata": {},
   "outputs": [
    {
     "name": "stdout",
     "output_type": "stream",
     "text": [
      "{'page_label': 2, 'total_pages': 19, 'document_title': '고용허가제 법률적 개요와 고용허가제 선정국가', 'questions_this_excerpt_can_answer': '1. 고용허가제에 따라 외국인 근로자가 한국에서 최장으로 취업할 수 있는 기간은 얼마인가요?\\n2. 고용허가제 선정국가는 총 몇 개국이며, 그 중에는 어떤 나라들이 포함되어 있나요?', 'prev_section_summary': '이 문서는 E-9 비자 가이드에 대한 내용을 담고 있습니다. 고용허가제 해당자의 사증 발급 절차, 허용 업종 및 체류 자격, 사증 발급 인정서 발급 절차 등에 대해 설명하고 있습니다. 또한, 고용허가제 해당자가 근무처를 변경할 수 있는 조건과 그 절차, 필요한 제출 서류 등에 대한 정보도 포함하고 있습니다. 이 외에도 고용허가제 해당자의 체류자격 변경 허가, 체류 기간 연장 허가, 재입국 허가, 외국인 등록, 고용 변동 신고 등에 대한 내용도 다루고 있습니다.', 'section_summary': '이 문서는 한국의 고용허가제에 대한 법률적 개요와 고용허가제 선정국가에 대해 설명하고 있습니다. 고용허가제는 외국인 근로자에게 최장 4년 10개월간 취업을 허용하는 인력제도로, 사업주에게 외국인 근로자의 고용을 허가합니다. 이 제도는 2004년 8월부터 시행되어 왔으며, 현재까지 16개국과 MOU를 체결하고 있습니다. 또한, 상시 근로자(고용보험 기준) 300인 미만 또는 자본금 80억원 이하의 중소기업에 외국인 고용허가를 내주고 있습니다. 고용허가제 선정국가로는 태국, 필리핀, 스리랑카, 베트남, 인도네시아, 몽골, 파키스탄, 우즈베키스탄, 캄보디아, 중국, 방글라데시, 네팔, 미얀마, 키르기스스탄, 동티모르, 라오스 등 총 16개국이 포함되어 있습니다.', 'excerpt_keywords': '고용허가제, 외국인 근로자, 취업 허용 기간, 선정국가, 중소기업'}\n",
      "{'page_label': 3, 'total_pages': 19, 'document_title': '고용허가제 해당자와 활동범위', 'questions_this_excerpt_can_answer': '1) 고용허가제 활동범위에는 어떤 것이 포함되어 있나요?\\n2) 고용허가제의 해당자는 어떤 조건을 갖추어야 하나요?', 'prev_section_summary': '이 문서는 한국의 고용허가제에 대한 법률적 개요와 고용허가제 선정국가에 대해 설명하고 있습니다. 고용허가제는 외국인 근로자에게 최장 4년 10개월간 취업을 허용하는 인력제도로, 사업주에게 외국인 근로자의 고용을 허가합니다. 이 제도는 2004년 8월부터 시행되어 왔으며, 현재까지 16개국과 MOU를 체결하고 있습니다. 또한, 상시 근로자(고용보험 기준) 300인 미만 또는 자본금 80억원 이하의 중소기업에 외국인 고용허가를 내주고 있습니다. 고용허가제 선정국가로는 태국, 필리핀, 스리랑카, 베트남, 인도네시아, 몽골, 파키스탄, 우즈베키스탄, 캄보디아, 중국, 방글라데시, 네팔, 미얀마, 키르기스스탄, 동티모르, 라오스 등 총 16개국이 포함되어 있습니다.', 'section_summary': '이 문서는 E-9 비자 가이드로, 고용허가제의 해당자와 활동범위에 대해 설명하고 있습니다. 활동범위는 외국인근로자의 고용 등에 관한 법률의 규정에 의한 국내취업을 포함하고 있습니다. 해당자는 외국인근로자의 고용 등에 관한 법률의 규정에 의한 국내 취업요건을 갖춘 자를 의미하며, 단, 일정 자격이나 경력 등이 필요한 전문직종에 종사하고자 하는 자는 제외됩니다.', 'excerpt_keywords': '고용허가제, 활동범위, 해당자, 외국인근로자, 전문직종'}\n"
     ]
    }
   ],
   "source": [
    "for doc in visa_docs[1:3]:\n",
    "    print(doc.metadata)"
   ]
  },
  {
   "cell_type": "code",
   "execution_count": 16,
   "metadata": {},
   "outputs": [
    {
     "name": "stdout",
     "output_type": "stream",
     "text": [
      "{'page_label': 2, 'total_pages': 19, 'document_title': '고용허가제 법률적 개요와 고용허가제 선정국가', 'questions_this_excerpt_can_answer': '1. 고용허가제에 따라 외국인 근로자가 한국에서 최장으로 취업할 수 있는 기간은 얼마인가요?\\n2. 고용허가제 선정국가는 총 몇 개국이며, 그 중에는 어떤 나라들이 포함되어 있나요?', 'prev_section_summary': '이 문서는 E-9 비자 가이드에 대한 내용을 담고 있습니다. 고용허가제 해당자의 사증 발급 절차, 허용 업종 및 체류 자격, 사증 발급 인정서 발급 절차 등에 대해 설명하고 있습니다. 또한, 고용허가제 해당자가 근무처를 변경할 수 있는 조건과 그 절차, 필요한 제출 서류 등에 대한 정보도 포함하고 있습니다. 이 외에도 고용허가제 해당자의 체류자격 변경 허가, 체류 기간 연장 허가, 재입국 허가, 외국인 등록, 고용 변동 신고 등에 대한 내용도 다루고 있습니다.', 'section_summary': '이 문서는 한국의 고용허가제에 대한 법률적 개요와 고용허가제 선정국가에 대해 설명하고 있습니다. 고용허가제는 외국인 근로자에게 최장 4년 10개월간 취업을 허용하는 인력제도로, 사업주에게 외국인 근로자의 고용을 허가합니다. 이 제도는 2004년 8월부터 시행되어 왔으며, 현재까지 16개국과 MOU를 체결하고 있습니다. 또한, 상시 근로자(고용보험 기준) 300인 미만 또는 자본금 80억원 이하의 중소기업에 외국인 고용허가를 내주고 있습니다. 고용허가제 선정국가로는 태국, 필리핀, 스리랑카, 베트남, 인도네시아, 몽골, 파키스탄, 우즈베키스탄, 캄보디아, 중국, 방글라데시, 네팔, 미얀마, 키르기스스탄, 동티모르, 라오스 등 총 16개국이 포함되어 있습니다.', 'excerpt_keywords': '고용허가제, 외국인 근로자, 취업 허용 기간, 선정국가, 중소기업'}\n",
      "{'page_label': 3, 'total_pages': 19, 'document_title': '고용허가제 해당자와 활동범위', 'questions_this_excerpt_can_answer': '1) 고용허가제 활동범위에는 어떤 것이 포함되어 있나요?\\n2) 고용허가제의 해당자는 어떤 조건을 갖추어야 하나요?', 'prev_section_summary': '이 문서는 한국의 고용허가제에 대한 법률적 개요와 고용허가제 선정국가에 대해 설명하고 있습니다. 고용허가제는 외국인 근로자에게 최장 4년 10개월간 취업을 허용하는 인력제도로, 사업주에게 외국인 근로자의 고용을 허가합니다. 이 제도는 2004년 8월부터 시행되어 왔으며, 현재까지 16개국과 MOU를 체결하고 있습니다. 또한, 상시 근로자(고용보험 기준) 300인 미만 또는 자본금 80억원 이하의 중소기업에 외국인 고용허가를 내주고 있습니다. 고용허가제 선정국가로는 태국, 필리핀, 스리랑카, 베트남, 인도네시아, 몽골, 파키스탄, 우즈베키스탄, 캄보디아, 중국, 방글라데시, 네팔, 미얀마, 키르기스스탄, 동티모르, 라오스 등 총 16개국이 포함되어 있습니다.', 'section_summary': '이 문서는 E-9 비자 가이드로, 고용허가제의 해당자와 활동범위에 대해 설명하고 있습니다. 활동범위는 외국인근로자의 고용 등에 관한 법률의 규정에 의한 국내취업을 포함하고 있습니다. 해당자는 외국인근로자의 고용 등에 관한 법률의 규정에 의한 국내 취업요건을 갖춘 자를 의미하며, 단, 일정 자격이나 경력 등이 필요한 전문직종에 종사하고자 하는 자는 제외됩니다.', 'excerpt_keywords': '고용허가제, 활동범위, 해당자, 외국인근로자, 전문직종'}\n"
     ]
    }
   ],
   "source": [
    "for node in nodes:\n",
    "    print(node.metadata)"
   ]
  },
  {
   "cell_type": "code",
   "execution_count": null,
   "metadata": {},
   "outputs": [],
   "source": []
  },
  {
   "cell_type": "markdown",
   "metadata": {},
   "source": []
  }
 ],
 "metadata": {
  "kernelspec": {
   "display_name": "visa_chatbot1",
   "language": "python",
   "name": "python3"
  },
  "language_info": {
   "codemirror_mode": {
    "name": "ipython",
    "version": 3
   },
   "file_extension": ".py",
   "mimetype": "text/x-python",
   "name": "python",
   "nbconvert_exporter": "python",
   "pygments_lexer": "ipython3",
   "version": "3.11.8"
  }
 },
 "nbformat": 4,
 "nbformat_minor": 2
}
