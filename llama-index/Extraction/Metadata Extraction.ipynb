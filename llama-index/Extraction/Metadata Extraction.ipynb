{
 "cells": [
  {
   "cell_type": "markdown",
   "metadata": {},
   "source": [
    "# 메타데이터 추출: 더 나은 문서 색인화 및 이해를 위한 메타데이터 실행\n",
    "\n",
    "\n",
    "많은 경우, 특히 긴 문서의 경우 텍스트 덩어리에는 다른 유사한 텍스트 덩어리와 해당 덩어리를 구분하는 데 필요한 컨텍스트가 부족할 수 있습니다.    \n",
    "이 문제를 해결하는 한 가지 방법은 데이터 세트 또는 지식 기반의 각 청크에 수동으로 레이블을 지정하는 것입니다.   \n",
    "그러나 문서 수가 많거나 지속적으로 업데이트되는 문서 세트의 경우 이는 노동 집약적이고 시간 소모적일 수 있습니다.\n",
    "\n",
    "이 문제를 해결하기 위해 우리는 LLM을 사용하여외부검색 및 언어 모델이 유사해 보이는 구절을 명확하게 구분하는 데 도움이 되도록 문서와 관련된 특정 문맥 정보를 작동합니다."
   ]
  },
  {
   "cell_type": "code",
   "execution_count": 2,
   "metadata": {},
   "outputs": [
    {
     "data": {
      "text/plain": [
       "True"
      ]
     },
     "execution_count": 2,
     "metadata": {},
     "output_type": "execute_result"
    }
   ],
   "source": [
    "import nest_asyncio\n",
    "nest_asyncio.apply()\n",
    "\n",
    "from dotenv import load_dotenv\n",
    "load_dotenv()"
   ]
  },
  {
   "cell_type": "code",
   "execution_count": 3,
   "metadata": {},
   "outputs": [],
   "source": [
    "from llama_index.core import SimpleDirectoryReader\n",
    "from llama_index.readers.file import PyMuPDFReader\n",
    "\n",
    "\n",
    "root_path = \"../../../Documents\"\n",
    "visa_pdf_file_path = f\"{root_path}/E-9 Visa Guide_한국어.pdf\"\n",
    "\n",
    "visa_docs = PyMuPDFReader().load_data(file_path=visa_pdf_file_path, metadata=True)"
   ]
  },
  {
   "cell_type": "code",
   "execution_count": 4,
   "metadata": {},
   "outputs": [
    {
     "data": {
      "text/plain": [
       "21"
      ]
     },
     "execution_count": 4,
     "metadata": {},
     "output_type": "execute_result"
    }
   ],
   "source": [
    "len(visa_docs)"
   ]
  },
  {
   "cell_type": "code",
   "execution_count": 5,
   "metadata": {},
   "outputs": [
    {
     "name": "stdout",
     "output_type": "stream",
     "text": [
      "{'total_pages': 21, 'file_path': '../../../Documents/E-9 Visa Guide_한국어.pdf', 'source': '1'}\n",
      "E-9 Visa Guide - 한국어\n",
      "고용허가제\n",
      "고용허가제해당자와활동범위\n",
      "고용허가제해당자의\n",
      "\n",
      "\n",
      "\n",
      "{'total_pages': 21, 'file_path': '../../../Documents/E-9 Visa Guide_한국어.pdf', 'source': '2'}\n",
      "고용허가제\n",
      "●\n",
      "｢외국인근로자의고용등에관한법률｣에의거, 사업주에게외국인근로자의\n",
      "고용을허가하고\n",
      "\n",
      "\n",
      "\n",
      "{'total_pages': 21, 'file_path': '../../../Documents/E-9 Visa Guide_한국어.pdf', 'source': '3'}\n",
      "고용허가제해당자와활동범위\n",
      "●\n",
      "활동범위\n",
      "○\n",
      "외국인근로자의고용등에관한법률의규정에의한국내취업\n",
      "●\n",
      "\n",
      "\n",
      "\n",
      "{'total_pages': 21, 'file_path': '../../../Documents/E-9 Visa Guide_한국어.pdf', 'source': '4'}\n",
      "고용허가제해당자의사증발급후1회체류기간의상한\n",
      "●\n",
      "3년\n",
      "\n",
      "\n",
      "\n",
      "\n",
      "{'total_pages': 21, 'file_path': '../../../Documents/E-9 Visa Guide_한국어.pdf', 'source': '5'}\n",
      "고용허가제해당자의사증발급허용업종및체류자격약호(기호): E-9 근로자를채용할수있는\n",
      "업종과범위\n",
      "\n",
      "\n",
      "\n",
      "{'total_pages': 21, 'file_path': '../../../Documents/E-9 Visa Guide_한국어.pdf', 'source': '6'}\n",
      "고용허가제해당자는사증발급인정서를받아야만E-9 사증을\n",
      "발급받을수있음\n",
      "●\n",
      "비전문취업(E-9) \n",
      "\n",
      "\n",
      "\n",
      "{'total_pages': 21, 'file_path': '../../../Documents/E-9 Visa Guide_한국어.pdf', 'source': '7'}\n",
      "고용허가제해당자는2012.8.1부터범죄경력증명서및\n",
      "건강상태확인서제출\n",
      "●\n",
      "범죄경력확인관련\n",
      "○\n",
      "\n",
      "\n",
      "\n",
      "{'total_pages': 21, 'file_path': '../../../Documents/E-9 Visa Guide_한국어.pdf', 'source': '8'}\n",
      "고용허가제비전문취업(E-9) 자격사증발급인정서발급절차\n",
      "●\n",
      "접수/신청방법\n",
      "○\n",
      "비전문취업자를초\n",
      "\n",
      "\n",
      "\n",
      "{'total_pages': 21, 'file_path': '../../../Documents/E-9 Visa Guide_한국어.pdf', 'source': '9'}\n",
      "고용허가제해당자의재입국특례제도(구성실근로자제도)\n",
      "●\n",
      "재입국특례제도란\n",
      "○\n",
      "일정한요건을갖춘성실\n",
      "\n",
      "\n",
      "\n",
      "{'total_pages': 21, 'file_path': '../../../Documents/E-9 Visa Guide_한국어.pdf', 'source': '10'}\n",
      "고용허가제해당자재입국특례자에대한사증신청및발급방법\n",
      "●\n",
      "사증발급방법\n",
      "○\n",
      "출입국ㆍ외국인청(사무소\n",
      "\n",
      "\n",
      "\n",
      "{'total_pages': 21, 'file_path': '../../../Documents/E-9 Visa Guide_한국어.pdf', 'source': '11'}\n",
      "고용허가제해당자의재입국특례자에대한우대내용\n",
      "●\n",
      "사업주\n",
      "○\n",
      "(내국인구인노력면제) 고용허가서발급\n",
      "\n",
      "\n",
      "\n",
      "{'total_pages': 21, 'file_path': '../../../Documents/E-9 Visa Guide_한국어.pdf', 'source': '12'}\n",
      "고용허가제해당자의체류자격외활동\n",
      "●\n",
      "체류자격외활동억제: 체류자격외의활동은최대한허용하지않고있습\n",
      "\n",
      "\n",
      "\n",
      "{'total_pages': 21, 'file_path': '../../../Documents/E-9 Visa Guide_한국어.pdf', 'source': '13'}\n",
      "고용허가제해당자의근무처(직장)의변경\n",
      "●\n",
      "출입국관리법」제21조및「외국인고용법」제25조에의거,\n",
      "\n",
      "\n",
      "\n",
      "{'total_pages': 21, 'file_path': '../../../Documents/E-9 Visa Guide_한국어.pdf', 'source': '14'}\n",
      "고용허가제해당자가근무처(직장)를변경할수있는조건\n",
      "●\n",
      "외국인근로자는외국인고용법제25조및동법시행\n",
      "\n",
      "\n",
      "\n",
      "{'total_pages': 21, 'file_path': '../../../Documents/E-9 Visa Guide_한국어.pdf', 'source': '15'}\n",
      "고용허가제해당자가근무처(직장)를변경하는절차및제출서류\n",
      "●\n",
      "근무처(직장) 변경절차\n",
      "○\n",
      "사용자와\n",
      "\n",
      "\n",
      "\n",
      "{'total_pages': 21, 'file_path': '../../../Documents/E-9 Visa Guide_한국어.pdf', 'source': '16'}\n",
      "고용허가제농업분야외국인근로자의근무처(직장) 추가\n",
      "●\n",
      "계절적으로업무량의차이가큰일부농업분야에근\n",
      "\n",
      "\n",
      "\n",
      "{'total_pages': 21, 'file_path': '../../../Documents/E-9 Visa Guide_한국어.pdf', 'source': '17'}\n",
      "고용허가제해당자의체류자격변경허가- 사증변경\n",
      "●\n",
      "기타자격(G-1) 사증소지자의비전문취업(E-\n",
      "\n",
      "\n",
      "\n",
      "{'total_pages': 21, 'file_path': '../../../Documents/E-9 Visa Guide_한국어.pdf', 'source': '18'}\n",
      "고용허가제해당자의체류기간연장허가- 사증연장\n",
      "●\n",
      "제출서류\n",
      "○\n",
      "신청서(별지34호서식), 여권및\n",
      "\n",
      "\n",
      "\n",
      "{'total_pages': 21, 'file_path': '../../../Documents/E-9 Visa Guide_한국어.pdf', 'source': '19'}\n",
      "고용허가제해당자의재입국허가\n",
      "●\n",
      "재입국허가면제제도시행(’10.12.1.자개정시행규칙)\n",
      "○\n",
      "등\n",
      "\n",
      "\n",
      "\n",
      "{'total_pages': 21, 'file_path': '../../../Documents/E-9 Visa Guide_한국어.pdf', 'source': '20'}\n",
      "고용허가제해당자의외국인등록\n",
      "●\n",
      "외국인등록신청서류\n",
      "○\n",
      "신청서(별지34호서식), 여권원본, 표\n",
      "\n",
      "\n",
      "\n",
      "{'total_pages': 21, 'file_path': '../../../Documents/E-9 Visa Guide_한국어.pdf', 'source': '21'}\n",
      "고용허가제해당자의고용변동신고\n",
      "●\n",
      "신고의무자\n",
      "○\n",
      "비전문취업(E-9) 외국인근로자를고용한자\n",
      "●\n",
      "\n",
      "\n",
      "\n"
     ]
    }
   ],
   "source": [
    "for doc in visa_docs:\n",
    "    print(doc.metadata)\n",
    "    print(doc.text[:50] + \"\\n\\n\\n\")"
   ]
  },
  {
   "cell_type": "markdown",
   "metadata": {},
   "source": [
    "#### Metadata: document_title 지정하기"
   ]
  },
  {
   "cell_type": "code",
   "execution_count": 6,
   "metadata": {},
   "outputs": [],
   "source": [
    "visa_docs[0].metadata[\"document_title\"] = \"E-9 Visa Guide: 목차\"\n",
    "visa_docs[1].metadata[\"document_title\"] = \"고용허가제 법률적 개요와 고용허가제 선정국가\"\n",
    "visa_docs[2].metadata[\"document_title\"] = \"고용허가제 해당자와 활동범위\"\n",
    "visa_docs[3].metadata[\"document_title\"] = \"고용허가제 해당자의 사증발급 후 1회 체류기간의 상한\"\n",
    "visa_docs[4].metadata[\"document_title\"] = \"고용허가제 해당자의 사증발급 허용업종 및 체류자격 약호(기호): E-9 근로자를 채용할 수 있는 업종과 범위\"\n",
    "visa_docs[5].metadata[\"document_title\"] = \"고용허가제 해당자는 사증발급인정서를 받아야만 E-9 사증을 발급받을 수 있음\"\n",
    "visa_docs[6].metadata[\"document_title\"] = \"고용허가제 해당자는 2012.8.1부터 범죄경력증명서 및 건강상태확인서 제출\"\n",
    "visa_docs[7].metadata[\"document_title\"] = \"고용허가제 비전문취업(E-9) 자격 사증발급인정서 발급 절차\"\n",
    "visa_docs[8].metadata[\"document_title\"] = \"고용허가제 해당자의 재입국특례 제도(구 성실근로자 제도)\"\n",
    "visa_docs[9].metadata[\"document_title\"] = \"재입국특례자에 대한 사증 신청 및 발급 방법\"\n",
    "visa_docs[10].metadata[\"document_title\"] = \"고용허가제 해당자의 재입국특례자에 대한 우대 내용\"\n",
    "visa_docs[11].metadata[\"document_title\"] = \"고용허가제 해당자의 체류자격 외 활동\"\n",
    "visa_docs[12].metadata[\"document_title\"] = \"고용허가제 해당자의 근무처(직장)의 변경\"\n",
    "visa_docs[13].metadata[\"document_title\"] = \"고용허가제 해당자가 근무처(직장)를 변경할 수 있는 조건\"\n",
    "visa_docs[14].metadata[\"document_title\"] = \"고용허가제 해당자가 근무처(직장)를 변경하는 절차 및 제출 서류\"\n",
    "visa_docs[15].metadata[\"document_title\"] = \"고용허가제 농업 분야 외국인근로자의 근무처(직장) 추가\"\n",
    "visa_docs[16].metadata[\"document_title\"] = \"고용허가제 해당자의 체류자격 변경허가 - 사증 변경\"\n",
    "visa_docs[17].metadata[\"document_title\"] = \"고용허가제 해당자의 체류기간 연장 허가 - 사증 연장\"\n",
    "visa_docs[18].metadata[\"document_title\"] = \"고용허가제 해당자의 재입국허가\"\n",
    "visa_docs[19].metadata[\"document_title\"] = \"고용허가제 해당자의 외국인등록\"\n",
    "visa_docs[20].metadata[\"document_title\"] = \"고용허가제 해당자의 고용변동 신고\""
   ]
  },
  {
   "cell_type": "code",
   "execution_count": 7,
   "metadata": {},
   "outputs": [],
   "source": [
    "from llama_index.core.extractors import (\n",
    "    SummaryExtractor,\n",
    "    QuestionsAnsweredExtractor,\n",
    "    TitleExtractor,\n",
    "    KeywordExtractor,\n",
    ")\n",
    "from llama_index.core.ingestion import IngestionPipeline"
   ]
  },
  {
   "cell_type": "code",
   "execution_count": 8,
   "metadata": {},
   "outputs": [],
   "source": [
    "from llama_index.llms.openai import OpenAI\n",
    "\n",
    "llm = OpenAI(model=\"gpt-4-0613\")"
   ]
  },
  {
   "cell_type": "markdown",
   "metadata": {},
   "source": [
    "#### Extraction Metadata\n",
    "\n",
    "1. Question\n",
    "\n",
    "2. Summary\n",
    "3. Keyword"
   ]
  },
  {
   "cell_type": "code",
   "execution_count": 9,
   "metadata": {},
   "outputs": [
    {
     "name": "stderr",
     "output_type": "stream",
     "text": [
      "  0%|          | 0/2 [00:00<?, ?it/s]"
     ]
    },
    {
     "name": "stderr",
     "output_type": "stream",
     "text": [
      "100%|██████████| 2/2 [00:04<00:00,  2.50s/it]\n",
      "100%|██████████| 2/2 [00:19<00:00,  9.72s/it]\n",
      "100%|██████████| 2/2 [00:03<00:00,  1.53s/it]\n"
     ]
    }
   ],
   "source": [
    "qna_template = \"\"\"\\\n",
    "Here is the context:\n",
    "{context_str}\n",
    "\n",
    "Given the contextual information, \\\n",
    "generate {num_questions} questions this context can provide \\\n",
    "specific answers to which are unlikely to be found elsewhere.\n",
    "\n",
    "Higher-level summaries of surrounding context may be provided \\\n",
    "as well. Try using these summaries to generate better questions \\\n",
    "that this context can answer.\n",
    "\n",
    "You MUST response in Korean.\n",
    "\"\"\"\n",
    "\n",
    "summary_template = \"\"\"\\\n",
    "Here is the content of the section:\n",
    "{context_str}\n",
    "\n",
    "Summarize the key topics and entities of the section. \\\n",
    "You MUST response in Korean.\n",
    "\n",
    "Summary:\"\"\"\n",
    "\n",
    "transformations = [\n",
    "    # TitleExtractor(\n",
    "    #     nodes=1, \n",
    "    #     node_template=DEFAULT_TITLE_NODE_TEMPLATE, \n",
    "    #     combine_template=DEFAULT_TITLE_COMBINE_TEMPLATE, \n",
    "    #     llm=llm\n",
    "    # ),\n",
    "    QuestionsAnsweredExtractor(questions=2, llm=llm, prompt_template=qna_template),\n",
    "    SummaryExtractor(summaries=[\"prev\", \"self\"], llm=llm, prompt_template=summary_template),\n",
    "    KeywordExtractor(keywords=5, llm=llm),\n",
    "]\n",
    "\n",
    "pipeline = IngestionPipeline(transformations=transformations)\n",
    "\n",
    "documents = pipeline.run(documents=visa_docs[:2])"
   ]
  },
  {
   "cell_type": "code",
   "execution_count": 23,
   "metadata": {},
   "outputs": [
    {
     "name": "stdout",
     "output_type": "stream",
     "text": [
      "Questions:\n",
      "1. E-9 비자를 발급받기 위해 고용허가제 해당자가 제출해야 하는 서류는 무엇인가요?\n",
      "2. 고용허가제 해당자가 근무처를 변경하려면 어떤 절차를 거쳐야 하고, 어떤 서류를 제출해야 하나요?\n",
      "\n",
      "Keywords: E-9 비자, 고용허가제, 사증 발급, 근무처 변경, 체류 자격 변경\n",
      "\n",
      "Summary: 이 문서는 E-9 비자 가이드에 대한 내용을 담고 있습니다. 고용허가제 해당자와 그들의 활동 범위, 사증 발급 후 체류 기간, 허용 업종 및 체류 자격, 사증 발급 인정서 발급 절차 등에 대해 설명하고 있습니다. 또한, 고용허가제 해당자가 범죄 경력 증명서와 건강 상태 확인서를 제출해야 하는 점, 비전문 취업(E-9) 자격 사증 발급 인정서 발급 절차, 재입국 특례 제도, 사증 신청 및 발급 방법, 우대 내용 등에 대해 다루고 있습니다. 그 외에도 근무처 변경에 대한 조건과 절차, 농업 분야 외국인 근로자의 근무처 추가, 체류 자격 변경 허가, 체류 기간 연장 허가, 재입국 허가, 외국인 등록, 고용 변동 신고 등에 대한 정보도 포함하고 있습니다.\n",
      "--------------------------------------------------------------------------\n",
      "Questions:\n",
      "1. 고용허가제에 따라 외국인 근로자가 한국에서 최장으로 취업할 수 있는 기간은 얼마인가요?\n",
      "2. 고용허가제 선정국가는 총 몇 개국이며, 그 중 몇 개의 국가를 예시로 들 수 있나요?\n",
      "\n",
      "Keywords: 고용허가제, 외국인 근로자, 최장 취업 기간, MOU, 선정국가\n",
      "\n",
      "Summary: 이 문서는 한국의 고용허가제에 대해 설명하고 있습니다. 고용허가제는 외국인 근로자의 고용을 허가하는 인력제도로, 사업주에게 외국인 근로자의 고용을 허가하고, 외국인 근로자에게는 해당 사업주에게 고용되는 조건으로 최장 4년 10개월간 취업을 허용합니다. 이 제도는 2004년 8월부터 시행되어 왔으며, 현재까지 16개국과 MOU를 체결하였습니다. 고용허가제 선정국가로는 태국, 필리핀, 스리랑카, 베트남, 인도네시아, 몽골, 파키스탄, 우즈베키스탄, 캄보디아, 중국, 방글라데시, 네팔, 미얀마, 키르기스스탄, 동티모르, 라오스 등이 있습니다.\n",
      "--------------------------------------------------------------------------\n"
     ]
    }
   ],
   "source": [
    "for doc in documents:\n",
    "    print(f\"Questions:\\n{doc.metadata['questions_this_excerpt_can_answer']}\")\n",
    "    print()\n",
    "    print(f\"Keywords: {doc.metadata['excerpt_keywords']}\")\n",
    "    print()\n",
    "    print(f\"Summary: {doc.metadata['section_summary']}\")\n",
    "    print(\"--------------------------------------------------------------------------\")"
   ]
  }
 ],
 "metadata": {
  "kernelspec": {
   "display_name": "pyautogen",
   "language": "python",
   "name": "python3"
  },
  "language_info": {
   "codemirror_mode": {
    "name": "ipython",
    "version": 3
   },
   "file_extension": ".py",
   "mimetype": "text/x-python",
   "name": "python",
   "nbconvert_exporter": "python",
   "pygments_lexer": "ipython3",
   "version": "3.11.8"
  }
 },
 "nbformat": 4,
 "nbformat_minor": 2
}
