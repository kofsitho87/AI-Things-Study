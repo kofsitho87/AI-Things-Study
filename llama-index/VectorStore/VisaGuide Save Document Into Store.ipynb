{
 "cells": [
  {
   "cell_type": "code",
   "execution_count": 1,
   "metadata": {},
   "outputs": [],
   "source": [
    "from data.visa_kor_docs import VisaDocuments\n",
    "lang_docs = VisaDocuments"
   ]
  },
  {
   "cell_type": "code",
   "execution_count": null,
   "metadata": {},
   "outputs": [],
   "source": [
    "# with open(\"data/E-9_Visa_Guide_한국어.json\", \"w\") as fp:\n",
    "#     json.dump(arr_docs, fp)"
   ]
  },
  {
   "cell_type": "code",
   "execution_count": 10,
   "metadata": {},
   "outputs": [
    {
     "name": "stdout",
     "output_type": "stream",
     "text": [
      "20\n"
     ]
    }
   ],
   "source": [
    "import json\n",
    "# from langchain.schema import Document\n",
    "from llama_index.core import Document\n",
    "from llama_index.core import VectorStoreIndex, Settings\n",
    "\n",
    "def get_doc(doc, page):\n",
    "    return Document(\n",
    "        text=doc.page_content, \n",
    "        metadata={\n",
    "            \"page_label\": page,\n",
    "            \"document_title\": doc.metadata[\"document_title\"],\n",
    "            \"questions_this_excerpt_can_answer\": doc.metadata[\"questions_this_excerpt_can_answer\"],\n",
    "            \"section_summary\": doc.metadata[\"section_summary\"],\n",
    "            \"excerpt_keywords\": doc.metadata[\"excerpt_keywords\"],\n",
    "        },\n",
    "    )\n",
    "\n",
    "arr_docs = [get_doc(doc, idx + 1) for idx, doc in enumerate(lang_docs)]\n",
    "\n",
    "print(len(arr_docs))\n",
    "doc_nodes = Settings.node_parser.get_nodes_from_documents(arr_docs)"
   ]
  },
  {
   "cell_type": "code",
   "execution_count": 12,
   "metadata": {},
   "outputs": [],
   "source": [
    "from llama_index.core import VectorStoreIndex, SimpleDirectoryReader\n",
    "from llama_index.vector_stores.chroma import ChromaVectorStore\n",
    "from llama_index.core import StorageContext\n",
    "from IPython.display import Markdown, display\n",
    "import chromadb"
   ]
  },
  {
   "cell_type": "code",
   "execution_count": null,
   "metadata": {},
   "outputs": [],
   "source": [
    "from llama_index.core import SimpleDirectoryReader\n",
    "\n",
    "reader = SimpleDirectoryReader(input_files=[\"data/visa_docs/E-9 Visa Guide_한국어2.pdf\"])\n",
    "docs = reader.load_data()"
   ]
  },
  {
   "cell_type": "code",
   "execution_count": 18,
   "metadata": {},
   "outputs": [
    {
     "data": {
      "application/vnd.jupyter.widget-view+json": {
       "model_id": "528f25169de94f67a0d582ab2686b115",
       "version_major": 2,
       "version_minor": 0
      },
      "text/plain": [
       "Parsing nodes:   0%|          | 0/20 [00:00<?, ?it/s]"
      ]
     },
     "metadata": {},
     "output_type": "display_data"
    },
    {
     "data": {
      "application/vnd.jupyter.widget-view+json": {
       "model_id": "0e63562482f0401eb8ed8a3bc7b70784",
       "version_major": 2,
       "version_minor": 0
      },
      "text/plain": [
       "Generating embeddings:   0%|          | 0/45 [00:00<?, ?it/s]"
      ]
     },
     "metadata": {},
     "output_type": "display_data"
    }
   ],
   "source": [
    "\"\"\" SAVE TO LOCAL\"\"\"\n",
    "db = chromadb.PersistentClient(path=\"./storage4\")\n",
    "chroma_collection = db.get_or_create_collection(\"E9_VISA\")\n",
    "\n",
    "vector_store = ChromaVectorStore(chroma_collection=chroma_collection)\n",
    "storage_context = StorageContext.from_defaults(vector_store=vector_store)\n",
    "\n",
    "index = VectorStoreIndex.from_documents(\n",
    "    documents=arr_docs, \n",
    "    storage_context=storage_context,\n",
    "    show_progress=True\n",
    ")"
   ]
  },
  {
   "cell_type": "code",
   "execution_count": 19,
   "metadata": {},
   "outputs": [],
   "source": [
    "\"\"\" Load DB From Local\"\"\"\n",
    "\n",
    "# db = chromadb.PersistentClient(path=\"./storage\")\n",
    "# chroma_collection = db.get_collection(\"E-9_VISA\")\n",
    "\n",
    "db = chromadb.PersistentClient(path=\"./storage4\")\n",
    "chroma_collection = db.get_collection(\"E9_VISA\")\n",
    "\n",
    "vector_store = ChromaVectorStore(chroma_collection=chroma_collection)\n",
    "index = VectorStoreIndex.from_vector_store(vector_store=vector_store)"
   ]
  },
  {
   "cell_type": "code",
   "execution_count": 15,
   "metadata": {},
   "outputs": [],
   "source": [
    "from llama_index.core.response.notebook_utils import display_source_node\n",
    "\n",
    "def print_source_node(retrievals):\n",
    "    for n in retrievals:\n",
    "        display_source_node(n, source_length=1500)\n",
    "\n",
    "base_retriever = index.as_retriever(similarity_top_k=3)"
   ]
  },
  {
   "cell_type": "code",
   "execution_count": 24,
   "metadata": {},
   "outputs": [
    {
     "data": {
      "text/markdown": [
       "**Node ID:** e820fedd-48fe-49b2-a801-f5a469107fa0<br>**Similarity:** 0.8776880133633795<br>**Text:** ## 사증발급인정서를 받아야만 E-9 사증을 발급 받을수있음\n",
       "        ● 비전문취업(E-9) 사증은 출입국ᆞ외국인청(사무소ᆞ출장소)장이 발급한 사증발급인정서에 의해서만 사증을 발급할 수 있음<br>"
      ],
      "text/plain": [
       "<IPython.core.display.Markdown object>"
      ]
     },
     "metadata": {},
     "output_type": "display_data"
    },
    {
     "data": {
      "text/markdown": [
       "**Node ID:** 0284633d-92ec-46ac-908e-a4f140a7322b<br>**Similarity:** 0.8543593242744546<br>**Text:** 지방자치단체, 교육기관, 법인의 대표자 변경의 경우 신고대상에서 제외)\n",
       "                ■ 근무처의 명칭 변경\n",
       "                ■ 근무처의 이전으로 그 소재지가 변경된 때\n",
       "        ● 제출서류\n",
       "            ○ 고용·연수 외국인 변동사유 발생신고서(별지 32호 서식), 외국인등록증 사본(소재불명 신고의 경우에는 대상자의 휴대폰 번호, 예상소재지 등을 반드시 포함하여야 함)\n",
       "            ○ 사업자등록증 사본\n",
       "            ○ 고용주 신분증(고용주 직접 신고 시) ④ 회사 직원 대리 신청 : 고용주 위임장, 재직증명서, 직원 신분증<br>"
      ],
      "text/plain": [
       "<IPython.core.display.Markdown object>"
      ]
     },
     "metadata": {},
     "output_type": "display_data"
    },
    {
     "data": {
      "text/markdown": [
       "**Node ID:** a37f5ea5-f6c0-4903-9bf1-878fb54e1cfe<br>**Similarity:** 0.8529940706209486<br>**Text:** 어업허가증 또는 어업면허증 또는 내수면어업신고필증\n",
       "                    ● 천일염 생산 및 암염 채취업 : 염제조업허가증사본*\n",
       "                        ○ 염전임차인의 경우에는 시장.군수가 발급하는 염제조업 확인서와 임대차계약서, 임대인의 염제조허가증\n",
       "                ■ 서비스업\n",
       "                    ● 추가서류 없음\n",
       "            ○ 출입국ᆞ외국인청(사무소ᆞ출장소)장은 초청의 진정성, 초청자 및 피초청자의 자격 확인 등을 심사하기 위해 첨부서류의 일부를 가감할 수 있음\n",
       "            ○ 한식 음식점업, 호텔‧숙박업, 임업, 광업은 고용허가서 발급 시점 이후 첨부서류 안내 예정<br>"
      ],
      "text/plain": [
       "<IPython.core.display.Markdown object>"
      ]
     },
     "metadata": {},
     "output_type": "display_data"
    }
   ],
   "source": [
    "retrievals = base_retriever.retrieve(\"E-9 비자 신청 시 필요한 서류는 무엇인가요?\")\n",
    "print_source_node(retrievals)"
   ]
  },
  {
   "cell_type": "code",
   "execution_count": null,
   "metadata": {},
   "outputs": [],
   "source": [
    "retrievals = base_retriever.retrieve(\"외국인등록 시 제출해야 하는 마약검사확인서의 구체적인 기준과 유의사항은 무엇인가요?\")\n",
    "print_source_node(retrievals)"
   ]
  },
  {
   "cell_type": "code",
   "execution_count": 22,
   "metadata": {},
   "outputs": [],
   "source": [
    "# retrievals = base_retriever.retrieve(\"고용허가제 법률적 개요와 고용허가제 선정국가에 대해서 간단하게 요약해서 설명해줘\")\n",
    "retrievals = base_retriever.retrieve(\"E-9 비자의 노동자가 취업할수 있는 업종은 어떤게 있어?\")"
   ]
  },
  {
   "cell_type": "code",
   "execution_count": 23,
   "metadata": {},
   "outputs": [
    {
     "name": "stdout",
     "output_type": "stream",
     "text": [
      "4\n",
      "0.8987540197320741\n",
      "\n",
      "잡지 및 기타 인쇄물 출판업\n",
      "                    ● 음악 및 기타 오디오 출판업\n",
      "                ■ 아래 업종의 표준직업분류상 하역 및 적재 단순종사자\n",
      "                    ● 폐기물 수집, 운반, 처리 및 원료 재생업\n",
      "                        ○ ※ 단, ‘폐기물 수집, 운반, 처리 및 원료 재생업’의 경우는 폐기물 분류 업무도 포함\n",
      "                    ● 음식료품 및 담배 중개업\n",
      "                    ● 기타 신선 식품 및 단순 가공식품 도매업\n",
      "                    ● 택배업\n",
      "                    ● 기타 항공 운송지원 서비스업(52939) 중 ｢항공사업법｣ 시행규칙 제5조제2호에 따른 항공기하역업체\n",
      "                    ● 항공 및 육상화물취급업 중 ｢축산물 위생관리법｣ 제2조에 따른 식육을 운반하는 업체, ｢생활물류서비스 산업발전법｣ 제2조제3호가목에 따른 택배서비스업체\n",
      "        \n",
      "        ● 신규 추가된 ‘한식 음식점업*’, ‘호텔‧숙박업’, ‘임업’, ‘광업’은 ’24년도 고용허가서 발급 시점 이후부터 사증발급인정서 발급 신청 가능\n",
      "\n",
      "\n",
      "\n",
      "4\n",
      "0.8984714298092024\n",
      "\n",
      "■ 축산업\n",
      "                ■ 농축산서비스업: 작물재배 및 축산관련 서비스업\n",
      "        ● 어업\n",
      "            ○ 체류자격: E-9-4\n",
      "            ○ 적용범위(E-9 근로자를 고용할 수 있는 조건)\n",
      "                ■ 연근해어업: 연안어업ᆞ근해어업\n",
      "                    ● 선원법 적용을 받지 않는 20톤 미만 어선 종사자에 한함\n",
      "                ■ 양식어업\n",
      "                ■ 소금채취업\n",
      "        ● 임업\n",
      "            ○ 체류자격:\n",
      "            ○ 적용범위(E-9 근로자를 고용할 수 있는 조건)\n",
      "                ■ 임업 종묘 생산업, 육림업, 벌목업,\n",
      "\n",
      "\n",
      "\n",
      "4\n",
      "0.8979977395745493\n",
      "\n",
      "휴양콘도 운영업, 기타 일반 및 생활 숙박시설 운영업 중 \n",
      "                    호스텔업\n",
      "                    ● ※ 위 업종 중\n",
      "                    서울특별시‧부산광역시‧강원특별자치도‧제주특별자치도 소재 업체에 한함\n",
      "                    ● ※ 표준직업분류상 ‘건물 청소원’, ‘주방 보조원’ 고용에 한함\n",
      "                ■ 음식점업\n",
      "                    ● 한식 음식점업\n",
      "                    ● ※ 음식점업 외국인력 허용 시범 지역에 소재한 ‘내국인 피보험자 수 5인 이상 사업장 중 5년 이상 영업을 유지하고 있는 사업체’\n",
      "                또는 ‘내국인 피보험자 수 5인 미만 사업장 중 7년 이상 영업을 유지하고 있는 사업체’에 한함\n",
      "                    ● ※ 표준직업분류상 ‘주방 보조원’ 고용에 한함\n",
      "                    ● 한식 음식점업 외국인력(E-9) 허용 시범 지역에 관한 사항은\n",
      "                    고용노동부 홈페이지 참고\n",
      "                ■ 재료수집업\n",
      "                    ● 재생용 재료수집 및 판매업\n",
      "                ■ 출판업\n",
      "                    ● 서적,\n",
      "\n",
      "\n",
      "\n"
     ]
    }
   ],
   "source": [
    "for re in retrievals:\n",
    "    print(f\"{re.metadata['page_label']}\")\n",
    "    # print(f\"{re.metadata['document_title']}\")\n",
    "    print(f\"{re.score}\\n\")\n",
    "    print(f\"{re.text}\\n\\n\\n\")"
   ]
  },
  {
   "cell_type": "code",
   "execution_count": null,
   "metadata": {},
   "outputs": [],
   "source": []
  }
 ],
 "metadata": {
  "kernelspec": {
   "display_name": "pyautogen",
   "language": "python",
   "name": "python3"
  },
  "language_info": {
   "codemirror_mode": {
    "name": "ipython",
    "version": 3
   },
   "file_extension": ".py",
   "mimetype": "text/x-python",
   "name": "python",
   "nbconvert_exporter": "python",
   "pygments_lexer": "ipython3",
   "version": "3.10.14"
  }
 },
 "nbformat": 4,
 "nbformat_minor": 2
}
