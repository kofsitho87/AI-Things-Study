{
 "cells": [
  {
   "cell_type": "code",
   "execution_count": 2,
   "metadata": {},
   "outputs": [
    {
     "data": {
      "text/plain": [
       "True"
      ]
     },
     "execution_count": 2,
     "metadata": {},
     "output_type": "execute_result"
    }
   ],
   "source": [
    "import logging\n",
    "import sys\n",
    "import os\n",
    "\n",
    "logging.basicConfig(stream=sys.stdout, level=logging.INFO)\n",
    "logging.getLogger().addHandler(logging.StreamHandler(stream=sys.stdout))\n",
    "\n",
    "from dotenv import load_dotenv\n",
    "load_dotenv()"
   ]
  },
  {
   "cell_type": "code",
   "execution_count": 2,
   "metadata": {},
   "outputs": [],
   "source": [
    "from llama_index.core import Settings\n",
    "from llama_index.core.callbacks import CallbackManager\n",
    "from langfuse.llama_index import LlamaIndexCallbackHandler\n",
    "\n",
    "langfuse_callback_handler = LlamaIndexCallbackHandler(\n",
    "    public_key=\"pk-lf-29339a8f-8a05-4d10-9a0a-a4718f79a53d\",\n",
    "    secret_key=\"sk-lf-d1f94511-893b-456e-973e-f57b44d50a30\",\n",
    "    host=\"https://cloud.langfuse.com\"\n",
    ")\n",
    "Settings.callback_manager = CallbackManager([langfuse_callback_handler])"
   ]
  },
  {
   "cell_type": "markdown",
   "metadata": {},
   "source": [
    "#### Load Documents from JSON file"
   ]
  },
  {
   "cell_type": "code",
   "execution_count": 3,
   "metadata": {},
   "outputs": [],
   "source": [
    "import json\n",
    "\n",
    "with open('E-9_Visa_Docs.json', 'r') as f:\n",
    "    visa_docs_json = json.load(f)"
   ]
  },
  {
   "cell_type": "code",
   "execution_count": null,
   "metadata": {},
   "outputs": [],
   "source": [
    "\"\"\" Load Documents from JSON file \"\"\"\n",
    "\n",
    "from llama_index.core.schema import Document\n",
    "\n",
    "visa_docs = [\n",
    "    Document(\n",
    "        text=doc[\"text\"], \n",
    "        metadata=doc[\"metadata\"], \n",
    "        excluded_llm_metadata_keys=doc[\"excluded_llm_metadata_keys\"], \n",
    "        excluded_embed_metadata_keys=doc[\"excluded_embed_metadata_keys\"],\n",
    "    ) \n",
    "    for doc in visa_docs_json\n",
    "]"
   ]
  },
  {
   "cell_type": "code",
   "execution_count": 4,
   "metadata": {},
   "outputs": [],
   "source": [
    "\"\"\" Load TextNodes from JSON file \"\"\"\n",
    "\n",
    "from llama_index.core.schema import TextNode\n",
    "\n",
    "visa_nodes = [\n",
    "    TextNode(\n",
    "        text=doc[\"text\"],\n",
    "        metadata=doc[\"metadata\"],\n",
    "        excluded_llm_metadata_keys=doc[\"excluded_llm_metadata_keys\"],\n",
    "        excluded_embed_metadata_keys=doc[\"excluded_embed_metadata_keys\"],\n",
    "    )\n",
    "    for doc in visa_docs_json\n",
    "]"
   ]
  },
  {
   "cell_type": "markdown",
   "metadata": {},
   "source": [
    "#### Get VectorStore Index"
   ]
  },
  {
   "cell_type": "code",
   "execution_count": 32,
   "metadata": {},
   "outputs": [
    {
     "name": "stdout",
     "output_type": "stream",
     "text": [
      "INFO:chromadb.telemetry.product.posthog:Anonymized telemetry enabled. See                     https://docs.trychroma.com/telemetry for more information.\n",
      "Anonymized telemetry enabled. See                     https://docs.trychroma.com/telemetry for more information.\n"
     ]
    }
   ],
   "source": [
    "import chromadb\n",
    "\n",
    "db = chromadb.PersistentClient(path=\"./chroma_data\")\n",
    "chroma_collection = db.get_or_create_collection(\"E9_VISA\")"
   ]
  },
  {
   "cell_type": "code",
   "execution_count": 43,
   "metadata": {},
   "outputs": [
    {
     "data": {
      "application/vnd.jupyter.widget-view+json": {
       "model_id": "2590579e77ab42018fc512fc0ddd0fbe",
       "version_major": 2,
       "version_minor": 0
      },
      "text/plain": [
       "Generating embeddings:   0%|          | 0/21 [00:00<?, ?it/s]"
      ]
     },
     "metadata": {},
     "output_type": "display_data"
    }
   ],
   "source": [
    "from llama_index.core import VectorStoreIndex, StorageContext\n",
    "from llama_index.vector_stores.chroma import ChromaVectorStore\n",
    "from llama_index.vector_stores.qdrant import QdrantVectorStore\n",
    "from qdrant_client import QdrantClient\n",
    "\n",
    "# Base\n",
    "base_index = VectorStoreIndex(visa_nodes, show_progress=True)\n",
    "# Optional Persistent\n",
    "# base_index.docstore.persist(\"base_data\")\n",
    "\n",
    "\n",
    "\n",
    "# Chroma\n",
    "chroma_vector_store = ChromaVectorStore(chroma_collection=chroma_collection)\n",
    "\n",
    "# From TextNodes\n",
    "# Data Persistent \n",
    "# chroma_storage_context = StorageContext.from_defaults(vector_store=chroma_vector_store)\n",
    "# chroma_index = VectorStoreIndex(visa_nodes, storage_context=chroma_storage_context, show_progress=True)\n",
    "\n",
    "# From Documents\n",
    "# chroma_index = VectorStoreIndex.from_documents(visa_docs, storage_context=chroma_storage_context)\n",
    "\n",
    "# Load Data From Collection\n",
    "chroma_index = VectorStoreIndex.from_vector_store(vector_store=chroma_vector_store)\n",
    "\n",
    "\n",
    "\n",
    "\n",
    "# Qdrant\n",
    "# client = QdrantClient(\"localhost\", port=\"6333\")\n",
    "client = QdrantClient(path=\"./qdrant_data\")\n",
    "qdrant_vector_store = QdrantVectorStore(client=client, collection_name=\"E9_VISA_DOCS\", enable_hybrid=True, batch_size=20)\n",
    "\n",
    "# From TextNodes\n",
    "# Data Persistent \n",
    "# qdrant_storage_context = StorageContext.from_defaults(vector_store=qdrant_vector_store)\n",
    "# qdrant_index = VectorStoreIndex(visa_nodes, storage_context=qdrant_storage_context, show_progress=True)\n",
    "\n",
    "# From Documents\n",
    "# qdrant_index = VectorStoreIndex.from_documents(visa_docs, storage_context=qdrant_storage_context)\n",
    "\n",
    "\n",
    "# Load Data From Collection\n",
    "qdrant_index = VectorStoreIndex.from_vector_store(vector_store=qdrant_vector_store)\n",
    "\n"
   ]
  },
  {
   "cell_type": "code",
   "execution_count": 98,
   "metadata": {},
   "outputs": [],
   "source": [
    "from llama_index.postprocessor.cohere_rerank import CohereRerank\n",
    "\n",
    "reranker = CohereRerank(\n",
    "    top_n=3, model=\"rerank-multilingual-v2.0\"\n",
    ")\n",
    "\n",
    "# query_engine = index.as_query_engine(\n",
    "#     streaming=True, \n",
    "#     similarity_top_k=20,\n",
    "#     node_postprocessors=[reranker],\n",
    "# )"
   ]
  },
  {
   "cell_type": "markdown",
   "metadata": {},
   "source": [
    "### Set Retrievers"
   ]
  },
  {
   "cell_type": "code",
   "execution_count": 99,
   "metadata": {},
   "outputs": [],
   "source": [
    "base_retriever = base_index.as_retriever(similarity_top_k=20, node_postprocessors=[reranker])\n",
    "chroma_retriever = chroma_index.as_retriever(similarity_top_k=10)\n",
    "# qdrant_retriever = qdrant_index.as_retriever(similarity_top_k=10, sparse_top_k=5, vector_store_query_mode=\"hybrid\")\n",
    "qdrant_retriever = qdrant_index.as_retriever(similarity_top_k=20, sparse_top_k=12, vector_store_query_mode=\"hybrid\")"
   ]
  },
  {
   "cell_type": "code",
   "execution_count": 41,
   "metadata": {},
   "outputs": [],
   "source": [
    "def pretty_print_source_nodes(source_nodes):\n",
    "    for r in source_nodes:\n",
    "        source = r.metadata['page_label']\n",
    "        title = r.metadata['document_title']\n",
    "        # text = r.text.split(\"\\n\")[0]\n",
    "        print(f\"Score: {r.score:.3f}   {source}: {title}\")\n",
    "        # print(f\"{r.text[:50]}\\n\")"
   ]
  },
  {
   "cell_type": "code",
   "execution_count": 101,
   "metadata": {},
   "outputs": [
    {
     "name": "stdout",
     "output_type": "stream",
     "text": [
      "Question: E9 비자 외국인이 한국에 계속 체류하는 방법은 무엇입니까?\n",
      "\n",
      "---------------------------------------------Base Index---------------------------------------------------------\n",
      "Score: 0.855   5: E-9 근로자를 채용할 수 있는 업종과 범위\n",
      "Score: 0.847   21: 고용허가제 해당자의 고용변동 신고\n",
      "Score: 0.841   1: E-9 Visa Guide: 목차\n",
      "Score: 0.829   17: 고용허가제 해당자의 체류자격 변경허가 - 사증 변경\n",
      "Score: 0.826   6: 고용허가제 해당자는 사증발급인정서를 받아야만 E-9 사증을 발급받을 수 있음\n",
      "Score: 0.817   20: 고용허가제 해당자의 외국인등록\n",
      "Score: 0.815   8: 비전문취업(E-9) 자격 사증발급인정서 발급절차\n",
      "Score: 0.814   10: 재입국특례자에 대한 사증 신청 및 발급 방법\n",
      "Score: 0.812   19: 고용허가제 해당자의 재입국허가\n",
      "Score: 0.811   2: 고용허가제 법률적 개요와 고용허가제 선정국가\n",
      "Score: 0.810   4: 고용허가제 해당자의 사증발급 후 1회 체류기간의 상한\n",
      "Score: 0.809   12: 고용허가제 해당자의 체류자격 외 활동\n",
      "Score: 0.809   11: 재입국특례자에 대한 우대 내용\n",
      "Score: 0.806   9: 재입국특례 제도(구 성실근로자 제도)\n",
      "Score: 0.806   18: 고용허가제 해당자의 체류기간 연장 허가 - 사증 연장\n",
      "Score: 0.805   3: 고용허가제 해당자와 활동범위\n",
      "Score: 0.798   16: 고용허가제 농업 분야 외국인근로자의 근무처(직장) 추가\n",
      "Score: 0.793   14: 고용허가제 해당자가 근무처(직장)를 변경할 수 있는 조건\n",
      "Score: 0.784   7: 고용허가제 해당자는 2012.8.1부터 범죄경력증명서 및 건강상태확인서 제출\n",
      "Score: 0.781   15: 고용허가제 해당자가 근무처(직장)를 변경하는 절차 및 제출 서류\n",
      "---------------------------------------------Qdrant Index---------------------------------------------------------\n",
      "Score: 0.907   1: E-9 Visa Guide: 목차\n",
      "Score: 0.701   5: E-9 근로자를 채용할 수 있는 업종과 범위\n",
      "Score: 0.469   8: 비전문취업(E-9) 자격 사증발급인정서 발급절차\n",
      "Score: 0.464   17: 고용허가제 해당자의 체류자격 변경허가 - 사증 변경\n",
      "Score: 0.443   21: 고용허가제 해당자의 고용변동 신고\n",
      "Score: 0.423   19: 고용허가제 해당자의 재입국허가\n",
      "Score: 0.384   4: 고용허가제 해당자의 사증발급 후 1회 체류기간의 상한\n",
      "Score: 0.307   6: 고용허가제 해당자는 사증발급인정서를 받아야만 E-9 사증을 발급받을 수 있음\n",
      "Score: 0.242   20: 고용허가제 해당자의 외국인등록\n",
      "Score: 0.238   12: 고용허가제 해당자의 체류자격 외 활동\n",
      "Score: 0.224   10: 재입국특례자에 대한 사증 신청 및 발급 방법\n",
      "Score: 0.218   11: 재입국특례자에 대한 우대 내용\n",
      "Score: 0.209   3: 고용허가제 해당자와 활동범위\n",
      "Score: 0.205   2: 고용허가제 법률적 개요와 고용허가제 선정국가\n",
      "Score: 0.173   9: 재입국특례 제도(구 성실근로자 제도)\n",
      "Score: 0.171   18: 고용허가제 해당자의 체류기간 연장 허가 - 사증 연장\n",
      "Score: 0.160   16: 고용허가제 농업 분야 외국인근로자의 근무처(직장) 추가\n",
      "Score: 0.084   14: 고용허가제 해당자가 근무처(직장)를 변경할 수 있는 조건\n",
      "Score: 0.069   15: 고용허가제 해당자가 근무처(직장)를 변경하는 절차 및 제출 서류\n",
      "Score: 0.023   7: 고용허가제 해당자는 2012.8.1부터 범죄경력증명서 및 건강상태확인서 제출\n"
     ]
    }
   ],
   "source": [
    "query = \"저는 한국에 살고 있는 외국인인데, 직업을 바꾸는게 가능한가요?\"\n",
    "query = \"한국에서 건물 청소하는 일을 할 예정인데 건물 청소는 어떤 업종이고 체류자격의 비자 타입은 무엇인가요?\"\n",
    "query = \"현재 농장에서 일하고 있는데 이 분야가 계절적 특성을 타기 때문에 다음주 부턴 일이 없는데, 다른 분야의 사업장에 일을 구하는게 가능한가요?\"\n",
    "query = \"올해부터 E9 비자로 식당에서 일을 할 수 있는 것 맞나요?\"\n",
    "query = \"고용허가제를 통해 E9 비자 재입국 방법은 무엇입니까\"\n",
    "query = \"E9 비자 외국인이 한국에 계속 체류하는 방법은 무엇입니까?\"\n",
    "\n",
    "print(f\"Question: {query}\\n\")\n",
    "\n",
    "print(f\"---------------------------------------------Base Index---------------------------------------------------------\")\n",
    "langfuse_callback_handler.set_trace_params(\n",
    "    name=query,\n",
    "    version=\"1\",\n",
    "    tags=[\"Base Retriever\", \"Visa Guide Doc\"]\n",
    ")\n",
    "source_nodes1 = base_retriever.retrieve(query)\n",
    "pretty_print_source_nodes(source_nodes=source_nodes1)\n",
    "\n",
    "\n",
    "# print(f\"---------------------------------------------Chroma Index--------------------------------------------------------\")\n",
    "# source_nodes2 = chroma_retriever.retrieve(query)\n",
    "# pretty_print_source_nodes(source_nodes=source_nodes2)\n",
    "\n",
    "langfuse_callback_handler.set_trace_params(\n",
    "    name=query,\n",
    "    version=\"2\",\n",
    "    tags=[\"Qdrant Retriever\", \"Visa Guide Doc\"]\n",
    ")\n",
    "print(f\"---------------------------------------------Qdrant Index---------------------------------------------------------\")\n",
    "source_nodes3 = qdrant_retriever.retrieve(query)\n",
    "pretty_print_source_nodes(source_nodes=source_nodes3)"
   ]
  },
  {
   "cell_type": "code",
   "execution_count": 55,
   "metadata": {},
   "outputs": [],
   "source": [
    "from llama_index.llms.openai import OpenAI\n",
    "from llama_index.core import Settings\n",
    "\n",
    "Settings.llm = OpenAI(model=\"gpt-4-1106-preview\", temperature=0)"
   ]
  },
  {
   "cell_type": "code",
   "execution_count": 65,
   "metadata": {},
   "outputs": [],
   "source": [
    "base_engine = base_index.as_query_engine()\n",
    "chroma_engine = chroma_index.as_query_engine()\n",
    "qdrant_engine = qdrant_index.as_query_engine(similarity_top_k=10, sparse_top_k=5, vector_store_query_mode=\"hybrid\")"
   ]
  },
  {
   "cell_type": "code",
   "execution_count": 50,
   "metadata": {},
   "outputs": [],
   "source": [
    "def llm_query(query: str):\n",
    "    # langfuse_callback_handler.set_trace_params(\n",
    "    #     name=query,\n",
    "    #     version=\"1\",\n",
    "    #     tags=[\"Visa Guide Doc\", \"BaseEngine\"]\n",
    "    # )\n",
    "    # response = base_engine.query(query)\n",
    "    # print(f\"BaseEngine: {response}\\n\\n\")\n",
    "\n",
    "    langfuse_callback_handler.set_trace_params(\n",
    "        name=query,\n",
    "        version=\"2\",\n",
    "        tags=[\"Visa Guide Doc\", \"ChromaEngine\"]\n",
    "    )\n",
    "    response = chroma_engine.query(query)\n",
    "    print(f\"ChromaEngine: {response}\\n\\n\")\n",
    "\n",
    "    langfuse_callback_handler.set_trace_params(\n",
    "        name=query,\n",
    "        version=\"3\",\n",
    "        tags=[\"Visa Guide Doc\", \"QdrantEngine\"]\n",
    "    )\n",
    "    response = qdrant_engine.query(query)\n",
    "    print(f\"QdrantEngine: {response}\\n\\n\")\n"
   ]
  },
  {
   "cell_type": "code",
   "execution_count": 66,
   "metadata": {},
   "outputs": [
    {
     "name": "stdout",
     "output_type": "stream",
     "text": [
      "ChromaEngine: 건물 청소하는 일은 서비스업에 속하며, 해당 체류자격의 비자 타입은 E-9-5입니다.\n",
      "\n",
      "\n",
      "QdrantEngine: 건물 청소는 서비스업에 속하며, 해당 체류자격의 비자 타입은 E-9-5입니다.\n",
      "\n",
      "\n"
     ]
    }
   ],
   "source": [
    "query = \"저는 한국에 살고 있는 외국인인데, 직업을 바꾸는게 가능한가요?\"\n",
    "query = \"한국에서 건물 청소하는 일을 할 예정인데 건물 청소는 어떤 업종이고 체류자격의 비자 타입은 무엇인가요?\"\n",
    "# query = \"현재 농장에서 일하고 있는데 이 분야가 계절적 특성을 타기 때문에 다음주 부턴 일이 없는데, 다른 분야의 사업장에 일을 구하는게 가능한가요?\"\n",
    "# query = \"올해부터 E9 비자로 식당에서 일을 할 수 있는 것 맞나요?\"\n",
    "\n",
    "llm_query(query)"
   ]
  }
 ],
 "metadata": {
  "kernelspec": {
   "display_name": "visa_chatbot1",
   "language": "python",
   "name": "python3"
  },
  "language_info": {
   "codemirror_mode": {
    "name": "ipython",
    "version": 3
   },
   "file_extension": ".py",
   "mimetype": "text/x-python",
   "name": "python",
   "nbconvert_exporter": "python",
   "pygments_lexer": "ipython3",
   "version": "3.11.8"
  }
 },
 "nbformat": 4,
 "nbformat_minor": 2
}
