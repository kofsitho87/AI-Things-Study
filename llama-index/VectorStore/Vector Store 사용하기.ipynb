{
 "cells": [
  {
   "cell_type": "markdown",
   "metadata": {},
   "source": [
    "## 1. Load Documents from PDF file"
   ]
  },
  {
   "cell_type": "code",
   "execution_count": 2,
   "metadata": {},
   "outputs": [],
   "source": [
    "from llama_index.core import SimpleDirectoryReader\n",
    "\n",
    "reader = SimpleDirectoryReader(input_files=[\"../../../Documents/E-9 Visa Guide_한국어.pdf\"])\n",
    "documents = reader.load_data()"
   ]
  },
  {
   "cell_type": "code",
   "execution_count": 6,
   "metadata": {},
   "outputs": [
    {
     "name": "stdout",
     "output_type": "stream",
     "text": [
      "Count of documents: 21\n",
      "\n",
      "Doc ID: ac88dc04-7552-48bd-90da-4ab3ebc543fc\n",
      "Text: E-9 Visa Guide - 한국어 고용허가제 고용허가제 해당자와 활동범위 고용허가제 해당자의 사증발급 후 1 회\n",
      "체류기간의 상한 고용허가제 해당자의 사증발급 허용업종 및 체류자격 약호 ( 기호 ): E-9 근로자를 채용할 수 있는  업종과\n",
      "범위 고용허가제 해당자는 사증발급인정서를 받아야만 E-9 사증을 발급받을 수 있음 고용허가제 해당자는 2012.8.1 부터\n",
      "범죄경력증명서 및 건강상태확인서 제출 고용허가제 비전문취업 ( E-9) 자격 사증발급인정서 발급 절차 고용허가제 해당자의\n",
      "재입국특례 제도 ( 구 성실근로자 제도 ) 재입국특례자에 대한 사증 신청 및 발급 방법 고용허가제 해당자의 재입국특례자에 대한\n",
      "우대 ...\n"
     ]
    }
   ],
   "source": [
    "print(f\"Count of documents: {len(documents)}\")\n",
    "print(f\"\\n{documents[0]}\")"
   ]
  },
  {
   "cell_type": "markdown",
   "metadata": {},
   "source": [
    "## 2. Save Documents into Vector Store"
   ]
  },
  {
   "cell_type": "code",
   "execution_count": null,
   "metadata": {},
   "outputs": [],
   "source": [
    "from llama_index.embeddings.huggingface import HuggingFaceEmbedding\n",
    "from llama_index.core import Settings\n",
    "\n",
    "embed_model = HuggingFaceEmbedding(\n",
    "    model_name=\"jhgan/ko-sbert-nli\",\n",
    "    normalize=True,\n",
    ")\n",
    "Settings.embed_model = embed_model"
   ]
  }
 ],
 "metadata": {
  "kernelspec": {
   "display_name": "visa_chatbot1",
   "language": "python",
   "name": "python3"
  },
  "language_info": {
   "codemirror_mode": {
    "name": "ipython",
    "version": 3
   },
   "file_extension": ".py",
   "mimetype": "text/x-python",
   "name": "python",
   "nbconvert_exporter": "python",
   "pygments_lexer": "ipython3",
   "version": "3.11.8"
  }
 },
 "nbformat": 4,
 "nbformat_minor": 2
}
