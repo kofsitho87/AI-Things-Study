{
 "cells": [
  {
   "cell_type": "markdown",
   "metadata": {},
   "source": [
    "# Cohere Reranker\n",
    "\n",
    "CohereRerank는 검색 결과의 관련성을 재순위하는 기능을 제공하는 도구입니다.    \n",
    "이는 특히 대량의 문서나 데이터에서 특정 쿼리에 대한 가장 관련성 높은 결과를 찾아내는 데 유용합니다. \n",
    "\n",
    "CohereRerank의 주요 특장점은 다음과 같습니다:\n",
    "- 검색 결과의 관련성 향상:   \n",
    "CohereRerank는 사용자 쿼리와 문서 간의 관련성을 평가하여, 가장 관련성 높은 문서를 상위에 배치합니다.    \n",
    "이는 전통적인 키워드 기반 검색 시스템에서 발생할 수 있는 불필요한 결과를 줄이고, 사용자가 원하는 정보를 더 빠르게 찾을 수 있게 해줍니다\n",
    "\n",
    "- 다국어 지원:   \n",
    "CohereRerank는 100개 이상의 언어에 대한 검색 품질을 보장합니다. 이는 다양한 언어로 된 문서를 처리할 때 매우 유용하며, 글로벌 사용자 기반을 가진 애플리케이션에 특히 적합합니다\n",
    "\n",
    "- 대규모 문서 처리 능력:   \n",
    "CohereRerank는 최대 1,000개의 문서를 재순위할 수 있으며, 이는 지식 베이스나 대규모 데이터 세트에 적용할 수 있음을 의미합니다"
   ]
  },
  {
   "cell_type": "markdown",
   "metadata": {},
   "source": [
    "#### 참고문서\n",
    "\n",
    "- https://txt.cohere.com/rerank/\n",
    "\n",
    "- https://docs.llamaindex.ai/en/stable/examples/node_postprocessor/CohereRerank/?h=cohere"
   ]
  },
  {
   "cell_type": "code",
   "execution_count": 1,
   "metadata": {},
   "outputs": [
    {
     "name": "stdout",
     "output_type": "stream",
     "text": [
      "Requirement already satisfied: llama-index-postprocessor-cohere-rerank in /Users/heewungsong/anaconda3/envs/visa_chatbot1/lib/python3.11/site-packages (0.1.2)\n",
      "Requirement already satisfied: cohere<5.0,>=4.45 in /Users/heewungsong/anaconda3/envs/visa_chatbot1/lib/python3.11/site-packages (from llama-index-postprocessor-cohere-rerank) (4.57)\n",
      "Requirement already satisfied: llama-index-core<0.11.0,>=0.10.1 in /Users/heewungsong/anaconda3/envs/visa_chatbot1/lib/python3.11/site-packages (from llama-index-postprocessor-cohere-rerank) (0.10.23.post1)\n",
      "Requirement already satisfied: aiohttp<4.0,>=3.0 in /Users/heewungsong/anaconda3/envs/visa_chatbot1/lib/python3.11/site-packages (from cohere<5.0,>=4.45->llama-index-postprocessor-cohere-rerank) (3.9.3)\n",
      "Requirement already satisfied: backoff<3.0,>=2.0 in /Users/heewungsong/anaconda3/envs/visa_chatbot1/lib/python3.11/site-packages (from cohere<5.0,>=4.45->llama-index-postprocessor-cohere-rerank) (2.2.1)\n",
      "Requirement already satisfied: fastavro<2.0,>=1.8 in /Users/heewungsong/anaconda3/envs/visa_chatbot1/lib/python3.11/site-packages (from cohere<5.0,>=4.45->llama-index-postprocessor-cohere-rerank) (1.9.4)\n",
      "Requirement already satisfied: importlib_metadata<7.0,>=6.0 in /Users/heewungsong/anaconda3/envs/visa_chatbot1/lib/python3.11/site-packages (from cohere<5.0,>=4.45->llama-index-postprocessor-cohere-rerank) (6.11.0)\n",
      "Requirement already satisfied: requests<3.0.0,>=2.25.0 in /Users/heewungsong/anaconda3/envs/visa_chatbot1/lib/python3.11/site-packages (from cohere<5.0,>=4.45->llama-index-postprocessor-cohere-rerank) (2.31.0)\n",
      "Requirement already satisfied: urllib3<3,>=1.26 in /Users/heewungsong/anaconda3/envs/visa_chatbot1/lib/python3.11/site-packages (from cohere<5.0,>=4.45->llama-index-postprocessor-cohere-rerank) (1.26.18)\n",
      "Requirement already satisfied: PyYAML>=6.0.1 in /Users/heewungsong/anaconda3/envs/visa_chatbot1/lib/python3.11/site-packages (from llama-index-core<0.11.0,>=0.10.1->llama-index-postprocessor-cohere-rerank) (6.0.1)\n",
      "Requirement already satisfied: SQLAlchemy>=1.4.49 in /Users/heewungsong/anaconda3/envs/visa_chatbot1/lib/python3.11/site-packages (from SQLAlchemy[asyncio]>=1.4.49->llama-index-core<0.11.0,>=0.10.1->llama-index-postprocessor-cohere-rerank) (2.0.29)\n",
      "Requirement already satisfied: dataclasses-json in /Users/heewungsong/anaconda3/envs/visa_chatbot1/lib/python3.11/site-packages (from llama-index-core<0.11.0,>=0.10.1->llama-index-postprocessor-cohere-rerank) (0.6.4)\n",
      "Requirement already satisfied: deprecated>=1.2.9.3 in /Users/heewungsong/anaconda3/envs/visa_chatbot1/lib/python3.11/site-packages (from llama-index-core<0.11.0,>=0.10.1->llama-index-postprocessor-cohere-rerank) (1.2.14)\n",
      "Requirement already satisfied: dirtyjson<2.0.0,>=1.0.8 in /Users/heewungsong/anaconda3/envs/visa_chatbot1/lib/python3.11/site-packages (from llama-index-core<0.11.0,>=0.10.1->llama-index-postprocessor-cohere-rerank) (1.0.8)\n",
      "Requirement already satisfied: fsspec>=2023.5.0 in /Users/heewungsong/anaconda3/envs/visa_chatbot1/lib/python3.11/site-packages (from llama-index-core<0.11.0,>=0.10.1->llama-index-postprocessor-cohere-rerank) (2024.2.0)\n",
      "Requirement already satisfied: httpx in /Users/heewungsong/anaconda3/envs/visa_chatbot1/lib/python3.11/site-packages (from llama-index-core<0.11.0,>=0.10.1->llama-index-postprocessor-cohere-rerank) (0.25.2)\n",
      "Requirement already satisfied: llamaindex-py-client<0.2.0,>=0.1.13 in /Users/heewungsong/anaconda3/envs/visa_chatbot1/lib/python3.11/site-packages (from llama-index-core<0.11.0,>=0.10.1->llama-index-postprocessor-cohere-rerank) (0.1.13)\n",
      "Requirement already satisfied: nest-asyncio<2.0.0,>=1.5.8 in /Users/heewungsong/anaconda3/envs/visa_chatbot1/lib/python3.11/site-packages (from llama-index-core<0.11.0,>=0.10.1->llama-index-postprocessor-cohere-rerank) (1.6.0)\n",
      "Requirement already satisfied: networkx>=3.0 in /Users/heewungsong/anaconda3/envs/visa_chatbot1/lib/python3.11/site-packages (from llama-index-core<0.11.0,>=0.10.1->llama-index-postprocessor-cohere-rerank) (3.2.1)\n",
      "Requirement already satisfied: nltk<4.0.0,>=3.8.1 in /Users/heewungsong/anaconda3/envs/visa_chatbot1/lib/python3.11/site-packages (from llama-index-core<0.11.0,>=0.10.1->llama-index-postprocessor-cohere-rerank) (3.8.1)\n",
      "Requirement already satisfied: numpy in /Users/heewungsong/anaconda3/envs/visa_chatbot1/lib/python3.11/site-packages (from llama-index-core<0.11.0,>=0.10.1->llama-index-postprocessor-cohere-rerank) (1.26.4)\n",
      "Requirement already satisfied: openai>=1.1.0 in /Users/heewungsong/anaconda3/envs/visa_chatbot1/lib/python3.11/site-packages (from llama-index-core<0.11.0,>=0.10.1->llama-index-postprocessor-cohere-rerank) (1.14.2)\n",
      "Requirement already satisfied: pandas in /Users/heewungsong/anaconda3/envs/visa_chatbot1/lib/python3.11/site-packages (from llama-index-core<0.11.0,>=0.10.1->llama-index-postprocessor-cohere-rerank) (2.2.1)\n",
      "Requirement already satisfied: pillow>=9.0.0 in /Users/heewungsong/anaconda3/envs/visa_chatbot1/lib/python3.11/site-packages (from llama-index-core<0.11.0,>=0.10.1->llama-index-postprocessor-cohere-rerank) (10.2.0)\n",
      "Requirement already satisfied: tenacity<9.0.0,>=8.2.0 in /Users/heewungsong/anaconda3/envs/visa_chatbot1/lib/python3.11/site-packages (from llama-index-core<0.11.0,>=0.10.1->llama-index-postprocessor-cohere-rerank) (8.2.3)\n",
      "Requirement already satisfied: tiktoken>=0.3.3 in /Users/heewungsong/anaconda3/envs/visa_chatbot1/lib/python3.11/site-packages (from llama-index-core<0.11.0,>=0.10.1->llama-index-postprocessor-cohere-rerank) (0.6.0)\n",
      "Requirement already satisfied: tqdm<5.0.0,>=4.66.1 in /Users/heewungsong/anaconda3/envs/visa_chatbot1/lib/python3.11/site-packages (from llama-index-core<0.11.0,>=0.10.1->llama-index-postprocessor-cohere-rerank) (4.66.2)\n",
      "Requirement already satisfied: typing-extensions>=4.5.0 in /Users/heewungsong/anaconda3/envs/visa_chatbot1/lib/python3.11/site-packages (from llama-index-core<0.11.0,>=0.10.1->llama-index-postprocessor-cohere-rerank) (4.9.0)\n",
      "Requirement already satisfied: typing-inspect>=0.8.0 in /Users/heewungsong/anaconda3/envs/visa_chatbot1/lib/python3.11/site-packages (from llama-index-core<0.11.0,>=0.10.1->llama-index-postprocessor-cohere-rerank) (0.9.0)\n",
      "Requirement already satisfied: aiosignal>=1.1.2 in /Users/heewungsong/anaconda3/envs/visa_chatbot1/lib/python3.11/site-packages (from aiohttp<4.0,>=3.0->cohere<5.0,>=4.45->llama-index-postprocessor-cohere-rerank) (1.3.1)\n",
      "Requirement already satisfied: attrs>=17.3.0 in /Users/heewungsong/anaconda3/envs/visa_chatbot1/lib/python3.11/site-packages (from aiohttp<4.0,>=3.0->cohere<5.0,>=4.45->llama-index-postprocessor-cohere-rerank) (23.2.0)\n",
      "Requirement already satisfied: frozenlist>=1.1.1 in /Users/heewungsong/anaconda3/envs/visa_chatbot1/lib/python3.11/site-packages (from aiohttp<4.0,>=3.0->cohere<5.0,>=4.45->llama-index-postprocessor-cohere-rerank) (1.4.1)\n",
      "Requirement already satisfied: multidict<7.0,>=4.5 in /Users/heewungsong/anaconda3/envs/visa_chatbot1/lib/python3.11/site-packages (from aiohttp<4.0,>=3.0->cohere<5.0,>=4.45->llama-index-postprocessor-cohere-rerank) (6.0.5)\n",
      "Requirement already satisfied: yarl<2.0,>=1.0 in /Users/heewungsong/anaconda3/envs/visa_chatbot1/lib/python3.11/site-packages (from aiohttp<4.0,>=3.0->cohere<5.0,>=4.45->llama-index-postprocessor-cohere-rerank) (1.9.4)\n",
      "Requirement already satisfied: wrapt<2,>=1.10 in /Users/heewungsong/anaconda3/envs/visa_chatbot1/lib/python3.11/site-packages (from deprecated>=1.2.9.3->llama-index-core<0.11.0,>=0.10.1->llama-index-postprocessor-cohere-rerank) (1.16.0)\n",
      "Requirement already satisfied: zipp>=0.5 in /Users/heewungsong/anaconda3/envs/visa_chatbot1/lib/python3.11/site-packages (from importlib_metadata<7.0,>=6.0->cohere<5.0,>=4.45->llama-index-postprocessor-cohere-rerank) (3.17.0)\n",
      "Requirement already satisfied: pydantic>=1.10 in /Users/heewungsong/anaconda3/envs/visa_chatbot1/lib/python3.11/site-packages (from llamaindex-py-client<0.2.0,>=0.1.13->llama-index-core<0.11.0,>=0.10.1->llama-index-postprocessor-cohere-rerank) (2.6.4)\n",
      "Requirement already satisfied: anyio in /Users/heewungsong/anaconda3/envs/visa_chatbot1/lib/python3.11/site-packages (from httpx->llama-index-core<0.11.0,>=0.10.1->llama-index-postprocessor-cohere-rerank) (4.3.0)\n",
      "Requirement already satisfied: certifi in /Users/heewungsong/anaconda3/envs/visa_chatbot1/lib/python3.11/site-packages (from httpx->llama-index-core<0.11.0,>=0.10.1->llama-index-postprocessor-cohere-rerank) (2024.2.2)\n",
      "Requirement already satisfied: httpcore==1.* in /Users/heewungsong/anaconda3/envs/visa_chatbot1/lib/python3.11/site-packages (from httpx->llama-index-core<0.11.0,>=0.10.1->llama-index-postprocessor-cohere-rerank) (1.0.4)\n",
      "Requirement already satisfied: idna in /Users/heewungsong/anaconda3/envs/visa_chatbot1/lib/python3.11/site-packages (from httpx->llama-index-core<0.11.0,>=0.10.1->llama-index-postprocessor-cohere-rerank) (3.6)\n",
      "Requirement already satisfied: sniffio in /Users/heewungsong/anaconda3/envs/visa_chatbot1/lib/python3.11/site-packages (from httpx->llama-index-core<0.11.0,>=0.10.1->llama-index-postprocessor-cohere-rerank) (1.3.1)\n",
      "Requirement already satisfied: h11<0.15,>=0.13 in /Users/heewungsong/anaconda3/envs/visa_chatbot1/lib/python3.11/site-packages (from httpcore==1.*->httpx->llama-index-core<0.11.0,>=0.10.1->llama-index-postprocessor-cohere-rerank) (0.14.0)\n",
      "Requirement already satisfied: click in /Users/heewungsong/anaconda3/envs/visa_chatbot1/lib/python3.11/site-packages (from nltk<4.0.0,>=3.8.1->llama-index-core<0.11.0,>=0.10.1->llama-index-postprocessor-cohere-rerank) (8.1.7)\n",
      "Requirement already satisfied: joblib in /Users/heewungsong/anaconda3/envs/visa_chatbot1/lib/python3.11/site-packages (from nltk<4.0.0,>=3.8.1->llama-index-core<0.11.0,>=0.10.1->llama-index-postprocessor-cohere-rerank) (1.3.2)\n",
      "Requirement already satisfied: regex>=2021.8.3 in /Users/heewungsong/anaconda3/envs/visa_chatbot1/lib/python3.11/site-packages (from nltk<4.0.0,>=3.8.1->llama-index-core<0.11.0,>=0.10.1->llama-index-postprocessor-cohere-rerank) (2023.12.25)\n",
      "Requirement already satisfied: distro<2,>=1.7.0 in /Users/heewungsong/anaconda3/envs/visa_chatbot1/lib/python3.11/site-packages (from openai>=1.1.0->llama-index-core<0.11.0,>=0.10.1->llama-index-postprocessor-cohere-rerank) (1.9.0)\n",
      "Requirement already satisfied: charset-normalizer<4,>=2 in /Users/heewungsong/anaconda3/envs/visa_chatbot1/lib/python3.11/site-packages (from requests<3.0.0,>=2.25.0->cohere<5.0,>=4.45->llama-index-postprocessor-cohere-rerank) (3.3.2)\n",
      "Requirement already satisfied: greenlet!=0.4.17 in /Users/heewungsong/anaconda3/envs/visa_chatbot1/lib/python3.11/site-packages (from SQLAlchemy[asyncio]>=1.4.49->llama-index-core<0.11.0,>=0.10.1->llama-index-postprocessor-cohere-rerank) (3.0.3)\n",
      "Requirement already satisfied: mypy-extensions>=0.3.0 in /Users/heewungsong/anaconda3/envs/visa_chatbot1/lib/python3.11/site-packages (from typing-inspect>=0.8.0->llama-index-core<0.11.0,>=0.10.1->llama-index-postprocessor-cohere-rerank) (1.0.0)\n",
      "Requirement already satisfied: marshmallow<4.0.0,>=3.18.0 in /Users/heewungsong/anaconda3/envs/visa_chatbot1/lib/python3.11/site-packages (from dataclasses-json->llama-index-core<0.11.0,>=0.10.1->llama-index-postprocessor-cohere-rerank) (3.20.2)\n",
      "Requirement already satisfied: python-dateutil>=2.8.2 in /Users/heewungsong/anaconda3/envs/visa_chatbot1/lib/python3.11/site-packages (from pandas->llama-index-core<0.11.0,>=0.10.1->llama-index-postprocessor-cohere-rerank) (2.8.2)\n",
      "Requirement already satisfied: pytz>=2020.1 in /Users/heewungsong/anaconda3/envs/visa_chatbot1/lib/python3.11/site-packages (from pandas->llama-index-core<0.11.0,>=0.10.1->llama-index-postprocessor-cohere-rerank) (2024.1)\n",
      "Requirement already satisfied: tzdata>=2022.7 in /Users/heewungsong/anaconda3/envs/visa_chatbot1/lib/python3.11/site-packages (from pandas->llama-index-core<0.11.0,>=0.10.1->llama-index-postprocessor-cohere-rerank) (2024.1)\n",
      "Requirement already satisfied: packaging>=17.0 in /Users/heewungsong/anaconda3/envs/visa_chatbot1/lib/python3.11/site-packages (from marshmallow<4.0.0,>=3.18.0->dataclasses-json->llama-index-core<0.11.0,>=0.10.1->llama-index-postprocessor-cohere-rerank) (23.2)\n",
      "Requirement already satisfied: annotated-types>=0.4.0 in /Users/heewungsong/anaconda3/envs/visa_chatbot1/lib/python3.11/site-packages (from pydantic>=1.10->llamaindex-py-client<0.2.0,>=0.1.13->llama-index-core<0.11.0,>=0.10.1->llama-index-postprocessor-cohere-rerank) (0.6.0)\n",
      "Requirement already satisfied: pydantic-core==2.16.3 in /Users/heewungsong/anaconda3/envs/visa_chatbot1/lib/python3.11/site-packages (from pydantic>=1.10->llamaindex-py-client<0.2.0,>=0.1.13->llama-index-core<0.11.0,>=0.10.1->llama-index-postprocessor-cohere-rerank) (2.16.3)\n",
      "Requirement already satisfied: six>=1.5 in /Users/heewungsong/anaconda3/envs/visa_chatbot1/lib/python3.11/site-packages (from python-dateutil>=2.8.2->pandas->llama-index-core<0.11.0,>=0.10.1->llama-index-postprocessor-cohere-rerank) (1.16.0)\n",
      "Note: you may need to restart the kernel to use updated packages.\n"
     ]
    }
   ],
   "source": [
    "%pip install llama-index-postprocessor-cohere-rerank"
   ]
  },
  {
   "cell_type": "markdown",
   "metadata": {},
   "source": [
    "#### Download Data"
   ]
  },
  {
   "cell_type": "code",
   "execution_count": 2,
   "metadata": {},
   "outputs": [
    {
     "name": "stdout",
     "output_type": "stream",
     "text": [
      "--2024-04-04 13:16:26--  https://raw.githubusercontent.com/run-llama/llama_index/main/docs/docs/examples/data/paul_graham/paul_graham_essay.txt\n",
      "raw.githubusercontent.com (raw.githubusercontent.com) 해석 중... 185.199.111.133, 185.199.110.133, 185.199.108.133, ...\n",
      "다음으로 연결 중: raw.githubusercontent.com (raw.githubusercontent.com)|185.199.111.133|:443... 연결했습니다.\n",
      "HTTP 요청을 보냈습니다. 응답 기다리는 중... 200 OK\n",
      "길이: 75042 (73K) [text/plain]\n",
      "저장 위치: `data/paul_graham/paul_graham_essay.txt'\n",
      "\n",
      "data/paul_graham/pa 100%[===================>]  73.28K  --.-KB/s    /  0.04s   \n",
      "\n",
      "2024-04-04 13:16:26 (1.63 MB/s) - `data/paul_graham/paul_graham_essay.txt' 저장함 [75042/75042]\n",
      "\n"
     ]
    }
   ],
   "source": [
    "!mkdir -p 'data/paul_graham/'\n",
    "!wget 'https://raw.githubusercontent.com/run-llama/llama_index/main/docs/docs/examples/data/paul_graham/paul_graham_essay.txt' -O 'data/paul_graham/paul_graham_essay.txt'"
   ]
  },
  {
   "cell_type": "code",
   "execution_count": 5,
   "metadata": {},
   "outputs": [
    {
     "data": {
      "text/plain": [
       "True"
      ]
     },
     "execution_count": 5,
     "metadata": {},
     "output_type": "execute_result"
    }
   ],
   "source": [
    "import logging\n",
    "import sys\n",
    "import os\n",
    "\n",
    "logging.basicConfig(stream=sys.stdout, level=logging.INFO)\n",
    "logging.getLogger().addHandler(logging.StreamHandler(stream=sys.stdout))\n",
    "\n",
    "from dotenv import load_dotenv\n",
    "load_dotenv()"
   ]
  },
  {
   "cell_type": "code",
   "execution_count": 6,
   "metadata": {},
   "outputs": [
    {
     "data": {
      "application/vnd.jupyter.widget-view+json": {
       "model_id": "73f24c400cdd4da8a57757ef280bc51d",
       "version_major": 2,
       "version_minor": 0
      },
      "text/plain": [
       "Fetching 9 files:   0%|          | 0/9 [00:00<?, ?it/s]"
      ]
     },
     "metadata": {},
     "output_type": "display_data"
    }
   ],
   "source": [
    "from llama_index.embeddings.fastembed import FastEmbedEmbedding\n",
    "from llama_index.core import Settings\n",
    "\n",
    "embed_model = FastEmbedEmbedding(model_name=\"BAAI/bge-small-en-v1.5\")\n",
    "Settings.embed_model = embed_model"
   ]
  },
  {
   "cell_type": "code",
   "execution_count": 2,
   "metadata": {},
   "outputs": [],
   "source": [
    "from llama_index.core import (\n",
    "    VectorStoreIndex,\n",
    "    SimpleDirectoryReader\n",
    ")\n",
    "\n",
    "# load documents\n",
    "documents = SimpleDirectoryReader(\"./data/paul_graham/\").load_data()\n",
    "\n",
    "# build index\n",
    "index = VectorStoreIndex.from_documents(documents=documents)"
   ]
  },
  {
   "cell_type": "markdown",
   "metadata": {},
   "source": [
    "#### Set CohereRerank\n",
    "\n",
    "- top_n: 상위 n개의 청크를 뽑아냄\n",
    "- model: 최대 100개국의 다국어 지원(rerank-multilingual-v2.0)"
   ]
  },
  {
   "cell_type": "code",
   "execution_count": 13,
   "metadata": {},
   "outputs": [],
   "source": [
    "from llama_index.postprocessor.cohere_rerank import CohereRerank\n",
    "\n",
    "cohere_rerank = CohereRerank(\n",
    "    top_n=3, \n",
    "    model=\"rerank-multilingual-v2.0\",\n",
    "    api_key=\"MDoHOxPWAanvMhXTqJlGdNkccofm5QZNdWUGRz4H\"\n",
    ")"
   ]
  },
  {
   "cell_type": "markdown",
   "metadata": {},
   "source": [
    "#### 가장 관련성이 높은 상위 10개 노드를 검색한 다음 Cohere Rerank로 필터링합니다."
   ]
  },
  {
   "cell_type": "code",
   "execution_count": 14,
   "metadata": {},
   "outputs": [
    {
     "ename": "TypeError",
     "evalue": "list indices must be integers or slices, not builtin_function_or_method",
     "output_type": "error",
     "traceback": [
      "\u001b[0;31m---------------------------------------------------------------------------\u001b[0m",
      "\u001b[0;31mTypeError\u001b[0m                                 Traceback (most recent call last)",
      "Cell \u001b[0;32mIn[14], line 5\u001b[0m\n\u001b[1;32m      1\u001b[0m query_engine \u001b[38;5;241m=\u001b[39m index\u001b[38;5;241m.\u001b[39mas_query_engine(\n\u001b[1;32m      2\u001b[0m     similarity_top_k\u001b[38;5;241m=\u001b[39m\u001b[38;5;241m10\u001b[39m,\n\u001b[1;32m      3\u001b[0m     node_postprocessors\u001b[38;5;241m=\u001b[39m[cohere_rerank],\n\u001b[1;32m      4\u001b[0m )\n\u001b[0;32m----> 5\u001b[0m response \u001b[38;5;241m=\u001b[39m \u001b[43mquery_engine\u001b[49m\u001b[38;5;241;43m.\u001b[39;49m\u001b[43mquery\u001b[49m\u001b[43m(\u001b[49m\n\u001b[1;32m      6\u001b[0m \u001b[43m    \u001b[49m\u001b[38;5;124;43m\"\u001b[39;49m\u001b[38;5;124;43mWhat did Sam Altman do in this essay?\u001b[39;49m\u001b[38;5;124;43m\"\u001b[39;49m\u001b[43m,\u001b[49m\n\u001b[1;32m      7\u001b[0m \u001b[43m)\u001b[49m\n",
      "File \u001b[0;32m~/anaconda3/envs/visa_chatbot1/lib/python3.11/site-packages/llama_index/core/instrumentation/dispatcher.py:211\u001b[0m, in \u001b[0;36mDispatcher.span.<locals>.wrapper\u001b[0;34m(func, instance, args, kwargs)\u001b[0m\n\u001b[1;32m    209\u001b[0m \u001b[38;5;28mself\u001b[39m\u001b[38;5;241m.\u001b[39mspan_enter(id_\u001b[38;5;241m=\u001b[39mid_, bound_args\u001b[38;5;241m=\u001b[39mbound_args, instance\u001b[38;5;241m=\u001b[39minstance)\n\u001b[1;32m    210\u001b[0m \u001b[38;5;28;01mtry\u001b[39;00m:\n\u001b[0;32m--> 211\u001b[0m     result \u001b[38;5;241m=\u001b[39m \u001b[43mfunc\u001b[49m\u001b[43m(\u001b[49m\u001b[38;5;241;43m*\u001b[39;49m\u001b[43margs\u001b[49m\u001b[43m,\u001b[49m\u001b[43m \u001b[49m\u001b[38;5;241;43m*\u001b[39;49m\u001b[38;5;241;43m*\u001b[39;49m\u001b[43mkwargs\u001b[49m\u001b[43m)\u001b[49m\n\u001b[1;32m    212\u001b[0m \u001b[38;5;28;01mexcept\u001b[39;00m \u001b[38;5;167;01mBaseException\u001b[39;00m \u001b[38;5;28;01mas\u001b[39;00m e:\n\u001b[1;32m    213\u001b[0m     \u001b[38;5;28mself\u001b[39m\u001b[38;5;241m.\u001b[39mevent(SpanDropEvent(span_id\u001b[38;5;241m=\u001b[39mid_, err_str\u001b[38;5;241m=\u001b[39m\u001b[38;5;28mstr\u001b[39m(e)))\n",
      "File \u001b[0;32m~/anaconda3/envs/visa_chatbot1/lib/python3.11/site-packages/llama_index/core/base/base_query_engine.py:53\u001b[0m, in \u001b[0;36mBaseQueryEngine.query\u001b[0;34m(self, str_or_query_bundle)\u001b[0m\n\u001b[1;32m     51\u001b[0m     \u001b[38;5;28;01mif\u001b[39;00m \u001b[38;5;28misinstance\u001b[39m(str_or_query_bundle, \u001b[38;5;28mstr\u001b[39m):\n\u001b[1;32m     52\u001b[0m         str_or_query_bundle \u001b[38;5;241m=\u001b[39m QueryBundle(str_or_query_bundle)\n\u001b[0;32m---> 53\u001b[0m     query_result \u001b[38;5;241m=\u001b[39m \u001b[38;5;28;43mself\u001b[39;49m\u001b[38;5;241;43m.\u001b[39;49m\u001b[43m_query\u001b[49m\u001b[43m(\u001b[49m\u001b[43mstr_or_query_bundle\u001b[49m\u001b[43m)\u001b[49m\n\u001b[1;32m     54\u001b[0m dispatch_event(QueryEndEvent())\n\u001b[1;32m     55\u001b[0m \u001b[38;5;28;01mreturn\u001b[39;00m query_result\n",
      "File \u001b[0;32m~/anaconda3/envs/visa_chatbot1/lib/python3.11/site-packages/llama_index/core/instrumentation/dispatcher.py:211\u001b[0m, in \u001b[0;36mDispatcher.span.<locals>.wrapper\u001b[0;34m(func, instance, args, kwargs)\u001b[0m\n\u001b[1;32m    209\u001b[0m \u001b[38;5;28mself\u001b[39m\u001b[38;5;241m.\u001b[39mspan_enter(id_\u001b[38;5;241m=\u001b[39mid_, bound_args\u001b[38;5;241m=\u001b[39mbound_args, instance\u001b[38;5;241m=\u001b[39minstance)\n\u001b[1;32m    210\u001b[0m \u001b[38;5;28;01mtry\u001b[39;00m:\n\u001b[0;32m--> 211\u001b[0m     result \u001b[38;5;241m=\u001b[39m \u001b[43mfunc\u001b[49m\u001b[43m(\u001b[49m\u001b[38;5;241;43m*\u001b[39;49m\u001b[43margs\u001b[49m\u001b[43m,\u001b[49m\u001b[43m \u001b[49m\u001b[38;5;241;43m*\u001b[39;49m\u001b[38;5;241;43m*\u001b[39;49m\u001b[43mkwargs\u001b[49m\u001b[43m)\u001b[49m\n\u001b[1;32m    212\u001b[0m \u001b[38;5;28;01mexcept\u001b[39;00m \u001b[38;5;167;01mBaseException\u001b[39;00m \u001b[38;5;28;01mas\u001b[39;00m e:\n\u001b[1;32m    213\u001b[0m     \u001b[38;5;28mself\u001b[39m\u001b[38;5;241m.\u001b[39mevent(SpanDropEvent(span_id\u001b[38;5;241m=\u001b[39mid_, err_str\u001b[38;5;241m=\u001b[39m\u001b[38;5;28mstr\u001b[39m(e)))\n",
      "File \u001b[0;32m~/anaconda3/envs/visa_chatbot1/lib/python3.11/site-packages/llama_index/core/query_engine/retriever_query_engine.py:189\u001b[0m, in \u001b[0;36mRetrieverQueryEngine._query\u001b[0;34m(self, query_bundle)\u001b[0m\n\u001b[1;32m    185\u001b[0m \u001b[38;5;250m\u001b[39m\u001b[38;5;124;03m\"\"\"Answer a query.\"\"\"\u001b[39;00m\n\u001b[1;32m    186\u001b[0m \u001b[38;5;28;01mwith\u001b[39;00m \u001b[38;5;28mself\u001b[39m\u001b[38;5;241m.\u001b[39mcallback_manager\u001b[38;5;241m.\u001b[39mevent(\n\u001b[1;32m    187\u001b[0m     CBEventType\u001b[38;5;241m.\u001b[39mQUERY, payload\u001b[38;5;241m=\u001b[39m{EventPayload\u001b[38;5;241m.\u001b[39mQUERY_STR: query_bundle\u001b[38;5;241m.\u001b[39mquery_str}\n\u001b[1;32m    188\u001b[0m ) \u001b[38;5;28;01mas\u001b[39;00m query_event:\n\u001b[0;32m--> 189\u001b[0m     nodes \u001b[38;5;241m=\u001b[39m \u001b[38;5;28;43mself\u001b[39;49m\u001b[38;5;241;43m.\u001b[39;49m\u001b[43mretrieve\u001b[49m\u001b[43m(\u001b[49m\u001b[43mquery_bundle\u001b[49m\u001b[43m)\u001b[49m\n\u001b[1;32m    190\u001b[0m     response \u001b[38;5;241m=\u001b[39m \u001b[38;5;28mself\u001b[39m\u001b[38;5;241m.\u001b[39m_response_synthesizer\u001b[38;5;241m.\u001b[39msynthesize(\n\u001b[1;32m    191\u001b[0m         query\u001b[38;5;241m=\u001b[39mquery_bundle,\n\u001b[1;32m    192\u001b[0m         nodes\u001b[38;5;241m=\u001b[39mnodes,\n\u001b[1;32m    193\u001b[0m     )\n\u001b[1;32m    194\u001b[0m     query_event\u001b[38;5;241m.\u001b[39mon_end(payload\u001b[38;5;241m=\u001b[39m{EventPayload\u001b[38;5;241m.\u001b[39mRESPONSE: response})\n",
      "File \u001b[0;32m~/anaconda3/envs/visa_chatbot1/lib/python3.11/site-packages/llama_index/core/query_engine/retriever_query_engine.py:145\u001b[0m, in \u001b[0;36mRetrieverQueryEngine.retrieve\u001b[0;34m(self, query_bundle)\u001b[0m\n\u001b[1;32m    143\u001b[0m \u001b[38;5;28;01mdef\u001b[39;00m \u001b[38;5;21mretrieve\u001b[39m(\u001b[38;5;28mself\u001b[39m, query_bundle: QueryBundle) \u001b[38;5;241m-\u001b[39m\u001b[38;5;241m>\u001b[39m List[NodeWithScore]:\n\u001b[1;32m    144\u001b[0m     nodes \u001b[38;5;241m=\u001b[39m \u001b[38;5;28mself\u001b[39m\u001b[38;5;241m.\u001b[39m_retriever\u001b[38;5;241m.\u001b[39mretrieve(query_bundle)\n\u001b[0;32m--> 145\u001b[0m     \u001b[38;5;28;01mreturn\u001b[39;00m \u001b[38;5;28;43mself\u001b[39;49m\u001b[38;5;241;43m.\u001b[39;49m\u001b[43m_apply_node_postprocessors\u001b[49m\u001b[43m(\u001b[49m\u001b[43mnodes\u001b[49m\u001b[43m,\u001b[49m\u001b[43m \u001b[49m\u001b[43mquery_bundle\u001b[49m\u001b[38;5;241;43m=\u001b[39;49m\u001b[43mquery_bundle\u001b[49m\u001b[43m)\u001b[49m\n",
      "File \u001b[0;32m~/anaconda3/envs/visa_chatbot1/lib/python3.11/site-packages/llama_index/core/query_engine/retriever_query_engine.py:138\u001b[0m, in \u001b[0;36mRetrieverQueryEngine._apply_node_postprocessors\u001b[0;34m(self, nodes, query_bundle)\u001b[0m\n\u001b[1;32m    134\u001b[0m \u001b[38;5;28;01mdef\u001b[39;00m \u001b[38;5;21m_apply_node_postprocessors\u001b[39m(\n\u001b[1;32m    135\u001b[0m     \u001b[38;5;28mself\u001b[39m, nodes: List[NodeWithScore], query_bundle: QueryBundle\n\u001b[1;32m    136\u001b[0m ) \u001b[38;5;241m-\u001b[39m\u001b[38;5;241m>\u001b[39m List[NodeWithScore]:\n\u001b[1;32m    137\u001b[0m     \u001b[38;5;28;01mfor\u001b[39;00m node_postprocessor \u001b[38;5;129;01min\u001b[39;00m \u001b[38;5;28mself\u001b[39m\u001b[38;5;241m.\u001b[39m_node_postprocessors:\n\u001b[0;32m--> 138\u001b[0m         nodes \u001b[38;5;241m=\u001b[39m \u001b[43mnode_postprocessor\u001b[49m\u001b[38;5;241;43m.\u001b[39;49m\u001b[43mpostprocess_nodes\u001b[49m\u001b[43m(\u001b[49m\n\u001b[1;32m    139\u001b[0m \u001b[43m            \u001b[49m\u001b[43mnodes\u001b[49m\u001b[43m,\u001b[49m\u001b[43m \u001b[49m\u001b[43mquery_bundle\u001b[49m\u001b[38;5;241;43m=\u001b[39;49m\u001b[43mquery_bundle\u001b[49m\n\u001b[1;32m    140\u001b[0m \u001b[43m        \u001b[49m\u001b[43m)\u001b[49m\n\u001b[1;32m    141\u001b[0m     \u001b[38;5;28;01mreturn\u001b[39;00m nodes\n",
      "File \u001b[0;32m~/anaconda3/envs/visa_chatbot1/lib/python3.11/site-packages/llama_index/core/postprocessor/types.py:55\u001b[0m, in \u001b[0;36mBaseNodePostprocessor.postprocess_nodes\u001b[0;34m(self, nodes, query_bundle, query_str)\u001b[0m\n\u001b[1;32m     53\u001b[0m \u001b[38;5;28;01melse\u001b[39;00m:\n\u001b[1;32m     54\u001b[0m     \u001b[38;5;28;01mpass\u001b[39;00m\n\u001b[0;32m---> 55\u001b[0m \u001b[38;5;28;01mreturn\u001b[39;00m \u001b[38;5;28;43mself\u001b[39;49m\u001b[38;5;241;43m.\u001b[39;49m\u001b[43m_postprocess_nodes\u001b[49m\u001b[43m(\u001b[49m\u001b[43mnodes\u001b[49m\u001b[43m,\u001b[49m\u001b[43m \u001b[49m\u001b[43mquery_bundle\u001b[49m\u001b[43m)\u001b[49m\n",
      "File \u001b[0;32m~/anaconda3/envs/visa_chatbot1/lib/python3.11/site-packages/llama_index/postprocessor/cohere_rerank/base.py:73\u001b[0m, in \u001b[0;36mCohereRerank._postprocess_nodes\u001b[0;34m(self, nodes, query_bundle)\u001b[0m\n\u001b[1;32m     70\u001b[0m new_nodes \u001b[38;5;241m=\u001b[39m []\n\u001b[1;32m     71\u001b[0m \u001b[38;5;28;01mfor\u001b[39;00m result \u001b[38;5;129;01min\u001b[39;00m results:\n\u001b[1;32m     72\u001b[0m     new_node_with_score \u001b[38;5;241m=\u001b[39m NodeWithScore(\n\u001b[0;32m---> 73\u001b[0m         node\u001b[38;5;241m=\u001b[39m\u001b[43mnodes\u001b[49m\u001b[43m[\u001b[49m\u001b[43mresult\u001b[49m\u001b[38;5;241;43m.\u001b[39;49m\u001b[43mindex\u001b[49m\u001b[43m]\u001b[49m\u001b[38;5;241m.\u001b[39mnode, score\u001b[38;5;241m=\u001b[39mresult\u001b[38;5;241m.\u001b[39mrelevance_score\n\u001b[1;32m     74\u001b[0m     )\n\u001b[1;32m     75\u001b[0m     new_nodes\u001b[38;5;241m.\u001b[39mappend(new_node_with_score)\n\u001b[1;32m     76\u001b[0m event\u001b[38;5;241m.\u001b[39mon_end(payload\u001b[38;5;241m=\u001b[39m{EventPayload\u001b[38;5;241m.\u001b[39mNODES: new_nodes})\n",
      "\u001b[0;31mTypeError\u001b[0m: list indices must be integers or slices, not builtin_function_or_method"
     ]
    }
   ],
   "source": [
    "query_engine = index.as_query_engine(\n",
    "    similarity_top_k=10,\n",
    "    node_postprocessors=[cohere_rerank],\n",
    ")\n",
    "response = query_engine.query(\n",
    "    \"What did Sam Altman do in this essay?\",\n",
    ")"
   ]
  },
  {
   "cell_type": "code",
   "execution_count": 7,
   "metadata": {},
   "outputs": [
    {
     "data": {
      "text/markdown": [
       "**`Final Response:`** Repeat: Sam Altman was recruited to take over as the president of Y Combinator after Paul Graham decided to step down from his role."
      ],
      "text/plain": [
       "<IPython.core.display.Markdown object>"
      ]
     },
     "metadata": {},
     "output_type": "display_data"
    },
    {
     "data": {
      "text/markdown": [
       "---"
      ],
      "text/plain": [
       "<IPython.core.display.Markdown object>"
      ]
     },
     "metadata": {},
     "output_type": "display_data"
    },
    {
     "data": {
      "text/markdown": [
       "**`Source Node 1/10`**"
      ],
      "text/plain": [
       "<IPython.core.display.Markdown object>"
      ]
     },
     "metadata": {},
     "output_type": "display_data"
    },
    {
     "data": {
      "text/markdown": [
       "**Node ID:** 6feed6f0-31ae-429c-938f-de6b7d2106e2<br>**Similarity:** 0.809807942240262<br>**Text:** Except for a few officially anointed thinkers who went to the right parties in New York, the only people allowed to publish essays were specialists writing about their specialties. There were so many essays that had never been written, because there had been no way to publish them. Now they could be, and I was going to write them. [12]\n",
       "\n",
       "I've worked on several different things, but to the extent there was a turning point where I figured out what to work on, it was when I started publishing ess...<br>**Metadata:** {'file_path': '/Users/heewungsong/Experiment/Visa_Rag/study/llama-index/ReRanker/data/paul_graham/paul_graham_essay.txt', 'file_name': 'paul_graham_essay.txt', 'file_type': 'text/plain', 'file_size': 75042, 'creation_date': '2024-04-04', 'last_modified_date': '2024-04-04'}<br>"
      ],
      "text/plain": [
       "<IPython.core.display.Markdown object>"
      ]
     },
     "metadata": {},
     "output_type": "display_data"
    },
    {
     "data": {
      "text/markdown": [
       "---"
      ],
      "text/plain": [
       "<IPython.core.display.Markdown object>"
      ]
     },
     "metadata": {},
     "output_type": "display_data"
    },
    {
     "data": {
      "text/markdown": [
       "**`Source Node 2/10`**"
      ],
      "text/plain": [
       "<IPython.core.display.Markdown object>"
      ]
     },
     "metadata": {},
     "output_type": "display_data"
    },
    {
     "data": {
      "text/markdown": [
       "**Node ID:** 63c64c28-1051-4431-83c7-c897edcdef4b<br>**Similarity:** 0.808662824592474<br>**Text:** One day in 2010, when he was visiting California for interviews, Robert Morris did something astonishing: he offered me unsolicited advice. I can only remember him doing that once before. One day at Viaweb, when I was bent over double from a kidney stone, he suggested that it would be a good idea for him to take me to the hospital. That was what it took for Rtm to offer unsolicited advice. So I remember his exact words very clearly. \"You know,\" he said, \"you should make sure Y Combinator isn'...<br>**Metadata:** {'file_path': '/Users/heewungsong/Experiment/Visa_Rag/study/llama-index/ReRanker/data/paul_graham/paul_graham_essay.txt', 'file_name': 'paul_graham_essay.txt', 'file_type': 'text/plain', 'file_size': 75042, 'creation_date': '2024-04-04', 'last_modified_date': '2024-04-04'}<br>"
      ],
      "text/plain": [
       "<IPython.core.display.Markdown object>"
      ]
     },
     "metadata": {},
     "output_type": "display_data"
    },
    {
     "data": {
      "text/markdown": [
       "---"
      ],
      "text/plain": [
       "<IPython.core.display.Markdown object>"
      ]
     },
     "metadata": {},
     "output_type": "display_data"
    },
    {
     "data": {
      "text/markdown": [
       "**`Source Node 3/10`**"
      ],
      "text/plain": [
       "<IPython.core.display.Markdown object>"
      ]
     },
     "metadata": {},
     "output_type": "display_data"
    },
    {
     "data": {
      "text/markdown": [
       "**Node ID:** d5d9c053-227c-4044-adb6-bdf1f9c88e6f<br>**Similarity:** 0.8054754763662286<br>**Text:** The alumni became a tight community, dedicated to helping one another, and especially the current batch, whose shoes they remembered being in. We also noticed that the startups were becoming one another's customers. We used to refer jokingly to the \"YC GDP,\" but as YC grows this becomes less and less of a joke. Now lots of startups get their initial set of customers almost entirely from among their batchmates.\n",
       "\n",
       "I had not originally intended YC to be a full-time job. I was going to do three th...<br>**Metadata:** {'file_path': '/Users/heewungsong/Experiment/Visa_Rag/study/llama-index/ReRanker/data/paul_graham/paul_graham_essay.txt', 'file_name': 'paul_graham_essay.txt', 'file_type': 'text/plain', 'file_size': 75042, 'creation_date': '2024-04-04', 'last_modified_date': '2024-04-04'}<br>"
      ],
      "text/plain": [
       "<IPython.core.display.Markdown object>"
      ]
     },
     "metadata": {},
     "output_type": "display_data"
    },
    {
     "data": {
      "text/markdown": [
       "---"
      ],
      "text/plain": [
       "<IPython.core.display.Markdown object>"
      ]
     },
     "metadata": {},
     "output_type": "display_data"
    },
    {
     "data": {
      "text/markdown": [
       "**`Source Node 4/10`**"
      ],
      "text/plain": [
       "<IPython.core.display.Markdown object>"
      ]
     },
     "metadata": {},
     "output_type": "display_data"
    },
    {
     "data": {
      "text/markdown": [
       "**Node ID:** bcbc385d-725f-4f45-8311-7a2b015175cd<br>**Similarity:** 0.8041314963536148<br>**Text:** My boss was at that moment a billionaire. Leaving then to start a new startup must have seemed to him an insanely, and yet also plausibly, ambitious plan.\n",
       "\n",
       "But I really was quitting to paint, and I started immediately. There was no time to lose. I'd already burned 4 years getting rich. Now when I talk to founders who are leaving after selling their companies, my advice is always the same: take a vacation. That's what I should have done, just gone off somewhere and done nothing for a month or ...<br>**Metadata:** {'file_path': '/Users/heewungsong/Experiment/Visa_Rag/study/llama-index/ReRanker/data/paul_graham/paul_graham_essay.txt', 'file_name': 'paul_graham_essay.txt', 'file_type': 'text/plain', 'file_size': 75042, 'creation_date': '2024-04-04', 'last_modified_date': '2024-04-04'}<br>"
      ],
      "text/plain": [
       "<IPython.core.display.Markdown object>"
      ]
     },
     "metadata": {},
     "output_type": "display_data"
    },
    {
     "data": {
      "text/markdown": [
       "---"
      ],
      "text/plain": [
       "<IPython.core.display.Markdown object>"
      ]
     },
     "metadata": {},
     "output_type": "display_data"
    },
    {
     "data": {
      "text/markdown": [
       "**`Source Node 5/10`**"
      ],
      "text/plain": [
       "<IPython.core.display.Markdown object>"
      ]
     },
     "metadata": {},
     "output_type": "display_data"
    },
    {
     "data": {
      "text/markdown": [
       "**Node ID:** 94768e60-d987-40eb-b4ae-672cf4c90bbf<br>**Similarity:** 0.8039490367544079<br>**Text:** I recruited Dan Giffin, who had worked for Viaweb, and two undergrads who wanted summer jobs, and we got to work trying to build what it's now clear is about twenty companies and several open source projects worth of software. The language for defining applications would of course be a dialect of Lisp. But I wasn't so naive as to assume I could spring an overt Lisp on a general audience; we'd hide the parentheses, like Dylan did.\n",
       "\n",
       "By then there was a name for the kind of company Viaweb was, a...<br>**Metadata:** {'file_path': '/Users/heewungsong/Experiment/Visa_Rag/study/llama-index/ReRanker/data/paul_graham/paul_graham_essay.txt', 'file_name': 'paul_graham_essay.txt', 'file_type': 'text/plain', 'file_size': 75042, 'creation_date': '2024-04-04', 'last_modified_date': '2024-04-04'}<br>"
      ],
      "text/plain": [
       "<IPython.core.display.Markdown object>"
      ]
     },
     "metadata": {},
     "output_type": "display_data"
    },
    {
     "data": {
      "text/markdown": [
       "---"
      ],
      "text/plain": [
       "<IPython.core.display.Markdown object>"
      ]
     },
     "metadata": {},
     "output_type": "display_data"
    },
    {
     "data": {
      "text/markdown": [
       "**`Source Node 6/10`**"
      ],
      "text/plain": [
       "<IPython.core.display.Markdown object>"
      ]
     },
     "metadata": {},
     "output_type": "display_data"
    },
    {
     "data": {
      "text/markdown": [
       "**Node ID:** 1a270cb0-91f5-47df-9940-94e6182b2d88<br>**Similarity:** 0.7950176305421511<br>**Text:** We didn't know how VC firms were organized. It never occurred to us to try to raise a fund, and if it had, we wouldn't have known where to start. [14]\n",
       "\n",
       "The most distinctive thing about YC is the batch model: to fund a bunch of startups all at once, twice a year, and then to spend three months focusing intensively on trying to help them. That part we discovered by accident, not merely implicitly but explicitly due to our ignorance about investing. We needed to get experience as investors. What...<br>**Metadata:** {'file_path': '/Users/heewungsong/Experiment/Visa_Rag/study/llama-index/ReRanker/data/paul_graham/paul_graham_essay.txt', 'file_name': 'paul_graham_essay.txt', 'file_type': 'text/plain', 'file_size': 75042, 'creation_date': '2024-04-04', 'last_modified_date': '2024-04-04'}<br>"
      ],
      "text/plain": [
       "<IPython.core.display.Markdown object>"
      ]
     },
     "metadata": {},
     "output_type": "display_data"
    },
    {
     "data": {
      "text/markdown": [
       "---"
      ],
      "text/plain": [
       "<IPython.core.display.Markdown object>"
      ]
     },
     "metadata": {},
     "output_type": "display_data"
    },
    {
     "data": {
      "text/markdown": [
       "**`Source Node 7/10`**"
      ],
      "text/plain": [
       "<IPython.core.display.Markdown object>"
      ]
     },
     "metadata": {},
     "output_type": "display_data"
    },
    {
     "data": {
      "text/markdown": [
       "**Node ID:** 9c0463b8-49da-4146-8820-6253cb507e9c<br>**Similarity:** 0.794031556575457<br>**Text:** The best thing about New York for me was the presence of Idelle and Julian Weber. Idelle Weber was a painter, one of the early photorealists, and I'd taken her painting class at Harvard. I've never known a teacher more beloved by her students. Large numbers of former students kept in touch with her, including me. After I moved to New York I became her de facto studio assistant.\n",
       "\n",
       "She liked to paint on big, square canvases, 4 to 5 feet on a side. One day in late 1994 as I was stretching one of ...<br>**Metadata:** {'file_path': '/Users/heewungsong/Experiment/Visa_Rag/study/llama-index/ReRanker/data/paul_graham/paul_graham_essay.txt', 'file_name': 'paul_graham_essay.txt', 'file_type': 'text/plain', 'file_size': 75042, 'creation_date': '2024-04-04', 'last_modified_date': '2024-04-04'}<br>"
      ],
      "text/plain": [
       "<IPython.core.display.Markdown object>"
      ]
     },
     "metadata": {},
     "output_type": "display_data"
    },
    {
     "data": {
      "text/markdown": [
       "---"
      ],
      "text/plain": [
       "<IPython.core.display.Markdown object>"
      ]
     },
     "metadata": {},
     "output_type": "display_data"
    },
    {
     "data": {
      "text/markdown": [
       "**`Source Node 8/10`**"
      ],
      "text/plain": [
       "<IPython.core.display.Markdown object>"
      ]
     },
     "metadata": {},
     "output_type": "display_data"
    },
    {
     "data": {
      "text/markdown": [
       "**Node ID:** 09461dc4-538c-4c51-aa64-878f10fc4d0f<br>**Similarity:** 0.7938383279794718<br>**Text:** In the fall of 1992 I moved back to Providence to continue at RISD. The foundation had merely been intro stuff, and the Accademia had been a (very civilized) joke. Now I was going to see what real art school was like. But alas it was more like the Accademia than not. Better organized, certainly, and a lot more expensive, but it was now becoming clear that art school did not bear the same relationship to art that medical school bore to medicine. At least not the painting department. The textil...<br>**Metadata:** {'file_path': '/Users/heewungsong/Experiment/Visa_Rag/study/llama-index/ReRanker/data/paul_graham/paul_graham_essay.txt', 'file_name': 'paul_graham_essay.txt', 'file_type': 'text/plain', 'file_size': 75042, 'creation_date': '2024-04-04', 'last_modified_date': '2024-04-04'}<br>"
      ],
      "text/plain": [
       "<IPython.core.display.Markdown object>"
      ]
     },
     "metadata": {},
     "output_type": "display_data"
    },
    {
     "data": {
      "text/markdown": [
       "---"
      ],
      "text/plain": [
       "<IPython.core.display.Markdown object>"
      ]
     },
     "metadata": {},
     "output_type": "display_data"
    },
    {
     "data": {
      "text/markdown": [
       "**`Source Node 9/10`**"
      ],
      "text/plain": [
       "<IPython.core.display.Markdown object>"
      ]
     },
     "metadata": {},
     "output_type": "display_data"
    },
    {
     "data": {
      "text/markdown": [
       "**Node ID:** 8d0ca9ab-7627-4da7-bc2b-1957d3a469ad<br>**Similarity:** 0.7928642451235037<br>**Text:** It was not, in fact, simply a matter of teaching SHRDLU more words. That whole way of doing AI, with explicit data structures representing concepts, was not going to work. Its brokenness did, as so often happens, generate a lot of opportunities to write papers about various band-aids that could be applied to it, but it was never going to get us Mike.\n",
       "\n",
       "So I looked around to see what I could salvage from the wreckage of my plans, and there was Lisp. I knew from experience that Lisp was interest...<br>**Metadata:** {'file_path': '/Users/heewungsong/Experiment/Visa_Rag/study/llama-index/ReRanker/data/paul_graham/paul_graham_essay.txt', 'file_name': 'paul_graham_essay.txt', 'file_type': 'text/plain', 'file_size': 75042, 'creation_date': '2024-04-04', 'last_modified_date': '2024-04-04'}<br>"
      ],
      "text/plain": [
       "<IPython.core.display.Markdown object>"
      ]
     },
     "metadata": {},
     "output_type": "display_data"
    },
    {
     "data": {
      "text/markdown": [
       "---"
      ],
      "text/plain": [
       "<IPython.core.display.Markdown object>"
      ]
     },
     "metadata": {},
     "output_type": "display_data"
    },
    {
     "data": {
      "text/markdown": [
       "**`Source Node 10/10`**"
      ],
      "text/plain": [
       "<IPython.core.display.Markdown object>"
      ]
     },
     "metadata": {},
     "output_type": "display_data"
    },
    {
     "data": {
      "text/markdown": [
       "**Node ID:** a132ea42-bd78-49c3-ada0-46edb2bb9729<br>**Similarity:** 0.792675098405147<br>**Text:** They should make a larger number of smaller investments instead of a handful of giant ones, they should be funding younger, more technical founders instead of MBAs, they should let the founders remain as CEO, and so on.\n",
       "\n",
       "One of my tricks for writing essays had always been to give talks. The prospect of having to stand up in front of a group of people and tell them something that won't waste their time is a great spur to the imagination. When the Harvard Computer Society, the undergrad compute...<br>**Metadata:** {'file_path': '/Users/heewungsong/Experiment/Visa_Rag/study/llama-index/ReRanker/data/paul_graham/paul_graham_essay.txt', 'file_name': 'paul_graham_essay.txt', 'file_type': 'text/plain', 'file_size': 75042, 'creation_date': '2024-04-04', 'last_modified_date': '2024-04-04'}<br>"
      ],
      "text/plain": [
       "<IPython.core.display.Markdown object>"
      ]
     },
     "metadata": {},
     "output_type": "display_data"
    }
   ],
   "source": [
    "# from llama_index.core.response.pprint_utils import pprint_response, pprint_source_node, pprint_metadata, pprint\n",
    "from llama_index.core.response.notebook_utils import display_response, display_source_node, display_metadata\n",
    "\n",
    "display_response(response, source_length=500, show_source=True, show_source_metadata=True)"
   ]
  },
  {
   "cell_type": "markdown",
   "metadata": {},
   "source": [
    "#### Raw Engine 으로 테스트 (Without Cohere Rerank )"
   ]
  },
  {
   "cell_type": "code",
   "execution_count": 30,
   "metadata": {},
   "outputs": [
    {
     "name": "stdout",
     "output_type": "stream",
     "text": [
      "INFO:httpx:HTTP Request: POST https://api.openai.com/v1/chat/completions \"HTTP/1.1 200 OK\"\n",
      "HTTP Request: POST https://api.openai.com/v1/chat/completions \"HTTP/1.1 200 OK\"\n"
     ]
    }
   ],
   "source": [
    "base_query_engine = index.as_query_engine(\n",
    "    similarity_top_k=2,\n",
    ")\n",
    "base_response = base_query_engine.query(\n",
    "    \"What did Sam Altman do in this essay?\",\n",
    ")"
   ]
  },
  {
   "cell_type": "code",
   "execution_count": 31,
   "metadata": {},
   "outputs": [
    {
     "data": {
      "text/markdown": [
       "**`Final Response:`** Sam Altman was asked if he wanted to be the president of Y Combinator, initially declining the offer as he wanted to start a startup to make nuclear reactors. However, after persistent persuasion, he eventually agreed to take over as the president starting with the winter 2014 batch."
      ],
      "text/plain": [
       "<IPython.core.display.Markdown object>"
      ]
     },
     "metadata": {},
     "output_type": "display_data"
    },
    {
     "data": {
      "text/markdown": [
       "---"
      ],
      "text/plain": [
       "<IPython.core.display.Markdown object>"
      ]
     },
     "metadata": {},
     "output_type": "display_data"
    },
    {
     "data": {
      "text/markdown": [
       "**`Source Node 1/2`**"
      ],
      "text/plain": [
       "<IPython.core.display.Markdown object>"
      ]
     },
     "metadata": {},
     "output_type": "display_data"
    },
    {
     "data": {
      "text/markdown": [
       "**Node ID:** 9af3f019-6c27-4718-b76f-43b412d279d2<br>**Similarity:** 0.5949466309972675<br>**Text:** Except for a few officially anointed thinkers who went to the right parties in New York, the only people allowed to publish essays were specialists writing about their specialties. There were so many essays that had never been written, because there had been no way to publish them. Now they could be, and I was going to write them. [12]\n",
       "\n",
       "I've worked on several different things, but to the extent there was a turning point where I figured out what to work on, it was when I started publishing ess...<br>**Metadata:** {'file_path': '/Users/heewungsong/Experiment/Visa_Rag/study/llama-index/ReRanker/data/paul_graham/paul_graham_essay.txt', 'file_name': 'paul_graham_essay.txt', 'file_type': 'text/plain', 'file_size': 75042, 'creation_date': '2024-04-04', 'last_modified_date': '2024-04-04'}<br>"
      ],
      "text/plain": [
       "<IPython.core.display.Markdown object>"
      ]
     },
     "metadata": {},
     "output_type": "display_data"
    },
    {
     "data": {
      "text/markdown": [
       "---"
      ],
      "text/plain": [
       "<IPython.core.display.Markdown object>"
      ]
     },
     "metadata": {},
     "output_type": "display_data"
    },
    {
     "data": {
      "text/markdown": [
       "**`Source Node 2/2`**"
      ],
      "text/plain": [
       "<IPython.core.display.Markdown object>"
      ]
     },
     "metadata": {},
     "output_type": "display_data"
    },
    {
     "data": {
      "text/markdown": [
       "**Node ID:** f31edbc9-e8c5-4694-a7d7-7b90aa1f9f9b<br>**Similarity:** 0.5793073754036143<br>**Text:** One day in 2010, when he was visiting California for interviews, Robert Morris did something astonishing: he offered me unsolicited advice. I can only remember him doing that once before. One day at Viaweb, when I was bent over double from a kidney stone, he suggested that it would be a good idea for him to take me to the hospital. That was what it took for Rtm to offer unsolicited advice. So I remember his exact words very clearly. \"You know,\" he said, \"you should make sure Y Combinator isn'...<br>**Metadata:** {'file_path': '/Users/heewungsong/Experiment/Visa_Rag/study/llama-index/ReRanker/data/paul_graham/paul_graham_essay.txt', 'file_name': 'paul_graham_essay.txt', 'file_type': 'text/plain', 'file_size': 75042, 'creation_date': '2024-04-04', 'last_modified_date': '2024-04-04'}<br>"
      ],
      "text/plain": [
       "<IPython.core.display.Markdown object>"
      ]
     },
     "metadata": {},
     "output_type": "display_data"
    }
   ],
   "source": [
    "display_response(base_response, source_length=500, show_source=True, show_source_metadata=True)"
   ]
  },
  {
   "cell_type": "markdown",
   "metadata": {},
   "source": [
    "### E9 Visa Document Test"
   ]
  },
  {
   "cell_type": "markdown",
   "metadata": {},
   "source": [
    "#### Load Vector Store from Chroma Vectore DB"
   ]
  },
  {
   "cell_type": "code",
   "execution_count": 32,
   "metadata": {},
   "outputs": [
    {
     "name": "stdout",
     "output_type": "stream",
     "text": [
      "INFO:chromadb.telemetry.product.posthog:Anonymized telemetry enabled. See                     https://docs.trychroma.com/telemetry for more information.\n",
      "Anonymized telemetry enabled. See                     https://docs.trychroma.com/telemetry for more information.\n"
     ]
    }
   ],
   "source": [
    "import chromadb\n",
    "from llama_index.core import VectorStoreIndex, load_index_from_storage\n",
    "from llama_index.vector_stores.chroma import ChromaVectorStore\n",
    "from llama_index.core import StorageContext\n",
    "from llama_index.embeddings.openai import OpenAIEmbedding\n",
    "\n",
    "db = chromadb.PersistentClient(path=\"../Storing/chroma\")\n",
    "\n",
    "collection_name = \"E9_VISA_GUIDE\" # Guide\n",
    "\n",
    "chroma_collection = db.get_collection(collection_name)\n",
    "chroma_vector_store = ChromaVectorStore(chroma_collection=chroma_collection)\n",
    "\n",
    "embed_model = OpenAIEmbedding()\n",
    "visa_guide_index = VectorStoreIndex.from_vector_store(vector_store=chroma_vector_store, embed_model=embed_model)"
   ]
  },
  {
   "cell_type": "markdown",
   "metadata": {},
   "source": [
    "#### Load CohereRerank"
   ]
  },
  {
   "cell_type": "code",
   "execution_count": 70,
   "metadata": {},
   "outputs": [],
   "source": [
    "from llama_index.postprocessor.cohere_rerank import CohereRerank\n",
    "\n",
    "cohere_reranker = CohereRerank(top_n=3, model=\"rerank-multilingual-v2.0\")"
   ]
  },
  {
   "cell_type": "markdown",
   "metadata": {},
   "source": [
    "#### With Cohere 와 Without Cohere 비교"
   ]
  },
  {
   "cell_type": "code",
   "execution_count": 40,
   "metadata": {},
   "outputs": [],
   "source": [
    "retriever = visa_guide_index.as_retriever(similarity_top_k=10)"
   ]
  },
  {
   "cell_type": "code",
   "execution_count": 64,
   "metadata": {},
   "outputs": [],
   "source": [
    "def print_source_nodes(sources):\n",
    "    for idx, source in enumerate(sources):\n",
    "        print(f\"Rank: {idx + 1}\")\n",
    "        print(f\"Score: {source.score:.3f}\")\n",
    "        print(f\"Page: {source.metadata['page_label']}\")\n",
    "        print(f\"Title: {source.metadata['document_title']}\")\n",
    "        print(f\"Text: {source.get_content()[:100]}\")\n",
    "        print(f\"----------------------------------------------------------------\\n\")"
   ]
  },
  {
   "cell_type": "code",
   "execution_count": 65,
   "metadata": {},
   "outputs": [
    {
     "name": "stdout",
     "output_type": "stream",
     "text": [
      "INFO:httpx:HTTP Request: POST https://api.openai.com/v1/embeddings \"HTTP/1.1 200 OK\"\n",
      "HTTP Request: POST https://api.openai.com/v1/embeddings \"HTTP/1.1 200 OK\"\n",
      "Rank: 1\n",
      "Score: 0.785\n",
      "Page: 6\n",
      "Title: 고용허가제 해당자는 사증발급인정서를 받아야만 E-9 사증을 발급받을 수 있음\n",
      "Text: 사증발급인정서를 받아야만 E-9 사증을 발급 받을수있음\n",
      "        ● 비전문취업(E-9) 사증은 출입국ᆞ외국인청(사무소ᆞ출장소)장이 발급한 사증발급인정서에 의해서만 사증을 발급\n",
      "----------------------------------------------------------------\n",
      "\n",
      "Rank: 2\n",
      "Score: 0.772\n",
      "Page: 1\n",
      "Title: E-9 Visa Guide: 목차\n",
      "Text: # E-9: 고용허가제 비전문취업 비자\n",
      "\n",
      "        고용허가제\n",
      "            고용허가제 해당자와 활동범위\n",
      "        고용허가제 해당자에 대한 사증 발급\n",
      "       \n",
      "----------------------------------------------------------------\n",
      "\n",
      "Rank: 3\n",
      "Score: 0.745\n",
      "Page: 8\n",
      "Title: 비전문취업(E-9) 자격 사증발급인정서 발급절차\n",
      "Text: 비전문취업(E-9) 자격 사증발급인정서 발급절차\n",
      "        ● 접수/신청 방법\n",
      "            ○ 비전문취업자를 초청하고자 하는 사업장의 장이 사업장 주소지를 관할하는 출\n",
      "----------------------------------------------------------------\n",
      "\n",
      "Rank: 4\n",
      "Score: 0.731\n",
      "Page: 21\n",
      "Title: 고용허가제 해당자의 고용변동 신고\n",
      "Text: 고용허가제 해당자의 고용변동 신고\n",
      "        ● 신고의무자\n",
      "            ○ 비전문취업(E-9) 외국인근로자를 고용한 자\n",
      "        ● 신고기한\n",
      "           \n",
      "----------------------------------------------------------------\n",
      "\n",
      "Rank: 5\n",
      "Score: 0.729\n",
      "Page: 5\n",
      "Title: E-9 근로자를 채용할 수 있는 업종과 범위\n",
      "Text: 사증발급 허용업종 및 체류자격 약호(기호): E-9 근로자를 채용할 수 있는 업종과 범위\n",
      "        ● 제조업: 제조업, 뿌리산업\n",
      "            ○ 체류자격: E-9-1\n",
      "----------------------------------------------------------------\n",
      "\n",
      "Rank: 6\n",
      "Score: 0.723\n",
      "Page: 17\n",
      "Title: 고용허가제 해당자의 체류자격 변경허가 - 사증 변경\n",
      "Text: 고용허가제 해당자의 체류자격 변경허가 - 사증 변경\n",
      "        ● 기타자격(G-1) 사증 소지자의 비전문취업(E-9) 자격 회복절차\n",
      "            ○ 대상자\n",
      "      \n",
      "----------------------------------------------------------------\n",
      "\n",
      "Rank: 7\n",
      "Score: 0.719\n",
      "Page: 20\n",
      "Title: 고용허가제 해당자의 외국인등록\n",
      "Text: 고용허가제 해당자의 외국인등록\n",
      "        ● 외국인등록 신청서류\n",
      "            ○ 신청서(별지34호 서식), 여권원본, 표준규격사진 1장, 수수료 3만원\n",
      "        \n",
      "----------------------------------------------------------------\n",
      "\n",
      "Rank: 8\n",
      "Score: 0.692\n",
      "Page: 7\n",
      "Title: 고용허가제 해당자는 2012.8.1부터 범죄경력증명서 및 건강상태확인서 제출\n",
      "Text: 2012.8.1부터 범죄경력증명서 및 건강상태확인서 제출\n",
      "        ● 범죄경력 확인 관련\n",
      "            ○ 확인 서류: 국적국의 권한 있는 기관이 발급한 범죄경력증명서\n",
      "----------------------------------------------------------------\n",
      "\n",
      "Rank: 9\n",
      "Score: 0.692\n",
      "Page: 18\n",
      "Title: 고용허가제 해당자의 체류기간 연장 허가 - 사증 연장\n",
      "Text: 고용허가제 해당자의 체류기간 연장 허가 - 사증 연장\n",
      "        ● 제출 서류\n",
      "            ○ 신청서(별지 34호 서식), 여권 및 외국인등록증, 수수료\n",
      "       \n",
      "----------------------------------------------------------------\n",
      "\n",
      "Rank: 10\n",
      "Score: 0.685\n",
      "Page: 4\n",
      "Title: 고용허가제 해당자의 사증발급 후 1회 체류기간의 상한\n",
      "Text: 고용허가제 해당자에 대한 사증 발급\n",
      "            - 사증발급 후 1회 체류기간의 상한\n",
      "                3년\n",
      "----------------------------------------------------------------\n",
      "\n"
     ]
    }
   ],
   "source": [
    "\"\"\"\n",
    "답: 비전문취업(E-9) 자격 사증발급인정서 발급절차\n",
    "결과: 3순위\n",
    "\"\"\"\n",
    "\n",
    "query = \"E-9 비자 신청 시 필요한 서류는 무엇인가요?\"\n",
    "\n",
    "source_nodes_without_cohere = retriever.retrieve(query)\n",
    "print_source_nodes(source_nodes_without_cohere)"
   ]
  },
  {
   "cell_type": "code",
   "execution_count": 75,
   "metadata": {},
   "outputs": [
    {
     "name": "stdout",
     "output_type": "stream",
     "text": [
      "INFO:httpx:HTTP Request: POST https://api.openai.com/v1/embeddings \"HTTP/1.1 200 OK\"\n",
      "HTTP Request: POST https://api.openai.com/v1/embeddings \"HTTP/1.1 200 OK\"\n",
      "Rank: 1\n",
      "Score: 0.687\n",
      "Page: 2\n",
      "Title: 고용허가제 법률적 개요와 고용허가제 선정국가\n",
      "Text: 고용허가제 \n",
      "            - ｢외국인근로자의 고용 등에 관한 법률｣에 의거, 사업주에게 외국인근로자의 고용을 허가하고, 외국인 근로자에게는 당해 사업주에게 고용되는 조건으\n",
      "----------------------------------------------------------------\n",
      "\n",
      "Rank: 2\n",
      "Score: 0.685\n",
      "Page: 16\n",
      "Title: 고용허가제 농업 분야 외국인근로자의 근무처(직장) 추가\n",
      "Text: 고용허가제 농업 분야 외국인근로자의 근무처(직장) 추가\n",
      "        ● 계절적으로 업무량의 차이가 큰 일부 농업분야에 근무하는 외국인근로자가 원사업장과의 근로계약은 유지하면서(무\n",
      "----------------------------------------------------------------\n",
      "\n",
      "Rank: 3\n",
      "Score: 0.678\n",
      "Page: 19\n",
      "Title: 고용허가제 해당자의 재입국허가\n",
      "Text: 고용허가제 해당자의 재입국허가\n",
      "        ● 재입국허가 면제 제도 시행(’10.12.1.자 개정 시행규칙)\n",
      "            ○ 등록을 필한 외국인이 출국한 날부터 1년 이\n",
      "----------------------------------------------------------------\n",
      "\n",
      "Rank: 4\n",
      "Score: 0.675\n",
      "Page: 8\n",
      "Title: 비전문취업(E-9) 자격 사증발급인정서 발급절차\n",
      "Text: 비전문취업(E-9) 자격 사증발급인정서 발급절차\n",
      "        ● 접수/신청 방법\n",
      "            ○ 비전문취업자를 초청하고자 하는 사업장의 장이 사업장 주소지를 관할하는 출\n",
      "----------------------------------------------------------------\n",
      "\n",
      "Rank: 5\n",
      "Score: 0.674\n",
      "Page: 11\n",
      "Title: 재입국특례자에 대한 우대 내용\n",
      "Text: 재입국특례자에 대한 우대 내용\n",
      "        ● 사업주\n",
      "            ○ (내국인 구인노력 면제) 고용허가서 발급 시 사업주의 내국인 구인노력 불요\n",
      "            ○\n",
      "----------------------------------------------------------------\n",
      "\n",
      "Rank: 6\n",
      "Score: 0.672\n",
      "Page: 21\n",
      "Title: 고용허가제 해당자의 고용변동 신고\n",
      "Text: 고용허가제 해당자의 고용변동 신고\n",
      "        ● 신고의무자\n",
      "            ○ 비전문취업(E-9) 외국인근로자를 고용한 자\n",
      "        ● 신고기한\n",
      "           \n",
      "----------------------------------------------------------------\n",
      "\n",
      "Rank: 7\n",
      "Score: 0.671\n",
      "Page: 3\n",
      "Title: 고용허가제 해당자와 활동범위\n",
      "Text: 고용허가제 해당자와 활동범위\n",
      "            - 활동범위\n",
      "                외국인근로자의 고용 등에 관한 법률의 규정에 의한 국내취업\n",
      "            - 해당\n",
      "----------------------------------------------------------------\n",
      "\n",
      "Rank: 8\n",
      "Score: 0.668\n",
      "Page: 5\n",
      "Title: E-9 근로자를 채용할 수 있는 업종과 범위\n",
      "Text: 사증발급 허용업종 및 체류자격 약호(기호): E-9 근로자를 채용할 수 있는 업종과 범위\n",
      "        ● 제조업: 제조업, 뿌리산업\n",
      "            ○ 체류자격: E-9-1\n",
      "----------------------------------------------------------------\n",
      "\n",
      "Rank: 9\n",
      "Score: 0.668\n",
      "Page: 9\n",
      "Title: 재입국특례 제도(구 성실근로자 제도)\n",
      "Text: 재입국특례 제도(구 성실근로자 제도)\n",
      "        ● 재입국 특례 제도란\n",
      "            ○ 일정한 요건을 갖춘 성실외국인 근로자가 취업활동 기간이 만료되어 출국하기 전에 \n",
      "----------------------------------------------------------------\n",
      "\n",
      "Rank: 10\n",
      "Score: 0.667\n",
      "Page: 15\n",
      "Title: 고용허가제 해당자가 근무처(직장)를 변경하는 절차 및 제출 서류\n",
      "Text: 고용허가제 해당자가 근무처(직장)를 변경하는 절차 및 제출 서류\n",
      "        ● 근무처(직장) 변경 절차\n",
      "            ○ 사용자와 근로계약 종료 후 1월 이내에 사업장 \n",
      "----------------------------------------------------------------\n",
      "\n"
     ]
    }
   ],
   "source": [
    "\"\"\"\n",
    "답: \n",
    "    1. 고용허가제 농업 분야 외국인근로자의 근무처(직장) 추가\n",
    "    2. 고용허가제 해당자가 근무처(직장)를 변경하는 절차 및 제출 서류\n",
    "결과:\n",
    "    1. 고용허가제 농업 분야 외국인근로자의 근무처(직장) 추가: 2순위\n",
    "    2. 고용허가제 해당자가 근무처(직장)를 변경하는 절차 및 제출 서류: 10순위\n",
    "\"\"\"\n",
    "\n",
    "query = \"저는 베트남에서 한국으로 취업을 희망하는 학생입니다. 한국의 농장에서 일하려고 하는데 준비해야하는 절차는 무엇이 있나요?\"\n",
    "\n",
    "\n",
    "source_nodes_without_cohere = retriever.retrieve(query)\n",
    "print_source_nodes(source_nodes_without_cohere)"
   ]
  },
  {
   "cell_type": "code",
   "execution_count": 67,
   "metadata": {},
   "outputs": [
    {
     "name": "stdout",
     "output_type": "stream",
     "text": [
      "INFO:httpx:HTTP Request: POST https://api.openai.com/v1/embeddings \"HTTP/1.1 200 OK\"\n",
      "HTTP Request: POST https://api.openai.com/v1/embeddings \"HTTP/1.1 200 OK\"\n",
      "Rank: 1\n",
      "Score: 0.765\n",
      "Page: 9\n",
      "Title: 재입국특례 제도(구 성실근로자 제도)\n",
      "Text: 재입국특례 제도(구 성실근로자 제도)\n",
      "        ● 재입국 특례 제도란\n",
      "            ○ 일정한 요건을 갖춘 성실외국인 근로자가 취업활동 기간이 만료되어 출국하기 전에 \n",
      "----------------------------------------------------------------\n",
      "\n",
      "Rank: 2\n",
      "Score: 0.736\n",
      "Page: 19\n",
      "Title: 고용허가제 해당자의 재입국허가\n",
      "Text: 고용허가제 해당자의 재입국허가\n",
      "        ● 재입국허가 면제 제도 시행(’10.12.1.자 개정 시행규칙)\n",
      "            ○ 등록을 필한 외국인이 출국한 날부터 1년 이\n",
      "----------------------------------------------------------------\n",
      "\n",
      "Rank: 3\n",
      "Score: 0.728\n",
      "Page: 11\n",
      "Title: 재입국특례자에 대한 우대 내용\n",
      "Text: 재입국특례자에 대한 우대 내용\n",
      "        ● 사업주\n",
      "            ○ (내국인 구인노력 면제) 고용허가서 발급 시 사업주의 내국인 구인노력 불요\n",
      "            ○\n",
      "----------------------------------------------------------------\n",
      "\n",
      "Rank: 4\n",
      "Score: 0.720\n",
      "Page: 10\n",
      "Title: 재입국특례자에 대한 사증 신청 및 발급 방법\n",
      "Text: 재입국특례자에 대한 사증 신청 및 발급 방법\n",
      "        ● 사증 발급 방법\n",
      "            ○ 출입국ᆞ외국인청(사무소ᆞ출장소)장이 발급한 사증발급인정서에 의해 사증발급\n",
      " \n",
      "----------------------------------------------------------------\n",
      "\n",
      "Rank: 5\n",
      "Score: 0.697\n",
      "Page: 16\n",
      "Title: 고용허가제 농업 분야 외국인근로자의 근무처(직장) 추가\n",
      "Text: 고용허가제 농업 분야 외국인근로자의 근무처(직장) 추가\n",
      "        ● 계절적으로 업무량의 차이가 큰 일부 농업분야에 근무하는 외국인근로자가 원사업장과의 근로계약은 유지하면서(무\n",
      "----------------------------------------------------------------\n",
      "\n",
      "Rank: 6\n",
      "Score: 0.697\n",
      "Page: 20\n",
      "Title: 고용허가제 해당자의 외국인등록\n",
      "Text: 고용허가제 해당자의 외국인등록\n",
      "        ● 외국인등록 신청서류\n",
      "            ○ 신청서(별지34호 서식), 여권원본, 표준규격사진 1장, 수수료 3만원\n",
      "        \n",
      "----------------------------------------------------------------\n",
      "\n",
      "Rank: 7\n",
      "Score: 0.696\n",
      "Page: 14\n",
      "Title: 고용허가제 해당자가 근무처(직장)를 변경할 수 있는 조건\n",
      "Text: 고용허가제 해당자가 근무처(직장)를 변경할 수 있는 조건\n",
      "        ● 출입국관리법」제21조 및 「외국인고용법」제25조에 의거, 비전문취업자의 근무처 변경에 대한 허가권자는 법\n",
      "----------------------------------------------------------------\n",
      "\n",
      "Rank: 8\n",
      "Score: 0.691\n",
      "Page: 2\n",
      "Title: 고용허가제 법률적 개요와 고용허가제 선정국가\n",
      "Text: 고용허가제 \n",
      "            - ｢외국인근로자의 고용 등에 관한 법률｣에 의거, 사업주에게 외국인근로자의 고용을 허가하고, 외국인 근로자에게는 당해 사업주에게 고용되는 조건으\n",
      "----------------------------------------------------------------\n",
      "\n",
      "Rank: 9\n",
      "Score: 0.682\n",
      "Page: 15\n",
      "Title: 고용허가제 해당자가 근무처(직장)를 변경하는 절차 및 제출 서류\n",
      "Text: 고용허가제 해당자가 근무처(직장)를 변경하는 절차 및 제출 서류\n",
      "        ● 근무처(직장) 변경 절차\n",
      "            ○ 사용자와 근로계약 종료 후 1월 이내에 사업장 \n",
      "----------------------------------------------------------------\n",
      "\n",
      "Rank: 10\n",
      "Score: 0.679\n",
      "Page: 21\n",
      "Title: 고용허가제 해당자의 고용변동 신고\n",
      "Text: 고용허가제 해당자의 고용변동 신고\n",
      "        ● 신고의무자\n",
      "            ○ 비전문취업(E-9) 외국인근로자를 고용한 자\n",
      "        ● 신고기한\n",
      "           \n",
      "----------------------------------------------------------------\n",
      "\n"
     ]
    }
   ],
   "source": [
    "\"\"\"\n",
    "답: 고용허가제 해당자의 재입국특례 제도(구 성실근로자 제도)\n",
    "결과: 1순위\n",
    "\"\"\"\n",
    "\n",
    "query = \"재입국 특례 제도 신청을 위한 조건은 무엇인가요?\"\n",
    "\n",
    "\n",
    "source_nodes_without_cohere = retriever.retrieve(query)\n",
    "print_source_nodes(source_nodes_without_cohere)"
   ]
  },
  {
   "cell_type": "markdown",
   "metadata": {},
   "source": [
    "#### With Cohere Reranker"
   ]
  },
  {
   "cell_type": "code",
   "execution_count": 71,
   "metadata": {},
   "outputs": [
    {
     "name": "stdout",
     "output_type": "stream",
     "text": [
      "INFO:httpx:HTTP Request: POST https://api.openai.com/v1/embeddings \"HTTP/1.1 200 OK\"\n",
      "HTTP Request: POST https://api.openai.com/v1/embeddings \"HTTP/1.1 200 OK\"\n",
      "Rank: 1\n",
      "Score: 0.997\n",
      "Page: 8\n",
      "Title: 비전문취업(E-9) 자격 사증발급인정서 발급절차\n",
      "Text: 비전문취업(E-9) 자격 사증발급인정서 발급절차\n",
      "        ● 접수/신청 방법\n",
      "            ○ 비전문취업자를 초청하고자 하는 사업장의 장이 사업장 주소지를 관할하는 출\n",
      "----------------------------------------------------------------\n",
      "\n",
      "Rank: 2\n",
      "Score: 0.911\n",
      "Page: 1\n",
      "Title: E-9 Visa Guide: 목차\n",
      "Text: # E-9: 고용허가제 비전문취업 비자\n",
      "\n",
      "        고용허가제\n",
      "            고용허가제 해당자와 활동범위\n",
      "        고용허가제 해당자에 대한 사증 발급\n",
      "       \n",
      "----------------------------------------------------------------\n",
      "\n",
      "Rank: 3\n",
      "Score: 0.771\n",
      "Page: 5\n",
      "Title: E-9 근로자를 채용할 수 있는 업종과 범위\n",
      "Text: 사증발급 허용업종 및 체류자격 약호(기호): E-9 근로자를 채용할 수 있는 업종과 범위\n",
      "        ● 제조업: 제조업, 뿌리산업\n",
      "            ○ 체류자격: E-9-1\n",
      "----------------------------------------------------------------\n",
      "\n"
     ]
    }
   ],
   "source": [
    "\"\"\"\n",
    "답: 비전문취업(E-9) 자격 사증발급인정서 발급절차\n",
    "결과: 3순위 => 1순위로 변경됨\n",
    "\"\"\"\n",
    "\n",
    "query = \"E-9 비자 신청 시 필요한 서류는 무엇인가요?\"\n",
    "\n",
    "source_nodes_without_cohere = retriever.retrieve(query)\n",
    "source_nodes_with_cohere = cohere_reranker.postprocess_nodes(source_nodes_without_cohere, query_str=query)\n",
    "\n",
    "print_source_nodes(source_nodes_with_cohere)"
   ]
  },
  {
   "cell_type": "code",
   "execution_count": 76,
   "metadata": {},
   "outputs": [
    {
     "name": "stdout",
     "output_type": "stream",
     "text": [
      "INFO:httpx:HTTP Request: POST https://api.openai.com/v1/embeddings \"HTTP/1.1 200 OK\"\n",
      "HTTP Request: POST https://api.openai.com/v1/embeddings \"HTTP/1.1 200 OK\"\n",
      "Rank: 1\n",
      "Score: 0.040\n",
      "Page: 16\n",
      "Title: 고용허가제 농업 분야 외국인근로자의 근무처(직장) 추가\n",
      "Text: 고용허가제 농업 분야 외국인근로자의 근무처(직장) 추가\n",
      "        ● 계절적으로 업무량의 차이가 큰 일부 농업분야에 근무하는 외국인근로자가 원사업장과의 근로계약은 유지하면서(무\n",
      "----------------------------------------------------------------\n",
      "\n",
      "Rank: 2\n",
      "Score: 0.022\n",
      "Page: 15\n",
      "Title: 고용허가제 해당자가 근무처(직장)를 변경하는 절차 및 제출 서류\n",
      "Text: 고용허가제 해당자가 근무처(직장)를 변경하는 절차 및 제출 서류\n",
      "        ● 근무처(직장) 변경 절차\n",
      "            ○ 사용자와 근로계약 종료 후 1월 이내에 사업장 \n",
      "----------------------------------------------------------------\n",
      "\n",
      "Rank: 3\n",
      "Score: 0.018\n",
      "Page: 8\n",
      "Title: 비전문취업(E-9) 자격 사증발급인정서 발급절차\n",
      "Text: 비전문취업(E-9) 자격 사증발급인정서 발급절차\n",
      "        ● 접수/신청 방법\n",
      "            ○ 비전문취업자를 초청하고자 하는 사업장의 장이 사업장 주소지를 관할하는 출\n",
      "----------------------------------------------------------------\n",
      "\n"
     ]
    }
   ],
   "source": [
    "\"\"\"\n",
    "답: \n",
    "    1. 고용허가제 농업 분야 외국인근로자의 근무처(직장) 추가\n",
    "    2. 고용허가제 해당자가 근무처(직장)를 변경하는 절차 및 제출 서류\n",
    "결과:\n",
    "    1. 고용허가제 농업 분야 외국인근로자의 근무처(직장) 추가: 2순위 => 1순위\n",
    "    2. 고용허가제 해당자가 근무처(직장)를 변경하는 절차 및 제출 서류: 10순위 => 2순위\n",
    "\"\"\"\n",
    "\n",
    "query = \"저는 베트남에서 한국으로 취업을 희망하는 학생입니다. 한국의 농장에서 일하려고 하는데 준비해야하는 절차는 무엇이 있나요?\"\n",
    "\n",
    "\n",
    "source_nodes_without_cohere = retriever.retrieve(query)\n",
    "source_nodes_with_cohere = cohere_reranker.postprocess_nodes(source_nodes_without_cohere, query_str=query)\n",
    "\n",
    "print_source_nodes(source_nodes_with_cohere)"
   ]
  },
  {
   "cell_type": "code",
   "execution_count": null,
   "metadata": {},
   "outputs": [],
   "source": []
  }
 ],
 "metadata": {
  "kernelspec": {
   "display_name": "visa_chatbot1",
   "language": "python",
   "name": "python3"
  },
  "language_info": {
   "codemirror_mode": {
    "name": "ipython",
    "version": 3
   },
   "file_extension": ".py",
   "mimetype": "text/x-python",
   "name": "python",
   "nbconvert_exporter": "python",
   "pygments_lexer": "ipython3",
   "version": "3.11.8"
  }
 },
 "nbformat": 4,
 "nbformat_minor": 2
}
