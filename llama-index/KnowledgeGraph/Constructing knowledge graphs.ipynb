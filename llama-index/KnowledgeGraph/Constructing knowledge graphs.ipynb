{
 "cells": [
  {
   "cell_type": "code",
   "execution_count": 1,
   "metadata": {},
   "outputs": [
    {
     "data": {
      "text/plain": [
       "True"
      ]
     },
     "execution_count": 1,
     "metadata": {},
     "output_type": "execute_result"
    }
   ],
   "source": [
    "import logging\n",
    "import sys\n",
    "import os\n",
    "\n",
    "logging.basicConfig(stream=sys.stdout, level=logging.INFO)\n",
    "logging.getLogger().addHandler(logging.StreamHandler(stream=sys.stdout))\n",
    "\n",
    "from dotenv import load_dotenv\n",
    "load_dotenv()"
   ]
  },
  {
   "cell_type": "code",
   "execution_count": 2,
   "metadata": {},
   "outputs": [],
   "source": [
    "# DB credentials\n",
    "username=\"neo4j\"\n",
    "password=\"qwer1234\"\n",
    "url=\"bolt://localhost:7687\"\n",
    "database=\"sample-jobs\""
   ]
  },
  {
   "cell_type": "code",
   "execution_count": 3,
   "metadata": {},
   "outputs": [],
   "source": [
    "from langchain.chains import GraphCypherQAChain\n",
    "from langchain_community.graphs import Neo4jGraph\n",
    "from langchain_openai import ChatOpenAI\n",
    "\n",
    "graph = Neo4jGraph(\n",
    "    url=url, \n",
    "    username=username, \n",
    "    password=password,\n",
    "    database=database,\n",
    ")"
   ]
  },
  {
   "cell_type": "code",
   "execution_count": 6,
   "metadata": {},
   "outputs": [],
   "source": [
    "from langchain_experimental.graph_transformers import LLMGraphTransformer\n",
    "from langchain_openai import ChatOpenAI\n",
    "\n",
    "llm = ChatOpenAI(temperature=0, model_name=\"gpt-4-0125-preview\")\n",
    "\n",
    "llm_transformer = LLMGraphTransformer(llm=llm)"
   ]
  },
  {
   "cell_type": "code",
   "execution_count": 7,
   "metadata": {},
   "outputs": [
    {
     "name": "stdout",
     "output_type": "stream",
     "text": [
      "INFO:httpx:HTTP Request: POST https://api.openai.com/v1/chat/completions \"HTTP/1.1 200 OK\"\n",
      "HTTP Request: POST https://api.openai.com/v1/chat/completions \"HTTP/1.1 200 OK\"\n",
      "Nodes:[Node(id='Marie Curie', type='Person'), Node(id='Polish', type='Nationality'), Node(id='Naturalised-French', type='Nationality'), Node(id='Physicist', type='Occupation'), Node(id='Chemist', type='Occupation'), Node(id='Nobel Prize', type='Award'), Node(id='Pierre Curie', type='Person'), Node(id='University Of Paris', type='Organization')]\n",
      "Relationships:[Relationship(source=Node(id='Marie Curie', type='Person'), target=Node(id='Polish', type='Nationality'), type='NATIONALITY'), Relationship(source=Node(id='Marie Curie', type='Person'), target=Node(id='Naturalised-French', type='Nationality'), type='NATIONALITY'), Relationship(source=Node(id='Marie Curie', type='Person'), target=Node(id='Physicist', type='Occupation'), type='OCCUPATION'), Relationship(source=Node(id='Marie Curie', type='Person'), target=Node(id='Chemist', type='Occupation'), type='OCCUPATION'), Relationship(source=Node(id='Marie Curie', type='Person'), target=Node(id='Nobel Prize', type='Award'), type='AWARD_WINNER'), Relationship(source=Node(id='Pierre Curie', type='Person'), target=Node(id='Nobel Prize', type='Award'), type='AWARD_WINNER'), Relationship(source=Node(id='Marie Curie', type='Person'), target=Node(id='University Of Paris', type='Organization'), type='PROFESSOR')]\n"
     ]
    }
   ],
   "source": [
    "from langchain_core.documents import Document\n",
    "\n",
    "text = \"\"\"\n",
    "Marie Curie, was a Polish and naturalised-French physicist and chemist who conducted pioneering research on radioactivity.\n",
    "She was the first woman to win a Nobel Prize, the first person to win a Nobel Prize twice, and the only person to win a Nobel Prize in two scientific fields.\n",
    "Her husband, Pierre Curie, was a co-winner of her first Nobel Prize, making them the first-ever married couple to win the Nobel Prize and launching the Curie family legacy of five Nobel Prizes.\n",
    "She was, in 1906, the first woman to become a professor at the University of Paris.\n",
    "\"\"\"\n",
    "documents = [Document(page_content=text)]\n",
    "graph_documents = llm_transformer.convert_to_graph_documents(documents)\n",
    "\n",
    "print(f\"Nodes:{graph_documents[0].nodes}\")\n",
    "print(f\"Relationships:{graph_documents[0].relationships}\")"
   ]
  },
  {
   "cell_type": "code",
   "execution_count": 9,
   "metadata": {},
   "outputs": [
    {
     "name": "stdout",
     "output_type": "stream",
     "text": [
      "id='Marie Curie' type='Person'\n",
      "id='Polish' type='Nationality'\n",
      "id='Naturalised-French' type='Nationality'\n",
      "id='Physicist' type='Occupation'\n",
      "id='Chemist' type='Occupation'\n",
      "id='Nobel Prize' type='Award'\n",
      "id='Pierre Curie' type='Person'\n",
      "id='University Of Paris' type='Organization'\n"
     ]
    }
   ],
   "source": [
    "for node in graph_documents[0].nodes:\n",
    "    print(node)"
   ]
  },
  {
   "cell_type": "code",
   "execution_count": 10,
   "metadata": {},
   "outputs": [
    {
     "name": "stdout",
     "output_type": "stream",
     "text": [
      "source=Node(id='Marie Curie', type='Person') target=Node(id='Polish', type='Nationality') type='NATIONALITY'\n",
      "source=Node(id='Marie Curie', type='Person') target=Node(id='Naturalised-French', type='Nationality') type='NATIONALITY'\n",
      "source=Node(id='Marie Curie', type='Person') target=Node(id='Physicist', type='Occupation') type='OCCUPATION'\n",
      "source=Node(id='Marie Curie', type='Person') target=Node(id='Chemist', type='Occupation') type='OCCUPATION'\n",
      "source=Node(id='Marie Curie', type='Person') target=Node(id='Nobel Prize', type='Award') type='AWARD_WINNER'\n",
      "source=Node(id='Pierre Curie', type='Person') target=Node(id='Nobel Prize', type='Award') type='AWARD_WINNER'\n",
      "source=Node(id='Marie Curie', type='Person') target=Node(id='University Of Paris', type='Organization') type='PROFESSOR'\n"
     ]
    }
   ],
   "source": [
    "for relationship in graph_documents[0].relationships:\n",
    "    print(relationship)"
   ]
  },
  {
   "cell_type": "code",
   "execution_count": 11,
   "metadata": {},
   "outputs": [
    {
     "name": "stdout",
     "output_type": "stream",
     "text": [
      "INFO:httpx:HTTP Request: POST https://api.openai.com/v1/chat/completions \"HTTP/1.1 200 OK\"\n",
      "HTTP Request: POST https://api.openai.com/v1/chat/completions \"HTTP/1.1 200 OK\"\n",
      "Nodes:[Node(id='Marie Curie', type='Person'), Node(id='Pierre Curie', type='Person'), Node(id='University Of Paris', type='Organization'), Node(id='Poland', type='Country'), Node(id='France', type='Country')]\n",
      "Relationships:[Relationship(source=Node(id='Marie Curie', type='Person'), target=Node(id='Poland', type='Country'), type='NATIONALITY'), Relationship(source=Node(id='Marie Curie', type='Person'), target=Node(id='France', type='Country'), type='NATIONALITY'), Relationship(source=Node(id='Marie Curie', type='Person'), target=Node(id='University Of Paris', type='Organization'), type='WORKED_AT'), Relationship(source=Node(id='Marie Curie', type='Person'), target=Node(id='Pierre Curie', type='Person'), type='SPOUSE')]\n"
     ]
    }
   ],
   "source": [
    "llm_transformer_filtered = LLMGraphTransformer(\n",
    "    llm=llm,\n",
    "    # allowed_nodes=[\"Person\", \"Country\", \"Organization\"],\n",
    "    # allowed_relationships=[\"NATIONALITY\", \"LOCATED_IN\", \"WORKED_AT\", \"SPOUSE\"],\n",
    ")\n",
    "graph_documents_filtered = llm_transformer_filtered.convert_to_graph_documents(\n",
    "\n",
    "\n",
    "    documents\n",
    ")\\\n",
    "\n",
    "print(f\"Nodes:{graph_documents_filtered[0].nodes}\")\n",
    "print(f\"Relationships:{graph_documents_filtered[0].relationships}\")"
   ]
  },
  {
   "cell_type": "code",
   "execution_count": 14,
   "metadata": {},
   "outputs": [
    {
     "name": "stdout",
     "output_type": "stream",
     "text": [
      "INFO:httpx:HTTP Request: POST https://api.openai.com/v1/chat/completions \"HTTP/1.1 200 OK\"\n",
      "HTTP Request: POST https://api.openai.com/v1/chat/completions \"HTTP/1.1 200 OK\"\n",
      "Nodes:[Node(id='Samsung', type='Company'), Node(id='Lg', type='Company'), Node(id='Hanwha', type='Company'), Node(id='Doosan', type='Company'), Node(id='Small Startups', type='Company'), Node(id='Automatic Cooking Robots', type='Product'), Node(id='Restaurant Industry', type='Industry'), Node(id='Global Market', type='Market')]\n",
      "Relationships:[Relationship(source=Node(id='Samsung', type='Company'), target=Node(id='Automatic Cooking Robots', type='Product'), type='ENTERS'), Relationship(source=Node(id='Lg', type='Company'), target=Node(id='Automatic Cooking Robots', type='Product'), type='ENTERS'), Relationship(source=Node(id='Hanwha', type='Company'), target=Node(id='Automatic Cooking Robots', type='Product'), type='ENTERS'), Relationship(source=Node(id='Doosan', type='Company'), target=Node(id='Automatic Cooking Robots', type='Product'), type='ENTERS'), Relationship(source=Node(id='Small Startups', type='Company'), target=Node(id='Automatic Cooking Robots', type='Product'), type='ENTERS'), Relationship(source=Node(id='Automatic Cooking Robots', type='Product'), target=Node(id='Restaurant Industry', type='Industry'), type='SOLUTION_FOR'), Relationship(source=Node(id='Restaurant Industry', type='Industry'), target=Node(id='Global Market', type='Market'), type='EXPANDS_TO')]\n"
     ]
    }
   ],
   "source": [
    "#한국어 테스트\n",
    "\n",
    "text = \"\"\"\n",
    "최근 삼성, LG, 한화, 두산 등 굴지의 대기업부터 소규모 스타트업까지 '자동조리로봇' 시장에 앞다퉈 뛰어들고 있다. 자동조리로봇이 저출산·고임금으로 주방 구인난에 시달리는 외식업체들의 '해결사'로 지목되면서 관련 시장이 폭발적으로 성장할 전망이다. 이에 여러 로봇업체들이 진출해 경쟁을 펼치고 있지만 아직 초기 단계여서 시장을 리드하는 업체는 나타나지 않은 상황이다. 이들 업체들은 외식 산업의 수요를 넘어 집집마다 부엌에서 쓰일 수 있는 조리로봇을 개발해 시장을 글로벌 무대로 확대하겠다는 포부를 갖고 있다. 이들이 개발하는 자동조리로봇은 완벽한 '주방 자동화'를 이뤄낼 수 있을까?\n",
    "\"\"\"\n",
    "ko_documents = [Document(page_content=text)]\n",
    "ko_graph_documents = llm_transformer.convert_to_graph_documents(ko_documents)\n",
    "\n",
    "print(f\"Nodes:{ko_graph_documents[0].nodes}\")\n",
    "print(f\"Relationships:{ko_graph_documents[0].relationships}\")"
   ]
  },
  {
   "cell_type": "code",
   "execution_count": null,
   "metadata": {},
   "outputs": [],
   "source": [
    "# graph.add_graph_documents(graph_documents_filtered)"
   ]
  }
 ],
 "metadata": {
  "kernelspec": {
   "display_name": "visa_chatbot1",
   "language": "python",
   "name": "python3"
  },
  "language_info": {
   "codemirror_mode": {
    "name": "ipython",
    "version": 3
   },
   "file_extension": ".py",
   "mimetype": "text/x-python",
   "name": "python",
   "nbconvert_exporter": "python",
   "pygments_lexer": "ipython3",
   "version": "3.11.8"
  }
 },
 "nbformat": 4,
 "nbformat_minor": 2
}
