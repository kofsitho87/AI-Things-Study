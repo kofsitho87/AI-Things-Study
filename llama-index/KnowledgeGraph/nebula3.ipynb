{
 "cells": [
  {
   "cell_type": "code",
   "execution_count": 4,
   "metadata": {},
   "outputs": [],
   "source": [
    "import os\n",
    "\n",
    "os.environ[\"NEBULA_USER\"] = \"root\"\n",
    "os.environ[\"NEBULA_PASSWORD\"] = \"nebula\"  # default is \"nebula\"\n",
    "os.environ[\"NEBULA_ADDRESS\"] = \"127.0.0.1:9669\""
   ]
  },
  {
   "cell_type": "code",
   "execution_count": 5,
   "metadata": {},
   "outputs": [
    {
     "name": "stderr",
     "output_type": "stream",
     "text": [
      "Authentication failed, because of bad credentials, close the pool b'Create session failed: User not existed!'\n"
     ]
    },
    {
     "ename": "AuthFailedException",
     "evalue": "b'Create session failed: User not existed!'",
     "output_type": "error",
     "traceback": [
      "\u001b[0;31m---------------------------------------------------------------------------\u001b[0m",
      "\u001b[0;31mAuthFailedException\u001b[0m                       Traceback (most recent call last)",
      "Cell \u001b[0;32mIn[5], line 10\u001b[0m\n\u001b[1;32m      5\u001b[0m edge_types, rel_prop_names \u001b[38;5;241m=\u001b[39m [\u001b[38;5;124m\"\u001b[39m\u001b[38;5;124mrelationship\u001b[39m\u001b[38;5;124m\"\u001b[39m], [\n\u001b[1;32m      6\u001b[0m     \u001b[38;5;124m\"\u001b[39m\u001b[38;5;124mrelationship\u001b[39m\u001b[38;5;124m\"\u001b[39m\n\u001b[1;32m      7\u001b[0m ]  \u001b[38;5;66;03m# default, could be omit if create from an empty kg\u001b[39;00m\n\u001b[1;32m      8\u001b[0m tags \u001b[38;5;241m=\u001b[39m [\u001b[38;5;124m\"\u001b[39m\u001b[38;5;124mentity\u001b[39m\u001b[38;5;124m\"\u001b[39m]\n\u001b[0;32m---> 10\u001b[0m graph_store \u001b[38;5;241m=\u001b[39m \u001b[43mNebulaGraphStore\u001b[49m\u001b[43m(\u001b[49m\n\u001b[1;32m     11\u001b[0m \u001b[43m    \u001b[49m\u001b[43mspace_name\u001b[49m\u001b[38;5;241;43m=\u001b[39;49m\u001b[43mspace_name\u001b[49m\u001b[43m,\u001b[49m\n\u001b[1;32m     12\u001b[0m \u001b[43m    \u001b[49m\u001b[43medge_types\u001b[49m\u001b[38;5;241;43m=\u001b[39;49m\u001b[43medge_types\u001b[49m\u001b[43m,\u001b[49m\n\u001b[1;32m     13\u001b[0m \u001b[43m    \u001b[49m\u001b[43mrel_prop_names\u001b[49m\u001b[38;5;241;43m=\u001b[39;49m\u001b[43mrel_prop_names\u001b[49m\u001b[43m,\u001b[49m\n\u001b[1;32m     14\u001b[0m \u001b[43m    \u001b[49m\u001b[43mtags\u001b[49m\u001b[38;5;241;43m=\u001b[39;49m\u001b[43mtags\u001b[49m\u001b[43m,\u001b[49m\n\u001b[1;32m     15\u001b[0m \u001b[43m)\u001b[49m\n\u001b[1;32m     16\u001b[0m storage_context \u001b[38;5;241m=\u001b[39m StorageContext\u001b[38;5;241m.\u001b[39mfrom_defaults(graph_store\u001b[38;5;241m=\u001b[39mgraph_store)\n",
      "File \u001b[0;32m~/anaconda3/envs/visa_chatbot1/lib/python3.11/site-packages/llama_index/graph_stores/nebula/base.py:142\u001b[0m, in \u001b[0;36mNebulaGraphStore.__init__\u001b[0;34m(self, session_pool, space_name, edge_types, rel_prop_names, tags, tag_prop_names, include_vid, session_pool_kwargs, **kwargs)\u001b[0m\n\u001b[1;32m    140\u001b[0m \u001b[38;5;28mself\u001b[39m\u001b[38;5;241m.\u001b[39m_session_pool: Any \u001b[38;5;241m=\u001b[39m session_pool\n\u001b[1;32m    141\u001b[0m \u001b[38;5;28;01mif\u001b[39;00m \u001b[38;5;28mself\u001b[39m\u001b[38;5;241m.\u001b[39m_session_pool \u001b[38;5;129;01mis\u001b[39;00m \u001b[38;5;28;01mNone\u001b[39;00m:\n\u001b[0;32m--> 142\u001b[0m     \u001b[38;5;28;43mself\u001b[39;49m\u001b[38;5;241;43m.\u001b[39;49m\u001b[43minit_session_pool\u001b[49m\u001b[43m(\u001b[49m\u001b[43m)\u001b[49m\n\u001b[1;32m    144\u001b[0m \u001b[38;5;28mself\u001b[39m\u001b[38;5;241m.\u001b[39m_vid_type \u001b[38;5;241m=\u001b[39m \u001b[38;5;28mself\u001b[39m\u001b[38;5;241m.\u001b[39m_get_vid_type()\n\u001b[1;32m    146\u001b[0m \u001b[38;5;28mself\u001b[39m\u001b[38;5;241m.\u001b[39m_tags \u001b[38;5;241m=\u001b[39m tags \u001b[38;5;129;01mor\u001b[39;00m [\u001b[38;5;124m\"\u001b[39m\u001b[38;5;124mentity\u001b[39m\u001b[38;5;124m\"\u001b[39m]\n",
      "File \u001b[0;32m~/anaconda3/envs/visa_chatbot1/lib/python3.11/site-packages/llama_index/graph_stores/nebula/base.py:228\u001b[0m, in \u001b[0;36mNebulaGraphStore.init_session_pool\u001b[0;34m(self)\u001b[0m\n\u001b[1;32m    220\u001b[0m session_pool \u001b[38;5;241m=\u001b[39m SessionPool(\n\u001b[1;32m    221\u001b[0m     os\u001b[38;5;241m.\u001b[39menviron[\u001b[38;5;124m\"\u001b[39m\u001b[38;5;124mNEBULA_USER\u001b[39m\u001b[38;5;124m\"\u001b[39m],\n\u001b[1;32m    222\u001b[0m     os\u001b[38;5;241m.\u001b[39menviron[\u001b[38;5;124m\"\u001b[39m\u001b[38;5;124mNEBULA_PASSWORD\u001b[39m\u001b[38;5;124m\"\u001b[39m],\n\u001b[1;32m    223\u001b[0m     \u001b[38;5;28mself\u001b[39m\u001b[38;5;241m.\u001b[39m_space_name,\n\u001b[1;32m    224\u001b[0m     [(graphd_host, \u001b[38;5;28mint\u001b[39m(graphd_port))],\n\u001b[1;32m    225\u001b[0m )\n\u001b[1;32m    227\u001b[0m seesion_pool_config \u001b[38;5;241m=\u001b[39m SessionPoolConfig()\n\u001b[0;32m--> 228\u001b[0m \u001b[43msession_pool\u001b[49m\u001b[38;5;241;43m.\u001b[39;49m\u001b[43minit\u001b[49m\u001b[43m(\u001b[49m\u001b[43mseesion_pool_config\u001b[49m\u001b[43m)\u001b[49m\n\u001b[1;32m    229\u001b[0m \u001b[38;5;28mself\u001b[39m\u001b[38;5;241m.\u001b[39m_session_pool \u001b[38;5;241m=\u001b[39m session_pool\n\u001b[1;32m    230\u001b[0m \u001b[38;5;28;01mreturn\u001b[39;00m \u001b[38;5;28mself\u001b[39m\u001b[38;5;241m.\u001b[39m_session_pool\n",
      "File \u001b[0;32m~/anaconda3/envs/visa_chatbot1/lib/python3.11/site-packages/nebula3/gclient/net/SessionPool.py:109\u001b[0m, in \u001b[0;36mSessionPool.init\u001b[0;34m(self, configs)\u001b[0m\n\u001b[1;32m    107\u001b[0m \u001b[38;5;66;03m# iterate all addresses and create sessions to fullfil the min_size\u001b[39;00m\n\u001b[1;32m    108\u001b[0m \u001b[38;5;28;01mfor\u001b[39;00m i \u001b[38;5;129;01min\u001b[39;00m \u001b[38;5;28mrange\u001b[39m(\u001b[38;5;28mself\u001b[39m\u001b[38;5;241m.\u001b[39m_configs\u001b[38;5;241m.\u001b[39mmin_size):\n\u001b[0;32m--> 109\u001b[0m     session \u001b[38;5;241m=\u001b[39m \u001b[38;5;28;43mself\u001b[39;49m\u001b[38;5;241;43m.\u001b[39;49m\u001b[43m_new_session\u001b[49m\u001b[43m(\u001b[49m\u001b[43m)\u001b[49m\n\u001b[1;32m    110\u001b[0m     \u001b[38;5;28;01mif\u001b[39;00m session \u001b[38;5;129;01mis\u001b[39;00m \u001b[38;5;28;01mNone\u001b[39;00m:\n\u001b[1;32m    111\u001b[0m         \u001b[38;5;28;01mraise\u001b[39;00m \u001b[38;5;167;01mRuntimeError\u001b[39;00m(\u001b[38;5;124m'\u001b[39m\u001b[38;5;124mGet session failed\u001b[39m\u001b[38;5;124m'\u001b[39m)\n",
      "File \u001b[0;32m~/anaconda3/envs/visa_chatbot1/lib/python3.11/site-packages/nebula3/gclient/net/SessionPool.py:384\u001b[0m, in \u001b[0;36mSessionPool._new_session\u001b[0;34m(self)\u001b[0m\n\u001b[1;32m    378\u001b[0m         logger\u001b[38;5;241m.\u001b[39merror(\n\u001b[1;32m    379\u001b[0m             \u001b[38;5;124m'\u001b[39m\u001b[38;5;124mAuthentication failed, because of bad credentials, close the pool \u001b[39m\u001b[38;5;132;01m{}\u001b[39;00m\u001b[38;5;124m'\u001b[39m\u001b[38;5;241m.\u001b[39mformat(\n\u001b[1;32m    380\u001b[0m                 e\n\u001b[1;32m    381\u001b[0m             )\n\u001b[1;32m    382\u001b[0m         )\n\u001b[1;32m    383\u001b[0m         \u001b[38;5;28mself\u001b[39m\u001b[38;5;241m.\u001b[39mclose()\n\u001b[0;32m--> 384\u001b[0m     \u001b[38;5;28;01mraise\u001b[39;00m e\n\u001b[1;32m    385\u001b[0m \u001b[38;5;28;01mexcept\u001b[39;00m \u001b[38;5;167;01mException\u001b[39;00m:\n\u001b[1;32m    386\u001b[0m     \u001b[38;5;28;01mraise\u001b[39;00m\n",
      "File \u001b[0;32m~/anaconda3/envs/visa_chatbot1/lib/python3.11/site-packages/nebula3/gclient/net/SessionPool.py:361\u001b[0m, in \u001b[0;36mSessionPool._new_session\u001b[0;34m(self)\u001b[0m\n\u001b[1;32m    359\u001b[0m \u001b[38;5;28;01mtry\u001b[39;00m:\n\u001b[1;32m    360\u001b[0m     connection\u001b[38;5;241m.\u001b[39mopen(addr[\u001b[38;5;241m0\u001b[39m], addr[\u001b[38;5;241m1\u001b[39m], \u001b[38;5;28mself\u001b[39m\u001b[38;5;241m.\u001b[39m_configs\u001b[38;5;241m.\u001b[39mtimeout)\n\u001b[0;32m--> 361\u001b[0m     auth_result \u001b[38;5;241m=\u001b[39m \u001b[43mconnection\u001b[49m\u001b[38;5;241;43m.\u001b[39;49m\u001b[43mauthenticate\u001b[49m\u001b[43m(\u001b[49m\u001b[38;5;28;43mself\u001b[39;49m\u001b[38;5;241;43m.\u001b[39;49m\u001b[43m_username\u001b[49m\u001b[43m,\u001b[49m\u001b[43m \u001b[49m\u001b[38;5;28;43mself\u001b[39;49m\u001b[38;5;241;43m.\u001b[39;49m\u001b[43m_password\u001b[49m\u001b[43m)\u001b[49m\n\u001b[1;32m    362\u001b[0m     session \u001b[38;5;241m=\u001b[39m Session(connection, auth_result, \u001b[38;5;28mself\u001b[39m, \u001b[38;5;28;01mFalse\u001b[39;00m)\n\u001b[1;32m    364\u001b[0m     \u001b[38;5;66;03m# switch to the space specified in the configs\u001b[39;00m\n",
      "File \u001b[0;32m~/anaconda3/envs/visa_chatbot1/lib/python3.11/site-packages/nebula3/gclient/net/Connection.py:120\u001b[0m, in \u001b[0;36mConnection.authenticate\u001b[0;34m(self, user_name, password)\u001b[0m\n\u001b[1;32m    118\u001b[0m     resp \u001b[38;5;241m=\u001b[39m \u001b[38;5;28mself\u001b[39m\u001b[38;5;241m.\u001b[39m_connection\u001b[38;5;241m.\u001b[39mauthenticate(user_name, password)\n\u001b[1;32m    119\u001b[0m     \u001b[38;5;28;01mif\u001b[39;00m resp\u001b[38;5;241m.\u001b[39merror_code \u001b[38;5;241m!=\u001b[39m ErrorCode\u001b[38;5;241m.\u001b[39mSUCCEEDED:\n\u001b[0;32m--> 120\u001b[0m         \u001b[38;5;28;01mraise\u001b[39;00m AuthFailedException(resp\u001b[38;5;241m.\u001b[39merror_msg)\n\u001b[1;32m    121\u001b[0m     \u001b[38;5;28;01mreturn\u001b[39;00m AuthResult(\n\u001b[1;32m    122\u001b[0m         resp\u001b[38;5;241m.\u001b[39msession_id, resp\u001b[38;5;241m.\u001b[39mtime_zone_offset_seconds, resp\u001b[38;5;241m.\u001b[39mtime_zone_name\n\u001b[1;32m    123\u001b[0m     )\n\u001b[1;32m    124\u001b[0m \u001b[38;5;28;01mexcept\u001b[39;00m TTransportException \u001b[38;5;28;01mas\u001b[39;00m te:\n",
      "\u001b[0;31mAuthFailedException\u001b[0m: b'Create session failed: User not existed!'"
     ]
    }
   ],
   "source": [
    "from llama_index.core import StorageContext\n",
    "from llama_index.graph_stores.nebula import NebulaGraphStore\n",
    "\n",
    "space_name = \"llamaindex\"\n",
    "edge_types, rel_prop_names = [\"relationship\"], [\n",
    "    \"relationship\"\n",
    "]  # default, could be omit if create from an empty kg\n",
    "tags = [\"entity\"]\n",
    "\n",
    "graph_store = NebulaGraphStore(\n",
    "    space_name=space_name,\n",
    "    edge_types=edge_types,\n",
    "    rel_prop_names=rel_prop_names,\n",
    "    tags=tags,\n",
    ")\n",
    "storage_context = StorageContext.from_defaults(graph_store=graph_store)"
   ]
  },
  {
   "cell_type": "code",
   "execution_count": null,
   "metadata": {},
   "outputs": [],
   "source": []
  }
 ],
 "metadata": {
  "kernelspec": {
   "display_name": "visa_chatbot1",
   "language": "python",
   "name": "python3"
  },
  "language_info": {
   "codemirror_mode": {
    "name": "ipython",
    "version": 3
   },
   "file_extension": ".py",
   "mimetype": "text/x-python",
   "name": "python",
   "nbconvert_exporter": "python",
   "pygments_lexer": "ipython3",
   "version": "3.11.8"
  }
 },
 "nbformat": 4,
 "nbformat_minor": 2
}
