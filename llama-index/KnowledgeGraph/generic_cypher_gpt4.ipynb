{
 "cells": [
  {
   "cell_type": "code",
   "execution_count": 1,
   "metadata": {},
   "outputs": [
    {
     "data": {
      "text/plain": [
       "True"
      ]
     },
     "execution_count": 1,
     "metadata": {},
     "output_type": "execute_result"
    }
   ],
   "source": [
    "import logging\n",
    "import sys\n",
    "import os\n",
    "\n",
    "logging.basicConfig(stream=sys.stdout, level=logging.INFO)\n",
    "logging.getLogger().addHandler(logging.StreamHandler(stream=sys.stdout))\n",
    "\n",
    "from dotenv import load_dotenv\n",
    "load_dotenv()"
   ]
  },
  {
   "cell_type": "code",
   "execution_count": 2,
   "metadata": {},
   "outputs": [],
   "source": [
    "node_properties_query = \"\"\"\n",
    "CALL apoc.meta.data()\n",
    "YIELD label, other, elementType, type, property\n",
    "WHERE NOT type = \"RELATIONSHIP\" AND elementType = \"node\"\n",
    "WITH label AS nodeLabels, collect(property) AS properties\n",
    "RETURN {labels: nodeLabels, properties: properties} AS output\n",
    "\n",
    "\"\"\"\n",
    "\n",
    "rel_properties_query = \"\"\"\n",
    "CALL apoc.meta.data()\n",
    "YIELD label, other, elementType, type, property\n",
    "WHERE NOT type = \"RELATIONSHIP\" AND elementType = \"relationship\"\n",
    "WITH label AS nodeLabels, collect(property) AS properties\n",
    "RETURN {type: nodeLabels, properties: properties} AS output\n",
    "\"\"\"\n",
    "\n",
    "rel_query = \"\"\"\n",
    "CALL apoc.meta.data()\n",
    "YIELD label, other, elementType, type, property\n",
    "WHERE type = \"RELATIONSHIP\" AND elementType = \"node\"\n",
    "RETURN {source: label, relationship: property, target: other} AS output\n",
    "\"\"\""
   ]
  },
  {
   "cell_type": "code",
   "execution_count": 3,
   "metadata": {},
   "outputs": [
    {
     "data": {
      "text/plain": [
       "'0.28.0'"
      ]
     },
     "execution_count": 3,
     "metadata": {},
     "output_type": "execute_result"
    }
   ],
   "source": [
    "import openai\n",
    "\n",
    "openai.__version__\n",
    "\n",
    "# openai.ChatCompletion(\"hi\")"
   ]
  },
  {
   "cell_type": "code",
   "execution_count": 4,
   "metadata": {},
   "outputs": [
    {
     "ename": "AttributeError",
     "evalue": "module 'openai' has no attribute 'OpenAI'",
     "output_type": "error",
     "traceback": [
      "\u001b[0;31m---------------------------------------------------------------------------\u001b[0m",
      "\u001b[0;31mAttributeError\u001b[0m                            Traceback (most recent call last)",
      "Cell \u001b[0;32mIn[4], line 2\u001b[0m\n\u001b[1;32m      1\u001b[0m \u001b[38;5;28;01mfrom\u001b[39;00m \u001b[38;5;21;01mlangchain_openai\u001b[39;00m \u001b[38;5;28;01mimport\u001b[39;00m ChatOpenAI\n\u001b[0;32m----> 2\u001b[0m llm \u001b[38;5;241m=\u001b[39m \u001b[43mChatOpenAI\u001b[49m\u001b[43m(\u001b[49m\u001b[43mmodel\u001b[49m\u001b[38;5;241;43m=\u001b[39;49m\u001b[38;5;124;43m\"\u001b[39;49m\u001b[38;5;124;43mgpt-4\u001b[39;49m\u001b[38;5;124;43m\"\u001b[39;49m\u001b[43m,\u001b[49m\u001b[43m \u001b[49m\u001b[43mtemperature\u001b[49m\u001b[38;5;241;43m=\u001b[39;49m\u001b[38;5;241;43m0\u001b[39;49m\u001b[43m)\u001b[49m\n",
      "File \u001b[0;32m~/anaconda3/envs/visa_chatbot1/lib/python3.11/site-packages/langchain_core/load/serializable.py:120\u001b[0m, in \u001b[0;36mSerializable.__init__\u001b[0;34m(self, **kwargs)\u001b[0m\n\u001b[1;32m    119\u001b[0m \u001b[38;5;28;01mdef\u001b[39;00m \u001b[38;5;21m__init__\u001b[39m(\u001b[38;5;28mself\u001b[39m, \u001b[38;5;241m*\u001b[39m\u001b[38;5;241m*\u001b[39mkwargs: Any) \u001b[38;5;241m-\u001b[39m\u001b[38;5;241m>\u001b[39m \u001b[38;5;28;01mNone\u001b[39;00m:\n\u001b[0;32m--> 120\u001b[0m     \u001b[38;5;28;43msuper\u001b[39;49m\u001b[43m(\u001b[49m\u001b[43m)\u001b[49m\u001b[38;5;241;43m.\u001b[39;49m\u001b[38;5;21;43m__init__\u001b[39;49m\u001b[43m(\u001b[49m\u001b[38;5;241;43m*\u001b[39;49m\u001b[38;5;241;43m*\u001b[39;49m\u001b[43mkwargs\u001b[49m\u001b[43m)\u001b[49m\n\u001b[1;32m    121\u001b[0m     \u001b[38;5;28mself\u001b[39m\u001b[38;5;241m.\u001b[39m_lc_kwargs \u001b[38;5;241m=\u001b[39m kwargs\n",
      "File \u001b[0;32m~/anaconda3/envs/visa_chatbot1/lib/python3.11/site-packages/pydantic/v1/main.py:339\u001b[0m, in \u001b[0;36mBaseModel.__init__\u001b[0;34m(__pydantic_self__, **data)\u001b[0m\n\u001b[1;32m    333\u001b[0m \u001b[38;5;250m\u001b[39m\u001b[38;5;124;03m\"\"\"\u001b[39;00m\n\u001b[1;32m    334\u001b[0m \u001b[38;5;124;03mCreate a new model by parsing and validating input data from keyword arguments.\u001b[39;00m\n\u001b[1;32m    335\u001b[0m \n\u001b[1;32m    336\u001b[0m \u001b[38;5;124;03mRaises ValidationError if the input data cannot be parsed to form a valid model.\u001b[39;00m\n\u001b[1;32m    337\u001b[0m \u001b[38;5;124;03m\"\"\"\u001b[39;00m\n\u001b[1;32m    338\u001b[0m \u001b[38;5;66;03m# Uses something other than `self` the first arg to allow \"self\" as a settable attribute\u001b[39;00m\n\u001b[0;32m--> 339\u001b[0m values, fields_set, validation_error \u001b[38;5;241m=\u001b[39m \u001b[43mvalidate_model\u001b[49m\u001b[43m(\u001b[49m\u001b[43m__pydantic_self__\u001b[49m\u001b[38;5;241;43m.\u001b[39;49m\u001b[38;5;18;43m__class__\u001b[39;49m\u001b[43m,\u001b[49m\u001b[43m \u001b[49m\u001b[43mdata\u001b[49m\u001b[43m)\u001b[49m\n\u001b[1;32m    340\u001b[0m \u001b[38;5;28;01mif\u001b[39;00m validation_error:\n\u001b[1;32m    341\u001b[0m     \u001b[38;5;28;01mraise\u001b[39;00m validation_error\n",
      "File \u001b[0;32m~/anaconda3/envs/visa_chatbot1/lib/python3.11/site-packages/pydantic/v1/main.py:1100\u001b[0m, in \u001b[0;36mvalidate_model\u001b[0;34m(model, input_data, cls)\u001b[0m\n\u001b[1;32m   1098\u001b[0m     \u001b[38;5;28;01mcontinue\u001b[39;00m\n\u001b[1;32m   1099\u001b[0m \u001b[38;5;28;01mtry\u001b[39;00m:\n\u001b[0;32m-> 1100\u001b[0m     values \u001b[38;5;241m=\u001b[39m \u001b[43mvalidator\u001b[49m\u001b[43m(\u001b[49m\u001b[43mcls_\u001b[49m\u001b[43m,\u001b[49m\u001b[43m \u001b[49m\u001b[43mvalues\u001b[49m\u001b[43m)\u001b[49m\n\u001b[1;32m   1101\u001b[0m \u001b[38;5;28;01mexcept\u001b[39;00m (\u001b[38;5;167;01mValueError\u001b[39;00m, \u001b[38;5;167;01mTypeError\u001b[39;00m, \u001b[38;5;167;01mAssertionError\u001b[39;00m) \u001b[38;5;28;01mas\u001b[39;00m exc:\n\u001b[1;32m   1102\u001b[0m     errors\u001b[38;5;241m.\u001b[39mappend(ErrorWrapper(exc, loc\u001b[38;5;241m=\u001b[39mROOT_KEY))\n",
      "File \u001b[0;32m~/anaconda3/envs/visa_chatbot1/lib/python3.11/site-packages/langchain_openai/chat_models/base.py:441\u001b[0m, in \u001b[0;36mChatOpenAI.validate_environment\u001b[0;34m(cls, values)\u001b[0m\n\u001b[1;32m    439\u001b[0m         values[\u001b[38;5;124m\"\u001b[39m\u001b[38;5;124mhttp_client\u001b[39m\u001b[38;5;124m\"\u001b[39m] \u001b[38;5;241m=\u001b[39m httpx\u001b[38;5;241m.\u001b[39mClient(proxy\u001b[38;5;241m=\u001b[39mopenai_proxy)\n\u001b[1;32m    440\u001b[0m     sync_specific \u001b[38;5;241m=\u001b[39m {\u001b[38;5;124m\"\u001b[39m\u001b[38;5;124mhttp_client\u001b[39m\u001b[38;5;124m\"\u001b[39m: values[\u001b[38;5;124m\"\u001b[39m\u001b[38;5;124mhttp_client\u001b[39m\u001b[38;5;124m\"\u001b[39m]}\n\u001b[0;32m--> 441\u001b[0m     values[\u001b[38;5;124m\"\u001b[39m\u001b[38;5;124mclient\u001b[39m\u001b[38;5;124m\"\u001b[39m] \u001b[38;5;241m=\u001b[39m \u001b[43mopenai\u001b[49m\u001b[38;5;241;43m.\u001b[39;49m\u001b[43mOpenAI\u001b[49m(\n\u001b[1;32m    442\u001b[0m         \u001b[38;5;241m*\u001b[39m\u001b[38;5;241m*\u001b[39mclient_params, \u001b[38;5;241m*\u001b[39m\u001b[38;5;241m*\u001b[39msync_specific\n\u001b[1;32m    443\u001b[0m     )\u001b[38;5;241m.\u001b[39mchat\u001b[38;5;241m.\u001b[39mcompletions\n\u001b[1;32m    444\u001b[0m \u001b[38;5;28;01mif\u001b[39;00m \u001b[38;5;129;01mnot\u001b[39;00m values\u001b[38;5;241m.\u001b[39mget(\u001b[38;5;124m\"\u001b[39m\u001b[38;5;124masync_client\u001b[39m\u001b[38;5;124m\"\u001b[39m):\n\u001b[1;32m    445\u001b[0m     \u001b[38;5;28;01mif\u001b[39;00m openai_proxy \u001b[38;5;129;01mand\u001b[39;00m \u001b[38;5;129;01mnot\u001b[39;00m values[\u001b[38;5;124m\"\u001b[39m\u001b[38;5;124mhttp_async_client\u001b[39m\u001b[38;5;124m\"\u001b[39m]:\n",
      "\u001b[0;31mAttributeError\u001b[0m: module 'openai' has no attribute 'OpenAI'"
     ]
    }
   ],
   "source": [
    "from langchain_openai import ChatOpenAI\n",
    "llm = ChatOpenAI(model=\"gpt-4\", temperature=0)"
   ]
  },
  {
   "cell_type": "code",
   "execution_count": 5,
   "metadata": {},
   "outputs": [],
   "source": [
    "from neo4j import GraphDatabase\n",
    "from neo4j.exceptions import CypherSyntaxError\n",
    "from langchain.chains.llm import LLMChain\n",
    "import openai\n",
    "\n",
    "\n",
    "def schema_text(node_props, rel_props, rels):\n",
    "    return f\"\"\"\n",
    "  This is the schema representation of the Neo4j database.\n",
    "  Node properties are the following:\n",
    "  {node_props}\n",
    "  Relationship properties are the following:\n",
    "  {rel_props}\n",
    "  Relationship point from source to target nodes\n",
    "  {rels}\n",
    "  Make sure to respect relationship types and directions\n",
    "  \"\"\"\n",
    "\n",
    "\n",
    "class Neo4jGPTQuery:\n",
    "    def __init__(self, url, user, password):\n",
    "        self.driver = GraphDatabase.driver(url, auth=(user, password))\n",
    "        # openai.api_key = openai_api_key\n",
    "        # construct schema\n",
    "        self.schema = self.generate_schema()\n",
    "\n",
    "\n",
    "    def generate_schema(self):\n",
    "        node_props = self.query_database(node_properties_query)\n",
    "        rel_props = self.query_database(rel_properties_query)\n",
    "        rels = self.query_database(rel_query)\n",
    "        return schema_text(node_props, rel_props, rels)\n",
    "\n",
    "    def refresh_schema(self):\n",
    "        self.schema = self.generate_schema()\n",
    "\n",
    "    def get_system_message(self):\n",
    "        return f\"\"\"\n",
    "        Task: Generate Cypher queries to query a Neo4j graph database based on the provided schema definition.\n",
    "        Instructions:\n",
    "        Use only the provided relationship types and properties.\n",
    "        Do not use any other relationship types or properties that are not provided.\n",
    "        If you cannot generate a Cypher statement based on the provided schema, explain the reason to the user.\n",
    "        Schema:\n",
    "        {self.schema}\n",
    "\n",
    "        Note: Do not include any explanations or apologies in your responses.\n",
    "        \"\"\"\n",
    "\n",
    "    def query_database(self, neo4j_query, params={}):\n",
    "        with self.driver.session() as session:\n",
    "            result = session.run(neo4j_query, params)\n",
    "            output = [r.values() for r in result]\n",
    "            output.insert(0, result.keys())\n",
    "            return output\n",
    "\n",
    "    def construct_cypher(self, question, history=None):\n",
    "        messages = [\n",
    "            {\"role\": \"system\", \"content\": self.get_system_message()},\n",
    "            {\"role\": \"user\", \"content\": question},\n",
    "        ]\n",
    "        # Used for Cypher healing flows\n",
    "        if history:\n",
    "            messages.extend(history)\n",
    "\n",
    "        \n",
    "        completions = openai.ChatCompletion.create(\n",
    "            model=\"gpt-4\",\n",
    "            temperature=0.0,\n",
    "            max_tokens=1000,\n",
    "            messages=messages\n",
    "        )\n",
    "\n",
    "        # cypher_generation_chain = LLMChain(llm=llm)\n",
    "        # cypher_generation_chain.run({\n",
    "        #     \"question\": \"\",\n",
    "        #     \"schema\": \"\",\n",
    "        # })\n",
    "        \n",
    "        return completions.choices[0].message.content\n",
    "\n",
    "    def run(self, question, history=None, retry=True):\n",
    "        # Construct Cypher statement\n",
    "        cypher = self.construct_cypher(question, history)\n",
    "        print(cypher)\n",
    "        try:\n",
    "            return self.query_database(cypher)\n",
    "        # Self-healing flow\n",
    "        except CypherSyntaxError as e:\n",
    "            # If out of retries\n",
    "            if not retry:\n",
    "              return \"Invalid Cypher syntax\"\n",
    "        # Self-healing Cypher flow by\n",
    "        # providing specific error to GPT-4\n",
    "            print(\"Retrying\")\n",
    "            return self.run(\n",
    "                question,\n",
    "                [\n",
    "                    {\"role\": \"assistant\", \"content\": cypher},\n",
    "                    {\n",
    "                        \"role\": \"user\",\n",
    "                        \"content\": f\"\"\"This query returns an error: {str(e)} \n",
    "                        Give me a improved query that works without any explanations or apologies\"\"\",\n",
    "                    },\n",
    "                ],\n",
    "                retry=False\n",
    "            )"
   ]
  },
  {
   "cell_type": "code",
   "execution_count": 6,
   "metadata": {},
   "outputs": [],
   "source": [
    "username=\"neo4j\"\n",
    "password=\"AStglmnxZLS4bYASbsGkrV8ILu3XGJDdaeKiIxdTBvs\"\n",
    "url=\"neo4j+s://6b215408.databases.neo4j.io\"\n",
    "database=\"neo4j\""
   ]
  },
  {
   "cell_type": "code",
   "execution_count": 7,
   "metadata": {},
   "outputs": [],
   "source": [
    "import os\n",
    "\n",
    "openai_key = os.environ[\"OPENAI_API_KEY\"]"
   ]
  },
  {
   "cell_type": "code",
   "execution_count": 8,
   "metadata": {},
   "outputs": [],
   "source": [
    "gds_db = Neo4jGPTQuery(\n",
    "    url=url,\n",
    "    user=username,\n",
    "    password=password,\n",
    "    # openai_api_key=openai_key,\n",
    ")"
   ]
  },
  {
   "cell_type": "code",
   "execution_count": 9,
   "metadata": {},
   "outputs": [
    {
     "name": "stdout",
     "output_type": "stream",
     "text": [
      "MATCH (r:Restaurant)-[:SERVES]->(m:Menu)\n",
      "WHERE m.price >= 30000 AND m.price < 40000\n",
      "RETURN r.name, r.address, r.phone, r.operation\n"
     ]
    },
    {
     "data": {
      "text/plain": [
       "[['r.name', 'r.address', 'r.phone', 'r.operation'],\n",
       " ['닥터로빈 시그니처 판교점',\n",
       "  '경기 성남시 분당구 동판교로177번길 25 아브뉴프랑 1층 108호 닥터로빈',\n",
       "  '031-781-3105',\n",
       "  '21:00에 라스트오더'],\n",
       " ['다이호시', '경기 성남시 분당구 판교역로10번길 6 1층 다이호시', '0507-1425-8322', '12:00에 영업 시작'],\n",
       " ['다이호시', '경기 성남시 분당구 판교역로10번길 6 1층 다이호시', '0507-1425-8322', '12:00에 영업 시작'],\n",
       " ['다이호시', '경기 성남시 분당구 판교역로10번길 6 1층 다이호시', '0507-1425-8322', '12:00에 영업 시작'],\n",
       " ['다이호시', '경기 성남시 분당구 판교역로10번길 6 1층 다이호시', '0507-1425-8322', '12:00에 영업 시작'],\n",
       " ['다이호시', '경기 성남시 분당구 판교역로10번길 6 1층 다이호시', '0507-1425-8322', '12:00에 영업 시작'],\n",
       " ['차알',\n",
       "  '경기 성남시 분당구 동판교로 177 25번지 2층 214, 215호(아브뉴프랑)',\n",
       "  '0507-1408-7679',\n",
       "  '15:00에 브레이크타임'],\n",
       " ['차알',\n",
       "  '경기 성남시 분당구 동판교로 177 25번지 2층 214, 215호(아브뉴프랑)',\n",
       "  '0507-1408-7679',\n",
       "  '15:00에 브레이크타임'],\n",
       " ['차알',\n",
       "  '경기 성남시 분당구 동판교로 177 25번지 2층 214, 215호(아브뉴프랑)',\n",
       "  '0507-1408-7679',\n",
       "  '15:00에 브레이크타임'],\n",
       " ['제이스팟', '경기 성남시 분당구 판교역로 152 알파돔타워3동 3층', '0507-1344-7179', '15:00에 브레이크타임'],\n",
       " ['옥된장 서현점',\n",
       "  '경기 성남시 분당구 황새울로335번길 5 1층 106호',\n",
       "  '0507-1348-7522',\n",
       "  '15:00에 브레이크타임'],\n",
       " ['옥된장 서현점',\n",
       "  '경기 성남시 분당구 황새울로335번길 5 1층 106호',\n",
       "  '0507-1348-7522',\n",
       "  '15:00에 브레이크타임'],\n",
       " ['사쿠라테이엔 판교본점', '경기 성남시 분당구 판교역로192번길 16', '0507-1353-6234', '17:00에 영업 시작'],\n",
       " ['사쿠라테이엔 판교본점', '경기 성남시 분당구 판교역로192번길 16', '0507-1353-6234', '17:00에 영업 시작'],\n",
       " ['사쿠라테이엔 판교본점', '경기 성남시 분당구 판교역로192번길 16', '0507-1353-6234', '17:00에 영업 시작'],\n",
       " ['사쿠라테이엔 판교본점', '경기 성남시 분당구 판교역로192번길 16', '0507-1353-6234', '17:00에 영업 시작'],\n",
       " ['사쿠라테이엔 판교본점', '경기 성남시 분당구 판교역로192번길 16', '0507-1353-6234', '17:00에 영업 시작'],\n",
       " ['은뜸', '경기 성남시 분당구 분당로53번길 15 1층 은뜸', '0507-1387-7736', '15:00에 라스트오더'],\n",
       " ['옥된장 판교점',\n",
       "  '경기 성남시 분당구 판교역로 184 1층 102-2호',\n",
       "  '0507-1385-5392',\n",
       "  '14:30에 라스트오더'],\n",
       " ['목포명가 판교점',\n",
       "  '경기 성남시 분당구 분당내곡로 159 메디피움 A동 1층',\n",
       "  '0507-1401-5772',\n",
       "  '15:00에 브레이크타임'],\n",
       " ['목포명가 판교점',\n",
       "  '경기 성남시 분당구 분당내곡로 159 메디피움 A동 1층',\n",
       "  '0507-1401-5772',\n",
       "  '15:00에 브레이크타임'],\n",
       " ['오시', '경기 성남시 분당구 동판교로52번길 21-2 1층 103호', '0507-1386-5645', '15:00에 브레이크타임'],\n",
       " ['능라도본점', '경기 성남시 분당구 산운로32번길 12', '0507-1474-3989', '21:30에 영업 종료'],\n",
       " ['능라도본점', '경기 성남시 분당구 산운로32번길 12', '0507-1474-3989', '21:30에 영업 종료'],\n",
       " ['능라도본점', '경기 성남시 분당구 산운로32번길 12', '0507-1474-3989', '21:30에 영업 종료'],\n",
       " ['안안', '경기 성남시 분당구 운중로138번길 28-4 1층 안안', '0507-1321-4527', '14:30에 브레이크타임'],\n",
       " ['신도세기 판교역점',\n",
       "  '경기 성남시 분당구 판교역로 152 알파돔타워 2층 207호',\n",
       "  '031-622-7188',\n",
       "  '14:30에 브레이크타임'],\n",
       " ['비눔',\n",
       "  '경기 성남시 분당구 대왕판교로 660 유스페이스1 A동 지하1층 B106호',\n",
       "  '0507-1435-6693',\n",
       "  '17:00에 영업 시작'],\n",
       " ['양산도 판교점',\n",
       "  '경기 성남시 분당구 대왕판교로606번길 58 판교푸르지오월드마크상가 1층 115호',\n",
       "  '0507-1463-1442',\n",
       "  '15:00에 브레이크타임'],\n",
       " ['참다운 정육식당',\n",
       "  '경기 성남시 분당구 판교로 182-7 지하 1층 B01호',\n",
       "  '031-8016-8880',\n",
       "  '22:00에 영업 종료'],\n",
       " ['숙성도 판교점',\n",
       "  '경기 성남시 분당구 판교역로 136 힐스테이트판교역 1층 1042호',\n",
       "  '031-8023-9233',\n",
       "  '15:30에 브레이크타임'],\n",
       " ['도아들',\n",
       "  '경기 성남시 분당구 분당로53번길 15 1층 116호~119호',\n",
       "  '0507-1492-2065',\n",
       "  '21:00에 라스트오더'],\n",
       " ['하이보',\n",
       "  '경기 성남시 분당구 판교역로192번길 14-1 판교예미지 2층',\n",
       "  '031-8017-8615',\n",
       "  '22:00에 영업 종료'],\n",
       " ['하이보',\n",
       "  '경기 성남시 분당구 판교역로192번길 14-1 판교예미지 2층',\n",
       "  '031-8017-8615',\n",
       "  '22:00에 영업 종료'],\n",
       " ['비앙또아 판교점',\n",
       "  '경기 성남시 분당구 동판교로177번길 25 아브뉴프랑 1층 127호',\n",
       "  '0507-1448-1089',\n",
       "  '20:30에 라스트오더'],\n",
       " ['한와담 판교점',\n",
       "  '경기 성남시 분당구 판교역로 152 1층 1-2, 1-3',\n",
       "  '031-622-7182',\n",
       "  '15:00에 브레이크타임'],\n",
       " ['숯불뼈구이 핫뼈감자탕 본점',\n",
       "  '경기 성남시 분당구 서현로180번길 13 102호',\n",
       "  '0507-1488-9301',\n",
       "  '15:00에 브레이크타임'],\n",
       " ['헬로오드리', '경기 성남시 분당구 석운로202번길 12', '0507-1311-8746', '14:20에 라스트오더'],\n",
       " ['헬로오드리', '경기 성남시 분당구 석운로202번길 12', '0507-1311-8746', '14:20에 라스트오더'],\n",
       " ['붓처스컷 아브뉴프랑 판교점',\n",
       "  '경기 성남시 분당구 동판교로177번길 25 호반써밋플레이스 아브뉴프랑 2층',\n",
       "  '031-707-7037',\n",
       "  '15:00에 브레이크타임'],\n",
       " ['붓처스컷 아브뉴프랑 판교점',\n",
       "  '경기 성남시 분당구 동판교로177번길 25 호반써밋플레이스 아브뉴프랑 2층',\n",
       "  '031-707-7037',\n",
       "  '15:00에 브레이크타임'],\n",
       " ['긴자 판교점', '경기 성남시 분당구 판교로 185 신화푸드빌리지 3층', '031-702-9461', '22:00에 영업 종료'],\n",
       " ['긴자 판교점', '경기 성남시 분당구 판교로 185 신화푸드빌리지 3층', '031-702-9461', '22:00에 영업 종료'],\n",
       " ['긴자 판교점', '경기 성남시 분당구 판교로 185 신화푸드빌리지 3층', '031-702-9461', '22:00에 영업 종료'],\n",
       " ['긴자 판교점', '경기 성남시 분당구 판교로 185 신화푸드빌리지 3층', '031-702-9461', '22:00에 영업 종료'],\n",
       " ['방유당식탁 판교점',\n",
       "  '경기 성남시 분당구 분당내곡로 117 지하 1층 방유당 그레이츠판교점',\n",
       "  '031-706-0690',\n",
       "  '14:30에 라스트오더']]"
      ]
     },
     "execution_count": 9,
     "metadata": {},
     "output_type": "execute_result"
    }
   ],
   "source": [
    "gds_db.run(\"가격이 3만원대의 메뉴를 파는 맛집 추천해줘\")"
   ]
  },
  {
   "cell_type": "code",
   "execution_count": 12,
   "metadata": {},
   "outputs": [
    {
     "name": "stdout",
     "output_type": "stream",
     "text": [
      "I'm sorry, but the provided schema does not contain information about the price range of the menu, parking availability, or pet-friendly services. Therefore, it's not possible to generate a Cypher query based on your request.\n",
      "Retrying\n",
      "I'm sorry, but the provided schema does not contain information about the price range of the menu, parking availability, or pet-friendly services. Therefore, it's not possible to generate a Cypher query based on your request.\n"
     ]
    },
    {
     "data": {
      "text/plain": [
       "'Invalid Cypher syntax'"
      ]
     },
     "execution_count": 12,
     "metadata": {},
     "output_type": "execute_result"
    }
   ],
   "source": [
    "gds_db.run(\"가격이 3만원대의 메뉴를 팔고 주차가 가능하며 반려동물을 데려갈수 있는 맛집 추천해줘\")"
   ]
  },
  {
   "cell_type": "code",
   "execution_count": null,
   "metadata": {},
   "outputs": [],
   "source": []
  }
 ],
 "metadata": {
  "kernelspec": {
   "display_name": "visa_chatbot1",
   "language": "python",
   "name": "python3"
  },
  "language_info": {
   "codemirror_mode": {
    "name": "ipython",
    "version": 3
   },
   "file_extension": ".py",
   "mimetype": "text/x-python",
   "name": "python",
   "nbconvert_exporter": "python",
   "pygments_lexer": "ipython3",
   "version": "3.11.8"
  }
 },
 "nbformat": 4,
 "nbformat_minor": 2
}
