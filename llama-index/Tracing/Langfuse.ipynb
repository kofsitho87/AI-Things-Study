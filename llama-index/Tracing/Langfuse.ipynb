{
 "cells": [
  {
   "cell_type": "code",
   "execution_count": 1,
   "metadata": {},
   "outputs": [
    {
     "data": {
      "text/plain": [
       "True"
      ]
     },
     "execution_count": 1,
     "metadata": {},
     "output_type": "execute_result"
    }
   ],
   "source": [
    "from dotenv import load_dotenv\n",
    "load_dotenv()"
   ]
  },
  {
   "cell_type": "code",
   "execution_count": 2,
   "metadata": {},
   "outputs": [
    {
     "name": "stderr",
     "output_type": "stream",
     "text": [
      "DEBUG:langfuse:consumer is running...\n"
     ]
    }
   ],
   "source": [
    "from llama_index.core import Settings\n",
    "from llama_index.core.callbacks import CallbackManager\n",
    "from langfuse.llama_index import LlamaIndexCallbackHandler\n",
    "\n",
    "langfuse_callback_handler = LlamaIndexCallbackHandler(\n",
    "    public_key=\"pk-lf-29339a8f-8a05-4d10-9a0a-a4718f79a53d\",\n",
    "    secret_key=\"sk-lf-d1f94511-893b-456e-973e-f57b44d50a30\",\n",
    "    host=\"https://cloud.langfuse.com\"\n",
    ")\n",
    "Settings.callback_manager = CallbackManager([langfuse_callback_handler])"
   ]
  },
  {
   "cell_type": "code",
   "execution_count": null,
   "metadata": {},
   "outputs": [],
   "source": [
    "langfuse_callback_handler.set_trace_params(\n",
    "    # session_id=\"session-abc\",\n",
    "    # user_id=\"admin-user\",\n",
    "    name=\"\",\n",
    "    version=\"\",\n",
    "    metadata={\n",
    "        \"a\": \"a\",\n",
    "    }\n",
    ")"
   ]
  },
  {
   "cell_type": "markdown",
   "metadata": {},
   "source": []
  },
  {
   "cell_type": "code",
   "execution_count": 3,
   "metadata": {},
   "outputs": [],
   "source": [
    "from llama_index.core import VectorStoreIndex, SimpleDirectoryReader\n",
    "from llama_index.vector_stores.chroma import ChromaVectorStore\n",
    "from llama_index.core import StorageContext\n",
    "from llama_index.embeddings.huggingface import HuggingFaceEmbedding\n",
    "from IPython.display import Markdown, display\n",
    "import chromadb"
   ]
  },
  {
   "cell_type": "code",
   "execution_count": 4,
   "metadata": {},
   "outputs": [
    {
     "name": "stderr",
     "output_type": "stream",
     "text": [
      "DEBUG:langfuse:No events in trace map to create the observation tree.\n"
     ]
    }
   ],
   "source": [
    "\"\"\" Load DB From Local Storage1 \"\"\"\n",
    "\n",
    "db = chromadb.PersistentClient(path=\"./storage3\")\n",
    "chroma_collection = db.get_collection(\"E9_VISA\")\n",
    "vector_store = ChromaVectorStore(chroma_collection=chroma_collection)\n",
    "index = VectorStoreIndex.from_vector_store(vector_store=vector_store)"
   ]
  },
  {
   "cell_type": "code",
   "execution_count": 5,
   "metadata": {},
   "outputs": [],
   "source": [
    "base_retriever = index.as_retriever(similarity_top_k=3)\n",
    "\n",
    "from llama_index.llms.openai import OpenAI\n",
    "\n",
    "llm = OpenAI(model=\"gpt-3.5-turbo\")\n",
    "query_engine = index.as_query_engine(streaming=True, similarity_top_k=2, llm=llm)"
   ]
  },
  {
   "cell_type": "code",
   "execution_count": null,
   "metadata": {},
   "outputs": [],
   "source": [
    "response = query_engine.query(\"E-9 비자의 주요 목적은 무엇인가요?2\")\n",
    "response.print_response_stream()\n",
    "\n",
    "# 4c45c148-b2c5-467e-ae37-c5507ef28be3"
   ]
  },
  {
   "cell_type": "code",
   "execution_count": 12,
   "metadata": {},
   "outputs": [
    {
     "data": {
      "text/plain": [
       "'be2501c3-3c00-443a-99a9-b885219c4158'"
      ]
     },
     "execution_count": 12,
     "metadata": {},
     "output_type": "execute_result"
    }
   ],
   "source": [
    "trace_id = langfuse_callback_handler.get_trace_id()\n",
    "\n",
    "trace_id"
   ]
  },
  {
   "cell_type": "code",
   "execution_count": 13,
   "metadata": {},
   "outputs": [
    {
     "name": "stderr",
     "output_type": "stream",
     "text": [
      "DEBUG:langfuse:Creating score {'id': 'ee99ea37-9138-4961-b237-5b4aca2dfd01', 'trace_id': 'be2501c3-3c00-443a-99a9-b885219c4158', 'observation_id': None, 'name': 'quality', 'value': 0, 'comment': 'Bad'}...\n",
      "DEBUG:langfuse:adding task {'id': '3f1967f1-aece-4f0e-b643-89fa1e4217fa', 'type': 'score-create', 'body': {'id': 'ee99ea37-9138-4961-b237-5b4aca2dfd01', 'traceId': 'be2501c3-3c00-443a-99a9-b885219c4158', 'name': 'quality', 'value': 0.0, 'comment': 'Bad'}}\n",
      "DEBUG:langfuse:item size 272\n"
     ]
    },
    {
     "data": {
      "text/plain": [
       "<langfuse.client.StatefulClient at 0x161952230>"
      ]
     },
     "execution_count": 13,
     "metadata": {},
     "output_type": "execute_result"
    },
    {
     "name": "stderr",
     "output_type": "stream",
     "text": [
      "DEBUG:langfuse:uploading batch of 1 items\n",
      "DEBUG:langfuse:making request: {\"batch\": [{\"id\": \"3f1967f1-aece-4f0e-b643-89fa1e4217fa\", \"type\": \"score-create\", \"body\": {\"id\": \"ee99ea37-9138-4961-b237-5b4aca2dfd01\", \"traceId\": \"be2501c3-3c00-443a-99a9-b885219c4158\", \"name\": \"quality\", \"value\": 0.0, \"comment\": \"Bad\"}, \"timestamp\": \"2024-03-26T02:08:48.519728Z\"}], \"metadata\": {\"batch_size\": 1, \"sdk_integration\": \"llama-index_callback\", \"sdk_name\": \"python\", \"sdk_version\": \"2.20.4\", \"public_key\": \"pk-lf-29339a8f-8a05-4d10-9a0a-a4718f79a53d\"}} to https://cloud.langfuse.com/api/public/ingestion\n",
      "DEBUG:langfuse:received response: {\"errors\":[],\"successes\":[{\"id\":\"3f1967f1-aece-4f0e-b643-89fa1e4217fa\",\"status\":201}]}\n",
      "DEBUG:langfuse:successfully uploaded batch of 1 items\n"
     ]
    }
   ],
   "source": [
    "langfuse = langfuse_callback_handler.langfuse\n",
    "langfuse.score(\n",
    "    trace_id=trace_id,\n",
    "    name=\"quality\",\n",
    "    value=0,\n",
    "    comment=\"Bad\",\n",
    ")"
   ]
  }
 ],
 "metadata": {
  "kernelspec": {
   "display_name": "pyautogen",
   "language": "python",
   "name": "python3"
  },
  "language_info": {
   "codemirror_mode": {
    "name": "ipython",
    "version": 3
   },
   "file_extension": ".py",
   "mimetype": "text/x-python",
   "name": "python",
   "nbconvert_exporter": "python",
   "pygments_lexer": "ipython3",
   "version": "3.10.14"
  }
 },
 "nbformat": 4,
 "nbformat_minor": 2
}
