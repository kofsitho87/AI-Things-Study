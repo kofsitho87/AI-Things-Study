{
 "cells": [
  {
   "cell_type": "code",
   "execution_count": 1,
   "metadata": {},
   "outputs": [],
   "source": [
    "# Local\n",
    "username=\"neo4j\"\n",
    "password=\"qwer1234\"\n",
    "url=\"bolt://localhost:7687\"\n",
    "database=\"worknet-jobs\""
   ]
  },
  {
   "cell_type": "code",
   "execution_count": 2,
   "metadata": {},
   "outputs": [],
   "source": [
    "from neo4j import GraphDatabase\n",
    "\n",
    "with  GraphDatabase.driver(uri=url, auth=(username, password)) as driver:\n",
    "    driver.verify_connectivity()\n",
    "    session = driver.session(database=database)"
   ]
  },
  {
   "cell_type": "code",
   "execution_count": 67,
   "metadata": {},
   "outputs": [
    {
     "data": {
      "text/html": [
       "<div>\n",
       "<style scoped>\n",
       "    .dataframe tbody tr th:only-of-type {\n",
       "        vertical-align: middle;\n",
       "    }\n",
       "\n",
       "    .dataframe tbody tr th {\n",
       "        vertical-align: top;\n",
       "    }\n",
       "\n",
       "    .dataframe thead th {\n",
       "        text-align: right;\n",
       "    }\n",
       "</style>\n",
       "<table border=\"1\" class=\"dataframe\">\n",
       "  <thead>\n",
       "    <tr style=\"text-align: right;\">\n",
       "      <th></th>\n",
       "      <th>title</th>\n",
       "    </tr>\n",
       "  </thead>\n",
       "  <tbody>\n",
       "    <tr>\n",
       "      <th>0</th>\n",
       "      <td>단순 포장반직원 모집합니다</td>\n",
       "    </tr>\n",
       "    <tr>\n",
       "      <th>1</th>\n",
       "      <td>단순포장 및 락크작업</td>\n",
       "    </tr>\n",
       "    <tr>\n",
       "      <th>2</th>\n",
       "      <td>육류 가공 식당납품</td>\n",
       "    </tr>\n",
       "  </tbody>\n",
       "</table>\n",
       "</div>"
      ],
      "text/plain": [
       "             title\n",
       "0  단순 포장반직원 모집합니다 \n",
       "1     단순포장 및 락크작업 \n",
       "2      육류 가공 식당납품 "
      ]
     },
     "execution_count": 67,
     "metadata": {},
     "output_type": "execute_result"
    }
   ],
   "source": [
    "# csv_file_name = \"pre_processed_jobs_worknet.csv\"\n",
    "# csv_file_path = f\"file:///{csv_file_name}\"\n",
    "csv_file_path = \"https://raw.githubusercontent.com/kofsitho87/RAG/main/Neo4j%20vector%20%EA%B2%80%EC%83%89%EC%9D%84%20%ED%86%B5%ED%95%B4%20%EC%9E%A1%EA%B2%80%EC%83%89%ED%95%98%EA%B8%B0/data/pre_processed_jobs_worknet.csv\"\n",
    "\n",
    "session.run(f\"\"\"\n",
    "LOAD CSV WITH HEADERS FROM '{csv_file_path}' AS row\n",
    "WITH row.JobTitle as title\n",
    "RETURN title\n",
    "LIMIT 3\n",
    "\"\"\").to_df()"
   ]
  },
  {
   "cell_type": "code",
   "execution_count": 14,
   "metadata": {},
   "outputs": [
    {
     "data": {
      "text/plain": [
       "Index(['JobTitle', 'JobVolunteerExperience', 'RequiredExperienceMonths',\n",
       "       'PreferredExperienceMonths', 'JobVolunteerEducation', 'WeeklyWorkdays',\n",
       "       'Workdays', 'JobPayment', 'MinMonthlyPayment', 'MaxMonthlyPayment',\n",
       "       'JobContractType', 'JobBenefits', 'CompanyName', 'CompanyIndustry',\n",
       "       'CompanySize', 'CompanyLocation'],\n",
       "      dtype='object')"
      ]
     },
     "execution_count": 14,
     "metadata": {},
     "output_type": "execute_result"
    }
   ],
   "source": [
    "import pandas as pd\n",
    "\n",
    "df = pd.read_csv(\"data/pre_processed_jobs_worknet.csv\")\n",
    "df.keys()"
   ]
  },
  {
   "cell_type": "code",
   "execution_count": 3,
   "metadata": {},
   "outputs": [],
   "source": [
    "csv_file_path = \"https://raw.githubusercontent.com/kofsitho87/RAG/main/Neo4j%20vector%20%EA%B2%80%EC%83%89%EC%9D%84%20%ED%86%B5%ED%95%B4%20%EC%9E%A1%EA%B2%80%EC%83%89%ED%95%98%EA%B8%B0/data/pre_processed_jobs_worknet.csv\"\n",
    "\n",
    "query = \"\"\"\n",
    "LOAD CSV WITH HEADERS FROM \"https://raw.githubusercontent.com/kofsitho87/RAG/main/Neo4j%20vector%20%EA%B2%80%EC%83%89%EC%9D%84%20%ED%86%B5%ED%95%B4%20%EC%9E%A1%EA%B2%80%EC%83%89%ED%95%98%EA%B8%B0/data/pre_processed_jobs_worknet.csv\" AS row\n",
    "\n",
    "WITH row\n",
    "MERGE (j:Job {name: trim(row.JobTitle)})\n",
    "    SET j.required_experience_months = COALESCE(toInteger(row.RequiredExperienceMonths), null)\n",
    "    SET j.preferred_experience_months = COALESCE(toInteger(row.PreferredExperienceMonths), null)\n",
    "    SET j.payment = trim(row.JobPayment)\n",
    "    SET j.min_monthly_payment = COALESCE(toInteger(row.MinMonthlyPayment), null)\n",
    "    SET j.max_monthly_payment = COALESCE(toInteger(row.MaxMonthlyPayment), null)\n",
    "    \n",
    "WITH row, j\n",
    "WHERE row.Workdays IS NOT NULL\n",
    "MERGE (wd:WeeklyWorkdays {value: toInteger(row.Workdays)})\n",
    "MERGE (j)-[:HAS_WEEKLY_WORKDAYS]->(wd)\n",
    "\n",
    "WITH row, j\n",
    "WHERE row.JobContractType IS NOT NULL\n",
    "MERGE (ct:ContractType {name: trim(row.JobContractType)})\n",
    "MERGE (j)-[:USES_CONTRACT_TYPE]->(ct)\n",
    "\n",
    "WITH row, j\n",
    "WHERE row.JobVolunteerEducation IS NOT NULL\n",
    "MERGE (ve:VolunteerEducation {name: trim(row.JobVolunteerEducation)})\n",
    "MERGE (j)-[:REQUIRES_VOLUNTEER_EDUCATION]->(ve)\n",
    "\n",
    "WITH row, j\n",
    "WHERE row.JobBenefits IS NOT NULL\n",
    "FOREACH (\n",
    "    item in split(row.JobBenefits, ' ') | \n",
    "    MERGE (b:Benefit {name: trim(item)})\n",
    "    MERGE (j)-[:PROVIDES_BENEFIT]->(b)\n",
    ")\n",
    "\n",
    "// Company\n",
    "WITH row, j\n",
    "WHERE row.CompanyName IS NOT NULL\n",
    "MERGE (c: Company {name: trim(row.CompanyName)})\n",
    "\tSET c.industry = COALESCE(trim(row.CompanyIndustry), null)\n",
    "\tSET c.size = COALESCE(trim(row.CompanySize), null)\n",
    "    SET c.address = COALESCE(trim(row.CompanyLocation), null)\n",
    "MERGE (c)-[:HAS_JOB_OPENING]->(j)\n",
    "\"\"\"\n",
    "\n",
    "result = session.run(query)"
   ]
  },
  {
   "cell_type": "markdown",
   "metadata": {},
   "source": [
    "#### Benefit 항목에서 \"식사제공(1식)\", \"식사제공(2식)\", \"식사제공(3식)\", \"식사제공(중식비지급)\"을 \"식사제공\"으로 Node를 통일화하고 \"PROVIDES_BENEFIT\" relationship의 값에 \"1식\", \"2식\"에 대한 값을 할당\n",
    "\n",
    "통합 Benefit 노드 생성 및 기존 관계 재구성:먼저, \"식사제공\"이라는 새로운 Benefit 노드를 생성하고, 기존의 식사 제공 노드를 이 새 노드로 교체하면서 관계의 속성을 업데이트합니다.\n",
    "\n",
    "쿼리 최적화:이 과정에서 기존 노드와 관계를 삭제하기 전에 새로운 관계를 만들고 속성을 잘 설정해야 합니다. 이 방식으로 데이터의 일관성을 유지할 수 있습니다."
   ]
  },
  {
   "cell_type": "code",
   "execution_count": 76,
   "metadata": {},
   "outputs": [
    {
     "data": {
      "text/plain": [
       "<neo4j._sync.work.result.Result at 0x13fae8e90>"
      ]
     },
     "execution_count": 76,
     "metadata": {},
     "output_type": "execute_result"
    }
   ],
   "source": [
    "session.run(\"\"\"\n",
    "// \"식사제공\" Benefit 노드 생성\n",
    "MERGE (unified:Benefit {name: \"식사제공\"})\n",
    "\n",
    "// \"식사제공\" Benefit 노드에 연결되어 있던 기존 관계와 노드를 처리\n",
    "WITH unified\n",
    "MATCH (j:Job)-[r:PROVIDES_BENEFIT]->(b:Benefit)\n",
    "WHERE b.name IN [\"식사제공(1식)\", \"식사제공(2식)\", \"식사제공(3식)\", \"식사제공(중식비지급)\"]\n",
    "\n",
    "WITH j, b, unified, r,\n",
    "\tCASE b.name\n",
    "\t\tWHEN \"식사제공(1식)\" THEN 1\n",
    "\t\tWHEN \"식사제공(중식비지급)\" THEN 1\n",
    "\t\tWHEN \"식사제공(2식)\" THEN 2\n",
    "\t\tWHEN \"식사제공(3식)\" THEN 3\n",
    "\tEND as meals\n",
    "MERGE (j)-[new_r:PROVIDES_BENEFIT {meals: meals}]->(unified)\n",
    "DELETE r // 기존 관계 삭제\n",
    "DETACH DELETE b // 기존 노드 삭제\n",
    "\"\"\")"
   ]
  },
  {
   "cell_type": "code",
   "execution_count": 88,
   "metadata": {},
   "outputs": [
    {
     "data": {
      "text/html": [
       "<div>\n",
       "<style scoped>\n",
       "    .dataframe tbody tr th:only-of-type {\n",
       "        vertical-align: middle;\n",
       "    }\n",
       "\n",
       "    .dataframe tbody tr th {\n",
       "        vertical-align: top;\n",
       "    }\n",
       "\n",
       "    .dataframe thead th {\n",
       "        text-align: right;\n",
       "    }\n",
       "</style>\n",
       "<table border=\"1\" class=\"dataframe\">\n",
       "  <thead>\n",
       "    <tr style=\"text-align: right;\">\n",
       "      <th></th>\n",
       "      <th>r.meals</th>\n",
       "      <th>count</th>\n",
       "    </tr>\n",
       "  </thead>\n",
       "  <tbody>\n",
       "    <tr>\n",
       "      <th>0</th>\n",
       "      <td>1</td>\n",
       "      <td>449</td>\n",
       "    </tr>\n",
       "    <tr>\n",
       "      <th>1</th>\n",
       "      <td>2</td>\n",
       "      <td>143</td>\n",
       "    </tr>\n",
       "    <tr>\n",
       "      <th>2</th>\n",
       "      <td>3</td>\n",
       "      <td>85</td>\n",
       "    </tr>\n",
       "  </tbody>\n",
       "</table>\n",
       "</div>"
      ],
      "text/plain": [
       "   r.meals  count\n",
       "0        1    449\n",
       "1        2    143\n",
       "2        3     85"
      ]
     },
     "execution_count": 88,
     "metadata": {},
     "output_type": "execute_result"
    }
   ],
   "source": [
    "session.run(\"\"\"\n",
    "MATCH (b:Benefit {name: '식사제공'})<-[r:PROVIDES_BENEFIT]-(j:Job)\n",
    "WHERE r.meals IN [1, 2, 3]\n",
    "RETURN r.meals, count(j) AS count\n",
    "ORDER BY r.meals\n",
    "\"\"\").to_df()"
   ]
  },
  {
   "cell_type": "code",
   "execution_count": 4,
   "metadata": {},
   "outputs": [],
   "source": [
    "from langchain_community.graphs import Neo4jGraph\n",
    "from langchain_openai import ChatOpenAI\n",
    "\n",
    "graph = Neo4jGraph(\n",
    "    url=url, \n",
    "    username=username, \n",
    "    password=password,\n",
    "    database=database,\n",
    ")"
   ]
  },
  {
   "cell_type": "code",
   "execution_count": 5,
   "metadata": {},
   "outputs": [
    {
     "name": "stdout",
     "output_type": "stream",
     "text": [
      "Node properties are the following:\n",
      "Job {name: STRING, payment: STRING, min_monthly_payment: INTEGER, max_monthly_payment: INTEGER, preferred_experience_months: INTEGER, required_experience_months: INTEGER},WeeklyWorkdays {value: INTEGER},ContractType {name: STRING},VolunteerEducation {name: STRING},Benefit {name: STRING},Company {name: STRING, size: STRING, industry: STRING, address: STRING}\n",
      "Relationship properties are the following:\n",
      "\n",
      "The relationships are the following:\n",
      "(:Job)-[:PROVIDES_BENEFIT]->(:Benefit),(:Job)-[:HAS_WEEKLY_WORKDAYS]->(:WeeklyWorkdays),(:Job)-[:USES_CONTRACT_TYPE]->(:ContractType),(:Job)-[:REQUIRES_VOLUNTEER_EDUCATION]->(:VolunteerEducation),(:Company)-[:HAS_JOB_OPENING]->(:Job)\n"
     ]
    }
   ],
   "source": [
    "graph.refresh_schema()\n",
    "print(graph.schema)"
   ]
  },
  {
   "cell_type": "markdown",
   "metadata": {},
   "source": [
    "## CREATE FULLTEXT INDEX"
   ]
  },
  {
   "cell_type": "code",
   "execution_count": null,
   "metadata": {},
   "outputs": [],
   "source": [
    "#job_name_fulltext\n",
    "\n",
    "graph.query(\"\"\"\n",
    "CREATE FULLTEXT INDEX job_name_fulltext \n",
    "FOR (j:Job) ON EACH [j.name]\n",
    "OPTIONS {\n",
    "  indexConfig: {\n",
    "    `fulltext.analyzer`: 'cjk',\n",
    "    `fulltext.eventually_consistent`: true\n",
    "  }\n",
    "}\n",
    "\"\"\")"
   ]
  },
  {
   "cell_type": "code",
   "execution_count": 11,
   "metadata": {},
   "outputs": [
    {
     "data": {
      "text/plain": [
       "[]"
      ]
     },
     "execution_count": 11,
     "metadata": {},
     "output_type": "execute_result"
    }
   ],
   "source": [
    "#volunteer_education_fulltext\n",
    "\n",
    "graph.query(\"\"\"\n",
    "CREATE FULLTEXT INDEX volunteer_education_fulltext \n",
    "FOR (n:VolunteerEducation) ON EACH [n.name]\n",
    "OPTIONS {\n",
    "  indexConfig: {\n",
    "    `fulltext.analyzer`: 'cjk',\n",
    "    `fulltext.eventually_consistent`: true\n",
    "  }\n",
    "}\n",
    "\"\"\")"
   ]
  },
  {
   "cell_type": "code",
   "execution_count": null,
   "metadata": {},
   "outputs": [],
   "source": [
    "#benefit_fulltext\n",
    "\n",
    "graph.query(\"\"\"\n",
    "CREATE FULLTEXT INDEX benefit_fulltext \n",
    "FOR (b:Benefit) ON EACH [b.name]\n",
    "OPTIONS {\n",
    "  indexConfig: {\n",
    "    `fulltext.analyzer`: 'cjk',\n",
    "    `fulltext.eventually_consistent`: true\n",
    "  }\n",
    "}\n",
    "\"\"\")"
   ]
  },
  {
   "cell_type": "code",
   "execution_count": 8,
   "metadata": {},
   "outputs": [
    {
     "data": {
      "text/plain": [
       "[]"
      ]
     },
     "execution_count": 8,
     "metadata": {},
     "output_type": "execute_result"
    }
   ],
   "source": [
    "#company_address_fulltext\n",
    "\n",
    "graph.query(\"\"\"\n",
    "CREATE FULLTEXT INDEX company_address_fulltext \n",
    "FOR (c:Company) ON EACH [c.address]\n",
    "OPTIONS {\n",
    "  indexConfig: {\n",
    "    `fulltext.analyzer`: 'cjk',\n",
    "    `fulltext.eventually_consistent`: true\n",
    "  }\n",
    "}\n",
    "\"\"\")"
   ]
  },
  {
   "cell_type": "code",
   "execution_count": 9,
   "metadata": {},
   "outputs": [
    {
     "data": {
      "text/plain": [
       "[]"
      ]
     },
     "execution_count": 9,
     "metadata": {},
     "output_type": "execute_result"
    }
   ],
   "source": [
    "#company_industry\n",
    "graph.query(\"\"\"\n",
    "CREATE FULLTEXT INDEX company_industry_fulltext \n",
    "FOR (c:Company) ON EACH [c.industry]\n",
    "OPTIONS {\n",
    "  indexConfig: {\n",
    "    `fulltext.analyzer`: 'cjk',\n",
    "    `fulltext.eventually_consistent`: true\n",
    "  }\n",
    "}\n",
    "\"\"\")"
   ]
  },
  {
   "cell_type": "code",
   "execution_count": 10,
   "metadata": {},
   "outputs": [
    {
     "data": {
      "text/plain": [
       "[]"
      ]
     },
     "execution_count": 10,
     "metadata": {},
     "output_type": "execute_result"
    }
   ],
   "source": [
    "#company_name\n",
    "graph.query(\"\"\"\n",
    "CREATE FULLTEXT INDEX company_name_fulltext \n",
    "FOR (c:Company) ON EACH [c.name]\n",
    "OPTIONS {\n",
    "  indexConfig: {\n",
    "    `fulltext.analyzer`: 'cjk',\n",
    "    `fulltext.eventually_consistent`: true\n",
    "  }\n",
    "}\n",
    "\"\"\")"
   ]
  },
  {
   "cell_type": "code",
   "execution_count": 6,
   "metadata": {},
   "outputs": [
    {
     "data": {
      "text/plain": [
       "[]"
      ]
     },
     "execution_count": 6,
     "metadata": {},
     "output_type": "execute_result"
    }
   ],
   "source": [
    "graph.query(\"\"\"\n",
    "CREATE VECTOR INDEX `job_benefit`\n",
    "FOR (b: Benefit) ON (b.embedding)\n",
    "OPTIONS {indexConfig: {\n",
    " `vector.dimensions`: 1536,\n",
    " `vector.similarity_function`: 'cosine'\n",
    "}}\n",
    "\"\"\")"
   ]
  },
  {
   "cell_type": "code",
   "execution_count": 64,
   "metadata": {},
   "outputs": [
    {
     "data": {
      "text/plain": [
       "[]"
      ]
     },
     "execution_count": 64,
     "metadata": {},
     "output_type": "execute_result"
    }
   ],
   "source": [
    "# graph.query(\"\"\"\n",
    "# MATCH(j:Job)\n",
    "# MERGE (j2:Job2 {name: trim(j.name)})\n",
    "# \"\"\")\n",
    "\n",
    "graph.query(\"\"\"\n",
    "CREATE VECTOR INDEX `job_name2`\n",
    "FOR (j: Job2) ON (j.embedding)\n",
    "OPTIONS {indexConfig: {\n",
    " `vector.dimensions`: 1536,\n",
    " `vector.similarity_function`: 'cosine'\n",
    "}}\n",
    "\"\"\")"
   ]
  },
  {
   "cell_type": "code",
   "execution_count": 37,
   "metadata": {},
   "outputs": [
    {
     "data": {
      "text/plain": [
       "[]"
      ]
     },
     "execution_count": 37,
     "metadata": {},
     "output_type": "execute_result"
    }
   ],
   "source": [
    "graph.query(\"\"\"\n",
    "CREATE VECTOR INDEX `job_name`\n",
    "FOR (j: Job) ON (j.embedding)\n",
    "OPTIONS {indexConfig: {\n",
    " `vector.dimensions`: 1536,\n",
    " `vector.similarity_function`: 'cosine'\n",
    "}}\n",
    "\"\"\")"
   ]
  },
  {
   "cell_type": "code",
   "execution_count": 52,
   "metadata": {},
   "outputs": [
    {
     "data": {
      "text/plain": [
       "[]"
      ]
     },
     "execution_count": 52,
     "metadata": {},
     "output_type": "execute_result"
    }
   ],
   "source": [
    "graph.query(\"\"\"\n",
    "CREATE FULLTEXT INDEX `job_name_fulltext`\n",
    "FOR (j:Job) ON EACH [j.name]\n",
    "OPTIONS {\n",
    "  indexConfig: {\n",
    "    `fulltext.analyzer`: 'cjk',\n",
    "    `fulltext.eventually_consistent`: true\n",
    "  }\n",
    "}\n",
    "\"\"\")"
   ]
  },
  {
   "cell_type": "code",
   "execution_count": 63,
   "metadata": {},
   "outputs": [
    {
     "data": {
      "text/plain": [
       "[{'score': 4.155252456665039, 'job': '정육식당 보조 구인(내/외국인)'},\n",
       " {'score': 2.9305131435394287, 'job': '육류 가공 식당납품'},\n",
       " {'score': 2.7983179092407227, 'job': '구내식당 찬모님 급구.'},\n",
       " {'score': 2.2833163738250732, 'job': '청담동순도리 식당 주방 / 홀서빙 직원 모집'},\n",
       " {'score': 2.2188167572021484, 'job': '용접 보조 조공 제관 보조 구인'},\n",
       " {'score': 2.126753807067871, 'job': '내국인, 외국인 구분 없이 채용. 식당 홀 서빙. 초보자 환영'},\n",
       " {'score': 2.00286865234375, 'job': '주방보조'},\n",
       " {'score': 1.990283489227295, 'job': '새마을운동중앙회 연수원식당 조리직원 채용'},\n",
       " {'score': 1.9386987686157227, 'job': '보조교사 구함 (보조인력)/외국인환영'},\n",
       " {'score': 1.903559923171997, 'job': '떡 제조 보조원'}]"
      ]
     },
     "execution_count": 63,
     "metadata": {},
     "output_type": "execute_result"
    }
   ],
   "source": [
    "graph.query(\"\"\"\n",
    "CALL db.index.fulltext.queryNodes(\"job_name_fulltext\", \"식당보조\") \n",
    "YIELD node, score\n",
    "RETURN score, node.name as job\n",
    "ORDER BY score DESC\n",
    "LIMIT 10\n",
    "\"\"\")"
   ]
  },
  {
   "cell_type": "code",
   "execution_count": 15,
   "metadata": {},
   "outputs": [],
   "source": [
    "from langchain_openai import OpenAIEmbeddings\n",
    "embedding_model = OpenAIEmbeddings()"
   ]
  },
  {
   "cell_type": "code",
   "execution_count": 34,
   "metadata": {},
   "outputs": [],
   "source": [
    "search_embedding = embedding_model.embed_query(\"교통편을 제공하고 월급이 300만원이 넘는 일자리\")"
   ]
  },
  {
   "cell_type": "code",
   "execution_count": 36,
   "metadata": {},
   "outputs": [
    {
     "data": {
      "text/html": [
       "<div>\n",
       "<style scoped>\n",
       "    .dataframe tbody tr th:only-of-type {\n",
       "        vertical-align: middle;\n",
       "    }\n",
       "\n",
       "    .dataframe tbody tr th {\n",
       "        vertical-align: top;\n",
       "    }\n",
       "\n",
       "    .dataframe thead th {\n",
       "        text-align: right;\n",
       "    }\n",
       "</style>\n",
       "<table border=\"1\" class=\"dataframe\">\n",
       "  <thead>\n",
       "    <tr style=\"text-align: right;\">\n",
       "      <th></th>\n",
       "      <th>benefit</th>\n",
       "      <th>score</th>\n",
       "    </tr>\n",
       "  </thead>\n",
       "  <tbody>\n",
       "    <tr>\n",
       "      <th>0</th>\n",
       "      <td>기숙사제공</td>\n",
       "      <td>0.914</td>\n",
       "    </tr>\n",
       "    <tr>\n",
       "      <th>1</th>\n",
       "      <td>통근버스제공</td>\n",
       "      <td>0.91</td>\n",
       "    </tr>\n",
       "    <tr>\n",
       "      <th>2</th>\n",
       "      <td>직원대출제도</td>\n",
       "      <td>0.903</td>\n",
       "    </tr>\n",
       "  </tbody>\n",
       "</table>\n",
       "</div>"
      ],
      "text/plain": [
       "  benefit  score\n",
       "0   기숙사제공  0.914\n",
       "1  통근버스제공   0.91\n",
       "2  직원대출제도  0.903"
      ]
     },
     "execution_count": 36,
     "metadata": {},
     "output_type": "execute_result"
    }
   ],
   "source": [
    "import pandas as pd\n",
    "\n",
    "list_data = graph.query(\"\"\"\n",
    "CALL db.index.vector.queryNodes('job_benefit', 3, $embedding)\n",
    "YIELD node AS benefit, score\n",
    "                        \n",
    "//MATCH (j:Job)-[:PROVIDES_BENEFIT]->(benefit)\n",
    "            \n",
    "RETURN benefit.name as benefit, apoc.number.format(score, '#.###') AS score\n",
    "\"\"\", {\n",
    "    \"embedding\": search_embedding\n",
    "})\n",
    "\n",
    "# list_data\n",
    "result_df = pd.DataFrame(list_data)\n",
    "result_df[:30]"
   ]
  },
  {
   "cell_type": "code",
   "execution_count": 61,
   "metadata": {},
   "outputs": [],
   "source": [
    "from langchain_community.vectorstores import Neo4jVector\n",
    "from langchain_community.vectorstores.neo4j_vector import SearchType\n",
    "from langchain_openai import OpenAIEmbeddings\n",
    "\n",
    "job_name_existing_graph = Neo4jVector.from_existing_graph(\n",
    "    embedding=OpenAIEmbeddings(),\n",
    "    url=url,\n",
    "    username=username,\n",
    "    password=password,\n",
    "    database=database,\n",
    "    index_name=\"job_name\",\n",
    "    node_label=\"Job\",\n",
    "    text_node_properties=[\"name\"],\n",
    "    embedding_node_property=\"embedding\",\n",
    "    search_type=SearchType.HYBRID\n",
    ")"
   ]
  },
  {
   "cell_type": "code",
   "execution_count": 43,
   "metadata": {},
   "outputs": [],
   "source": [
    "import pandas as pd\n",
    "\n",
    "df = pd.read_csv(\"data/pre_processed_jobs_worknet.csv\")"
   ]
  },
  {
   "cell_type": "code",
   "execution_count": 46,
   "metadata": {},
   "outputs": [
    {
     "data": {
      "text/plain": [
       "2                              육류 가공 식당납품 \n",
       "367                          구내식당 찬모님 급구. \n",
       "591              청담동순도리 식당 주방 / 홀서빙 직원 모집 \n",
       "699                     정육식당 보조 구인(내/외국인) \n",
       "886    내국인, 외국인 구분 없이 채용. 식당 홀 서빙. 초보자 환영 \n",
       "891                새마을운동중앙회 연수원식당 조리직원 채용 \n",
       "Name: JobTitle, dtype: object"
      ]
     },
     "execution_count": 46,
     "metadata": {},
     "output_type": "execute_result"
    }
   ],
   "source": [
    "df[df['JobTitle'].str.contains('식당')]['JobTitle']"
   ]
  },
  {
   "cell_type": "code",
   "execution_count": 62,
   "metadata": {},
   "outputs": [
    {
     "data": {
      "text/plain": [
       "[Document(page_content='\\nname: 용접 보조 조공 제관 보조 구인', metadata={'min_monthly_payment': 2200000, 'payment': '월급 220만원 ~ 240만원', 'max_monthly_payment': 2400000}),\n",
       " Document(page_content='\\nname: 정육식당 보조 구인(내/외국인)', metadata={'min_monthly_payment': 2100000, 'payment': '월급 210만원 이상'}),\n",
       " Document(page_content='\\nname: 떡 제조 보조원', metadata={'min_monthly_payment': 2200000, 'payment': '월급 220만원 ~ 250만원', 'max_monthly_payment': 2500000}),\n",
       " Document(page_content='\\nname: 주방보조', metadata={'min_monthly_payment': 2600000, 'payment': '월급 260만원 이상'}),\n",
       " Document(page_content='\\nname: 용접사 구합니다.', metadata={'required_experience_months': 120, 'min_monthly_payment': 3000000, 'payment': '월급 300만원 ~ 300만원', 'max_monthly_payment': 3000000}),\n",
       " Document(page_content='\\nname: 사무관리 및 보조원 구합니다.', metadata={'min_monthly_payment': 2070000, 'payment': '월급 207만원 이상'}),\n",
       " Document(page_content='\\nname: 주방보조 구합니다', metadata={'min_monthly_payment': 2700000, 'payment': '월급 270만원 ~ 310만원', 'max_monthly_payment': 3100000}),\n",
       " Document(page_content='\\nname: 사무,업무 보조원', metadata={'min_monthly_payment': 2300000, 'payment': '월급 230만원 이상'}),\n",
       " Document(page_content='\\nname: 제조업 사무 보조', metadata={'min_monthly_payment': 2083333, 'payment': '연봉 2,500만원 ~ 2,520만원', 'max_monthly_payment': 2100000}),\n",
       " Document(page_content='\\nname: 용접사님 구합니다.', metadata={'required_experience_months': 12, 'min_monthly_payment': 2650000, 'payment': '연봉 3,180만원 ~ 3,840만원', 'max_monthly_payment': 3200000})]"
      ]
     },
     "execution_count": 62,
     "metadata": {},
     "output_type": "execute_result"
    }
   ],
   "source": [
    "source_docs = job_name_existing_graph.similarity_search(\n",
    "    query=\"식당보조\",\n",
    "    k=10, \n",
    "    # filter={\"payment_type\": \"월급\", \"pay_amount\": {\"$gt\": 3000000}}\n",
    ")\n",
    "\n",
    "source_docs"
   ]
  },
  {
   "cell_type": "code",
   "execution_count": null,
   "metadata": {},
   "outputs": [],
   "source": [
    "from langchain_community.vectorstores import Neo4jVector\n",
    "from langchain_openai import OpenAIEmbeddings\n",
    "\n",
    "store = Neo4jVector.from_existing_index(\n",
    "    embedding=OpenAIEmbeddings(),\n",
    "    url=url,\n",
    "    username=username,\n",
    "    password=password,\n",
    "    database=database,\n",
    "    # search_type=\"vector\" # vector or hybrid\n",
    "    index_name=\"job_benefit_index\",\n",
    ")"
   ]
  },
  {
   "cell_type": "code",
   "execution_count": 91,
   "metadata": {},
   "outputs": [],
   "source": [
    "from langchain.chains import GraphCypherQAChain\n",
    "llm = ChatOpenAI(model=\"gpt-4\", temperature=0)\n",
    "\n",
    "chain = GraphCypherQAChain.from_llm(\n",
    "    graph=graph, \n",
    "    cypher_llm=llm,\n",
    "    qa_llm=llm,\n",
    "    validate_cypher=True,\n",
    "    verbose=True,\n",
    ")"
   ]
  },
  {
   "cell_type": "code",
   "execution_count": 92,
   "metadata": {},
   "outputs": [
    {
     "name": "stderr",
     "output_type": "stream",
     "text": [
      "/Users/heewungsong/anaconda3/envs/visa_chatbot1/lib/python3.11/site-packages/langchain_core/_api/deprecation.py:117: LangChainDeprecationWarning: The function `run` was deprecated in LangChain 0.1.0 and will be removed in 0.2.0. Use invoke instead.\n",
      "  warn_deprecated(\n"
     ]
    },
    {
     "name": "stdout",
     "output_type": "stream",
     "text": [
      "\n",
      "\n",
      "\u001b[1m> Entering new GraphCypherQAChain chain...\u001b[0m\n",
      "Generated Cypher:\n",
      "\u001b[32;1m\u001b[1;3mMATCH (j:Job)-[:HAS_WEEKLY_WORKDAYS]->(ww:WeeklyWorkdays), (j)-[:USES_CONTRACT_TYPE]->(ct:ContractType), (j)-[:REQUIRES_VOLUNTEER_EDUCATION]->(ve:VolunteerEducation), (j)-[:PROVIDES_BENEFIT]->(b:Benefit), (c:Company)-[:HAS_JOB_OPENING]->(j) WHERE j.min_monthly_payment > 3000000 AND c.address = 'Seoul' RETURN j, ww, ct, ve, b, c\u001b[0m\n",
      "Full Context:\n",
      "\u001b[32;1m\u001b[1;3m[]\u001b[0m\n",
      "\n",
      "\u001b[1m> Finished chain.\u001b[0m\n"
     ]
    },
    {
     "data": {
      "text/plain": [
       "'제가 알고 있는 정보가 없어서, 월급이 300만원이 넘고 서울에 있는 일자리에 대해 알려드릴 수 없습니다.'"
      ]
     },
     "execution_count": 92,
     "metadata": {},
     "output_type": "execute_result"
    }
   ],
   "source": [
    "chain.run(\"월급이 300만원이 넘고 서울에 있는 일자리가 있는지 찾아줘\")"
   ]
  },
  {
   "cell_type": "code",
   "execution_count": 93,
   "metadata": {},
   "outputs": [
    {
     "name": "stdout",
     "output_type": "stream",
     "text": [
      "\n",
      "\n",
      "\u001b[1m> Entering new GraphCypherQAChain chain...\u001b[0m\n",
      "Generated Cypher:\n",
      "\u001b[32;1m\u001b[1;3mMATCH (j:Job) WHERE j.min_monthly_payment >= 3000000 RETURN j LIMIT 2\u001b[0m\n",
      "Full Context:\n",
      "\u001b[32;1m\u001b[1;3m[{'j': {'max_monthly_payment': 3500000, 'name': '[이천시 가좌리] 신축빌라 공사현장 잡역부 모집', 'preferred_experience_months': 12, 'payment': '월급 350만원 ~ 350만원', 'min_monthly_payment': 3500000}}, {'j': {'max_monthly_payment': 3800000, 'name': '식육포장 처리 직원 모집', 'preferred_experience_months': 24, 'payment': '월급 300만원 ~ 380만원', 'min_monthly_payment': 3000000}}]\u001b[0m\n",
      "\n",
      "\u001b[1m> Finished chain.\u001b[0m\n"
     ]
    },
    {
     "data": {
      "text/plain": [
       "'[이천시 가좌리] 신축빌라 공사현장 잡역부 모집과 식육포장 처리 직원 모집이 월급이 300만원 이상인 일자리입니다.'"
      ]
     },
     "execution_count": 93,
     "metadata": {},
     "output_type": "execute_result"
    }
   ],
   "source": [
    "chain.run(\"월급이 300만원 이상인 일자리 2개만 알려줘\")"
   ]
  },
  {
   "cell_type": "code",
   "execution_count": null,
   "metadata": {},
   "outputs": [],
   "source": []
  }
 ],
 "metadata": {
  "kernelspec": {
   "display_name": "visa_chatbot1",
   "language": "python",
   "name": "python3"
  },
  "language_info": {
   "codemirror_mode": {
    "name": "ipython",
    "version": 3
   },
   "file_extension": ".py",
   "mimetype": "text/x-python",
   "name": "python",
   "nbconvert_exporter": "python",
   "pygments_lexer": "ipython3",
   "version": "3.11.8"
  }
 },
 "nbformat": 4,
 "nbformat_minor": 2
}
